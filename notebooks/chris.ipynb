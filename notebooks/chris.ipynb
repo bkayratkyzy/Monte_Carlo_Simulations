{
 "cells": [
  {
   "cell_type": "code",
   "execution_count": 106,
   "metadata": {},
   "outputs": [],
   "source": [
    "#     API Quandl\n",
    "#     Data cleanup\n",
    "#     Materials = XLB\n",
    "#     Real Estate = RWR\n",
    "#     Technology = XLK\n",
    "#     S&P500 = SPY"
   ]
  },
  {
   "cell_type": "code",
   "execution_count": 127,
   "metadata": {},
   "outputs": [],
   "source": [
    "import numpy as np\n",
    "import pandas as pd\n",
    "from datetime import datetime, timedelta\n",
    "import matplotlib.pyplot as plt\n",
    "import json\n",
    "from pathlib import Path\n",
    "import alpaca_trade_api as tradeapi\n",
    "import requests\n",
    "import os\n",
    "import seaborn as sns\n",
    "from dotenv import load_dotenv\n",
    "\n",
    "%matplotlib inline"
   ]
  },
  {
   "cell_type": "code",
   "execution_count": 128,
   "metadata": {},
   "outputs": [
    {
     "data": {
      "text/plain": [
       "str"
      ]
     },
     "execution_count": 128,
     "metadata": {},
     "output_type": "execute_result"
    }
   ],
   "source": [
    "#QUANDL Data retrieval\n",
    "\n",
    "#Load quandl api_key\n",
    "load_dotenv()\n",
    "\n",
    "api_key = os.getenv(\"QUANDL_API_KEY\")\n",
    "type(api_key)\n",
    "\n"
   ]
  },
  {
   "cell_type": "code",
   "execution_count": 129,
   "metadata": {},
   "outputs": [],
   "source": [
    "#Create request url to access quandl to get prices for XLB, S&P Materials Sector ETF\n",
    "\n",
    "#request_url = \"https://www.quandl.com/api/v3/datasets/WIKI/XLB.json?api_key=\"\n",
    "request_url = \"https://www.quandl.com/api/v3/datasets/WIKI/RWR/data.csv?api_key=\"\n",
    "\n",
    "# Concatenate request_url and api_key. Store as new variable\n",
    "request_url_api = request_url + api_key\n"
   ]
  },
  {
   "cell_type": "code",
   "execution_count": 130,
   "metadata": {},
   "outputs": [
    {
     "data": {
      "text/plain": [
       "b'code,message\\nQECx02,You have submitted an incorrect Quandl code. Please check your Quandl codes and try again.\\n'"
      ]
     },
     "execution_count": 130,
     "metadata": {},
     "output_type": "execute_result"
    }
   ],
   "source": [
    "# Execute get request, this returned error, XLB, RWR, and XLK not in free wiki dataset.\n",
    "\n",
    "response_data = requests.get(request_url_api)\n",
    "response_data.content"
   ]
  },
  {
   "cell_type": "code",
   "execution_count": 131,
   "metadata": {},
   "outputs": [
    {
     "data": {
      "text/plain": [
       "str"
      ]
     },
     "execution_count": 131,
     "metadata": {},
     "output_type": "execute_result"
    }
   ],
   "source": [
    "#Try ALPACA data retrieval next\n",
    "load_dotenv()\n",
    "\n",
    "APCA_API_KEY_ID = os.getenv(\"APCA_API_KEY_ID\")\n",
    "APCA_SECRET_KEY = os.getenv(\"APCA_SECRET_KEY\")\n",
    "\n",
    "api = tradeapi.REST(APCA_API_KEY_ID, APCA_SECRET_KEY, api_version='v2')\n",
    "\n",
    "type(APCA_API_KEY_ID)\n"
   ]
  },
  {
   "cell_type": "code",
   "execution_count": 153,
   "metadata": {},
   "outputs": [],
   "source": [
    "#Use alpha vantage to get historic quotes for XLB,XLK,RWR. This goes back 20 years.\n",
    "\n",
    "xlb_df = api.alpha_vantage.historic_quotes('XLB', adjusted=True, output_format='pandas')\n",
    "#xlb_df.head()\n",
    "\n",
    "xlk_df = api.alpha_vantage.historic_quotes('XLK', adjusted=True, output_format='pandas')\n",
    "# xlk_df.tail()\n",
    "\n",
    "rwr_df = api.alpha_vantage.historic_quotes('RWR', adjusted=True, output_format='pandas')\n",
    "#rwr_df.head()\n",
    "\n",
    "#Use alpha vantage to get historic quotes for S&P500. Will need this later.\n",
    "\n",
    "spy_df = api.alpha_vantage.historic_quotes('SPY', adjusted=True, output_format='pandas')\n",
    "\n",
    "\n",
    "\n",
    "#CODE BELOW WAS FIRST ATTEMPT BUT ONLY GETS 1000 TRADING DAYS:\n",
    "\n",
    "# # Get daily price data for XLB over the last 1000 trading days. Max alpaca would allow.\n",
    "# #download direct into dataframe\n",
    "\n",
    "# barset = api.get_barset('XLB', 'day', limit=1000).df\n",
    "# xlb_bars_df = barset['XLB']\n",
    "# xlb_bars_df.head()\n",
    "# xlb_bars_df.tail()\n",
    "\n",
    "# Get daily price data for XLK over the last 1000 trading days. Max alpaca would allow.\n",
    "\n",
    "# barset = api.get_barset('XLK', 'day', limit=1000).df\n",
    "# xlk_bars_df = barset['XLK']\n",
    "# xlk_bars_df.head()\n",
    "# xlk_bars_df.tail()\n",
    "\n",
    "# # Get daily price data for RWR over the last 1000 trading days. Max alpaca would allow.\n",
    "\n",
    "# barset = api.get_barset('RWR', 'day', limit=1000).df\n",
    "# rwr_bars_df = barset['RWR']\n",
    "# rwr_bars_df.head()\n",
    "# rwr_bars_df.tail()\n",
    "\n",
    "\n",
    "\n"
   ]
  },
  {
   "cell_type": "code",
   "execution_count": 154,
   "metadata": {},
   "outputs": [
    {
     "data": {
      "text/html": [
       "<div>\n",
       "<style scoped>\n",
       "    .dataframe tbody tr th:only-of-type {\n",
       "        vertical-align: middle;\n",
       "    }\n",
       "\n",
       "    .dataframe tbody tr th {\n",
       "        vertical-align: top;\n",
       "    }\n",
       "\n",
       "    .dataframe thead th {\n",
       "        text-align: right;\n",
       "    }\n",
       "</style>\n",
       "<table border=\"1\" class=\"dataframe\">\n",
       "  <thead>\n",
       "    <tr style=\"text-align: right;\">\n",
       "      <th></th>\n",
       "      <th>1. open</th>\n",
       "      <th>2. high</th>\n",
       "      <th>3. low</th>\n",
       "      <th>4. close</th>\n",
       "      <th>5. adjusted close</th>\n",
       "      <th>6. volume</th>\n",
       "      <th>7. dividend amount</th>\n",
       "      <th>8. split coefficient</th>\n",
       "    </tr>\n",
       "    <tr>\n",
       "      <th>date</th>\n",
       "      <th></th>\n",
       "      <th></th>\n",
       "      <th></th>\n",
       "      <th></th>\n",
       "      <th></th>\n",
       "      <th></th>\n",
       "      <th></th>\n",
       "      <th></th>\n",
       "    </tr>\n",
       "  </thead>\n",
       "  <tbody>\n",
       "    <tr>\n",
       "      <th>2020-04-28</th>\n",
       "      <td>291.02</td>\n",
       "      <td>291.40</td>\n",
       "      <td>285.40</td>\n",
       "      <td>285.73</td>\n",
       "      <td>285.73</td>\n",
       "      <td>102017273.0</td>\n",
       "      <td>0.0</td>\n",
       "      <td>1.0</td>\n",
       "    </tr>\n",
       "    <tr>\n",
       "      <th>2020-04-27</th>\n",
       "      <td>285.12</td>\n",
       "      <td>288.27</td>\n",
       "      <td>284.62</td>\n",
       "      <td>287.05</td>\n",
       "      <td>287.05</td>\n",
       "      <td>77516422.0</td>\n",
       "      <td>0.0</td>\n",
       "      <td>1.0</td>\n",
       "    </tr>\n",
       "    <tr>\n",
       "      <th>2020-04-24</th>\n",
       "      <td>280.73</td>\n",
       "      <td>283.70</td>\n",
       "      <td>278.50</td>\n",
       "      <td>282.97</td>\n",
       "      <td>282.97</td>\n",
       "      <td>85042563.0</td>\n",
       "      <td>0.0</td>\n",
       "      <td>1.0</td>\n",
       "    </tr>\n",
       "    <tr>\n",
       "      <th>2020-04-23</th>\n",
       "      <td>280.49</td>\n",
       "      <td>283.94</td>\n",
       "      <td>278.75</td>\n",
       "      <td>279.08</td>\n",
       "      <td>279.08</td>\n",
       "      <td>103685412.0</td>\n",
       "      <td>0.0</td>\n",
       "      <td>1.0</td>\n",
       "    </tr>\n",
       "    <tr>\n",
       "      <th>2020-04-22</th>\n",
       "      <td>278.35</td>\n",
       "      <td>281.00</td>\n",
       "      <td>276.91</td>\n",
       "      <td>279.10</td>\n",
       "      <td>279.10</td>\n",
       "      <td>92831657.0</td>\n",
       "      <td>0.0</td>\n",
       "      <td>1.0</td>\n",
       "    </tr>\n",
       "  </tbody>\n",
       "</table>\n",
       "</div>"
      ],
      "text/plain": [
       "            1. open  2. high  3. low  4. close  5. adjusted close  \\\n",
       "date                                                                \n",
       "2020-04-28   291.02   291.40  285.40    285.73             285.73   \n",
       "2020-04-27   285.12   288.27  284.62    287.05             287.05   \n",
       "2020-04-24   280.73   283.70  278.50    282.97             282.97   \n",
       "2020-04-23   280.49   283.94  278.75    279.08             279.08   \n",
       "2020-04-22   278.35   281.00  276.91    279.10             279.10   \n",
       "\n",
       "              6. volume  7. dividend amount  8. split coefficient  \n",
       "date                                                               \n",
       "2020-04-28  102017273.0                 0.0                   1.0  \n",
       "2020-04-27   77516422.0                 0.0                   1.0  \n",
       "2020-04-24   85042563.0                 0.0                   1.0  \n",
       "2020-04-23  103685412.0                 0.0                   1.0  \n",
       "2020-04-22   92831657.0                 0.0                   1.0  "
      ]
     },
     "execution_count": 154,
     "metadata": {},
     "output_type": "execute_result"
    }
   ],
   "source": [
    "spy_df.head()"
   ]
  },
  {
   "cell_type": "code",
   "execution_count": 155,
   "metadata": {},
   "outputs": [
    {
     "data": {
      "text/html": [
       "<div>\n",
       "<style scoped>\n",
       "    .dataframe tbody tr th:only-of-type {\n",
       "        vertical-align: middle;\n",
       "    }\n",
       "\n",
       "    .dataframe tbody tr th {\n",
       "        vertical-align: top;\n",
       "    }\n",
       "\n",
       "    .dataframe thead th {\n",
       "        text-align: right;\n",
       "    }\n",
       "</style>\n",
       "<table border=\"1\" class=\"dataframe\">\n",
       "  <thead>\n",
       "    <tr style=\"text-align: right;\">\n",
       "      <th></th>\n",
       "      <th>5. adjusted close</th>\n",
       "      <th>5. adjusted close</th>\n",
       "      <th>5. adjusted close</th>\n",
       "      <th>5. adjusted close</th>\n",
       "    </tr>\n",
       "    <tr>\n",
       "      <th>date</th>\n",
       "      <th></th>\n",
       "      <th></th>\n",
       "      <th></th>\n",
       "      <th></th>\n",
       "    </tr>\n",
       "  </thead>\n",
       "  <tbody>\n",
       "    <tr>\n",
       "      <th>2020-04-28</th>\n",
       "      <td>52.14</td>\n",
       "      <td>88.20</td>\n",
       "      <td>77.38</td>\n",
       "      <td>285.73</td>\n",
       "    </tr>\n",
       "    <tr>\n",
       "      <th>2020-04-27</th>\n",
       "      <td>51.19</td>\n",
       "      <td>89.39</td>\n",
       "      <td>76.08</td>\n",
       "      <td>287.05</td>\n",
       "    </tr>\n",
       "    <tr>\n",
       "      <th>2020-04-24</th>\n",
       "      <td>49.86</td>\n",
       "      <td>88.63</td>\n",
       "      <td>73.25</td>\n",
       "      <td>282.97</td>\n",
       "    </tr>\n",
       "    <tr>\n",
       "      <th>2020-04-23</th>\n",
       "      <td>49.09</td>\n",
       "      <td>86.79</td>\n",
       "      <td>72.68</td>\n",
       "      <td>279.08</td>\n",
       "    </tr>\n",
       "    <tr>\n",
       "      <th>2020-04-22</th>\n",
       "      <td>48.75</td>\n",
       "      <td>87.39</td>\n",
       "      <td>73.55</td>\n",
       "      <td>279.10</td>\n",
       "    </tr>\n",
       "  </tbody>\n",
       "</table>\n",
       "</div>"
      ],
      "text/plain": [
       "            5. adjusted close  5. adjusted close  5. adjusted close  \\\n",
       "date                                                                  \n",
       "2020-04-28              52.14              88.20              77.38   \n",
       "2020-04-27              51.19              89.39              76.08   \n",
       "2020-04-24              49.86              88.63              73.25   \n",
       "2020-04-23              49.09              86.79              72.68   \n",
       "2020-04-22              48.75              87.39              73.55   \n",
       "\n",
       "            5. adjusted close  \n",
       "date                           \n",
       "2020-04-28             285.73  \n",
       "2020-04-27             287.05  \n",
       "2020-04-24             282.97  \n",
       "2020-04-23             279.08  \n",
       "2020-04-22             279.10  "
      ]
     },
     "execution_count": 155,
     "metadata": {},
     "output_type": "execute_result"
    }
   ],
   "source": [
    "#DATA CLEANUP\n",
    "\n",
    "#Select the one column we need,  \"adjusted close\", and drop the others\n",
    "\n",
    "xlb_df = xlb_df['5. adjusted close']\n",
    "xlb_df.head()\n",
    "\n",
    "xlk_df = xlk_df['5. adjusted close']\n",
    "xlk_df.head()\n",
    "\n",
    "rwr_df = rwr_df['5. adjusted close']\n",
    "rwr_df.head()\n",
    "\n",
    "spy_df = spy_df['5. adjusted close']\n",
    "spy_df.head()\n",
    "\n",
    "#Use concat to put the data in one dataframe\n",
    "concat_df = pd.concat([xlb_df, xlk_df, rwr_df, spy_df], axis = \"columns\", join = \"inner\")\n",
    "concat_df.head()\n",
    "\n"
   ]
  },
  {
   "cell_type": "code",
   "execution_count": 156,
   "metadata": {},
   "outputs": [
    {
     "data": {
      "text/html": [
       "<div>\n",
       "<style scoped>\n",
       "    .dataframe tbody tr th:only-of-type {\n",
       "        vertical-align: middle;\n",
       "    }\n",
       "\n",
       "    .dataframe tbody tr th {\n",
       "        vertical-align: top;\n",
       "    }\n",
       "\n",
       "    .dataframe thead th {\n",
       "        text-align: right;\n",
       "    }\n",
       "</style>\n",
       "<table border=\"1\" class=\"dataframe\">\n",
       "  <thead>\n",
       "    <tr style=\"text-align: right;\">\n",
       "      <th></th>\n",
       "      <th>XLB close</th>\n",
       "      <th>XLK close</th>\n",
       "      <th>RWR close</th>\n",
       "      <th>SPY close</th>\n",
       "    </tr>\n",
       "    <tr>\n",
       "      <th>date</th>\n",
       "      <th></th>\n",
       "      <th></th>\n",
       "      <th></th>\n",
       "      <th></th>\n",
       "    </tr>\n",
       "  </thead>\n",
       "  <tbody>\n",
       "    <tr>\n",
       "      <th>2020-04-28</th>\n",
       "      <td>52.14</td>\n",
       "      <td>88.20</td>\n",
       "      <td>77.38</td>\n",
       "      <td>285.73</td>\n",
       "    </tr>\n",
       "    <tr>\n",
       "      <th>2020-04-27</th>\n",
       "      <td>51.19</td>\n",
       "      <td>89.39</td>\n",
       "      <td>76.08</td>\n",
       "      <td>287.05</td>\n",
       "    </tr>\n",
       "    <tr>\n",
       "      <th>2020-04-24</th>\n",
       "      <td>49.86</td>\n",
       "      <td>88.63</td>\n",
       "      <td>73.25</td>\n",
       "      <td>282.97</td>\n",
       "    </tr>\n",
       "    <tr>\n",
       "      <th>2020-04-23</th>\n",
       "      <td>49.09</td>\n",
       "      <td>86.79</td>\n",
       "      <td>72.68</td>\n",
       "      <td>279.08</td>\n",
       "    </tr>\n",
       "    <tr>\n",
       "      <th>2020-04-22</th>\n",
       "      <td>48.75</td>\n",
       "      <td>87.39</td>\n",
       "      <td>73.55</td>\n",
       "      <td>279.10</td>\n",
       "    </tr>\n",
       "  </tbody>\n",
       "</table>\n",
       "</div>"
      ],
      "text/plain": [
       "            XLB close  XLK close  RWR close  SPY close\n",
       "date                                                  \n",
       "2020-04-28      52.14      88.20      77.38     285.73\n",
       "2020-04-27      51.19      89.39      76.08     287.05\n",
       "2020-04-24      49.86      88.63      73.25     282.97\n",
       "2020-04-23      49.09      86.79      72.68     279.08\n",
       "2020-04-22      48.75      87.39      73.55     279.10"
      ]
     },
     "execution_count": 156,
     "metadata": {},
     "output_type": "execute_result"
    }
   ],
   "source": [
    "#Change column names to avoid confusion\n",
    "columns = ['XLB close', 'XLK close', 'RWR close', 'SPY close']\n",
    "concat_df.columns = columns\n",
    "concat_df.head()"
   ]
  },
  {
   "cell_type": "code",
   "execution_count": 157,
   "metadata": {},
   "outputs": [
    {
     "data": {
      "text/html": [
       "<div>\n",
       "<style scoped>\n",
       "    .dataframe tbody tr th:only-of-type {\n",
       "        vertical-align: middle;\n",
       "    }\n",
       "\n",
       "    .dataframe tbody tr th {\n",
       "        vertical-align: top;\n",
       "    }\n",
       "\n",
       "    .dataframe thead th {\n",
       "        text-align: right;\n",
       "    }\n",
       "</style>\n",
       "<table border=\"1\" class=\"dataframe\">\n",
       "  <thead>\n",
       "    <tr style=\"text-align: right;\">\n",
       "      <th></th>\n",
       "      <th>XLB close</th>\n",
       "      <th>XLK close</th>\n",
       "      <th>RWR close</th>\n",
       "      <th>SPY close</th>\n",
       "    </tr>\n",
       "    <tr>\n",
       "      <th>date</th>\n",
       "      <th></th>\n",
       "      <th></th>\n",
       "      <th></th>\n",
       "      <th></th>\n",
       "    </tr>\n",
       "  </thead>\n",
       "  <tbody>\n",
       "    <tr>\n",
       "      <th>2001-08-27</th>\n",
       "      <td>14.5697</td>\n",
       "      <td>19.3468</td>\n",
       "      <td>19.2651</td>\n",
       "      <td>82.1301</td>\n",
       "    </tr>\n",
       "    <tr>\n",
       "      <th>2001-08-28</th>\n",
       "      <td>14.4324</td>\n",
       "      <td>18.8107</td>\n",
       "      <td>19.2651</td>\n",
       "      <td>80.9499</td>\n",
       "    </tr>\n",
       "    <tr>\n",
       "      <th>2001-08-29</th>\n",
       "      <td>14.2494</td>\n",
       "      <td>18.4533</td>\n",
       "      <td>18.8996</td>\n",
       "      <td>80.1862</td>\n",
       "    </tr>\n",
       "    <tr>\n",
       "      <th>2001-08-30</th>\n",
       "      <td>14.1971</td>\n",
       "      <td>17.7384</td>\n",
       "      <td>18.8082</td>\n",
       "      <td>78.6589</td>\n",
       "    </tr>\n",
       "    <tr>\n",
       "      <th>2001-08-31</th>\n",
       "      <td>14.3213</td>\n",
       "      <td>17.8861</td>\n",
       "      <td>18.7625</td>\n",
       "      <td>79.2837</td>\n",
       "    </tr>\n",
       "  </tbody>\n",
       "</table>\n",
       "</div>"
      ],
      "text/plain": [
       "            XLB close  XLK close  RWR close  SPY close\n",
       "date                                                  \n",
       "2001-08-27    14.5697    19.3468    19.2651    82.1301\n",
       "2001-08-28    14.4324    18.8107    19.2651    80.9499\n",
       "2001-08-29    14.2494    18.4533    18.8996    80.1862\n",
       "2001-08-30    14.1971    17.7384    18.8082    78.6589\n",
       "2001-08-31    14.3213    17.8861    18.7625    79.2837"
      ]
     },
     "execution_count": 157,
     "metadata": {},
     "output_type": "execute_result"
    }
   ],
   "source": [
    "#Sort earliest to latest so that .pct_change() function works right\n",
    "\n",
    "concat_df.sort_index(inplace=True, ascending=True)\n",
    "concat_df.head()\n"
   ]
  },
  {
   "cell_type": "code",
   "execution_count": 159,
   "metadata": {},
   "outputs": [
    {
     "data": {
      "text/html": [
       "<div>\n",
       "<style scoped>\n",
       "    .dataframe tbody tr th:only-of-type {\n",
       "        vertical-align: middle;\n",
       "    }\n",
       "\n",
       "    .dataframe tbody tr th {\n",
       "        vertical-align: top;\n",
       "    }\n",
       "\n",
       "    .dataframe thead th {\n",
       "        text-align: right;\n",
       "    }\n",
       "</style>\n",
       "<table border=\"1\" class=\"dataframe\">\n",
       "  <thead>\n",
       "    <tr style=\"text-align: right;\">\n",
       "      <th></th>\n",
       "      <th>XLB close</th>\n",
       "      <th>XLK close</th>\n",
       "      <th>RWR close</th>\n",
       "      <th>SPY close</th>\n",
       "      <th>XLB_return</th>\n",
       "      <th>XLK_return</th>\n",
       "      <th>RWR_return</th>\n",
       "      <th>SPY_return</th>\n",
       "    </tr>\n",
       "    <tr>\n",
       "      <th>date</th>\n",
       "      <th></th>\n",
       "      <th></th>\n",
       "      <th></th>\n",
       "      <th></th>\n",
       "      <th></th>\n",
       "      <th></th>\n",
       "      <th></th>\n",
       "      <th></th>\n",
       "    </tr>\n",
       "  </thead>\n",
       "  <tbody>\n",
       "    <tr>\n",
       "      <th>2001-08-27</th>\n",
       "      <td>14.5697</td>\n",
       "      <td>19.3468</td>\n",
       "      <td>19.2651</td>\n",
       "      <td>82.1301</td>\n",
       "      <td>NaN</td>\n",
       "      <td>NaN</td>\n",
       "      <td>NaN</td>\n",
       "      <td>NaN</td>\n",
       "    </tr>\n",
       "    <tr>\n",
       "      <th>2001-08-28</th>\n",
       "      <td>14.4324</td>\n",
       "      <td>18.8107</td>\n",
       "      <td>19.2651</td>\n",
       "      <td>80.9499</td>\n",
       "      <td>-0.009424</td>\n",
       "      <td>-0.027710</td>\n",
       "      <td>0.000000</td>\n",
       "      <td>-0.014370</td>\n",
       "    </tr>\n",
       "    <tr>\n",
       "      <th>2001-08-29</th>\n",
       "      <td>14.2494</td>\n",
       "      <td>18.4533</td>\n",
       "      <td>18.8996</td>\n",
       "      <td>80.1862</td>\n",
       "      <td>-0.012680</td>\n",
       "      <td>-0.019000</td>\n",
       "      <td>-0.018972</td>\n",
       "      <td>-0.009434</td>\n",
       "    </tr>\n",
       "    <tr>\n",
       "      <th>2001-08-30</th>\n",
       "      <td>14.1971</td>\n",
       "      <td>17.7384</td>\n",
       "      <td>18.8082</td>\n",
       "      <td>78.6589</td>\n",
       "      <td>-0.003670</td>\n",
       "      <td>-0.038741</td>\n",
       "      <td>-0.004836</td>\n",
       "      <td>-0.019047</td>\n",
       "    </tr>\n",
       "    <tr>\n",
       "      <th>2001-08-31</th>\n",
       "      <td>14.3213</td>\n",
       "      <td>17.8861</td>\n",
       "      <td>18.7625</td>\n",
       "      <td>79.2837</td>\n",
       "      <td>0.008748</td>\n",
       "      <td>0.008327</td>\n",
       "      <td>-0.002430</td>\n",
       "      <td>0.007943</td>\n",
       "    </tr>\n",
       "  </tbody>\n",
       "</table>\n",
       "</div>"
      ],
      "text/plain": [
       "            XLB close  XLK close  RWR close  SPY close  XLB_return  \\\n",
       "date                                                                 \n",
       "2001-08-27    14.5697    19.3468    19.2651    82.1301         NaN   \n",
       "2001-08-28    14.4324    18.8107    19.2651    80.9499   -0.009424   \n",
       "2001-08-29    14.2494    18.4533    18.8996    80.1862   -0.012680   \n",
       "2001-08-30    14.1971    17.7384    18.8082    78.6589   -0.003670   \n",
       "2001-08-31    14.3213    17.8861    18.7625    79.2837    0.008748   \n",
       "\n",
       "            XLK_return  RWR_return  SPY_return  \n",
       "date                                            \n",
       "2001-08-27         NaN         NaN         NaN  \n",
       "2001-08-28   -0.027710    0.000000   -0.014370  \n",
       "2001-08-29   -0.019000   -0.018972   -0.009434  \n",
       "2001-08-30   -0.038741   -0.004836   -0.019047  \n",
       "2001-08-31    0.008327   -0.002430    0.007943  "
      ]
     },
     "execution_count": 159,
     "metadata": {},
     "output_type": "execute_result"
    }
   ],
   "source": [
    "#add another column to get daily returns of XLB\n",
    "daily_returns_xlb = concat_df[\"XLB close\"].pct_change()\n",
    "concat_df['XLB_return']= daily_returns_xlb \n",
    "\n",
    "#add another column to get daily returns of XLK\n",
    "daily_returns_xlk = concat_df['XLK close'].pct_change()\n",
    "concat_df['XLK_return']= daily_returns_xlk \n",
    "\n",
    "#add another column to get daily returns of RWR\n",
    "daily_returns_rwr = concat_df['RWR close'].pct_change()\n",
    "concat_df['RWR_return']= daily_returns_rwr \n",
    "\n",
    "#add another column to get daily returns of SPY\n",
    "daily_returns_spy = concat_df['SPY close'].pct_change()\n",
    "concat_df['SPY_return']= daily_returns_spy \n",
    "\n",
    "\n",
    "concat_df.head()\n"
   ]
  },
  {
   "cell_type": "code",
   "execution_count": 160,
   "metadata": {},
   "outputs": [
    {
     "data": {
      "text/plain": [
       "XLB close     0\n",
       "XLK close     0\n",
       "RWR close     0\n",
       "SPY close     0\n",
       "XLB_return    1\n",
       "XLK_return    1\n",
       "RWR_return    1\n",
       "SPY_return    1\n",
       "dtype: int64"
      ]
     },
     "execution_count": 160,
     "metadata": {},
     "output_type": "execute_result"
    }
   ],
   "source": [
    "#check for nulls\n",
    "\n",
    "concat_df.isnull().sum()"
   ]
  },
  {
   "cell_type": "code",
   "execution_count": 161,
   "metadata": {},
   "outputs": [
    {
     "data": {
      "text/plain": [
       "XLB close     0\n",
       "XLK close     0\n",
       "RWR close     0\n",
       "SPY close     0\n",
       "XLB_return    0\n",
       "XLK_return    0\n",
       "RWR_return    0\n",
       "SPY_return    0\n",
       "dtype: int64"
      ]
     },
     "execution_count": 161,
     "metadata": {},
     "output_type": "execute_result"
    }
   ],
   "source": [
    "# Drop nulls\n",
    "concat_df.dropna(inplace=True)\n",
    "\n",
    "#count nulls again\n",
    "concat_df.isnull().sum()"
   ]
  },
  {
   "cell_type": "code",
   "execution_count": 162,
   "metadata": {},
   "outputs": [
    {
     "data": {
      "text/plain": [
       "date\n",
       "2001-08-28    False\n",
       "2001-08-29    False\n",
       "2001-08-30    False\n",
       "2001-08-31    False\n",
       "2001-09-04    False\n",
       "              ...  \n",
       "2020-04-22    False\n",
       "2020-04-23    False\n",
       "2020-04-24    False\n",
       "2020-04-27    False\n",
       "2020-04-28    False\n",
       "Length: 4695, dtype: bool"
      ]
     },
     "execution_count": 162,
     "metadata": {},
     "output_type": "execute_result"
    }
   ],
   "source": [
    "# Checking for duplicate rows\n",
    "concat_df.duplicated()"
   ]
  },
  {
   "cell_type": "code",
   "execution_count": 163,
   "metadata": {},
   "outputs": [],
   "source": [
    "# drop duplicates\n",
    "concat_df.drop_duplicates(inplace=True)"
   ]
  },
  {
   "cell_type": "code",
   "execution_count": 164,
   "metadata": {},
   "outputs": [
    {
     "data": {
      "text/plain": [
       "XLB close     float64\n",
       "XLK close     float64\n",
       "RWR close     float64\n",
       "SPY close     float64\n",
       "XLB_return    float64\n",
       "XLK_return    float64\n",
       "RWR_return    float64\n",
       "SPY_return    float64\n",
       "dtype: object"
      ]
     },
     "execution_count": 164,
     "metadata": {},
     "output_type": "execute_result"
    }
   ],
   "source": [
    "#Check datatypes\n",
    "\n",
    "concat_df.dtypes"
   ]
  },
  {
   "cell_type": "code",
   "execution_count": 165,
   "metadata": {},
   "outputs": [
    {
     "data": {
      "text/plain": [
       "XLB close     4695\n",
       "XLK close     4695\n",
       "RWR close     4695\n",
       "SPY close     4695\n",
       "XLB_return    4695\n",
       "XLK_return    4695\n",
       "RWR_return    4695\n",
       "SPY_return    4695\n",
       "dtype: int64"
      ]
     },
     "execution_count": 165,
     "metadata": {},
     "output_type": "execute_result"
    }
   ],
   "source": [
    "#check counts\n",
    "concat_df.count()"
   ]
  },
  {
   "cell_type": "code",
   "execution_count": 166,
   "metadata": {},
   "outputs": [
    {
     "data": {
      "text/html": [
       "<div>\n",
       "<style scoped>\n",
       "    .dataframe tbody tr th:only-of-type {\n",
       "        vertical-align: middle;\n",
       "    }\n",
       "\n",
       "    .dataframe tbody tr th {\n",
       "        vertical-align: top;\n",
       "    }\n",
       "\n",
       "    .dataframe thead th {\n",
       "        text-align: right;\n",
       "    }\n",
       "</style>\n",
       "<table border=\"1\" class=\"dataframe\">\n",
       "  <thead>\n",
       "    <tr style=\"text-align: right;\">\n",
       "      <th></th>\n",
       "      <th>XLB close</th>\n",
       "      <th>XLK close</th>\n",
       "      <th>RWR close</th>\n",
       "      <th>SPY close</th>\n",
       "      <th>XLB_return</th>\n",
       "      <th>XLK_return</th>\n",
       "      <th>RWR_return</th>\n",
       "      <th>SPY_return</th>\n",
       "    </tr>\n",
       "  </thead>\n",
       "  <tbody>\n",
       "    <tr>\n",
       "      <th>count</th>\n",
       "      <td>4695.000000</td>\n",
       "      <td>4695.000000</td>\n",
       "      <td>4695.000000</td>\n",
       "      <td>4695.000000</td>\n",
       "      <td>4695.000000</td>\n",
       "      <td>4695.000000</td>\n",
       "      <td>4695.000000</td>\n",
       "      <td>4695.000000</td>\n",
       "    </tr>\n",
       "    <tr>\n",
       "      <th>mean</th>\n",
       "      <td>32.462455</td>\n",
       "      <td>30.787690</td>\n",
       "      <td>53.333422</td>\n",
       "      <td>140.074861</td>\n",
       "      <td>0.000387</td>\n",
       "      <td>0.000432</td>\n",
       "      <td>0.000475</td>\n",
       "      <td>0.000342</td>\n",
       "    </tr>\n",
       "    <tr>\n",
       "      <th>std</th>\n",
       "      <td>13.542793</td>\n",
       "      <td>20.054427</td>\n",
       "      <td>23.917462</td>\n",
       "      <td>69.524977</td>\n",
       "      <td>0.015134</td>\n",
       "      <td>0.014736</td>\n",
       "      <td>0.018884</td>\n",
       "      <td>0.012341</td>\n",
       "    </tr>\n",
       "    <tr>\n",
       "      <th>min</th>\n",
       "      <td>11.161600</td>\n",
       "      <td>8.997400</td>\n",
       "      <td>15.299700</td>\n",
       "      <td>54.152900</td>\n",
       "      <td>-0.124649</td>\n",
       "      <td>-0.138140</td>\n",
       "      <td>-0.208544</td>\n",
       "      <td>-0.109423</td>\n",
       "    </tr>\n",
       "    <tr>\n",
       "      <th>25%</th>\n",
       "      <td>20.762300</td>\n",
       "      <td>16.709150</td>\n",
       "      <td>33.188350</td>\n",
       "      <td>87.496250</td>\n",
       "      <td>-0.006596</td>\n",
       "      <td>-0.005682</td>\n",
       "      <td>-0.005943</td>\n",
       "      <td>-0.004155</td>\n",
       "    </tr>\n",
       "    <tr>\n",
       "      <th>50%</th>\n",
       "      <td>30.477300</td>\n",
       "      <td>21.594700</td>\n",
       "      <td>49.610800</td>\n",
       "      <td>110.009500</td>\n",
       "      <td>0.000828</td>\n",
       "      <td>0.000939</td>\n",
       "      <td>0.000838</td>\n",
       "      <td>0.000659</td>\n",
       "    </tr>\n",
       "    <tr>\n",
       "      <th>75%</th>\n",
       "      <td>43.476250</td>\n",
       "      <td>39.175100</td>\n",
       "      <td>75.239650</td>\n",
       "      <td>188.078100</td>\n",
       "      <td>0.008176</td>\n",
       "      <td>0.006916</td>\n",
       "      <td>0.007442</td>\n",
       "      <td>0.005636</td>\n",
       "    </tr>\n",
       "    <tr>\n",
       "      <th>max</th>\n",
       "      <td>61.111600</td>\n",
       "      <td>102.250500</td>\n",
       "      <td>106.602100</td>\n",
       "      <td>336.274200</td>\n",
       "      <td>0.117601</td>\n",
       "      <td>0.134921</td>\n",
       "      <td>0.174806</td>\n",
       "      <td>0.139609</td>\n",
       "    </tr>\n",
       "  </tbody>\n",
       "</table>\n",
       "</div>"
      ],
      "text/plain": [
       "         XLB close    XLK close    RWR close    SPY close   XLB_return  \\\n",
       "count  4695.000000  4695.000000  4695.000000  4695.000000  4695.000000   \n",
       "mean     32.462455    30.787690    53.333422   140.074861     0.000387   \n",
       "std      13.542793    20.054427    23.917462    69.524977     0.015134   \n",
       "min      11.161600     8.997400    15.299700    54.152900    -0.124649   \n",
       "25%      20.762300    16.709150    33.188350    87.496250    -0.006596   \n",
       "50%      30.477300    21.594700    49.610800   110.009500     0.000828   \n",
       "75%      43.476250    39.175100    75.239650   188.078100     0.008176   \n",
       "max      61.111600   102.250500   106.602100   336.274200     0.117601   \n",
       "\n",
       "        XLK_return   RWR_return   SPY_return  \n",
       "count  4695.000000  4695.000000  4695.000000  \n",
       "mean      0.000432     0.000475     0.000342  \n",
       "std       0.014736     0.018884     0.012341  \n",
       "min      -0.138140    -0.208544    -0.109423  \n",
       "25%      -0.005682    -0.005943    -0.004155  \n",
       "50%       0.000939     0.000838     0.000659  \n",
       "75%       0.006916     0.007442     0.005636  \n",
       "max       0.134921     0.174806     0.139609  "
      ]
     },
     "execution_count": 166,
     "metadata": {},
     "output_type": "execute_result"
    }
   ],
   "source": [
    "#use describe to explore data\n",
    "concat_df.describe()"
   ]
  },
  {
   "cell_type": "code",
   "execution_count": 167,
   "metadata": {},
   "outputs": [
    {
     "data": {
      "text/plain": [
       "<matplotlib.axes._subplots.AxesSubplot at 0x1f221172788>"
      ]
     },
     "execution_count": 167,
     "metadata": {},
     "output_type": "execute_result"
    },
    {
     "data": {
      "image/png": "[encoded data removed]",
      "text/plain": [
       "<Figure size 720x360 with 1 Axes>"
      ]
     },
     "metadata": {
      "needs_background": "light"
     },
     "output_type": "display_data"
    }
   ],
   "source": [
    "#plot daily returns of XLB\n",
    "\n",
    "#concat_df['XLB_return'].plot(figsize=(10,5))\n",
    "daily_returns_xlb.plot(figsize=(10,5))"
   ]
  },
  {
   "cell_type": "code",
   "execution_count": 168,
   "metadata": {},
   "outputs": [
    {
     "data": {
      "text/plain": [
       "<matplotlib.axes._subplots.AxesSubplot at 0x1f2210bff88>"
      ]
     },
     "execution_count": 168,
     "metadata": {},
     "output_type": "execute_result"
    },
    {
     "data": {
      "image/png": "[encoded data removed]",
      "text/plain": [
       "<Figure size 720x360 with 1 Axes>"
      ]
     },
     "metadata": {
      "needs_background": "light"
     },
     "output_type": "display_data"
    }
   ],
   "source": [
    "#plot daily returns of XLK\n",
    "\n",
    "daily_returns_xlk.plot(figsize=(10,5))"
   ]
  },
  {
   "cell_type": "code",
   "execution_count": 169,
   "metadata": {},
   "outputs": [
    {
     "data": {
      "text/plain": [
       "<matplotlib.axes._subplots.AxesSubplot at 0x1f2212cdf48>"
      ]
     },
     "execution_count": 169,
     "metadata": {},
     "output_type": "execute_result"
    },
    {
     "data": {
      "image/png": "[encoded data removed]",
      "text/plain": [
       "<Figure size 720x360 with 1 Axes>"
      ]
     },
     "metadata": {
      "needs_background": "light"
     },
     "output_type": "display_data"
    }
   ],
   "source": [
    "#plot daily returns of RWR\n",
    "\n",
    "daily_returns_rwr.plot(figsize=(10,5))"
   ]
  },
  {
   "cell_type": "code",
   "execution_count": 170,
   "metadata": {},
   "outputs": [
    {
     "data": {
      "text/plain": [
       "<matplotlib.axes._subplots.AxesSubplot at 0x1f220b685c8>"
      ]
     },
     "execution_count": 170,
     "metadata": {},
     "output_type": "execute_result"
    },
    {
     "data": {
      "image/png": "[encoded data removed]",
      "text/plain": [
       "<Figure size 720x360 with 1 Axes>"
      ]
     },
     "metadata": {
      "needs_background": "light"
     },
     "output_type": "display_data"
    }
   ],
   "source": [
    "#plot daily returns of SPY\n",
    "\n",
    "daily_returns_spy.plot(figsize=(10,5))"
   ]
  },
  {
   "cell_type": "code",
   "execution_count": 175,
   "metadata": {},
   "outputs": [
    {
     "data": {
      "text/plain": [
       "date\n",
       "2001-08-28    0.990576\n",
       "2001-08-29    0.978016\n",
       "2001-08-30    0.974426\n",
       "2001-08-31    0.982951\n",
       "2001-09-04    0.982951\n",
       "Name: XLB_return, dtype: float64"
      ]
     },
     "execution_count": 175,
     "metadata": {},
     "output_type": "execute_result"
    }
   ],
   "source": [
    "# Calculate the cumulative returns using the 'cumprod()' function\n",
    "cumulative_returns_xlb = (1 + concat_df['XLB_return']).cumprod()\n",
    "cumulative_returns_xlk = (1 + concat_df['XLK_return']).cumprod()\n",
    "cumulative_returns_rwr = (1 + concat_df['RWR_return']).cumprod()\n",
    "cumulative_returns_spy = (1 + concat_df['SPY_return']).cumprod()\n",
    "\n",
    "cumulative_returns_xlb.head()"
   ]
  },
  {
   "cell_type": "code",
   "execution_count": 176,
   "metadata": {},
   "outputs": [
    {
     "data": {
      "text/plain": [
       "<matplotlib.axes._subplots.AxesSubplot at 0x1f220f4f508>"
      ]
     },
     "execution_count": 176,
     "metadata": {},
     "output_type": "execute_result"
    },
    {
     "data": {
      "image/png": "[encoded data removed]",
      "text/plain": [
       "<Figure size 720x360 with 1 Axes>"
      ]
     },
     "metadata": {
      "needs_background": "light"
     },
     "output_type": "display_data"
    }
   ],
   "source": [
    "#plot cumulative returns\n",
    "\n",
    "cumulative_returns_xlb.plot(figsize=(10,5),legend = True)\n",
    "cumulative_returns_xlk.plot(figsize=(10,5),legend = True)\n",
    "cumulative_returns_rwr.plot(figsize=(10,5),legend=True)\n",
    "cumulative_returns_spy.plot(figsize=(10,5),legend=True)\n"
   ]
  },
  {
   "cell_type": "code",
   "execution_count": 177,
   "metadata": {},
   "outputs": [
    {
     "name": "stdout",
     "output_type": "stream",
     "text": [
      " XLB standard deviation is 0.015134475957430206\n",
      " XLK standard deviation is 0.01473604914272077\n",
      " RWR standard deviation is 0.018883766662441296\n",
      " SPY standard deviation is 0.012341076246172075\n",
      "[0.012341076246172075, 0.01473604914272077, 0.015134475957430206, 0.018883766662441296]\n"
     ]
    }
   ],
   "source": [
    "# Calculate Standard Deviations for each sector\n",
    "xlb_std = concat_df['XLB_return'].std()\n",
    "print(f' XLB standard deviation is {xlb_std}')\n",
    "\n",
    "\n",
    "xlk_std = concat_df['XLK_return'].std()\n",
    "print(f' XLK standard deviation is {xlk_std}')\n",
    "\n",
    "rwr_std = concat_df['RWR_return'].std()\n",
    "print(f' RWR standard deviation is {rwr_std}')\n",
    "\n",
    "spy_std = concat_df['SPY_return'].std()\n",
    "print(f' SPY standard deviation is {spy_std}')\n",
    "\n",
    "\n",
    "# Identify the sector with highest standard deviation (riskiest)\n",
    "sectors = [xlb_std, xlk_std, rwr_std, spy_std]\n",
    "sectors.sort()\n",
    "print(sectors)"
   ]
  },
  {
   "cell_type": "code",
   "execution_count": 178,
   "metadata": {},
   "outputs": [
    {
     "data": {
      "text/plain": [
       "0.1959085119495471"
      ]
     },
     "execution_count": 178,
     "metadata": {},
     "output_type": "execute_result"
    }
   ],
   "source": [
    "# Calculate the annualized standard deviation (252 trading days) for each sector\n",
    "annualized_xlb_std = xlb_std * np.sqrt(252)\n",
    "annualized_xlb_std\n",
    "\n",
    "annualized_xlk_std = xlk_std * np.sqrt(252)\n",
    "annualized_xlk_std\n",
    "\n",
    "annualized_rwr_std = rwr_std * np.sqrt(252)\n",
    "annualized_rwr_std\n",
    "\n",
    "annualized_spy_std = spy_std * np.sqrt(252)\n",
    "annualized_spy_std\n"
   ]
  },
  {
   "cell_type": "code",
   "execution_count": 198,
   "metadata": {},
   "outputs": [
    {
     "data": {
      "text/plain": [
       "<matplotlib.axes._subplots.AxesSubplot at 0x1f223d42c88>"
      ]
     },
     "execution_count": 198,
     "metadata": {},
     "output_type": "execute_result"
    },
    {
     "data": {
      "image/png": "[encoded data removed]",
      "text/plain": [
       "<Figure size 432x288 with 1 Axes>"
      ]
     },
     "metadata": {
      "needs_background": "light"
     },
     "output_type": "display_data"
    }
   ],
   "source": [
    "#Plot\n",
    "\n",
    "sectors_std = pd.DataFrame({\n",
    "    xlb_std: concat_df['XLB_return'],\n",
    "    xlk_std: concat_df['XLK_return'],\n",
    "    rwr_std: concat_df['RWR_return'],\n",
    "    spy_std: concat_df['SPY_return']\n",
    "})\n",
    "\n",
    "sectors_std.plot.hist(stacked=True, bins=100)"
   ]
  },
  {
   "cell_type": "code",
   "execution_count": 199,
   "metadata": {},
   "outputs": [
    {
     "data": {
      "text/plain": [
       "<matplotlib.axes._subplots.AxesSubplot at 0x1f220c1bec8>"
      ]
     },
     "execution_count": 199,
     "metadata": {},
     "output_type": "execute_result"
    },
    {
     "data": {
      "image/png": "[encoded data removed]",
      "text/plain": [
       "<Figure size 432x288 with 1 Axes>"
      ]
     },
     "metadata": {
      "needs_background": "light"
     },
     "output_type": "display_data"
    }
   ],
   "source": [
    "# Plot box plot\n",
    "sectors_std.plot.box()"
   ]
  },
  {
   "cell_type": "code",
   "execution_count": 200,
   "metadata": {},
   "outputs": [
    {
     "name": "stdout",
     "output_type": "stream",
     "text": [
      " XLB: 0.40550234090919035, XLK: 0.464977099940916, RWR:0.39955472762268185, SPY: 0.4396380373989247\n"
     ]
    }
   ],
   "source": [
    "# Calculate Sharpe Ratios for the sectors\n",
    "\n",
    "XLB_sharpe_ratio = (concat_df['XLB_return'].mean() * 252) / (concat_df['XLB_return'].std() * np.sqrt(252))\n",
    "\n",
    "XLK_sharpe_ratio = (concat_df['XLK_return'].mean() * 252) / (concat_df['XLK_return'].std() * np.sqrt(252))\n",
    "\n",
    "RWR_sharpe_ratio = (concat_df['RWR_return'].mean() * 252) / (concat_df['RWR_return'].std() * np.sqrt(252))\n",
    "\n",
    "SPY_sharpe_ratio = (concat_df['SPY_return'].mean() * 252) / (concat_df['SPY_return'].std() * np.sqrt(252))\n",
    "\n",
    "print(f\" XLB: {XLB_sharpe_ratio}, XLK: {XLK_sharpe_ratio}, RWR:{RWR_sharpe_ratio}, SPY: {SPY_sharpe_ratio}\")\n",
    "\n",
    "\n",
    "\n"
   ]
  },
  {
   "cell_type": "code",
   "execution_count": 201,
   "metadata": {},
   "outputs": [
    {
     "data": {
      "image/png": "[encoded data removed]",
      "text/plain": [
       "<Figure size 432x288 with 1 Axes>"
      ]
     },
     "metadata": {
      "needs_background": "light"
     },
     "output_type": "display_data"
    }
   ],
   "source": [
    "#Plot the sharpe ratios\n",
    "\n",
    "objects = ('XLB', 'XLK', 'RWR', 'SPY')\n",
    "y_pos = np.arange(len(objects))\n",
    "sharpe = [XLB_sharpe_ratio,XLK_sharpe_ratio,RWR_sharpe_ratio, SPY_sharpe_ratio]\n",
    "\n",
    "plt.bar(y_pos, sharpe, align='center')\n",
    "plt.xticks(y_pos, objects)\n",
    "plt.ylabel('Sharpe')\n",
    "plt.title('Sharpe Ratios')\n",
    "\n",
    "plt.show()"
   ]
  },
  {
   "cell_type": "code",
   "execution_count": 202,
   "metadata": {},
   "outputs": [
    {
     "data": {
      "text/plain": [
       "XLB_return    0\n",
       "XLK_return    0\n",
       "RWR_return    0\n",
       "SPY_return    0\n",
       "dtype: int64"
      ]
     },
     "execution_count": 202,
     "metadata": {},
     "output_type": "execute_result"
    }
   ],
   "source": [
    "# Concat returns into one DataFrame\n",
    "returns_only_df = pd.concat([daily_returns_xlb, daily_returns_xlk, daily_returns_rwr , daily_returns_spy], axis='columns', join='inner')\n",
    "returns_only_df.head()\n",
    "\n",
    "#Fix column names\n",
    "columns = ['XLB_return', 'XLK_return', 'RWR_return', 'SPY_return']\n",
    "returns_only_df.columns = columns\n",
    "returns_only_df.head()\n",
    "\n",
    "# Drop nulls\n",
    "returns_only_df.dropna(inplace=True)\n",
    "\n",
    "#count nulls \n",
    "returns_only_df.isnull().sum()\n",
    "\n",
    "\n",
    "\n",
    "\n"
   ]
  },
  {
   "cell_type": "code",
   "execution_count": 203,
   "metadata": {},
   "outputs": [
    {
     "data": {
      "text/html": [
       "<div>\n",
       "<style scoped>\n",
       "    .dataframe tbody tr th:only-of-type {\n",
       "        vertical-align: middle;\n",
       "    }\n",
       "\n",
       "    .dataframe tbody tr th {\n",
       "        vertical-align: top;\n",
       "    }\n",
       "\n",
       "    .dataframe thead th {\n",
       "        text-align: right;\n",
       "    }\n",
       "</style>\n",
       "<table border=\"1\" class=\"dataframe\">\n",
       "  <thead>\n",
       "    <tr style=\"text-align: right;\">\n",
       "      <th></th>\n",
       "      <th>XLB_return</th>\n",
       "      <th>XLK_return</th>\n",
       "      <th>RWR_return</th>\n",
       "      <th>SPY_return</th>\n",
       "    </tr>\n",
       "  </thead>\n",
       "  <tbody>\n",
       "    <tr>\n",
       "      <th>XLB_return</th>\n",
       "      <td>1.000000</td>\n",
       "      <td>0.729111</td>\n",
       "      <td>0.622887</td>\n",
       "      <td>0.844424</td>\n",
       "    </tr>\n",
       "    <tr>\n",
       "      <th>XLK_return</th>\n",
       "      <td>0.729111</td>\n",
       "      <td>1.000000</td>\n",
       "      <td>0.559364</td>\n",
       "      <td>0.894462</td>\n",
       "    </tr>\n",
       "    <tr>\n",
       "      <th>RWR_return</th>\n",
       "      <td>0.622887</td>\n",
       "      <td>0.559364</td>\n",
       "      <td>1.000000</td>\n",
       "      <td>0.700404</td>\n",
       "    </tr>\n",
       "    <tr>\n",
       "      <th>SPY_return</th>\n",
       "      <td>0.844424</td>\n",
       "      <td>0.894462</td>\n",
       "      <td>0.700404</td>\n",
       "      <td>1.000000</td>\n",
       "    </tr>\n",
       "  </tbody>\n",
       "</table>\n",
       "</div>"
      ],
      "text/plain": [
       "            XLB_return  XLK_return  RWR_return  SPY_return\n",
       "XLB_return    1.000000    0.729111    0.622887    0.844424\n",
       "XLK_return    0.729111    1.000000    0.559364    0.894462\n",
       "RWR_return    0.622887    0.559364    1.000000    0.700404\n",
       "SPY_return    0.844424    0.894462    0.700404    1.000000"
      ]
     },
     "execution_count": 203,
     "metadata": {},
     "output_type": "execute_result"
    }
   ],
   "source": [
    "#Check correlation\n",
    "\n",
    "correlation = returns_only_df.corr()\n",
    "correlation"
   ]
  },
  {
   "cell_type": "code",
   "execution_count": 204,
   "metadata": {},
   "outputs": [
    {
     "data": {
      "text/plain": [
       "<matplotlib.axes._subplots.AxesSubplot at 0x1f223b5a408>"
      ]
     },
     "execution_count": 204,
     "metadata": {},
     "output_type": "execute_result"
    },
    {
     "data": {
      "image/png": "[encoded data removed]",
      "text/plain": [
       "<Figure size 432x288 with 2 Axes>"
      ]
     },
     "metadata": {
      "needs_background": "light"
     },
     "output_type": "display_data"
    }
   ],
   "source": [
    "# Create a heatmap from the correlation values\n",
    "sns.heatmap(correlation)"
   ]
  },
  {
   "cell_type": "code",
   "execution_count": 205,
   "metadata": {},
   "outputs": [
    {
     "data": {
      "text/plain": [
       "1.0355586652276556"
      ]
     },
     "execution_count": 205,
     "metadata": {},
     "output_type": "execute_result"
    }
   ],
   "source": [
    "#BETA CALCULATION XLB and SPY\n",
    "\n",
    "# Calculate covariance of XLB vs. S&P 500\n",
    "covariance = returns_only_df['XLB_return'].cov(returns_only_df['SPY_return'])\n",
    "covariance\n",
    "\n",
    "# Calculate variance of S&P 500 returns\n",
    "variance = returns_only_df['SPY_return'].var()\n",
    "variance\n",
    "\n",
    "# Calculate beta of XLB\n",
    "XLB_beta = covariance / variance\n",
    "XLB_beta"
   ]
  },
  {
   "cell_type": "code",
   "execution_count": 206,
   "metadata": {},
   "outputs": [
    {
     "data": {
      "text/plain": [
       "1.0680457874369165"
      ]
     },
     "execution_count": 206,
     "metadata": {},
     "output_type": "execute_result"
    }
   ],
   "source": [
    "#BETA CALCULATION XLK and SPY\n",
    "\n",
    "# Calculate covariance of XLK vs. S&P 500\n",
    "covariance = returns_only_df['XLK_return'].cov(returns_only_df['SPY_return'])\n",
    "covariance\n",
    "\n",
    "# Calculate variance of S&P 500 returns\n",
    "variance = returns_only_df['SPY_return'].var()\n",
    "variance\n",
    "\n",
    "# Calculate beta of XLK\n",
    "XLK_beta = covariance / variance\n",
    "XLK_beta"
   ]
  },
  {
   "cell_type": "code",
   "execution_count": 207,
   "metadata": {},
   "outputs": [
    {
     "data": {
      "text/plain": [
       "1.0717267076848194"
      ]
     },
     "execution_count": 207,
     "metadata": {},
     "output_type": "execute_result"
    }
   ],
   "source": [
    "#BETA CALCULATION RWR and SPY\n",
    "\n",
    "# Calculate covariance of RWR vs. S&P 500\n",
    "covariance = returns_only_df['RWR_return'].cov(returns_only_df['SPY_return'])\n",
    "covariance\n",
    "\n",
    "# Calculate variance of S&P 500 returns\n",
    "variance = returns_only_df['SPY_return'].var()\n",
    "variance\n",
    "\n",
    "# Calculate beta of RWR\n",
    "RWR_beta = covariance / variance\n",
    "RWR_beta"
   ]
  },
  {
   "cell_type": "code",
   "execution_count": null,
   "metadata": {},
   "outputs": [],
   "source": []
  }
 ],
 "metadata": {
  "kernelspec": {
   "display_name": "Python 3",
   "language": "python",
   "name": "python3"
  },
  "language_info": {
   "codemirror_mode": {
    "name": "ipython",
    "version": 3
   },
   "file_extension": ".py",
   "mimetype": "text/x-python",
   "name": "python",
   "nbconvert_exporter": "python",
   "pygments_lexer": "ipython3",
   "version": "3.7.6"
  }
 },
 "nbformat": 4,
 "nbformat_minor": 4
}
