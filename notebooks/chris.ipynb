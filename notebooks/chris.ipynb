{
 "cells": [
  {
   "cell_type": "code",
   "execution_count": 25,
   "metadata": {},
   "outputs": [],
   "source": [
    "#     API Quandl\n",
    "#     Data cleanup\n",
    "#     Materials Monte Carlo = XLB\n",
    "#     Real Estate Monte Carlo = RWR\n",
    "#     Technology Monte Carlo = XLK"
   ]
  },
  {
   "cell_type": "code",
   "execution_count": 26,
   "metadata": {},
   "outputs": [],
   "source": [
    "import numpy as np\n",
    "import pandas as pd\n",
    "from datetime import datetime, timedelta\n",
    "import matplotlib.pyplot as plt\n",
    "import json\n",
    "from pathlib import Path\n",
    "import alpaca_trade_api as tradeapi\n",
    "import requests\n",
    "import os \n",
    "from dotenv import load_dotenv\n",
    "\n",
    "%matplotlib inline"
   ]
  },
  {
   "cell_type": "code",
   "execution_count": 27,
   "metadata": {},
   "outputs": [
    {
     "data": {
      "text/plain": [
       "str"
      ]
     },
     "execution_count": 27,
     "metadata": {},
     "output_type": "execute_result"
    }
   ],
   "source": [
    "#QUANDL Data retrieval\n",
    "\n",
    "#Load quandl api_key\n",
    "load_dotenv()\n",
    "\n",
    "api_key = os.getenv(\"QUANDL_API_KEY\")\n",
    "type(api_key)\n",
    "\n"
   ]
  },
  {
   "cell_type": "code",
   "execution_count": 28,
   "metadata": {},
   "outputs": [],
   "source": [
    "#Create request url to access quandl to get prices for XLB, S&P Materials Sector ETF\n",
    "\n",
    "#request_url = \"https://www.quandl.com/api/v3/datasets/WIKI/XLB.json?api_key=\"\n",
    "request_url = \"https://www.quandl.com/api/v3/datasets/WIKI/RWR/data.csv?api_key=\"\n",
    "\n",
    "# Concatenate request_url and api_key. Store as new variable\n",
    "request_url_api = request_url + api_key\n"
   ]
  },
  {
   "cell_type": "code",
   "execution_count": 29,
   "metadata": {},
   "outputs": [
    {
     "data": {
      "text/plain": [
       "b'code,message\\nQECx02,You have submitted an incorrect Quandl code. Please check your Quandl codes and try again.\\n'"
      ]
     },
     "execution_count": 29,
     "metadata": {},
     "output_type": "execute_result"
    }
   ],
   "source": [
    "# Execute get request, this returned error, XLB, RWR, and XLK not in free wiki dataset.\n",
    "\n",
    "response_data = requests.get(request_url_api)\n",
    "response_data.content"
   ]
  },
  {
   "cell_type": "code",
   "execution_count": 62,
   "metadata": {},
   "outputs": [
    {
     "data": {
      "text/plain": [
       "str"
      ]
     },
     "execution_count": 62,
     "metadata": {},
     "output_type": "execute_result"
    }
   ],
   "source": [
    "#Try ALPACA data retrieval next\n",
    "load_dotenv()\n",
    "\n",
    "APCA_API_KEY_ID = os.getenv(\"APCA_API_KEY_ID\")\n",
    "APCA_SECRET_KEY = os.getenv(\"APCA_SECRET_KEY\")\n",
    "\n",
    "api = tradeapi.REST(APCA_API_KEY_ID, APCA_SECRET_KEY, api_version='v2')\n",
    "\n",
    "type(APCA_API_KEY_ID)\n"
   ]
  },
  {
   "cell_type": "code",
   "execution_count": 88,
   "metadata": {},
   "outputs": [],
   "source": [
    "#Use alpha vantage to get historic quotes for XLB,XLK,RWR. This goes back 20 years.\n",
    "\n",
    "xlb_df = api.alpha_vantage.historic_quotes('XLB', adjusted=True, output_format='pandas')\n",
    "xlb_df.head()\n",
    "\n",
    "xlk_df = api.alpha_vantage.historic_quotes('XLK', adjusted=True, output_format='pandas')\n",
    "# xlk_df.tail()\n",
    "\n",
    "rwr_df = api.alpha_vantage.historic_quotes('RWR', adjusted=True, output_format='pandas')\n",
    "#rwr_df.head()\n",
    "\n",
    "\n",
    "\n",
    "#CODE BELOW WAS FIRST ATTEMPT BUT ONLY GETS 1000 TRADING DAYS:\n",
    "\n",
    "# # Get daily price data for XLB over the last 1000 trading days. Max alpaca would allow.\n",
    "# #download direct into dataframe\n",
    "\n",
    "# barset = api.get_barset('XLB', 'day', limit=1000).df\n",
    "# xlb_bars_df = barset['XLB']\n",
    "# xlb_bars_df.head()\n",
    "# xlb_bars_df.tail()\n",
    "\n",
    "# Get daily price data for XLK over the last 1000 trading days. Max alpaca would allow.\n",
    "\n",
    "# barset = api.get_barset('XLK', 'day', limit=1000).df\n",
    "# xlk_bars_df = barset['XLK']\n",
    "# xlk_bars_df.head()\n",
    "# xlk_bars_df.tail()\n",
    "\n",
    "# # Get daily price data for RWR over the last 1000 trading days. Max alpaca would allow.\n",
    "\n",
    "# barset = api.get_barset('RWR', 'day', limit=1000).df\n",
    "# rwr_bars_df = barset['RWR']\n",
    "# rwr_bars_df.head()\n",
    "# rwr_bars_df.tail()\n",
    "\n",
    "\n",
    "\n"
   ]
  },
  {
   "cell_type": "code",
   "execution_count": 89,
   "metadata": {},
   "outputs": [
    {
     "data": {
      "text/html": [
       "<div>\n",
       "<style scoped>\n",
       "    .dataframe tbody tr th:only-of-type {\n",
       "        vertical-align: middle;\n",
       "    }\n",
       "\n",
       "    .dataframe tbody tr th {\n",
       "        vertical-align: top;\n",
       "    }\n",
       "\n",
       "    .dataframe thead th {\n",
       "        text-align: right;\n",
       "    }\n",
       "</style>\n",
       "<table border=\"1\" class=\"dataframe\">\n",
       "  <thead>\n",
       "    <tr style=\"text-align: right;\">\n",
       "      <th></th>\n",
       "      <th>1. open</th>\n",
       "      <th>2. high</th>\n",
       "      <th>3. low</th>\n",
       "      <th>4. close</th>\n",
       "      <th>5. adjusted close</th>\n",
       "      <th>6. volume</th>\n",
       "      <th>7. dividend amount</th>\n",
       "      <th>8. split coefficient</th>\n",
       "    </tr>\n",
       "    <tr>\n",
       "      <th>date</th>\n",
       "      <th></th>\n",
       "      <th></th>\n",
       "      <th></th>\n",
       "      <th></th>\n",
       "      <th></th>\n",
       "      <th></th>\n",
       "      <th></th>\n",
       "      <th></th>\n",
       "    </tr>\n",
       "  </thead>\n",
       "  <tbody>\n",
       "    <tr>\n",
       "      <th>2020-04-27</th>\n",
       "      <td>73.71</td>\n",
       "      <td>76.4600</td>\n",
       "      <td>73.7100</td>\n",
       "      <td>76.08</td>\n",
       "      <td>76.08</td>\n",
       "      <td>211081.0</td>\n",
       "      <td>0.0</td>\n",
       "      <td>1.0</td>\n",
       "    </tr>\n",
       "    <tr>\n",
       "      <th>2020-04-24</th>\n",
       "      <td>72.95</td>\n",
       "      <td>73.7380</td>\n",
       "      <td>72.0700</td>\n",
       "      <td>73.25</td>\n",
       "      <td>73.25</td>\n",
       "      <td>113694.0</td>\n",
       "      <td>0.0</td>\n",
       "      <td>1.0</td>\n",
       "    </tr>\n",
       "    <tr>\n",
       "      <th>2020-04-23</th>\n",
       "      <td>73.74</td>\n",
       "      <td>74.2700</td>\n",
       "      <td>72.4900</td>\n",
       "      <td>72.68</td>\n",
       "      <td>72.68</td>\n",
       "      <td>120035.0</td>\n",
       "      <td>0.0</td>\n",
       "      <td>1.0</td>\n",
       "    </tr>\n",
       "    <tr>\n",
       "      <th>2020-04-22</th>\n",
       "      <td>73.65</td>\n",
       "      <td>74.1154</td>\n",
       "      <td>73.0000</td>\n",
       "      <td>73.55</td>\n",
       "      <td>73.55</td>\n",
       "      <td>136871.0</td>\n",
       "      <td>0.0</td>\n",
       "      <td>1.0</td>\n",
       "    </tr>\n",
       "    <tr>\n",
       "      <th>2020-04-21</th>\n",
       "      <td>71.99</td>\n",
       "      <td>73.2700</td>\n",
       "      <td>71.5072</td>\n",
       "      <td>72.70</td>\n",
       "      <td>72.70</td>\n",
       "      <td>170551.0</td>\n",
       "      <td>0.0</td>\n",
       "      <td>1.0</td>\n",
       "    </tr>\n",
       "  </tbody>\n",
       "</table>\n",
       "</div>"
      ],
      "text/plain": [
       "            1. open  2. high   3. low  4. close  5. adjusted close  6. volume  \\\n",
       "date                                                                            \n",
       "2020-04-27    73.71  76.4600  73.7100     76.08              76.08   211081.0   \n",
       "2020-04-24    72.95  73.7380  72.0700     73.25              73.25   113694.0   \n",
       "2020-04-23    73.74  74.2700  72.4900     72.68              72.68   120035.0   \n",
       "2020-04-22    73.65  74.1154  73.0000     73.55              73.55   136871.0   \n",
       "2020-04-21    71.99  73.2700  71.5072     72.70              72.70   170551.0   \n",
       "\n",
       "            7. dividend amount  8. split coefficient  \n",
       "date                                                  \n",
       "2020-04-27                 0.0                   1.0  \n",
       "2020-04-24                 0.0                   1.0  \n",
       "2020-04-23                 0.0                   1.0  \n",
       "2020-04-22                 0.0                   1.0  \n",
       "2020-04-21                 0.0                   1.0  "
      ]
     },
     "execution_count": 89,
     "metadata": {},
     "output_type": "execute_result"
    }
   ],
   "source": [
    "rwr_df.head()"
   ]
  },
  {
   "cell_type": "code",
   "execution_count": 90,
   "metadata": {},
   "outputs": [
    {
     "data": {
      "text/html": [
       "<div>\n",
       "<style scoped>\n",
       "    .dataframe tbody tr th:only-of-type {\n",
       "        vertical-align: middle;\n",
       "    }\n",
       "\n",
       "    .dataframe tbody tr th {\n",
       "        vertical-align: top;\n",
       "    }\n",
       "\n",
       "    .dataframe thead th {\n",
       "        text-align: right;\n",
       "    }\n",
       "</style>\n",
       "<table border=\"1\" class=\"dataframe\">\n",
       "  <thead>\n",
       "    <tr style=\"text-align: right;\">\n",
       "      <th></th>\n",
       "      <th>5. adjusted close</th>\n",
       "      <th>5. adjusted close</th>\n",
       "      <th>5. adjusted close</th>\n",
       "    </tr>\n",
       "    <tr>\n",
       "      <th>date</th>\n",
       "      <th></th>\n",
       "      <th></th>\n",
       "      <th></th>\n",
       "    </tr>\n",
       "  </thead>\n",
       "  <tbody>\n",
       "    <tr>\n",
       "      <th>2020-04-27</th>\n",
       "      <td>51.19</td>\n",
       "      <td>89.39</td>\n",
       "      <td>76.08</td>\n",
       "    </tr>\n",
       "    <tr>\n",
       "      <th>2020-04-24</th>\n",
       "      <td>49.86</td>\n",
       "      <td>88.63</td>\n",
       "      <td>73.25</td>\n",
       "    </tr>\n",
       "    <tr>\n",
       "      <th>2020-04-23</th>\n",
       "      <td>49.09</td>\n",
       "      <td>86.79</td>\n",
       "      <td>72.68</td>\n",
       "    </tr>\n",
       "    <tr>\n",
       "      <th>2020-04-22</th>\n",
       "      <td>48.75</td>\n",
       "      <td>87.39</td>\n",
       "      <td>73.55</td>\n",
       "    </tr>\n",
       "    <tr>\n",
       "      <th>2020-04-21</th>\n",
       "      <td>47.81</td>\n",
       "      <td>84.15</td>\n",
       "      <td>72.70</td>\n",
       "    </tr>\n",
       "  </tbody>\n",
       "</table>\n",
       "</div>"
      ],
      "text/plain": [
       "            5. adjusted close  5. adjusted close  5. adjusted close\n",
       "date                                                               \n",
       "2020-04-27              51.19              89.39              76.08\n",
       "2020-04-24              49.86              88.63              73.25\n",
       "2020-04-23              49.09              86.79              72.68\n",
       "2020-04-22              48.75              87.39              73.55\n",
       "2020-04-21              47.81              84.15              72.70"
      ]
     },
     "execution_count": 90,
     "metadata": {},
     "output_type": "execute_result"
    }
   ],
   "source": [
    "#DATA CLEANUP\n",
    "\n",
    "#Select the one column we need,  \"adjusted close\", and drop the others\n",
    "\n",
    "xlb_df = xlb_df['5. adjusted close']\n",
    "xlb_df.head()\n",
    "\n",
    "xlk_df = xlk_df['5. adjusted close']\n",
    "xlk_df.head()\n",
    "\n",
    "rwr_df = rwr_df['5. adjusted close']\n",
    "rwr_df.head()\n",
    "\n",
    "#Use concat to put the data in one dataframe\n",
    "concat_df = pd.concat([xlb_df, xlk_df, rwr_df], axis = \"columns\", join = \"inner\")\n",
    "concat_df.head()\n",
    "\n"
   ]
  },
  {
   "cell_type": "code",
   "execution_count": 91,
   "metadata": {},
   "outputs": [
    {
     "data": {
      "text/html": [
       "<div>\n",
       "<style scoped>\n",
       "    .dataframe tbody tr th:only-of-type {\n",
       "        vertical-align: middle;\n",
       "    }\n",
       "\n",
       "    .dataframe tbody tr th {\n",
       "        vertical-align: top;\n",
       "    }\n",
       "\n",
       "    .dataframe thead th {\n",
       "        text-align: right;\n",
       "    }\n",
       "</style>\n",
       "<table border=\"1\" class=\"dataframe\">\n",
       "  <thead>\n",
       "    <tr style=\"text-align: right;\">\n",
       "      <th></th>\n",
       "      <th>XLB close</th>\n",
       "      <th>XLK close</th>\n",
       "      <th>RWR close</th>\n",
       "    </tr>\n",
       "    <tr>\n",
       "      <th>date</th>\n",
       "      <th></th>\n",
       "      <th></th>\n",
       "      <th></th>\n",
       "    </tr>\n",
       "  </thead>\n",
       "  <tbody>\n",
       "    <tr>\n",
       "      <th>2020-04-27</th>\n",
       "      <td>51.19</td>\n",
       "      <td>89.39</td>\n",
       "      <td>76.08</td>\n",
       "    </tr>\n",
       "    <tr>\n",
       "      <th>2020-04-24</th>\n",
       "      <td>49.86</td>\n",
       "      <td>88.63</td>\n",
       "      <td>73.25</td>\n",
       "    </tr>\n",
       "    <tr>\n",
       "      <th>2020-04-23</th>\n",
       "      <td>49.09</td>\n",
       "      <td>86.79</td>\n",
       "      <td>72.68</td>\n",
       "    </tr>\n",
       "    <tr>\n",
       "      <th>2020-04-22</th>\n",
       "      <td>48.75</td>\n",
       "      <td>87.39</td>\n",
       "      <td>73.55</td>\n",
       "    </tr>\n",
       "    <tr>\n",
       "      <th>2020-04-21</th>\n",
       "      <td>47.81</td>\n",
       "      <td>84.15</td>\n",
       "      <td>72.70</td>\n",
       "    </tr>\n",
       "  </tbody>\n",
       "</table>\n",
       "</div>"
      ],
      "text/plain": [
       "            XLB close  XLK close  RWR close\n",
       "date                                       \n",
       "2020-04-27      51.19      89.39      76.08\n",
       "2020-04-24      49.86      88.63      73.25\n",
       "2020-04-23      49.09      86.79      72.68\n",
       "2020-04-22      48.75      87.39      73.55\n",
       "2020-04-21      47.81      84.15      72.70"
      ]
     },
     "execution_count": 91,
     "metadata": {},
     "output_type": "execute_result"
    }
   ],
   "source": [
    "#Change column names to avoid confusion\n",
    "columns = ['XLB close', 'XLK close', 'RWR close']\n",
    "concat_df.columns = columns\n",
    "concat_df.head()"
   ]
  },
  {
   "cell_type": "code",
   "execution_count": 92,
   "metadata": {},
   "outputs": [
    {
     "data": {
      "text/html": [
       "<div>\n",
       "<style scoped>\n",
       "    .dataframe tbody tr th:only-of-type {\n",
       "        vertical-align: middle;\n",
       "    }\n",
       "\n",
       "    .dataframe tbody tr th {\n",
       "        vertical-align: top;\n",
       "    }\n",
       "\n",
       "    .dataframe thead th {\n",
       "        text-align: right;\n",
       "    }\n",
       "</style>\n",
       "<table border=\"1\" class=\"dataframe\">\n",
       "  <thead>\n",
       "    <tr style=\"text-align: right;\">\n",
       "      <th></th>\n",
       "      <th>XLB close</th>\n",
       "      <th>XLK close</th>\n",
       "      <th>RWR close</th>\n",
       "      <th>XLB_return</th>\n",
       "      <th>XLK_return</th>\n",
       "      <th>RWR_return</th>\n",
       "    </tr>\n",
       "    <tr>\n",
       "      <th>date</th>\n",
       "      <th></th>\n",
       "      <th></th>\n",
       "      <th></th>\n",
       "      <th></th>\n",
       "      <th></th>\n",
       "      <th></th>\n",
       "    </tr>\n",
       "  </thead>\n",
       "  <tbody>\n",
       "    <tr>\n",
       "      <th>2020-04-27</th>\n",
       "      <td>51.19</td>\n",
       "      <td>89.39</td>\n",
       "      <td>76.08</td>\n",
       "      <td>NaN</td>\n",
       "      <td>NaN</td>\n",
       "      <td>NaN</td>\n",
       "    </tr>\n",
       "    <tr>\n",
       "      <th>2020-04-24</th>\n",
       "      <td>49.86</td>\n",
       "      <td>88.63</td>\n",
       "      <td>73.25</td>\n",
       "      <td>-0.025982</td>\n",
       "      <td>-0.008502</td>\n",
       "      <td>-0.037198</td>\n",
       "    </tr>\n",
       "    <tr>\n",
       "      <th>2020-04-23</th>\n",
       "      <td>49.09</td>\n",
       "      <td>86.79</td>\n",
       "      <td>72.68</td>\n",
       "      <td>-0.015443</td>\n",
       "      <td>-0.020760</td>\n",
       "      <td>-0.007782</td>\n",
       "    </tr>\n",
       "    <tr>\n",
       "      <th>2020-04-22</th>\n",
       "      <td>48.75</td>\n",
       "      <td>87.39</td>\n",
       "      <td>73.55</td>\n",
       "      <td>-0.006926</td>\n",
       "      <td>0.006913</td>\n",
       "      <td>0.011970</td>\n",
       "    </tr>\n",
       "    <tr>\n",
       "      <th>2020-04-21</th>\n",
       "      <td>47.81</td>\n",
       "      <td>84.15</td>\n",
       "      <td>72.70</td>\n",
       "      <td>-0.019282</td>\n",
       "      <td>-0.037075</td>\n",
       "      <td>-0.011557</td>\n",
       "    </tr>\n",
       "  </tbody>\n",
       "</table>\n",
       "</div>"
      ],
      "text/plain": [
       "            XLB close  XLK close  RWR close  XLB_return  XLK_return  \\\n",
       "date                                                                  \n",
       "2020-04-27      51.19      89.39      76.08         NaN         NaN   \n",
       "2020-04-24      49.86      88.63      73.25   -0.025982   -0.008502   \n",
       "2020-04-23      49.09      86.79      72.68   -0.015443   -0.020760   \n",
       "2020-04-22      48.75      87.39      73.55   -0.006926    0.006913   \n",
       "2020-04-21      47.81      84.15      72.70   -0.019282   -0.037075   \n",
       "\n",
       "            RWR_return  \n",
       "date                    \n",
       "2020-04-27         NaN  \n",
       "2020-04-24   -0.037198  \n",
       "2020-04-23   -0.007782  \n",
       "2020-04-22    0.011970  \n",
       "2020-04-21   -0.011557  "
      ]
     },
     "execution_count": 92,
     "metadata": {},
     "output_type": "execute_result"
    }
   ],
   "source": [
    "#add another column to get daily returns of XLB\n",
    "daily_returns_xlb = xlb_df.pct_change()\n",
    "concat_df['XLB_return']= daily_returns_xlb \n",
    "\n",
    "#add another column to get daily returns of XLK\n",
    "daily_returns_xlk = xlk_df.pct_change()\n",
    "concat_df['XLK_return']= daily_returns_xlk \n",
    "\n",
    "#add another column to get daily returns of RWR\n",
    "daily_returns_rwr = rwr_df.pct_change()\n",
    "concat_df['RWR_return']= daily_returns_rwr \n",
    "\n",
    "concat_df.head()\n"
   ]
  },
  {
   "cell_type": "code",
   "execution_count": 94,
   "metadata": {},
   "outputs": [
    {
     "data": {
      "text/plain": [
       "XLB close     0\n",
       "XLK close     0\n",
       "RWR close     0\n",
       "XLB_return    1\n",
       "XLK_return    1\n",
       "RWR_return    1\n",
       "dtype: int64"
      ]
     },
     "execution_count": 94,
     "metadata": {},
     "output_type": "execute_result"
    }
   ],
   "source": [
    "#check for nulls\n",
    "\n",
    "concat_df.isnull().sum()"
   ]
  },
  {
   "cell_type": "code",
   "execution_count": 97,
   "metadata": {},
   "outputs": [
    {
     "data": {
      "text/plain": [
       "XLB close     0\n",
       "XLK close     0\n",
       "RWR close     0\n",
       "XLB_return    0\n",
       "XLK_return    0\n",
       "RWR_return    0\n",
       "dtype: int64"
      ]
     },
     "execution_count": 97,
     "metadata": {},
     "output_type": "execute_result"
    }
   ],
   "source": [
    "# Drop nulls\n",
    "concat_df.dropna(inplace=True)\n",
    "\n",
    "#count nulls again\n",
    "concat_df.isnull().sum()"
   ]
  },
  {
   "cell_type": "code",
   "execution_count": 98,
   "metadata": {},
   "outputs": [
    {
     "data": {
      "text/plain": [
       "date\n",
       "2020-04-24    False\n",
       "2020-04-23    False\n",
       "2020-04-22    False\n",
       "2020-04-21    False\n",
       "2020-04-20    False\n",
       "              ...  \n",
       "2001-08-31    False\n",
       "2001-08-30    False\n",
       "2001-08-29    False\n",
       "2001-08-28    False\n",
       "2001-08-27    False\n",
       "Length: 4694, dtype: bool"
      ]
     },
     "execution_count": 98,
     "metadata": {},
     "output_type": "execute_result"
    }
   ],
   "source": [
    "# Checking for duplicate rows\n",
    "concat_df.duplicated()"
   ]
  },
  {
   "cell_type": "code",
   "execution_count": 100,
   "metadata": {},
   "outputs": [
    {
     "data": {
      "text/html": [
       "<div>\n",
       "<style scoped>\n",
       "    .dataframe tbody tr th:only-of-type {\n",
       "        vertical-align: middle;\n",
       "    }\n",
       "\n",
       "    .dataframe tbody tr th {\n",
       "        vertical-align: top;\n",
       "    }\n",
       "\n",
       "    .dataframe thead th {\n",
       "        text-align: right;\n",
       "    }\n",
       "</style>\n",
       "<table border=\"1\" class=\"dataframe\">\n",
       "  <thead>\n",
       "    <tr style=\"text-align: right;\">\n",
       "      <th></th>\n",
       "      <th>XLB close</th>\n",
       "      <th>XLK close</th>\n",
       "      <th>RWR close</th>\n",
       "      <th>XLB_return</th>\n",
       "      <th>XLK_return</th>\n",
       "      <th>RWR_return</th>\n",
       "    </tr>\n",
       "    <tr>\n",
       "      <th>date</th>\n",
       "      <th></th>\n",
       "      <th></th>\n",
       "      <th></th>\n",
       "      <th></th>\n",
       "      <th></th>\n",
       "      <th></th>\n",
       "    </tr>\n",
       "  </thead>\n",
       "  <tbody>\n",
       "    <tr>\n",
       "      <th>2020-04-24</th>\n",
       "      <td>49.8600</td>\n",
       "      <td>88.6300</td>\n",
       "      <td>73.2500</td>\n",
       "      <td>-0.025982</td>\n",
       "      <td>-0.008502</td>\n",
       "      <td>-0.037198</td>\n",
       "    </tr>\n",
       "    <tr>\n",
       "      <th>2020-04-23</th>\n",
       "      <td>49.0900</td>\n",
       "      <td>86.7900</td>\n",
       "      <td>72.6800</td>\n",
       "      <td>-0.015443</td>\n",
       "      <td>-0.020760</td>\n",
       "      <td>-0.007782</td>\n",
       "    </tr>\n",
       "    <tr>\n",
       "      <th>2020-04-22</th>\n",
       "      <td>48.7500</td>\n",
       "      <td>87.3900</td>\n",
       "      <td>73.5500</td>\n",
       "      <td>-0.006926</td>\n",
       "      <td>0.006913</td>\n",
       "      <td>0.011970</td>\n",
       "    </tr>\n",
       "    <tr>\n",
       "      <th>2020-04-21</th>\n",
       "      <td>47.8100</td>\n",
       "      <td>84.1500</td>\n",
       "      <td>72.7000</td>\n",
       "      <td>-0.019282</td>\n",
       "      <td>-0.037075</td>\n",
       "      <td>-0.011557</td>\n",
       "    </tr>\n",
       "    <tr>\n",
       "      <th>2020-04-20</th>\n",
       "      <td>49.0200</td>\n",
       "      <td>87.8300</td>\n",
       "      <td>73.8500</td>\n",
       "      <td>0.025309</td>\n",
       "      <td>0.043731</td>\n",
       "      <td>0.015818</td>\n",
       "    </tr>\n",
       "    <tr>\n",
       "      <th>...</th>\n",
       "      <td>...</td>\n",
       "      <td>...</td>\n",
       "      <td>...</td>\n",
       "      <td>...</td>\n",
       "      <td>...</td>\n",
       "      <td>...</td>\n",
       "    </tr>\n",
       "    <tr>\n",
       "      <th>2001-08-31</th>\n",
       "      <td>14.3213</td>\n",
       "      <td>17.8861</td>\n",
       "      <td>18.7625</td>\n",
       "      <td>0.000000</td>\n",
       "      <td>0.022203</td>\n",
       "      <td>0.001623</td>\n",
       "    </tr>\n",
       "    <tr>\n",
       "      <th>2001-08-30</th>\n",
       "      <td>14.1971</td>\n",
       "      <td>17.7384</td>\n",
       "      <td>18.8082</td>\n",
       "      <td>-0.008672</td>\n",
       "      <td>-0.008258</td>\n",
       "      <td>0.002436</td>\n",
       "    </tr>\n",
       "    <tr>\n",
       "      <th>2001-08-29</th>\n",
       "      <td>14.2494</td>\n",
       "      <td>18.4533</td>\n",
       "      <td>18.8996</td>\n",
       "      <td>0.003684</td>\n",
       "      <td>0.040302</td>\n",
       "      <td>0.004860</td>\n",
       "    </tr>\n",
       "    <tr>\n",
       "      <th>2001-08-28</th>\n",
       "      <td>14.4324</td>\n",
       "      <td>18.8107</td>\n",
       "      <td>19.2651</td>\n",
       "      <td>0.012843</td>\n",
       "      <td>0.019368</td>\n",
       "      <td>0.019339</td>\n",
       "    </tr>\n",
       "    <tr>\n",
       "      <th>2001-08-27</th>\n",
       "      <td>14.5697</td>\n",
       "      <td>19.3468</td>\n",
       "      <td>19.2651</td>\n",
       "      <td>0.009513</td>\n",
       "      <td>0.028500</td>\n",
       "      <td>0.000000</td>\n",
       "    </tr>\n",
       "  </tbody>\n",
       "</table>\n",
       "<p>4694 rows × 6 columns</p>\n",
       "</div>"
      ],
      "text/plain": [
       "            XLB close  XLK close  RWR close  XLB_return  XLK_return  \\\n",
       "date                                                                  \n",
       "2020-04-24    49.8600    88.6300    73.2500   -0.025982   -0.008502   \n",
       "2020-04-23    49.0900    86.7900    72.6800   -0.015443   -0.020760   \n",
       "2020-04-22    48.7500    87.3900    73.5500   -0.006926    0.006913   \n",
       "2020-04-21    47.8100    84.1500    72.7000   -0.019282   -0.037075   \n",
       "2020-04-20    49.0200    87.8300    73.8500    0.025309    0.043731   \n",
       "...               ...        ...        ...         ...         ...   \n",
       "2001-08-31    14.3213    17.8861    18.7625    0.000000    0.022203   \n",
       "2001-08-30    14.1971    17.7384    18.8082   -0.008672   -0.008258   \n",
       "2001-08-29    14.2494    18.4533    18.8996    0.003684    0.040302   \n",
       "2001-08-28    14.4324    18.8107    19.2651    0.012843    0.019368   \n",
       "2001-08-27    14.5697    19.3468    19.2651    0.009513    0.028500   \n",
       "\n",
       "            RWR_return  \n",
       "date                    \n",
       "2020-04-24   -0.037198  \n",
       "2020-04-23   -0.007782  \n",
       "2020-04-22    0.011970  \n",
       "2020-04-21   -0.011557  \n",
       "2020-04-20    0.015818  \n",
       "...                ...  \n",
       "2001-08-31    0.001623  \n",
       "2001-08-30    0.002436  \n",
       "2001-08-29    0.004860  \n",
       "2001-08-28    0.019339  \n",
       "2001-08-27    0.000000  \n",
       "\n",
       "[4694 rows x 6 columns]"
      ]
     },
     "execution_count": 100,
     "metadata": {},
     "output_type": "execute_result"
    }
   ],
   "source": [
    "# drop duplicates\n",
    "concat_df.drop_duplicates(inplace=True)"
   ]
  },
  {
   "cell_type": "code",
   "execution_count": 102,
   "metadata": {},
   "outputs": [
    {
     "data": {
      "text/plain": [
       "XLB close     float64\n",
       "XLK close     float64\n",
       "RWR close     float64\n",
       "XLB_return    float64\n",
       "XLK_return    float64\n",
       "RWR_return    float64\n",
       "dtype: object"
      ]
     },
     "execution_count": 102,
     "metadata": {},
     "output_type": "execute_result"
    }
   ],
   "source": [
    "#Check datatypes\n",
    "\n",
    "concat_df.dtypes"
   ]
  },
  {
   "cell_type": "code",
   "execution_count": 103,
   "metadata": {},
   "outputs": [
    {
     "data": {
      "text/plain": [
       "XLB close     4694\n",
       "XLK close     4694\n",
       "RWR close     4694\n",
       "XLB_return    4694\n",
       "XLK_return    4694\n",
       "RWR_return    4694\n",
       "dtype: int64"
      ]
     },
     "execution_count": 103,
     "metadata": {},
     "output_type": "execute_result"
    }
   ],
   "source": [
    "#check counts\n",
    "concat_df.count()"
   ]
  },
  {
   "cell_type": "code",
   "execution_count": 104,
   "metadata": {},
   "outputs": [
    {
     "data": {
      "text/html": [
       "<div>\n",
       "<style scoped>\n",
       "    .dataframe tbody tr th:only-of-type {\n",
       "        vertical-align: middle;\n",
       "    }\n",
       "\n",
       "    .dataframe tbody tr th {\n",
       "        vertical-align: top;\n",
       "    }\n",
       "\n",
       "    .dataframe thead th {\n",
       "        text-align: right;\n",
       "    }\n",
       "</style>\n",
       "<table border=\"1\" class=\"dataframe\">\n",
       "  <thead>\n",
       "    <tr style=\"text-align: right;\">\n",
       "      <th></th>\n",
       "      <th>XLB close</th>\n",
       "      <th>XLK close</th>\n",
       "      <th>RWR close</th>\n",
       "      <th>XLB_return</th>\n",
       "      <th>XLK_return</th>\n",
       "      <th>RWR_return</th>\n",
       "    </tr>\n",
       "  </thead>\n",
       "  <tbody>\n",
       "    <tr>\n",
       "      <th>count</th>\n",
       "      <td>4694.000000</td>\n",
       "      <td>4694.000000</td>\n",
       "      <td>4694.000000</td>\n",
       "      <td>4694.000000</td>\n",
       "      <td>4694.000000</td>\n",
       "      <td>4694.000000</td>\n",
       "    </tr>\n",
       "    <tr>\n",
       "      <th>mean</th>\n",
       "      <td>32.450462</td>\n",
       "      <td>30.760537</td>\n",
       "      <td>53.316196</td>\n",
       "      <td>-0.000152</td>\n",
       "      <td>-0.000218</td>\n",
       "      <td>-0.000112</td>\n",
       "    </tr>\n",
       "    <tr>\n",
       "      <th>std</th>\n",
       "      <td>13.540943</td>\n",
       "      <td>20.021458</td>\n",
       "      <td>23.920293</td>\n",
       "      <td>0.015253</td>\n",
       "      <td>0.014740</td>\n",
       "      <td>0.019135</td>\n",
       "    </tr>\n",
       "    <tr>\n",
       "      <th>min</th>\n",
       "      <td>11.161600</td>\n",
       "      <td>8.997400</td>\n",
       "      <td>15.299700</td>\n",
       "      <td>-0.105226</td>\n",
       "      <td>-0.118881</td>\n",
       "      <td>-0.148796</td>\n",
       "    </tr>\n",
       "    <tr>\n",
       "      <th>25%</th>\n",
       "      <td>20.761800</td>\n",
       "      <td>16.708675</td>\n",
       "      <td>33.173525</td>\n",
       "      <td>-0.008086</td>\n",
       "      <td>-0.006873</td>\n",
       "      <td>-0.007386</td>\n",
       "    </tr>\n",
       "    <tr>\n",
       "      <th>50%</th>\n",
       "      <td>30.468350</td>\n",
       "      <td>21.585850</td>\n",
       "      <td>49.574250</td>\n",
       "      <td>-0.000827</td>\n",
       "      <td>-0.000938</td>\n",
       "      <td>-0.000836</td>\n",
       "    </tr>\n",
       "    <tr>\n",
       "      <th>75%</th>\n",
       "      <td>43.472600</td>\n",
       "      <td>39.155900</td>\n",
       "      <td>75.215000</td>\n",
       "      <td>0.006640</td>\n",
       "      <td>0.005708</td>\n",
       "      <td>0.005979</td>\n",
       "    </tr>\n",
       "    <tr>\n",
       "      <th>max</th>\n",
       "      <td>61.111600</td>\n",
       "      <td>102.250500</td>\n",
       "      <td>106.602100</td>\n",
       "      <td>0.142400</td>\n",
       "      <td>0.160282</td>\n",
       "      <td>0.263494</td>\n",
       "    </tr>\n",
       "  </tbody>\n",
       "</table>\n",
       "</div>"
      ],
      "text/plain": [
       "         XLB close    XLK close    RWR close   XLB_return   XLK_return  \\\n",
       "count  4694.000000  4694.000000  4694.000000  4694.000000  4694.000000   \n",
       "mean     32.450462    30.760537    53.316196    -0.000152    -0.000218   \n",
       "std      13.540943    20.021458    23.920293     0.015253     0.014740   \n",
       "min      11.161600     8.997400    15.299700    -0.105226    -0.118881   \n",
       "25%      20.761800    16.708675    33.173525    -0.008086    -0.006873   \n",
       "50%      30.468350    21.585850    49.574250    -0.000827    -0.000938   \n",
       "75%      43.472600    39.155900    75.215000     0.006640     0.005708   \n",
       "max      61.111600   102.250500   106.602100     0.142400     0.160282   \n",
       "\n",
       "        RWR_return  \n",
       "count  4694.000000  \n",
       "mean     -0.000112  \n",
       "std       0.019135  \n",
       "min      -0.148796  \n",
       "25%      -0.007386  \n",
       "50%      -0.000836  \n",
       "75%       0.005979  \n",
       "max       0.263494  "
      ]
     },
     "execution_count": 104,
     "metadata": {},
     "output_type": "execute_result"
    }
   ],
   "source": [
    "#use describe to explore data\n",
    "concat_df.describe()"
   ]
  },
  {
   "cell_type": "code",
   "execution_count": 106,
   "metadata": {},
   "outputs": [
    {
     "data": {
      "text/plain": [
       "<matplotlib.axes._subplots.AxesSubplot at 0x29629737d48>"
      ]
     },
     "execution_count": 106,
     "metadata": {},
     "output_type": "execute_result"
    },
    {
     "data": {
      "image/png": "[encoded data removed]",
      "text/plain": [
       "<Figure size 720x360 with 1 Axes>"
      ]
     },
     "metadata": {
      "needs_background": "light"
     },
     "output_type": "display_data"
    }
   ],
   "source": [
    "#plot daily returns of XLB\n",
    "\n",
    "concat_df['XLB_return'].plot(figsize=(10,5))"
   ]
  },
  {
   "cell_type": "code",
   "execution_count": 108,
   "metadata": {},
   "outputs": [
    {
     "data": {
      "text/plain": [
       "<matplotlib.axes._subplots.AxesSubplot at 0x2962ac54bc8>"
      ]
     },
     "execution_count": 108,
     "metadata": {},
     "output_type": "execute_result"
    },
    {
     "data": {
      "image/png": "[encoded data removed]",
      "text/plain": [
       "<Figure size 720x360 with 1 Axes>"
      ]
     },
     "metadata": {
      "needs_background": "light"
     },
     "output_type": "display_data"
    }
   ],
   "source": [
    "#plot daily returns of XLK\n",
    "\n",
    "concat_df['XLK_return'].plot(figsize=(10,5))"
   ]
  },
  {
   "cell_type": "code",
   "execution_count": 109,
   "metadata": {},
   "outputs": [
    {
     "data": {
      "text/plain": [
       "<matplotlib.axes._subplots.AxesSubplot at 0x2962abea2c8>"
      ]
     },
     "execution_count": 109,
     "metadata": {},
     "output_type": "execute_result"
    },
    {
     "data": {
      "image/png": "[encoded data removed]",
      "text/plain": [
       "<Figure size 720x360 with 1 Axes>"
      ]
     },
     "metadata": {
      "needs_background": "light"
     },
     "output_type": "display_data"
    }
   ],
   "source": [
    "#plot daily returns of RWR\n",
    "\n",
    "concat_df['RWR_return'].plot(figsize=(10,5))"
   ]
  },
  {
   "cell_type": "code",
   "execution_count": 110,
   "metadata": {},
   "outputs": [
    {
     "data": {
      "text/plain": [
       "date\n",
       "2020-04-27         NaN\n",
       "2020-04-24    0.974018\n",
       "2020-04-23    0.958976\n",
       "2020-04-22    0.952334\n",
       "2020-04-21    0.933971\n",
       "Name: 5. adjusted close, dtype: float64"
      ]
     },
     "execution_count": 110,
     "metadata": {},
     "output_type": "execute_result"
    }
   ],
   "source": [
    "# Calculate the cumulative returns using the 'cumprod()' function\n",
    "cumulative_returns_xlb = (1 + daily_returns_xlb).cumprod()\n",
    "cumulative_returns_xlk = (1 + daily_returns_xlk).cumprod()\n",
    "cumulative_returns_rwr = (1 + daily_returns_rwr).cumprod()\n",
    "\n",
    "cumulative_returns_xlb.head()"
   ]
  },
  {
   "cell_type": "code",
   "execution_count": 116,
   "metadata": {},
   "outputs": [
    {
     "data": {
      "text/plain": [
       "<matplotlib.axes._subplots.AxesSubplot at 0x296285f71c8>"
      ]
     },
     "execution_count": 116,
     "metadata": {},
     "output_type": "execute_result"
    },
    {
     "data": {
      "image/png": "[encoded data removed]",
      "text/plain": [
       "<Figure size 720x360 with 1 Axes>"
      ]
     },
     "metadata": {
      "needs_background": "light"
     },
     "output_type": "display_data"
    }
   ],
   "source": [
    "#plot cumulative returns\n",
    "\n",
    "cumulative_returns_xlb.plot(figsize=(10,5))\n",
    "cumulative_returns_xlk.plot(figsize=(10,5))\n",
    "cumulative_returns_rwr.plot(figsize=(10,5))"
   ]
  },
  {
   "cell_type": "code",
   "execution_count": null,
   "metadata": {},
   "outputs": [],
   "source": [
    "#need to check on dividend"
   ]
  }
 ],
 "metadata": {
  "kernelspec": {
   "display_name": "Python 3",
   "language": "python",
   "name": "python3"
  },
  "language_info": {
   "codemirror_mode": {
    "name": "ipython",
    "version": 3
   },
   "file_extension": ".py",
   "mimetype": "text/x-python",
   "name": "python",
   "nbconvert_exporter": "python",
   "pygments_lexer": "ipython3",
   "version": "3.7.6"
  }
 },
 "nbformat": 4,
 "nbformat_minor": 4
}
