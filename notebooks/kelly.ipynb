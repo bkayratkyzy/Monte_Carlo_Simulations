{
 "cells": [
  {
   "cell_type": "code",
   "execution_count": 15,
   "metadata": {},
   "outputs": [],
   "source": [
    "#     API Alpaca\n",
    "#     Data cleanup\n",
    "#     Consumer Discretionary Monte Carlo = XLY\n",
    "#     Consumer Staples Monte Carlo = XLP\n",
    "#     SP500 GROWTH Monte Carlo = SGX\n"
   ]
  },
  {
   "cell_type": "code",
   "execution_count": 16,
   "metadata": {},
   "outputs": [],
   "source": [
    "#Import libraries\n",
    "import numpy as np\n",
    "import pandas as pd\n",
    "from datetime import datetime, timedelta\n",
    "import matplotlib.pyplot as plt\n",
    "import json\n",
    "from pathlib import Path\n",
    "import alpaca_trade_api as tradeapi\n",
    "import requests\n",
    "import os \n",
    "\n",
    "\n",
    "%matplotlib inline\n"
   ]
  },
  {
   "cell_type": "code",
   "execution_count": 17,
   "metadata": {},
   "outputs": [
    {
     "data": {
      "text/plain": [
       "str"
      ]
     },
     "execution_count": 17,
     "metadata": {},
     "output_type": "execute_result"
    }
   ],
   "source": [
    "# Load .env enviroment variables\n",
    "from dotenv import load_dotenv\n",
    "load_dotenv()\n",
    "\n",
    "# Set Alpaca API key and secret\n",
    "APCA_API_KEY_ID = os.getenv(\"APCA_API_KEY\")\n",
    "APCA_SECRET_KEY = os.getenv(\"APCA_SECRET_KEY\")\n",
    "\n",
    "api = tradeapi.REST(APCA_API_KEY_ID, APCA_SECRET_KEY, api_version='v2')\n",
    "type(APCA_API_KEY_ID)\n"
   ]
  },
  {
   "cell_type": "code",
   "execution_count": 18,
   "metadata": {},
   "outputs": [],
   "source": [
    "#Use alpha vantage to get historic quotes for XLY,XLP,SGX. This goes back 20 years.\n",
    "\n",
    "xly_df = api.alpha_vantage.historic_quotes('XLY', adjusted=True, output_format='pandas')\n",
    "xly_df.head()\n",
    "\n",
    "xlp_df = api.alpha_vantage.historic_quotes('XLP', adjusted=True, output_format='pandas')\n",
    "#xlp_df.tail()\n",
    "\n",
    "sgx_df = api.alpha_vantage.historic_quotes('SGX', adjusted=True, output_format='pandas')\n",
    "#sgx_df.head()\n"
   ]
  },
  {
   "cell_type": "code",
   "execution_count": 19,
   "metadata": {},
   "outputs": [
    {
     "data": {
      "text/html": [
       "<div>\n",
       "<style scoped>\n",
       "    .dataframe tbody tr th:only-of-type {\n",
       "        vertical-align: middle;\n",
       "    }\n",
       "\n",
       "    .dataframe tbody tr th {\n",
       "        vertical-align: top;\n",
       "    }\n",
       "\n",
       "    .dataframe thead th {\n",
       "        text-align: right;\n",
       "    }\n",
       "</style>\n",
       "<table border=\"1\" class=\"dataframe\">\n",
       "  <thead>\n",
       "    <tr style=\"text-align: right;\">\n",
       "      <th></th>\n",
       "      <th>1. open</th>\n",
       "      <th>2. high</th>\n",
       "      <th>3. low</th>\n",
       "      <th>4. close</th>\n",
       "      <th>5. adjusted close</th>\n",
       "      <th>6. volume</th>\n",
       "      <th>7. dividend amount</th>\n",
       "      <th>8. split coefficient</th>\n",
       "    </tr>\n",
       "    <tr>\n",
       "      <th>date</th>\n",
       "      <th></th>\n",
       "      <th></th>\n",
       "      <th></th>\n",
       "      <th></th>\n",
       "      <th></th>\n",
       "      <th></th>\n",
       "      <th></th>\n",
       "      <th></th>\n",
       "    </tr>\n",
       "  </thead>\n",
       "  <tbody>\n",
       "    <tr>\n",
       "      <th>2020-04-29</th>\n",
       "      <td>117.03</td>\n",
       "      <td>118.21</td>\n",
       "      <td>116.380</td>\n",
       "      <td>117.33</td>\n",
       "      <td>117.33</td>\n",
       "      <td>4998795.0</td>\n",
       "      <td>0.0</td>\n",
       "      <td>1.0</td>\n",
       "    </tr>\n",
       "    <tr>\n",
       "      <th>2020-04-28</th>\n",
       "      <td>116.49</td>\n",
       "      <td>116.90</td>\n",
       "      <td>114.220</td>\n",
       "      <td>114.80</td>\n",
       "      <td>114.80</td>\n",
       "      <td>4729438.0</td>\n",
       "      <td>0.0</td>\n",
       "      <td>1.0</td>\n",
       "    </tr>\n",
       "    <tr>\n",
       "      <th>2020-04-27</th>\n",
       "      <td>113.40</td>\n",
       "      <td>115.09</td>\n",
       "      <td>113.290</td>\n",
       "      <td>114.35</td>\n",
       "      <td>114.35</td>\n",
       "      <td>4118447.0</td>\n",
       "      <td>0.0</td>\n",
       "      <td>1.0</td>\n",
       "    </tr>\n",
       "    <tr>\n",
       "      <th>2020-04-24</th>\n",
       "      <td>111.52</td>\n",
       "      <td>112.75</td>\n",
       "      <td>110.495</td>\n",
       "      <td>112.25</td>\n",
       "      <td>112.25</td>\n",
       "      <td>2914498.0</td>\n",
       "      <td>0.0</td>\n",
       "      <td>1.0</td>\n",
       "    </tr>\n",
       "    <tr>\n",
       "      <th>2020-04-23</th>\n",
       "      <td>110.96</td>\n",
       "      <td>112.02</td>\n",
       "      <td>109.980</td>\n",
       "      <td>110.38</td>\n",
       "      <td>110.38</td>\n",
       "      <td>4129555.0</td>\n",
       "      <td>0.0</td>\n",
       "      <td>1.0</td>\n",
       "    </tr>\n",
       "  </tbody>\n",
       "</table>\n",
       "</div>"
      ],
      "text/plain": [
       "            1. open  2. high   3. low  4. close  5. adjusted close  6. volume  \\\n",
       "date                                                                            \n",
       "2020-04-29   117.03   118.21  116.380    117.33             117.33  4998795.0   \n",
       "2020-04-28   116.49   116.90  114.220    114.80             114.80  4729438.0   \n",
       "2020-04-27   113.40   115.09  113.290    114.35             114.35  4118447.0   \n",
       "2020-04-24   111.52   112.75  110.495    112.25             112.25  2914498.0   \n",
       "2020-04-23   110.96   112.02  109.980    110.38             110.38  4129555.0   \n",
       "\n",
       "            7. dividend amount  8. split coefficient  \n",
       "date                                                  \n",
       "2020-04-29                 0.0                   1.0  \n",
       "2020-04-28                 0.0                   1.0  \n",
       "2020-04-27                 0.0                   1.0  \n",
       "2020-04-24                 0.0                   1.0  \n",
       "2020-04-23                 0.0                   1.0  "
      ]
     },
     "execution_count": 19,
     "metadata": {},
     "output_type": "execute_result"
    }
   ],
   "source": [
    "xly_df.head()\n"
   ]
  },
  {
   "cell_type": "code",
   "execution_count": 20,
   "metadata": {},
   "outputs": [
    {
     "data": {
      "text/html": [
       "<div>\n",
       "<style scoped>\n",
       "    .dataframe tbody tr th:only-of-type {\n",
       "        vertical-align: middle;\n",
       "    }\n",
       "\n",
       "    .dataframe tbody tr th {\n",
       "        vertical-align: top;\n",
       "    }\n",
       "\n",
       "    .dataframe thead th {\n",
       "        text-align: right;\n",
       "    }\n",
       "</style>\n",
       "<table border=\"1\" class=\"dataframe\">\n",
       "  <thead>\n",
       "    <tr style=\"text-align: right;\">\n",
       "      <th></th>\n",
       "      <th>5. adjusted close</th>\n",
       "      <th>5. adjusted close</th>\n",
       "      <th>5. adjusted close</th>\n",
       "    </tr>\n",
       "    <tr>\n",
       "      <th>date</th>\n",
       "      <th></th>\n",
       "      <th></th>\n",
       "      <th></th>\n",
       "    </tr>\n",
       "  </thead>\n",
       "  <tbody>\n",
       "    <tr>\n",
       "      <th>2020-04-28</th>\n",
       "      <td>114.80</td>\n",
       "      <td>59.21</td>\n",
       "      <td>1846.23</td>\n",
       "    </tr>\n",
       "    <tr>\n",
       "      <th>2020-04-27</th>\n",
       "      <td>114.35</td>\n",
       "      <td>58.88</td>\n",
       "      <td>1868.83</td>\n",
       "    </tr>\n",
       "    <tr>\n",
       "      <th>2020-04-24</th>\n",
       "      <td>112.25</td>\n",
       "      <td>58.71</td>\n",
       "      <td>1850.60</td>\n",
       "    </tr>\n",
       "    <tr>\n",
       "      <th>2020-04-23</th>\n",
       "      <td>110.38</td>\n",
       "      <td>58.09</td>\n",
       "      <td>1823.75</td>\n",
       "    </tr>\n",
       "    <tr>\n",
       "      <th>2020-04-22</th>\n",
       "      <td>110.41</td>\n",
       "      <td>58.61</td>\n",
       "      <td>1826.15</td>\n",
       "    </tr>\n",
       "  </tbody>\n",
       "</table>\n",
       "</div>"
      ],
      "text/plain": [
       "            5. adjusted close  5. adjusted close  5. adjusted close\n",
       "date                                                               \n",
       "2020-04-28             114.80              59.21            1846.23\n",
       "2020-04-27             114.35              58.88            1868.83\n",
       "2020-04-24             112.25              58.71            1850.60\n",
       "2020-04-23             110.38              58.09            1823.75\n",
       "2020-04-22             110.41              58.61            1826.15"
      ]
     },
     "execution_count": 20,
     "metadata": {},
     "output_type": "execute_result"
    }
   ],
   "source": [
    "#DATA CLEANUP\n",
    "\n",
    "#Select the one column we need,  \"adjusted close\", and drop the others\n",
    "\n",
    "xly_df = xly_df['5. adjusted close']\n",
    "xly_df.head()\n",
    "\n",
    "xlp_df = xlp_df['5. adjusted close']\n",
    "xlp_df.head()\n",
    "\n",
    "sgx_df = sgx_df['5. adjusted close']\n",
    "sgx_df.head()\n",
    "\n",
    "#Use concat to put the data in one dataframe\n",
    "concat_df = pd.concat([xly_df, xlp_df, sgx_df], axis = \"columns\", join = \"inner\")\n",
    "concat_df.head()\n",
    "    "
   ]
  },
  {
   "cell_type": "code",
   "execution_count": 21,
   "metadata": {},
   "outputs": [
    {
     "name": "stdout",
     "output_type": "stream",
     "text": [
      "Index(['5. adjusted close', '5. adjusted close', '5. adjusted close'], dtype='object')\n"
     ]
    }
   ],
   "source": [
    "#print column names\n",
    "print(concat_df.columns)\n"
   ]
  },
  {
   "cell_type": "code",
   "execution_count": 22,
   "metadata": {},
   "outputs": [
    {
     "data": {
      "text/html": [
       "<div>\n",
       "<style scoped>\n",
       "    .dataframe tbody tr th:only-of-type {\n",
       "        vertical-align: middle;\n",
       "    }\n",
       "\n",
       "    .dataframe tbody tr th {\n",
       "        vertical-align: top;\n",
       "    }\n",
       "\n",
       "    .dataframe thead th {\n",
       "        text-align: right;\n",
       "    }\n",
       "</style>\n",
       "<table border=\"1\" class=\"dataframe\">\n",
       "  <thead>\n",
       "    <tr style=\"text-align: right;\">\n",
       "      <th></th>\n",
       "      <th>XLY close</th>\n",
       "      <th>XLP close</th>\n",
       "      <th>SGX close</th>\n",
       "    </tr>\n",
       "    <tr>\n",
       "      <th>date</th>\n",
       "      <th></th>\n",
       "      <th></th>\n",
       "      <th></th>\n",
       "    </tr>\n",
       "  </thead>\n",
       "  <tbody>\n",
       "    <tr>\n",
       "      <th>2020-04-28</th>\n",
       "      <td>114.80</td>\n",
       "      <td>59.21</td>\n",
       "      <td>1846.23</td>\n",
       "    </tr>\n",
       "    <tr>\n",
       "      <th>2020-04-27</th>\n",
       "      <td>114.35</td>\n",
       "      <td>58.88</td>\n",
       "      <td>1868.83</td>\n",
       "    </tr>\n",
       "    <tr>\n",
       "      <th>2020-04-24</th>\n",
       "      <td>112.25</td>\n",
       "      <td>58.71</td>\n",
       "      <td>1850.60</td>\n",
       "    </tr>\n",
       "    <tr>\n",
       "      <th>2020-04-23</th>\n",
       "      <td>110.38</td>\n",
       "      <td>58.09</td>\n",
       "      <td>1823.75</td>\n",
       "    </tr>\n",
       "    <tr>\n",
       "      <th>2020-04-22</th>\n",
       "      <td>110.41</td>\n",
       "      <td>58.61</td>\n",
       "      <td>1826.15</td>\n",
       "    </tr>\n",
       "  </tbody>\n",
       "</table>\n",
       "</div>"
      ],
      "text/plain": [
       "            XLY close  XLP close  SGX close\n",
       "date                                       \n",
       "2020-04-28     114.80      59.21    1846.23\n",
       "2020-04-27     114.35      58.88    1868.83\n",
       "2020-04-24     112.25      58.71    1850.60\n",
       "2020-04-23     110.38      58.09    1823.75\n",
       "2020-04-22     110.41      58.61    1826.15"
      ]
     },
     "execution_count": 22,
     "metadata": {},
     "output_type": "execute_result"
    }
   ],
   "source": [
    "#Change column names to avoid confusion\n",
    "columns = ['XLY close', 'XLP close', 'SGX close']\n",
    "concat_df.columns = columns\n",
    "concat_df.head()\n"
   ]
  },
  {
   "cell_type": "code",
   "execution_count": 23,
   "metadata": {},
   "outputs": [
    {
     "data": {
      "text/html": [
       "<div>\n",
       "<style scoped>\n",
       "    .dataframe tbody tr th:only-of-type {\n",
       "        vertical-align: middle;\n",
       "    }\n",
       "\n",
       "    .dataframe tbody tr th {\n",
       "        vertical-align: top;\n",
       "    }\n",
       "\n",
       "    .dataframe thead th {\n",
       "        text-align: right;\n",
       "    }\n",
       "</style>\n",
       "<table border=\"1\" class=\"dataframe\">\n",
       "  <thead>\n",
       "    <tr style=\"text-align: right;\">\n",
       "      <th></th>\n",
       "      <th>XLY close</th>\n",
       "      <th>XLP close</th>\n",
       "      <th>SGX close</th>\n",
       "      <th>XLY_return</th>\n",
       "      <th>XLP_return</th>\n",
       "      <th>SGX_return</th>\n",
       "    </tr>\n",
       "    <tr>\n",
       "      <th>date</th>\n",
       "      <th></th>\n",
       "      <th></th>\n",
       "      <th></th>\n",
       "      <th></th>\n",
       "      <th></th>\n",
       "      <th></th>\n",
       "    </tr>\n",
       "  </thead>\n",
       "  <tbody>\n",
       "    <tr>\n",
       "      <th>2020-04-28</th>\n",
       "      <td>114.80</td>\n",
       "      <td>59.21</td>\n",
       "      <td>1846.23</td>\n",
       "      <td>-0.021563</td>\n",
       "      <td>0.004240</td>\n",
       "      <td>NaN</td>\n",
       "    </tr>\n",
       "    <tr>\n",
       "      <th>2020-04-27</th>\n",
       "      <td>114.35</td>\n",
       "      <td>58.88</td>\n",
       "      <td>1868.83</td>\n",
       "      <td>-0.003920</td>\n",
       "      <td>-0.005573</td>\n",
       "      <td>0.012241</td>\n",
       "    </tr>\n",
       "    <tr>\n",
       "      <th>2020-04-24</th>\n",
       "      <td>112.25</td>\n",
       "      <td>58.71</td>\n",
       "      <td>1850.60</td>\n",
       "      <td>-0.018365</td>\n",
       "      <td>-0.002887</td>\n",
       "      <td>-0.009755</td>\n",
       "    </tr>\n",
       "    <tr>\n",
       "      <th>2020-04-23</th>\n",
       "      <td>110.38</td>\n",
       "      <td>58.09</td>\n",
       "      <td>1823.75</td>\n",
       "      <td>-0.016659</td>\n",
       "      <td>-0.010560</td>\n",
       "      <td>-0.014509</td>\n",
       "    </tr>\n",
       "    <tr>\n",
       "      <th>2020-04-22</th>\n",
       "      <td>110.41</td>\n",
       "      <td>58.61</td>\n",
       "      <td>1826.15</td>\n",
       "      <td>0.000272</td>\n",
       "      <td>0.008952</td>\n",
       "      <td>0.001316</td>\n",
       "    </tr>\n",
       "  </tbody>\n",
       "</table>\n",
       "</div>"
      ],
      "text/plain": [
       "            XLY close  XLP close  SGX close  XLY_return  XLP_return  \\\n",
       "date                                                                  \n",
       "2020-04-28     114.80      59.21    1846.23   -0.021563    0.004240   \n",
       "2020-04-27     114.35      58.88    1868.83   -0.003920   -0.005573   \n",
       "2020-04-24     112.25      58.71    1850.60   -0.018365   -0.002887   \n",
       "2020-04-23     110.38      58.09    1823.75   -0.016659   -0.010560   \n",
       "2020-04-22     110.41      58.61    1826.15    0.000272    0.008952   \n",
       "\n",
       "            SGX_return  \n",
       "date                    \n",
       "2020-04-28         NaN  \n",
       "2020-04-27    0.012241  \n",
       "2020-04-24   -0.009755  \n",
       "2020-04-23   -0.014509  \n",
       "2020-04-22    0.001316  "
      ]
     },
     "execution_count": 23,
     "metadata": {},
     "output_type": "execute_result"
    }
   ],
   "source": [
    "#add another column to get daily returns of XLY\n",
    "daily_returns_xly = xly_df.pct_change()\n",
    "concat_df['XLY_return']= daily_returns_xly \n",
    "\n",
    "#add another column to get daily returns of XLP\n",
    "daily_returns_xlp = xlp_df.pct_change()\n",
    "concat_df['XLP_return']= daily_returns_xlp \n",
    "\n",
    "#add another column to get daily returns of SGX\n",
    "daily_returns_sgx = sgx_df.pct_change()\n",
    "concat_df['SGX_return']= daily_returns_sgx \n",
    "\n",
    "concat_df.head()"
   ]
  },
  {
   "cell_type": "code",
   "execution_count": 24,
   "metadata": {},
   "outputs": [
    {
     "data": {
      "text/plain": [
       "XLY close     0\n",
       "XLP close     0\n",
       "SGX close     0\n",
       "XLY_return    0\n",
       "XLP_return    0\n",
       "SGX_return    1\n",
       "dtype: int64"
      ]
     },
     "execution_count": 24,
     "metadata": {},
     "output_type": "execute_result"
    }
   ],
   "source": [
    "#check for nulls\n",
    "\n",
    "concat_df.isnull().sum()"
   ]
  },
  {
   "cell_type": "code",
   "execution_count": 25,
   "metadata": {},
   "outputs": [
    {
     "data": {
      "text/plain": [
       "XLY close     0\n",
       "XLP close     0\n",
       "SGX close     0\n",
       "XLY_return    0\n",
       "XLP_return    0\n",
       "SGX_return    0\n",
       "dtype: int64"
      ]
     },
     "execution_count": 25,
     "metadata": {},
     "output_type": "execute_result"
    }
   ],
   "source": [
    "# Drop nulls\n",
    "concat_df.dropna(inplace=True)\n",
    "\n",
    "#count nulls again\n",
    "concat_df.isnull().sum()"
   ]
  },
  {
   "cell_type": "code",
   "execution_count": 26,
   "metadata": {},
   "outputs": [
    {
     "data": {
      "text/plain": [
       "date\n",
       "2020-04-27    False\n",
       "2020-04-24    False\n",
       "2020-04-23    False\n",
       "2020-04-22    False\n",
       "2020-04-21    False\n",
       "              ...  \n",
       "2000-05-05    False\n",
       "2000-05-04    False\n",
       "2000-05-03    False\n",
       "2000-05-02    False\n",
       "2000-05-01    False\n",
       "Length: 5029, dtype: bool"
      ]
     },
     "execution_count": 26,
     "metadata": {},
     "output_type": "execute_result"
    }
   ],
   "source": [
    "# Checking for duplicate rows\n",
    "concat_df.duplicated()"
   ]
  },
  {
   "cell_type": "code",
   "execution_count": 27,
   "metadata": {},
   "outputs": [],
   "source": [
    "# drop duplicates\n",
    "concat_df.drop_duplicates(inplace=True)"
   ]
  },
  {
   "cell_type": "code",
   "execution_count": 28,
   "metadata": {},
   "outputs": [],
   "source": [
    "concat_df.sort_index(inplace=True, ascending=True)"
   ]
  },
  {
   "cell_type": "code",
   "execution_count": 29,
   "metadata": {},
   "outputs": [
    {
     "data": {
      "text/html": [
       "<div>\n",
       "<style scoped>\n",
       "    .dataframe tbody tr th:only-of-type {\n",
       "        vertical-align: middle;\n",
       "    }\n",
       "\n",
       "    .dataframe tbody tr th {\n",
       "        vertical-align: top;\n",
       "    }\n",
       "\n",
       "    .dataframe thead th {\n",
       "        text-align: right;\n",
       "    }\n",
       "</style>\n",
       "<table border=\"1\" class=\"dataframe\">\n",
       "  <thead>\n",
       "    <tr style=\"text-align: right;\">\n",
       "      <th></th>\n",
       "      <th>XLY close</th>\n",
       "      <th>XLP close</th>\n",
       "      <th>SGX close</th>\n",
       "      <th>XLY_return</th>\n",
       "      <th>XLP_return</th>\n",
       "      <th>SGX_return</th>\n",
       "    </tr>\n",
       "    <tr>\n",
       "      <th>date</th>\n",
       "      <th></th>\n",
       "      <th></th>\n",
       "      <th></th>\n",
       "      <th></th>\n",
       "      <th></th>\n",
       "      <th></th>\n",
       "    </tr>\n",
       "  </thead>\n",
       "  <tbody>\n",
       "    <tr>\n",
       "      <th>2000-05-01</th>\n",
       "      <td>22.9368</td>\n",
       "      <td>14.2400</td>\n",
       "      <td>885.57</td>\n",
       "      <td>0.006817</td>\n",
       "      <td>-0.002647</td>\n",
       "      <td>0.018564</td>\n",
       "    </tr>\n",
       "    <tr>\n",
       "      <th>2000-05-02</th>\n",
       "      <td>22.7815</td>\n",
       "      <td>14.2778</td>\n",
       "      <td>869.43</td>\n",
       "      <td>0.049752</td>\n",
       "      <td>0.000000</td>\n",
       "      <td>0.021129</td>\n",
       "    </tr>\n",
       "    <tr>\n",
       "      <th>2000-05-03</th>\n",
       "      <td>21.7018</td>\n",
       "      <td>14.2778</td>\n",
       "      <td>851.44</td>\n",
       "      <td>0.016740</td>\n",
       "      <td>0.000000</td>\n",
       "      <td>0.006073</td>\n",
       "    </tr>\n",
       "    <tr>\n",
       "      <th>2000-05-04</th>\n",
       "      <td>21.3445</td>\n",
       "      <td>14.2778</td>\n",
       "      <td>846.30</td>\n",
       "      <td>-0.012578</td>\n",
       "      <td>-0.022825</td>\n",
       "      <td>-0.022884</td>\n",
       "    </tr>\n",
       "    <tr>\n",
       "      <th>2000-05-05</th>\n",
       "      <td>21.6164</td>\n",
       "      <td>14.6113</td>\n",
       "      <td>866.12</td>\n",
       "      <td>0.002886</td>\n",
       "      <td>-0.020250</td>\n",
       "      <td>0.016967</td>\n",
       "    </tr>\n",
       "  </tbody>\n",
       "</table>\n",
       "</div>"
      ],
      "text/plain": [
       "            XLY close  XLP close  SGX close  XLY_return  XLP_return  \\\n",
       "date                                                                  \n",
       "2000-05-01    22.9368    14.2400     885.57    0.006817   -0.002647   \n",
       "2000-05-02    22.7815    14.2778     869.43    0.049752    0.000000   \n",
       "2000-05-03    21.7018    14.2778     851.44    0.016740    0.000000   \n",
       "2000-05-04    21.3445    14.2778     846.30   -0.012578   -0.022825   \n",
       "2000-05-05    21.6164    14.6113     866.12    0.002886   -0.020250   \n",
       "\n",
       "            SGX_return  \n",
       "date                    \n",
       "2000-05-01    0.018564  \n",
       "2000-05-02    0.021129  \n",
       "2000-05-03    0.006073  \n",
       "2000-05-04   -0.022884  \n",
       "2000-05-05    0.016967  "
      ]
     },
     "execution_count": 29,
     "metadata": {},
     "output_type": "execute_result"
    }
   ],
   "source": [
    "concat_df.head()"
   ]
  },
  {
   "cell_type": "code",
   "execution_count": 40,
   "metadata": {},
   "outputs": [
    {
     "data": {
      "text/plain": [
       "0.012617444243397937"
      ]
     },
     "execution_count": 40,
     "metadata": {},
     "output_type": "execute_result"
    }
   ],
   "source": [
    "#calculate value of standard deviation of daily returns\n",
    "#use the std function to calculate the standard deviation of daily returns for XLY, XLP, & SGX\n",
    "\n",
    "std_xly_daily_returns = concat_df.std()['XLY_return']\n",
    "std_xly_daily_returns\n",
    "\n",
    "std_xlp_daily_returns = concat_df.std()['XLP_return']\n",
    "std_xlp_daily_returns\n",
    "\n",
    "std_sgx_daily_returns = concat_df.std()['SGX_return']\n",
    "std_sgx_daily_returns"
   ]
  },
  {
   "cell_type": "code",
   "execution_count": null,
   "metadata": {},
   "outputs": [],
   "source": [
    "#calculate average of daily returns\n",
    "std_xly_daily_returns = concat_df.mean()['XLY_return']\n",
    "std_xly_daily_returns\n",
    "\n",
    "std_xlp_daily_returns = concat_df.mean()['XLP_return']\n",
    "std_xlp_daily_returns\n",
    "\n",
    "std_sgx_daily_returns = concat_df.mean()['SGX_return']\n",
    "std_sgx_daily_returns"
   ]
  },
  {
   "cell_type": "code",
   "execution_count": 30,
   "metadata": {},
   "outputs": [
    {
     "data": {
      "text/plain": [
       "XLY close     float64\n",
       "XLP close     float64\n",
       "SGX close     float64\n",
       "XLY_return    float64\n",
       "XLP_return    float64\n",
       "SGX_return    float64\n",
       "dtype: object"
      ]
     },
     "execution_count": 30,
     "metadata": {},
     "output_type": "execute_result"
    }
   ],
   "source": [
    "#Check datatypes\n",
    "\n",
    "concat_df.dtypes"
   ]
  },
  {
   "cell_type": "code",
   "execution_count": 31,
   "metadata": {},
   "outputs": [
    {
     "data": {
      "text/plain": [
       "XLY close     5029\n",
       "XLP close     5029\n",
       "SGX close     5029\n",
       "XLY_return    5029\n",
       "XLP_return    5029\n",
       "SGX_return    5029\n",
       "dtype: int64"
      ]
     },
     "execution_count": 31,
     "metadata": {},
     "output_type": "execute_result"
    }
   ],
   "source": [
    "#check counts\n",
    "concat_df.count()"
   ]
  },
  {
   "cell_type": "code",
   "execution_count": 32,
   "metadata": {},
   "outputs": [
    {
     "data": {
      "text/html": [
       "<div>\n",
       "<style scoped>\n",
       "    .dataframe tbody tr th:only-of-type {\n",
       "        vertical-align: middle;\n",
       "    }\n",
       "\n",
       "    .dataframe tbody tr th {\n",
       "        vertical-align: top;\n",
       "    }\n",
       "\n",
       "    .dataframe thead th {\n",
       "        text-align: right;\n",
       "    }\n",
       "</style>\n",
       "<table border=\"1\" class=\"dataframe\">\n",
       "  <thead>\n",
       "    <tr style=\"text-align: right;\">\n",
       "      <th></th>\n",
       "      <th>XLY close</th>\n",
       "      <th>XLP close</th>\n",
       "      <th>SGX close</th>\n",
       "      <th>XLY_return</th>\n",
       "      <th>XLP_return</th>\n",
       "      <th>SGX_return</th>\n",
       "    </tr>\n",
       "  </thead>\n",
       "  <tbody>\n",
       "    <tr>\n",
       "      <th>count</th>\n",
       "      <td>5029.000000</td>\n",
       "      <td>5029.000000</td>\n",
       "      <td>5029.000000</td>\n",
       "      <td>5029.000000</td>\n",
       "      <td>5029.000000</td>\n",
       "      <td>5029.000000</td>\n",
       "    </tr>\n",
       "    <tr>\n",
       "      <th>mean</th>\n",
       "      <td>46.860639</td>\n",
       "      <td>28.637602</td>\n",
       "      <td>867.367193</td>\n",
       "      <td>-0.000221</td>\n",
       "      <td>-0.000238</td>\n",
       "      <td>-0.000067</td>\n",
       "    </tr>\n",
       "    <tr>\n",
       "      <th>std</th>\n",
       "      <td>30.557874</td>\n",
       "      <td>14.745611</td>\n",
       "      <td>403.188571</td>\n",
       "      <td>0.014147</td>\n",
       "      <td>0.009538</td>\n",
       "      <td>0.012617</td>\n",
       "    </tr>\n",
       "    <tr>\n",
       "      <th>min</th>\n",
       "      <td>13.621800</td>\n",
       "      <td>11.666100</td>\n",
       "      <td>363.990000</td>\n",
       "      <td>-0.104402</td>\n",
       "      <td>-0.083707</td>\n",
       "      <td>-0.113694</td>\n",
       "    </tr>\n",
       "    <tr>\n",
       "      <th>25%</th>\n",
       "      <td>24.377900</td>\n",
       "      <td>16.229300</td>\n",
       "      <td>575.750000</td>\n",
       "      <td>-0.007072</td>\n",
       "      <td>-0.005115</td>\n",
       "      <td>-0.005796</td>\n",
       "    </tr>\n",
       "    <tr>\n",
       "      <th>50%</th>\n",
       "      <td>31.289600</td>\n",
       "      <td>20.780600</td>\n",
       "      <td>684.000000</td>\n",
       "      <td>-0.000800</td>\n",
       "      <td>-0.000444</td>\n",
       "      <td>-0.000615</td>\n",
       "    </tr>\n",
       "    <tr>\n",
       "      <th>75%</th>\n",
       "      <td>69.780000</td>\n",
       "      <td>42.664600</td>\n",
       "      <td>1126.220000</td>\n",
       "      <td>0.005794</td>\n",
       "      <td>0.004199</td>\n",
       "      <td>0.004855</td>\n",
       "    </tr>\n",
       "    <tr>\n",
       "      <th>max</th>\n",
       "      <td>131.682600</td>\n",
       "      <td>64.409400</td>\n",
       "      <td>2120.379900</td>\n",
       "      <td>0.145063</td>\n",
       "      <td>0.103699</td>\n",
       "      <td>0.139774</td>\n",
       "    </tr>\n",
       "  </tbody>\n",
       "</table>\n",
       "</div>"
      ],
      "text/plain": [
       "         XLY close    XLP close    SGX close   XLY_return   XLP_return  \\\n",
       "count  5029.000000  5029.000000  5029.000000  5029.000000  5029.000000   \n",
       "mean     46.860639    28.637602   867.367193    -0.000221    -0.000238   \n",
       "std      30.557874    14.745611   403.188571     0.014147     0.009538   \n",
       "min      13.621800    11.666100   363.990000    -0.104402    -0.083707   \n",
       "25%      24.377900    16.229300   575.750000    -0.007072    -0.005115   \n",
       "50%      31.289600    20.780600   684.000000    -0.000800    -0.000444   \n",
       "75%      69.780000    42.664600  1126.220000     0.005794     0.004199   \n",
       "max     131.682600    64.409400  2120.379900     0.145063     0.103699   \n",
       "\n",
       "        SGX_return  \n",
       "count  5029.000000  \n",
       "mean     -0.000067  \n",
       "std       0.012617  \n",
       "min      -0.113694  \n",
       "25%      -0.005796  \n",
       "50%      -0.000615  \n",
       "75%       0.004855  \n",
       "max       0.139774  "
      ]
     },
     "execution_count": 32,
     "metadata": {},
     "output_type": "execute_result"
    }
   ],
   "source": [
    "#use describe to explore data\n",
    "concat_df.describe()"
   ]
  },
  {
   "cell_type": "code",
   "execution_count": 33,
   "metadata": {},
   "outputs": [
    {
     "data": {
      "text/plain": [
       "<matplotlib.axes._subplots.AxesSubplot at 0x11abb0d50>"
      ]
     },
     "execution_count": 33,
     "metadata": {},
     "output_type": "execute_result"
    },
    {
     "data": {
      "image/png": "[encoded data removed]",
      "text/plain": [
       "<Figure size 720x360 with 1 Axes>"
      ]
     },
     "metadata": {
      "needs_background": "light"
     },
     "output_type": "display_data"
    }
   ],
   "source": [
    "#plot daily returns of XLY\n",
    "\n",
    "concat_df['XLY_return'].plot(figsize=(10,5))"
   ]
  },
  {
   "cell_type": "code",
   "execution_count": 34,
   "metadata": {},
   "outputs": [
    {
     "data": {
      "text/plain": [
       "<matplotlib.axes._subplots.AxesSubplot at 0x11b0fd990>"
      ]
     },
     "execution_count": 34,
     "metadata": {},
     "output_type": "execute_result"
    },
    {
     "data": {
      "image/png": "[encoded data removed]",
      "text/plain": [
       "<Figure size 720x360 with 1 Axes>"
      ]
     },
     "metadata": {
      "needs_background": "light"
     },
     "output_type": "display_data"
    }
   ],
   "source": [
    "#plot daily returns of XLP\n",
    "\n",
    "concat_df['XLP_return'].plot(figsize=(10,5))"
   ]
  },
  {
   "cell_type": "code",
   "execution_count": 35,
   "metadata": {},
   "outputs": [
    {
     "data": {
      "text/plain": [
       "<matplotlib.axes._subplots.AxesSubplot at 0x11afad650>"
      ]
     },
     "execution_count": 35,
     "metadata": {},
     "output_type": "execute_result"
    },
    {
     "data": {
      "image/png": "[encoded data removed]",
      "text/plain": [
       "<Figure size 720x360 with 1 Axes>"
      ]
     },
     "metadata": {
      "needs_background": "light"
     },
     "output_type": "display_data"
    }
   ],
   "source": [
    "#plot daily returns of SGX\n",
    "\n",
    "concat_df['SGX_return'].plot(figsize=(10,5))"
   ]
  },
  {
   "cell_type": "code",
   "execution_count": 36,
   "metadata": {},
   "outputs": [
    {
     "data": {
      "text/plain": [
       "date\n",
       "2000-05-01    0.997353\n",
       "2000-05-02    0.997353\n",
       "2000-05-03    0.997353\n",
       "2000-05-04    0.974588\n",
       "2000-05-05    0.954852\n",
       "Name: XLP_return, dtype: float64"
      ]
     },
     "execution_count": 36,
     "metadata": {},
     "output_type": "execute_result"
    }
   ],
   "source": [
    "# Calculate the cumulative returns using the 'cumprod()' function\n",
    "cumulative_returns_xly = (1 + concat_df['XLP_return']).cumprod()\n",
    "cumulative_returns_xlp = (1 + concat_df['XLY_return']).cumprod()\n",
    "cumulative_returns_sgx = (1 + concat_df['SGX_return']).cumprod()\n",
    "\n",
    "cumulative_returns_xly.head()"
   ]
  },
  {
   "cell_type": "code",
   "execution_count": 37,
   "metadata": {},
   "outputs": [
    {
     "data": {
      "text/plain": [
       "<matplotlib.axes._subplots.AxesSubplot at 0x11b6d2a50>"
      ]
     },
     "execution_count": 37,
     "metadata": {},
     "output_type": "execute_result"
    },
    {
     "data": {
      "image/png": "[encoded data removed]",
      "text/plain": [
       "<Figure size 720x360 with 1 Axes>"
      ]
     },
     "metadata": {
      "needs_background": "light"
     },
     "output_type": "display_data"
    }
   ],
   "source": [
    "#plot cumulative returns\n",
    "\n",
    "cumulative_returns_xly.plot(figsize=(10,5), legend=True)\n",
    "cumulative_returns_xlp.plot(figsize=(10,5), legend=True)\n",
    "cumulative_returns_sgx.plot(figsize=(10,5), legend=True)"
   ]
  },
  {
   "cell_type": "code",
   "execution_count": 88,
   "metadata": {},
   "outputs": [],
   "source": [
    "#need to check on dividend"
   ]
  },
  {
   "cell_type": "code",
   "execution_count": 44,
   "metadata": {},
   "outputs": [],
   "source": [
    "#run the monte carlo simulation and save results to DataFrame\n",
    "#Set the number of trading days and get last closing price of xly, xlp, and sgx from DataFrame\n",
    "\n",
    "num_trading_days = 252 * 3\n",
    "xly_last_price = concat_df['XLY close'][-1]\n",
    "\n",
    "xlp_last_price = concat_df['XLP close'][-1]\n",
    "\n",
    "sgx_last_price = concat_df['SGX close'][-1]"
   ]
  },
  {
   "cell_type": "code",
   "execution_count": 45,
   "metadata": {},
   "outputs": [
    {
     "name": "stdout",
     "output_type": "stream",
     "text": [
      "114.35\n"
     ]
    }
   ],
   "source": [
    "print(xly_last_price)"
   ]
  },
  {
   "cell_type": "code",
   "execution_count": 46,
   "metadata": {},
   "outputs": [],
   "source": [
    "#initialize the simulated prices list with the last closing prices\n",
    "\n",
    "simulated_xly_prices = [xly_last_price]\n",
    "\n",
    "simulated_xlp_prices = [xlp_last_price]\n",
    "\n",
    "simulated_sgx_prices = [sgx_last_price]"
   ]
  },
  {
   "cell_type": "code",
   "execution_count": null,
   "metadata": {},
   "outputs": [],
   "source": [
    "#simulate the returns for 252 * 3 trading days\n",
    "\n",
    "for i in range(num_trading_days):\n",
    "    #calculate the simulated price using the last price within the list\n",
    "    latest_simulated_xly_price = simulated_xly_prices[-1] * (1 + np. random.normal(avg_daily_return, std_xly_daily_returns))\n",
    "    "
   ]
  }
 ],
 "metadata": {
  "kernelspec": {
   "display_name": "Python 3",
   "language": "python",
   "name": "python3"
  },
  "language_info": {
   "codemirror_mode": {
    "name": "ipython",
    "version": 3
   },
   "file_extension": ".py",
   "mimetype": "text/x-python",
   "name": "python",
   "nbconvert_exporter": "python",
   "pygments_lexer": "ipython3",
   "version": "3.7.6"
  }
 },
 "nbformat": 4,
 "nbformat_minor": 4
}
