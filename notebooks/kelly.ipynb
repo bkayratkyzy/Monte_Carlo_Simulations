{
 "cells": [
  {
   "cell_type": "code",
   "execution_count": 1,
   "metadata": {},
   "outputs": [],
   "source": [
    "#     API Alpaca\n",
    "#     Data cleanup\n",
    "#     Consumer Discretionary Monte Carlo = XLY\n",
    "#     Consumer Staples Monte Carlo = XLP\n",
    "#     SP500 GROWTH Monte Carlo = SGX\n"
   ]
  },
  {
   "cell_type": "code",
   "execution_count": 1,
   "metadata": {},
   "outputs": [],
   "source": [
    "#import libraries\n",
    "import numpy as np\n",
    "import pandas as pd\n",
    "from datetime import datetime, timedelta\n",
    "import matplotlib.pyplot as plt\n",
    "import json\n",
    "from pathlib import Path\n",
    "import alpaca_trade_api as tradeapi\n",
    "import requests\n",
    "import os\n",
    "import seaborn as sns\n",
    "from dotenv import load_dotenv\n",
    "\n",
    "%matplotlib inline"
   ]
  },
  {
   "cell_type": "code",
   "execution_count": 3,
   "metadata": {},
   "outputs": [
    {
     "data": {
      "text/plain": [
       "str"
      ]
     },
     "execution_count": 3,
     "metadata": {},
     "output_type": "execute_result"
    }
   ],
   "source": [
    "# Load .env enviroment variables\n",
    "\n",
    "load_dotenv()\n",
    "\n",
    "# Set Alpaca API key and secret\n",
    "APCA_API_KEY_ID = os.getenv(\"APCA_API_KEY\")\n",
    "APCA_SECRET_KEY = os.getenv(\"APCA_SECRET_KEY\")\n",
    "\n",
    "api = tradeapi.REST(APCA_API_KEY_ID, APCA_SECRET_KEY, api_version='v2')\n",
    "type(APCA_API_KEY_ID)\n"
   ]
  },
  {
   "cell_type": "code",
   "execution_count": 4,
   "metadata": {},
   "outputs": [],
   "source": [
    "#Use alpha vantage to get historic quotes for XLY,XLP,IVW, and SPY. This goes back 20 years.\n",
    "\n",
    "xly_df = api.alpha_vantage.historic_quotes('XLY', adjusted=True, output_format='pandas')\n",
    "xly_df.head()\n",
    "\n",
    "xlp_df = api.alpha_vantage.historic_quotes('XLP', adjusted=True, output_format='pandas')\n",
    "#xlp_df.tail()\n",
    "\n",
    "ivw_df = api.alpha_vantage.historic_quotes('IVW', adjusted=True, output_format='pandas')\n",
    "#ivw_df.head()\n",
    "\n",
    "spy_df = api.alpha_vantage.historic_quotes('SPY', adjusted=True, output_format='pandas')\n"
   ]
  },
  {
   "cell_type": "code",
   "execution_count": 5,
   "metadata": {},
   "outputs": [
    {
     "data": {
      "text/html": [
       "<div>\n",
       "<style scoped>\n",
       "    .dataframe tbody tr th:only-of-type {\n",
       "        vertical-align: middle;\n",
       "    }\n",
       "\n",
       "    .dataframe tbody tr th {\n",
       "        vertical-align: top;\n",
       "    }\n",
       "\n",
       "    .dataframe thead th {\n",
       "        text-align: right;\n",
       "    }\n",
       "</style>\n",
       "<table border=\"1\" class=\"dataframe\">\n",
       "  <thead>\n",
       "    <tr style=\"text-align: right;\">\n",
       "      <th></th>\n",
       "      <th>1. open</th>\n",
       "      <th>2. high</th>\n",
       "      <th>3. low</th>\n",
       "      <th>4. close</th>\n",
       "      <th>5. adjusted close</th>\n",
       "      <th>6. volume</th>\n",
       "      <th>7. dividend amount</th>\n",
       "      <th>8. split coefficient</th>\n",
       "    </tr>\n",
       "    <tr>\n",
       "      <th>date</th>\n",
       "      <th></th>\n",
       "      <th></th>\n",
       "      <th></th>\n",
       "      <th></th>\n",
       "      <th></th>\n",
       "      <th></th>\n",
       "      <th></th>\n",
       "      <th></th>\n",
       "    </tr>\n",
       "  </thead>\n",
       "  <tbody>\n",
       "    <tr>\n",
       "      <th>2020-05-01</th>\n",
       "      <td>285.31</td>\n",
       "      <td>290.6572</td>\n",
       "      <td>281.52</td>\n",
       "      <td>282.79</td>\n",
       "      <td>282.79</td>\n",
       "      <td>125045778.0</td>\n",
       "      <td>0.0</td>\n",
       "      <td>1.0</td>\n",
       "    </tr>\n",
       "    <tr>\n",
       "      <th>2020-04-30</th>\n",
       "      <td>291.71</td>\n",
       "      <td>293.3239</td>\n",
       "      <td>288.59</td>\n",
       "      <td>290.48</td>\n",
       "      <td>290.48</td>\n",
       "      <td>121537052.0</td>\n",
       "      <td>0.0</td>\n",
       "      <td>1.0</td>\n",
       "    </tr>\n",
       "    <tr>\n",
       "      <th>2020-04-29</th>\n",
       "      <td>291.53</td>\n",
       "      <td>294.8800</td>\n",
       "      <td>290.41</td>\n",
       "      <td>293.21</td>\n",
       "      <td>293.21</td>\n",
       "      <td>118066585.0</td>\n",
       "      <td>0.0</td>\n",
       "      <td>1.0</td>\n",
       "    </tr>\n",
       "    <tr>\n",
       "      <th>2020-04-28</th>\n",
       "      <td>291.02</td>\n",
       "      <td>291.4000</td>\n",
       "      <td>285.40</td>\n",
       "      <td>285.73</td>\n",
       "      <td>285.73</td>\n",
       "      <td>104797847.0</td>\n",
       "      <td>0.0</td>\n",
       "      <td>1.0</td>\n",
       "    </tr>\n",
       "    <tr>\n",
       "      <th>2020-04-27</th>\n",
       "      <td>285.12</td>\n",
       "      <td>288.2700</td>\n",
       "      <td>284.62</td>\n",
       "      <td>287.05</td>\n",
       "      <td>287.05</td>\n",
       "      <td>77516422.0</td>\n",
       "      <td>0.0</td>\n",
       "      <td>1.0</td>\n",
       "    </tr>\n",
       "  </tbody>\n",
       "</table>\n",
       "</div>"
      ],
      "text/plain": [
       "            1. open   2. high  3. low  4. close  5. adjusted close  \\\n",
       "date                                                                 \n",
       "2020-05-01   285.31  290.6572  281.52    282.79             282.79   \n",
       "2020-04-30   291.71  293.3239  288.59    290.48             290.48   \n",
       "2020-04-29   291.53  294.8800  290.41    293.21             293.21   \n",
       "2020-04-28   291.02  291.4000  285.40    285.73             285.73   \n",
       "2020-04-27   285.12  288.2700  284.62    287.05             287.05   \n",
       "\n",
       "              6. volume  7. dividend amount  8. split coefficient  \n",
       "date                                                               \n",
       "2020-05-01  125045778.0                 0.0                   1.0  \n",
       "2020-04-30  121537052.0                 0.0                   1.0  \n",
       "2020-04-29  118066585.0                 0.0                   1.0  \n",
       "2020-04-28  104797847.0                 0.0                   1.0  \n",
       "2020-04-27   77516422.0                 0.0                   1.0  "
      ]
     },
     "execution_count": 5,
     "metadata": {},
     "output_type": "execute_result"
    }
   ],
   "source": [
    "spy_df.head()\n"
   ]
  },
  {
   "cell_type": "code",
   "execution_count": 6,
   "metadata": {},
   "outputs": [
    {
     "data": {
      "text/html": [
       "<div>\n",
       "<style scoped>\n",
       "    .dataframe tbody tr th:only-of-type {\n",
       "        vertical-align: middle;\n",
       "    }\n",
       "\n",
       "    .dataframe tbody tr th {\n",
       "        vertical-align: top;\n",
       "    }\n",
       "\n",
       "    .dataframe thead th {\n",
       "        text-align: right;\n",
       "    }\n",
       "</style>\n",
       "<table border=\"1\" class=\"dataframe\">\n",
       "  <thead>\n",
       "    <tr style=\"text-align: right;\">\n",
       "      <th></th>\n",
       "      <th>5. adjusted close</th>\n",
       "      <th>5. adjusted close</th>\n",
       "      <th>5. adjusted close</th>\n",
       "      <th>5. adjusted close</th>\n",
       "    </tr>\n",
       "    <tr>\n",
       "      <th>date</th>\n",
       "      <th></th>\n",
       "      <th></th>\n",
       "      <th></th>\n",
       "      <th></th>\n",
       "    </tr>\n",
       "  </thead>\n",
       "  <tbody>\n",
       "    <tr>\n",
       "      <th>2020-05-01</th>\n",
       "      <td>112.24</td>\n",
       "      <td>57.62</td>\n",
       "      <td>183.70</td>\n",
       "      <td>282.79</td>\n",
       "    </tr>\n",
       "    <tr>\n",
       "      <th>2020-04-30</th>\n",
       "      <td>116.60</td>\n",
       "      <td>58.26</td>\n",
       "      <td>188.57</td>\n",
       "      <td>290.48</td>\n",
       "    </tr>\n",
       "    <tr>\n",
       "      <th>2020-04-29</th>\n",
       "      <td>117.33</td>\n",
       "      <td>58.96</td>\n",
       "      <td>188.89</td>\n",
       "      <td>293.21</td>\n",
       "    </tr>\n",
       "    <tr>\n",
       "      <th>2020-04-28</th>\n",
       "      <td>114.80</td>\n",
       "      <td>59.21</td>\n",
       "      <td>183.09</td>\n",
       "      <td>285.73</td>\n",
       "    </tr>\n",
       "    <tr>\n",
       "      <th>2020-04-27</th>\n",
       "      <td>114.35</td>\n",
       "      <td>58.88</td>\n",
       "      <td>185.34</td>\n",
       "      <td>287.05</td>\n",
       "    </tr>\n",
       "  </tbody>\n",
       "</table>\n",
       "</div>"
      ],
      "text/plain": [
       "            5. adjusted close  5. adjusted close  5. adjusted close  \\\n",
       "date                                                                  \n",
       "2020-05-01             112.24              57.62             183.70   \n",
       "2020-04-30             116.60              58.26             188.57   \n",
       "2020-04-29             117.33              58.96             188.89   \n",
       "2020-04-28             114.80              59.21             183.09   \n",
       "2020-04-27             114.35              58.88             185.34   \n",
       "\n",
       "            5. adjusted close  \n",
       "date                           \n",
       "2020-05-01             282.79  \n",
       "2020-04-30             290.48  \n",
       "2020-04-29             293.21  \n",
       "2020-04-28             285.73  \n",
       "2020-04-27             287.05  "
      ]
     },
     "execution_count": 6,
     "metadata": {},
     "output_type": "execute_result"
    }
   ],
   "source": [
    "#DATA CLEANUP\n",
    "\n",
    "#Select the one column we need,  \"adjusted close\", and drop the others\n",
    "\n",
    "xly_df = xly_df['5. adjusted close']\n",
    "xly_df.head()\n",
    "\n",
    "xlp_df = xlp_df['5. adjusted close']\n",
    "xlp_df.head()\n",
    "\n",
    "ivw_df = ivw_df['5. adjusted close']\n",
    "ivw_df.head()\n",
    "\n",
    "spy_df = spy_df['5. adjusted close']\n",
    "spy_df.head()\n",
    "\n",
    "#Use concat to put the data in one dataframe\n",
    "concat_df = pd.concat([xly_df, xlp_df, ivw_df, spy_df], axis = \"columns\", join = \"inner\")\n",
    "concat_df.head()\n",
    "    "
   ]
  },
  {
   "cell_type": "code",
   "execution_count": 7,
   "metadata": {},
   "outputs": [
    {
     "name": "stdout",
     "output_type": "stream",
     "text": [
      "Index(['5. adjusted close', '5. adjusted close', '5. adjusted close',\n",
      "       '5. adjusted close'],\n",
      "      dtype='object')\n"
     ]
    }
   ],
   "source": [
    "#print column names\n",
    "print(concat_df.columns)\n"
   ]
  },
  {
   "cell_type": "code",
   "execution_count": 8,
   "metadata": {},
   "outputs": [
    {
     "data": {
      "text/html": [
       "<div>\n",
       "<style scoped>\n",
       "    .dataframe tbody tr th:only-of-type {\n",
       "        vertical-align: middle;\n",
       "    }\n",
       "\n",
       "    .dataframe tbody tr th {\n",
       "        vertical-align: top;\n",
       "    }\n",
       "\n",
       "    .dataframe thead th {\n",
       "        text-align: right;\n",
       "    }\n",
       "</style>\n",
       "<table border=\"1\" class=\"dataframe\">\n",
       "  <thead>\n",
       "    <tr style=\"text-align: right;\">\n",
       "      <th></th>\n",
       "      <th>XLY close</th>\n",
       "      <th>XLP close</th>\n",
       "      <th>IVW close</th>\n",
       "      <th>SPY close</th>\n",
       "    </tr>\n",
       "    <tr>\n",
       "      <th>date</th>\n",
       "      <th></th>\n",
       "      <th></th>\n",
       "      <th></th>\n",
       "      <th></th>\n",
       "    </tr>\n",
       "  </thead>\n",
       "  <tbody>\n",
       "    <tr>\n",
       "      <th>2020-05-01</th>\n",
       "      <td>112.24</td>\n",
       "      <td>57.62</td>\n",
       "      <td>183.70</td>\n",
       "      <td>282.79</td>\n",
       "    </tr>\n",
       "    <tr>\n",
       "      <th>2020-04-30</th>\n",
       "      <td>116.60</td>\n",
       "      <td>58.26</td>\n",
       "      <td>188.57</td>\n",
       "      <td>290.48</td>\n",
       "    </tr>\n",
       "    <tr>\n",
       "      <th>2020-04-29</th>\n",
       "      <td>117.33</td>\n",
       "      <td>58.96</td>\n",
       "      <td>188.89</td>\n",
       "      <td>293.21</td>\n",
       "    </tr>\n",
       "    <tr>\n",
       "      <th>2020-04-28</th>\n",
       "      <td>114.80</td>\n",
       "      <td>59.21</td>\n",
       "      <td>183.09</td>\n",
       "      <td>285.73</td>\n",
       "    </tr>\n",
       "    <tr>\n",
       "      <th>2020-04-27</th>\n",
       "      <td>114.35</td>\n",
       "      <td>58.88</td>\n",
       "      <td>185.34</td>\n",
       "      <td>287.05</td>\n",
       "    </tr>\n",
       "  </tbody>\n",
       "</table>\n",
       "</div>"
      ],
      "text/plain": [
       "            XLY close  XLP close  IVW close  SPY close\n",
       "date                                                  \n",
       "2020-05-01     112.24      57.62     183.70     282.79\n",
       "2020-04-30     116.60      58.26     188.57     290.48\n",
       "2020-04-29     117.33      58.96     188.89     293.21\n",
       "2020-04-28     114.80      59.21     183.09     285.73\n",
       "2020-04-27     114.35      58.88     185.34     287.05"
      ]
     },
     "execution_count": 8,
     "metadata": {},
     "output_type": "execute_result"
    }
   ],
   "source": [
    "#Change column names to avoid confusion\n",
    "columns = ['XLY close', 'XLP close', 'IVW close', 'SPY close']\n",
    "concat_df.columns = columns\n",
    "concat_df.head()\n"
   ]
  },
  {
   "cell_type": "code",
   "execution_count": 9,
   "metadata": {},
   "outputs": [
    {
     "data": {
      "text/html": [
       "<div>\n",
       "<style scoped>\n",
       "    .dataframe tbody tr th:only-of-type {\n",
       "        vertical-align: middle;\n",
       "    }\n",
       "\n",
       "    .dataframe tbody tr th {\n",
       "        vertical-align: top;\n",
       "    }\n",
       "\n",
       "    .dataframe thead th {\n",
       "        text-align: right;\n",
       "    }\n",
       "</style>\n",
       "<table border=\"1\" class=\"dataframe\">\n",
       "  <thead>\n",
       "    <tr style=\"text-align: right;\">\n",
       "      <th></th>\n",
       "      <th>XLY close</th>\n",
       "      <th>XLP close</th>\n",
       "      <th>IVW close</th>\n",
       "      <th>SPY close</th>\n",
       "    </tr>\n",
       "    <tr>\n",
       "      <th>date</th>\n",
       "      <th></th>\n",
       "      <th></th>\n",
       "      <th></th>\n",
       "      <th></th>\n",
       "    </tr>\n",
       "  </thead>\n",
       "  <tbody>\n",
       "    <tr>\n",
       "      <th>2000-05-26</th>\n",
       "      <td>20.4125</td>\n",
       "      <td>15.2972</td>\n",
       "      <td>61.6055</td>\n",
       "      <td>94.5076</td>\n",
       "    </tr>\n",
       "    <tr>\n",
       "      <th>2000-05-30</th>\n",
       "      <td>20.5678</td>\n",
       "      <td>15.2091</td>\n",
       "      <td>64.1619</td>\n",
       "      <td>97.5894</td>\n",
       "    </tr>\n",
       "    <tr>\n",
       "      <th>2000-05-31</th>\n",
       "      <td>21.0571</td>\n",
       "      <td>15.0643</td>\n",
       "      <td>64.1619</td>\n",
       "      <td>97.8034</td>\n",
       "    </tr>\n",
       "    <tr>\n",
       "      <th>2000-06-01</th>\n",
       "      <td>21.2125</td>\n",
       "      <td>15.1021</td>\n",
       "      <td>64.9608</td>\n",
       "      <td>99.5155</td>\n",
       "    </tr>\n",
       "    <tr>\n",
       "      <th>2000-06-02</th>\n",
       "      <td>21.7950</td>\n",
       "      <td>14.5798</td>\n",
       "      <td>67.0988</td>\n",
       "      <td>101.2489</td>\n",
       "    </tr>\n",
       "  </tbody>\n",
       "</table>\n",
       "</div>"
      ],
      "text/plain": [
       "            XLY close  XLP close  IVW close  SPY close\n",
       "date                                                  \n",
       "2000-05-26    20.4125    15.2972    61.6055    94.5076\n",
       "2000-05-30    20.5678    15.2091    64.1619    97.5894\n",
       "2000-05-31    21.0571    15.0643    64.1619    97.8034\n",
       "2000-06-01    21.2125    15.1021    64.9608    99.5155\n",
       "2000-06-02    21.7950    14.5798    67.0988   101.2489"
      ]
     },
     "execution_count": 9,
     "metadata": {},
     "output_type": "execute_result"
    }
   ],
   "source": [
    "#Sort earliest to latest so that .pct_change() function works right.\n",
    "\n",
    "concat_df.sort_index(inplace=True, ascending=True)\n",
    "concat_df.head()"
   ]
  },
  {
   "cell_type": "code",
   "execution_count": 10,
   "metadata": {},
   "outputs": [
    {
     "data": {
      "text/html": [
       "<div>\n",
       "<style scoped>\n",
       "    .dataframe tbody tr th:only-of-type {\n",
       "        vertical-align: middle;\n",
       "    }\n",
       "\n",
       "    .dataframe tbody tr th {\n",
       "        vertical-align: top;\n",
       "    }\n",
       "\n",
       "    .dataframe thead th {\n",
       "        text-align: right;\n",
       "    }\n",
       "</style>\n",
       "<table border=\"1\" class=\"dataframe\">\n",
       "  <thead>\n",
       "    <tr style=\"text-align: right;\">\n",
       "      <th></th>\n",
       "      <th>XLY close</th>\n",
       "      <th>XLP close</th>\n",
       "      <th>IVW close</th>\n",
       "      <th>SPY close</th>\n",
       "    </tr>\n",
       "    <tr>\n",
       "      <th>date</th>\n",
       "      <th></th>\n",
       "      <th></th>\n",
       "      <th></th>\n",
       "      <th></th>\n",
       "    </tr>\n",
       "  </thead>\n",
       "  <tbody>\n",
       "    <tr>\n",
       "      <th>2000-05-26</th>\n",
       "      <td>NaN</td>\n",
       "      <td>NaN</td>\n",
       "      <td>NaN</td>\n",
       "      <td>NaN</td>\n",
       "    </tr>\n",
       "    <tr>\n",
       "      <th>2000-05-30</th>\n",
       "      <td>0.007608</td>\n",
       "      <td>-0.005759</td>\n",
       "      <td>0.041496</td>\n",
       "      <td>0.032609</td>\n",
       "    </tr>\n",
       "    <tr>\n",
       "      <th>2000-05-31</th>\n",
       "      <td>0.023790</td>\n",
       "      <td>-0.009521</td>\n",
       "      <td>0.000000</td>\n",
       "      <td>0.002193</td>\n",
       "    </tr>\n",
       "    <tr>\n",
       "      <th>2000-06-01</th>\n",
       "      <td>0.007380</td>\n",
       "      <td>0.002509</td>\n",
       "      <td>0.012451</td>\n",
       "      <td>0.017506</td>\n",
       "    </tr>\n",
       "    <tr>\n",
       "      <th>2000-06-02</th>\n",
       "      <td>0.027460</td>\n",
       "      <td>-0.034585</td>\n",
       "      <td>0.032912</td>\n",
       "      <td>0.017418</td>\n",
       "    </tr>\n",
       "    <tr>\n",
       "      <th>...</th>\n",
       "      <td>...</td>\n",
       "      <td>...</td>\n",
       "      <td>...</td>\n",
       "      <td>...</td>\n",
       "    </tr>\n",
       "    <tr>\n",
       "      <th>2020-04-27</th>\n",
       "      <td>0.018708</td>\n",
       "      <td>0.002896</td>\n",
       "      <td>0.010027</td>\n",
       "      <td>0.014418</td>\n",
       "    </tr>\n",
       "    <tr>\n",
       "      <th>2020-04-28</th>\n",
       "      <td>0.003935</td>\n",
       "      <td>0.005605</td>\n",
       "      <td>-0.012140</td>\n",
       "      <td>-0.004599</td>\n",
       "    </tr>\n",
       "    <tr>\n",
       "      <th>2020-04-29</th>\n",
       "      <td>0.022038</td>\n",
       "      <td>-0.004222</td>\n",
       "      <td>0.031678</td>\n",
       "      <td>0.026179</td>\n",
       "    </tr>\n",
       "    <tr>\n",
       "      <th>2020-04-30</th>\n",
       "      <td>-0.006222</td>\n",
       "      <td>-0.011872</td>\n",
       "      <td>-0.001694</td>\n",
       "      <td>-0.009311</td>\n",
       "    </tr>\n",
       "    <tr>\n",
       "      <th>2020-05-01</th>\n",
       "      <td>-0.037393</td>\n",
       "      <td>-0.010985</td>\n",
       "      <td>-0.025826</td>\n",
       "      <td>-0.026473</td>\n",
       "    </tr>\n",
       "  </tbody>\n",
       "</table>\n",
       "<p>5014 rows × 4 columns</p>\n",
       "</div>"
      ],
      "text/plain": [
       "            XLY close  XLP close  IVW close  SPY close\n",
       "date                                                  \n",
       "2000-05-26        NaN        NaN        NaN        NaN\n",
       "2000-05-30   0.007608  -0.005759   0.041496   0.032609\n",
       "2000-05-31   0.023790  -0.009521   0.000000   0.002193\n",
       "2000-06-01   0.007380   0.002509   0.012451   0.017506\n",
       "2000-06-02   0.027460  -0.034585   0.032912   0.017418\n",
       "...               ...        ...        ...        ...\n",
       "2020-04-27   0.018708   0.002896   0.010027   0.014418\n",
       "2020-04-28   0.003935   0.005605  -0.012140  -0.004599\n",
       "2020-04-29   0.022038  -0.004222   0.031678   0.026179\n",
       "2020-04-30  -0.006222  -0.011872  -0.001694  -0.009311\n",
       "2020-05-01  -0.037393  -0.010985  -0.025826  -0.026473\n",
       "\n",
       "[5014 rows x 4 columns]"
      ]
     },
     "execution_count": 10,
     "metadata": {},
     "output_type": "execute_result"
    }
   ],
   "source": [
    "returns_df = concat_df.pct_change()\n",
    "returns_df"
   ]
  },
  {
   "cell_type": "code",
   "execution_count": 11,
   "metadata": {},
   "outputs": [
    {
     "data": {
      "text/plain": [
       "XLY close    0\n",
       "XLP close    0\n",
       "IVW close    0\n",
       "SPY close    0\n",
       "dtype: int64"
      ]
     },
     "execution_count": 11,
     "metadata": {},
     "output_type": "execute_result"
    }
   ],
   "source": [
    "#check for nulls\n",
    "\n",
    "concat_df.isnull().sum()"
   ]
  },
  {
   "cell_type": "code",
   "execution_count": 12,
   "metadata": {},
   "outputs": [
    {
     "data": {
      "text/plain": [
       "XLY close    0\n",
       "XLP close    0\n",
       "IVW close    0\n",
       "SPY close    0\n",
       "dtype: int64"
      ]
     },
     "execution_count": 12,
     "metadata": {},
     "output_type": "execute_result"
    }
   ],
   "source": [
    "# Drop nulls\n",
    "concat_df.dropna(inplace=True)\n",
    "\n",
    "#count nulls again\n",
    "concat_df.isnull().sum()"
   ]
  },
  {
   "cell_type": "code",
   "execution_count": 13,
   "metadata": {},
   "outputs": [
    {
     "data": {
      "text/plain": [
       "date\n",
       "2000-05-26    False\n",
       "2000-05-30    False\n",
       "2000-05-31    False\n",
       "2000-06-01    False\n",
       "2000-06-02    False\n",
       "              ...  \n",
       "2020-04-27    False\n",
       "2020-04-28    False\n",
       "2020-04-29    False\n",
       "2020-04-30    False\n",
       "2020-05-01    False\n",
       "Length: 5014, dtype: bool"
      ]
     },
     "execution_count": 13,
     "metadata": {},
     "output_type": "execute_result"
    }
   ],
   "source": [
    "# Checking for duplicate rows\n",
    "concat_df.duplicated()"
   ]
  },
  {
   "cell_type": "code",
   "execution_count": 14,
   "metadata": {},
   "outputs": [],
   "source": [
    "# drop duplicates\n",
    "concat_df.drop_duplicates(inplace=True)"
   ]
  },
  {
   "cell_type": "code",
   "execution_count": 15,
   "metadata": {},
   "outputs": [],
   "source": [
    "concat_df.sort_index(inplace=True, ascending=True)"
   ]
  },
  {
   "cell_type": "code",
   "execution_count": 16,
   "metadata": {},
   "outputs": [
    {
     "data": {
      "text/html": [
       "<div>\n",
       "<style scoped>\n",
       "    .dataframe tbody tr th:only-of-type {\n",
       "        vertical-align: middle;\n",
       "    }\n",
       "\n",
       "    .dataframe tbody tr th {\n",
       "        vertical-align: top;\n",
       "    }\n",
       "\n",
       "    .dataframe thead th {\n",
       "        text-align: right;\n",
       "    }\n",
       "</style>\n",
       "<table border=\"1\" class=\"dataframe\">\n",
       "  <thead>\n",
       "    <tr style=\"text-align: right;\">\n",
       "      <th></th>\n",
       "      <th>XLY close</th>\n",
       "      <th>XLP close</th>\n",
       "      <th>IVW close</th>\n",
       "      <th>SPY close</th>\n",
       "    </tr>\n",
       "    <tr>\n",
       "      <th>date</th>\n",
       "      <th></th>\n",
       "      <th></th>\n",
       "      <th></th>\n",
       "      <th></th>\n",
       "    </tr>\n",
       "  </thead>\n",
       "  <tbody>\n",
       "    <tr>\n",
       "      <th>2000-05-26</th>\n",
       "      <td>20.4125</td>\n",
       "      <td>15.2972</td>\n",
       "      <td>61.6055</td>\n",
       "      <td>94.5076</td>\n",
       "    </tr>\n",
       "    <tr>\n",
       "      <th>2000-05-30</th>\n",
       "      <td>20.5678</td>\n",
       "      <td>15.2091</td>\n",
       "      <td>64.1619</td>\n",
       "      <td>97.5894</td>\n",
       "    </tr>\n",
       "    <tr>\n",
       "      <th>2000-05-31</th>\n",
       "      <td>21.0571</td>\n",
       "      <td>15.0643</td>\n",
       "      <td>64.1619</td>\n",
       "      <td>97.8034</td>\n",
       "    </tr>\n",
       "    <tr>\n",
       "      <th>2000-06-01</th>\n",
       "      <td>21.2125</td>\n",
       "      <td>15.1021</td>\n",
       "      <td>64.9608</td>\n",
       "      <td>99.5155</td>\n",
       "    </tr>\n",
       "    <tr>\n",
       "      <th>2000-06-02</th>\n",
       "      <td>21.7950</td>\n",
       "      <td>14.5798</td>\n",
       "      <td>67.0988</td>\n",
       "      <td>101.2489</td>\n",
       "    </tr>\n",
       "  </tbody>\n",
       "</table>\n",
       "</div>"
      ],
      "text/plain": [
       "            XLY close  XLP close  IVW close  SPY close\n",
       "date                                                  \n",
       "2000-05-26    20.4125    15.2972    61.6055    94.5076\n",
       "2000-05-30    20.5678    15.2091    64.1619    97.5894\n",
       "2000-05-31    21.0571    15.0643    64.1619    97.8034\n",
       "2000-06-01    21.2125    15.1021    64.9608    99.5155\n",
       "2000-06-02    21.7950    14.5798    67.0988   101.2489"
      ]
     },
     "execution_count": 16,
     "metadata": {},
     "output_type": "execute_result"
    }
   ],
   "source": [
    "concat_df.head()"
   ]
  },
  {
   "cell_type": "code",
   "execution_count": 17,
   "metadata": {},
   "outputs": [
    {
     "data": {
      "text/html": [
       "<div>\n",
       "<style scoped>\n",
       "    .dataframe tbody tr th:only-of-type {\n",
       "        vertical-align: middle;\n",
       "    }\n",
       "\n",
       "    .dataframe tbody tr th {\n",
       "        vertical-align: top;\n",
       "    }\n",
       "\n",
       "    .dataframe thead th {\n",
       "        text-align: right;\n",
       "    }\n",
       "</style>\n",
       "<table border=\"1\" class=\"dataframe\">\n",
       "  <thead>\n",
       "    <tr style=\"text-align: right;\">\n",
       "      <th></th>\n",
       "      <th>XLY return</th>\n",
       "      <th>XLP return</th>\n",
       "      <th>IVW return</th>\n",
       "      <th>SP500 return</th>\n",
       "    </tr>\n",
       "    <tr>\n",
       "      <th>date</th>\n",
       "      <th></th>\n",
       "      <th></th>\n",
       "      <th></th>\n",
       "      <th></th>\n",
       "    </tr>\n",
       "  </thead>\n",
       "  <tbody>\n",
       "    <tr>\n",
       "      <th>2000-05-26</th>\n",
       "      <td>NaN</td>\n",
       "      <td>NaN</td>\n",
       "      <td>NaN</td>\n",
       "      <td>NaN</td>\n",
       "    </tr>\n",
       "    <tr>\n",
       "      <th>2000-05-30</th>\n",
       "      <td>0.007608</td>\n",
       "      <td>-0.005759</td>\n",
       "      <td>0.041496</td>\n",
       "      <td>0.032609</td>\n",
       "    </tr>\n",
       "    <tr>\n",
       "      <th>2000-05-31</th>\n",
       "      <td>0.023790</td>\n",
       "      <td>-0.009521</td>\n",
       "      <td>0.000000</td>\n",
       "      <td>0.002193</td>\n",
       "    </tr>\n",
       "    <tr>\n",
       "      <th>2000-06-01</th>\n",
       "      <td>0.007380</td>\n",
       "      <td>0.002509</td>\n",
       "      <td>0.012451</td>\n",
       "      <td>0.017506</td>\n",
       "    </tr>\n",
       "    <tr>\n",
       "      <th>2000-06-02</th>\n",
       "      <td>0.027460</td>\n",
       "      <td>-0.034585</td>\n",
       "      <td>0.032912</td>\n",
       "      <td>0.017418</td>\n",
       "    </tr>\n",
       "  </tbody>\n",
       "</table>\n",
       "</div>"
      ],
      "text/plain": [
       "            XLY return  XLP return  IVW return  SP500 return\n",
       "date                                                        \n",
       "2000-05-26         NaN         NaN         NaN           NaN\n",
       "2000-05-30    0.007608   -0.005759    0.041496      0.032609\n",
       "2000-05-31    0.023790   -0.009521    0.000000      0.002193\n",
       "2000-06-01    0.007380    0.002509    0.012451      0.017506\n",
       "2000-06-02    0.027460   -0.034585    0.032912      0.017418"
      ]
     },
     "execution_count": 17,
     "metadata": {},
     "output_type": "execute_result"
    }
   ],
   "source": [
    "# drop close columns to create dataframe for daily returns\n",
    "returns_df.rename(columns={'XLY close': 'XLY return',\n",
    "                           'XLP close': 'XLP return',\n",
    "                           'IVW close': 'IVW return',\n",
    "                           'SPY close': 'SP500 return'},\n",
    "                  inplace=True)\n",
    "returns_df.head()"
   ]
  },
  {
   "cell_type": "code",
   "execution_count": 18,
   "metadata": {},
   "outputs": [
    {
     "data": {
      "text/plain": [
       "0.012425981029282685"
      ]
     },
     "execution_count": 18,
     "metadata": {},
     "output_type": "execute_result"
    }
   ],
   "source": [
    "#calculate value of standard deviation of daily returns\n",
    "#use the std function to calculate the standard deviation of daily returns for XLY, XLP, & SGX\n",
    "\n",
    "std_xly_daily_returns = returns_df['XLY return'].std()\n",
    "std_xly_daily_returns\n",
    "\n",
    "std_xlp_daily_returns = returns_df['XLP return'].std()\n",
    "std_xlp_daily_returns\n",
    "\n",
    "std_ivw_daily_returns = returns_df['IVW return'].std()\n",
    "std_ivw_daily_returns\n",
    "\n",
    "std_spy_daily_returns = returns_df['SP500 return'].std()\n",
    "std_spy_daily_returns"
   ]
  },
  {
   "cell_type": "code",
   "execution_count": 31,
   "metadata": {},
   "outputs": [
    {
     "data": {
      "text/plain": [
       "0.00029590109510735656"
      ]
     },
     "execution_count": 31,
     "metadata": {},
     "output_type": "execute_result"
    }
   ],
   "source": [
    "#calculate average of daily returns\n",
    "avg_xly_daily_returns = returns_df['XLY return'].mean()\n",
    "avg_xly_daily_returns\n",
    "\n",
    "avg_xlp_daily_returns = returns_df['XLP return'].mean()\n",
    "avg_xlp_daily_returns\n",
    "\n",
    "avg_ivw_daily_returns = returns_df['IVW return'].mean()\n",
    "avg_ivw_daily_returns\n",
    "\n",
    "avg_spy_daily_returns = returns_df['SP500 return'].mean()\n",
    "avg_spy_daily_returns"
   ]
  },
  {
   "cell_type": "code",
   "execution_count": 35,
   "metadata": {},
   "outputs": [
    {
     "data": {
      "text/plain": [
       "XLY return      float64\n",
       "XLP return      float64\n",
       "IVW return      float64\n",
       "SP500 return    float64\n",
       "dtype: object"
      ]
     },
     "execution_count": 35,
     "metadata": {},
     "output_type": "execute_result"
    }
   ],
   "source": [
    "#Check datatypes\n",
    "\n",
    "returns_df.dtypes"
   ]
  },
  {
   "cell_type": "code",
   "execution_count": 36,
   "metadata": {},
   "outputs": [
    {
     "data": {
      "text/plain": [
       "XLY return      5013\n",
       "XLP return      5013\n",
       "IVW return      5013\n",
       "SP500 return    5013\n",
       "dtype: int64"
      ]
     },
     "execution_count": 36,
     "metadata": {},
     "output_type": "execute_result"
    }
   ],
   "source": [
    "#check counts\n",
    "returns_df.count()"
   ]
  },
  {
   "cell_type": "code",
   "execution_count": 37,
   "metadata": {},
   "outputs": [
    {
     "data": {
      "text/html": [
       "<div>\n",
       "<style scoped>\n",
       "    .dataframe tbody tr th:only-of-type {\n",
       "        vertical-align: middle;\n",
       "    }\n",
       "\n",
       "    .dataframe tbody tr th {\n",
       "        vertical-align: top;\n",
       "    }\n",
       "\n",
       "    .dataframe thead th {\n",
       "        text-align: right;\n",
       "    }\n",
       "</style>\n",
       "<table border=\"1\" class=\"dataframe\">\n",
       "  <thead>\n",
       "    <tr style=\"text-align: right;\">\n",
       "      <th></th>\n",
       "      <th>XLY return</th>\n",
       "      <th>XLP return</th>\n",
       "      <th>IVW return</th>\n",
       "      <th>SP500 return</th>\n",
       "    </tr>\n",
       "  </thead>\n",
       "  <tbody>\n",
       "    <tr>\n",
       "      <th>count</th>\n",
       "      <td>5013.000000</td>\n",
       "      <td>5013.000000</td>\n",
       "      <td>5013.000000</td>\n",
       "      <td>5013.000000</td>\n",
       "    </tr>\n",
       "    <tr>\n",
       "      <th>mean</th>\n",
       "      <td>0.000439</td>\n",
       "      <td>0.000310</td>\n",
       "      <td>0.000307</td>\n",
       "      <td>0.000296</td>\n",
       "    </tr>\n",
       "    <tr>\n",
       "      <th>std</th>\n",
       "      <td>0.014070</td>\n",
       "      <td>0.009523</td>\n",
       "      <td>0.013300</td>\n",
       "      <td>0.012426</td>\n",
       "    </tr>\n",
       "    <tr>\n",
       "      <th>min</th>\n",
       "      <td>-0.126686</td>\n",
       "      <td>-0.093956</td>\n",
       "      <td>-0.238912</td>\n",
       "      <td>-0.109423</td>\n",
       "    </tr>\n",
       "    <tr>\n",
       "      <th>25%</th>\n",
       "      <td>-0.005737</td>\n",
       "      <td>-0.004184</td>\n",
       "      <td>-0.004663</td>\n",
       "      <td>-0.004512</td>\n",
       "    </tr>\n",
       "    <tr>\n",
       "      <th>50%</th>\n",
       "      <td>0.000820</td>\n",
       "      <td>0.000442</td>\n",
       "      <td>0.000694</td>\n",
       "      <td>0.000655</td>\n",
       "    </tr>\n",
       "    <tr>\n",
       "      <th>75%</th>\n",
       "      <td>0.007112</td>\n",
       "      <td>0.005134</td>\n",
       "      <td>0.005807</td>\n",
       "      <td>0.005766</td>\n",
       "    </tr>\n",
       "    <tr>\n",
       "      <th>max</th>\n",
       "      <td>0.116572</td>\n",
       "      <td>0.091354</td>\n",
       "      <td>0.248785</td>\n",
       "      <td>0.139609</td>\n",
       "    </tr>\n",
       "  </tbody>\n",
       "</table>\n",
       "</div>"
      ],
      "text/plain": [
       "        XLY return   XLP return   IVW return  SP500 return\n",
       "count  5013.000000  5013.000000  5013.000000   5013.000000\n",
       "mean      0.000439     0.000310     0.000307      0.000296\n",
       "std       0.014070     0.009523     0.013300      0.012426\n",
       "min      -0.126686    -0.093956    -0.238912     -0.109423\n",
       "25%      -0.005737    -0.004184    -0.004663     -0.004512\n",
       "50%       0.000820     0.000442     0.000694      0.000655\n",
       "75%       0.007112     0.005134     0.005807      0.005766\n",
       "max       0.116572     0.091354     0.248785      0.139609"
      ]
     },
     "execution_count": 37,
     "metadata": {},
     "output_type": "execute_result"
    }
   ],
   "source": [
    "#use describe to explore data\n",
    "returns_df.describe()"
   ]
  },
  {
   "cell_type": "code",
   "execution_count": 43,
   "metadata": {},
   "outputs": [
    {
     "data": {
      "text/plain": [
       "<matplotlib.axes._subplots.AxesSubplot at 0x1a2837b950>"
      ]
     },
     "execution_count": 43,
     "metadata": {},
     "output_type": "execute_result"
    },
    {
     "data": {
      "image/png": "[encoded data removed]",
      "text/plain": [
       "<Figure size 720x360 with 1 Axes>"
      ]
     },
     "metadata": {
      "needs_background": "light"
     },
     "output_type": "display_data"
    }
   ],
   "source": [
    "#plot daily returns of XLY\n",
    "\n",
    "returns_df['XLY return'].plot(figsize=(10,5))"
   ]
  },
  {
   "cell_type": "code",
   "execution_count": 45,
   "metadata": {},
   "outputs": [
    {
     "data": {
      "text/plain": [
       "<matplotlib.axes._subplots.AxesSubplot at 0x1a28677750>"
      ]
     },
     "execution_count": 45,
     "metadata": {},
     "output_type": "execute_result"
    },
    {
     "data": {
      "image/png": "[encoded data removed]",
      "text/plain": [
       "<Figure size 720x360 with 1 Axes>"
      ]
     },
     "metadata": {
      "needs_background": "light"
     },
     "output_type": "display_data"
    }
   ],
   "source": [
    "#plot daily returns of XLP\n",
    "\n",
    "returns_df['XLP return'].plot(figsize=(10,5))"
   ]
  },
  {
   "cell_type": "code",
   "execution_count": 46,
   "metadata": {},
   "outputs": [
    {
     "data": {
      "text/plain": [
       "<matplotlib.axes._subplots.AxesSubplot at 0x1a26bdfe50>"
      ]
     },
     "execution_count": 46,
     "metadata": {},
     "output_type": "execute_result"
    },
    {
     "data": {
      "image/png": "[encoded data removed]",
      "text/plain": [
       "<Figure size 720x360 with 1 Axes>"
      ]
     },
     "metadata": {
      "needs_background": "light"
     },
     "output_type": "display_data"
    }
   ],
   "source": [
    "#plot daily returns of IVW\n",
    "\n",
    "returns_df['IVW return'].plot(figsize=(10,5))"
   ]
  },
  {
   "cell_type": "code",
   "execution_count": 50,
   "metadata": {},
   "outputs": [
    {
     "data": {
      "text/plain": [
       "date\n",
       "2000-05-26         NaN\n",
       "2000-05-30    1.007608\n",
       "2000-05-31    1.031579\n",
       "2000-06-01    1.039192\n",
       "2000-06-02    1.067728\n",
       "Name: XLY return, dtype: float64"
      ]
     },
     "execution_count": 50,
     "metadata": {},
     "output_type": "execute_result"
    }
   ],
   "source": [
    "# Calculate the cumulative returns using the 'cumprod()' function\n",
    "cumulative_returns_xly = (1 + returns_df['XLY return']).cumprod()\n",
    "cumulative_returns_xlp = (1 + returns_df['XLP return']).cumprod()\n",
    "cumulative_returns_ivw = (1 + returns_df['IVW return']).cumprod()\n",
    "cumulative_returns_spy = (1 + returns_df['SP500 return']).cumprod()\n",
    "\n",
    "cumulative_returns_xly.head()"
   ]
  },
  {
   "cell_type": "code",
   "execution_count": 51,
   "metadata": {},
   "outputs": [
    {
     "data": {
      "text/plain": [
       "<matplotlib.axes._subplots.AxesSubplot at 0x1a29569ed0>"
      ]
     },
     "execution_count": 51,
     "metadata": {},
     "output_type": "execute_result"
    },
    {
     "data": {
      "image/png": "[encoded data removed]",
      "text/plain": [
       "<Figure size 720x360 with 1 Axes>"
      ]
     },
     "metadata": {
      "needs_background": "light"
     },
     "output_type": "display_data"
    }
   ],
   "source": [
    "#plot cumulative returns\n",
    "\n",
    "cumulative_returns_xly.plot(figsize=(10,5), legend=True)\n",
    "cumulative_returns_xlp.plot(figsize=(10,5), legend=True)\n",
    "cumulative_returns_ivw.plot(figsize=(10,5), legend=True)\n",
    "cumulative_returns_spy.plot(figsize=(10,5), legend=True)"
   ]
  },
  {
   "cell_type": "code",
   "execution_count": 56,
   "metadata": {},
   "outputs": [],
   "source": [
    "#need to check on dividend"
   ]
  },
  {
   "cell_type": "code",
   "execution_count": 54,
   "metadata": {},
   "outputs": [
    {
     "name": "stdout",
     "output_type": "stream",
     "text": [
      " XLY: 0.4955995473665896, XLP: 0.516631849698764, IVW:0.36610999593867377, SPY:0.37802120016801444\n"
     ]
    }
   ],
   "source": [
    "# Calculate Sharpe Ratios for the sectors\n",
    "\n",
    "XLY_sharpe_ratio = (returns_df['XLY return'].mean() * 252) / (returns_df['XLY return'].std() * np.sqrt(252))\n",
    "\n",
    "XLP_sharpe_ratio = (returns_df['XLP return'].mean() * 252) / (returns_df['XLP return'].std() * np.sqrt(252))\n",
    "\n",
    "IVW_sharpe_ratio = (returns_df['IVW return'].mean() * 252) / (returns_df['IVW return'].std() * np.sqrt(252))\n",
    "\n",
    "SPY_sharpe_ratio = (returns_df['SP500 return'].mean() * 252) / (returns_df['SP500 return'].std() * np.sqrt(252))\n",
    "\n",
    "print(f\" XLY: {XLY_sharpe_ratio}, XLP: {XLP_sharpe_ratio}, IVW:{IVW_sharpe_ratio}, SPY:{SPY_sharpe_ratio}\")\n",
    "\n",
    "\n"
   ]
  },
  {
   "cell_type": "code",
   "execution_count": 55,
   "metadata": {},
   "outputs": [
    {
     "data": {
      "text/html": [
       "<div>\n",
       "<style scoped>\n",
       "    .dataframe tbody tr th:only-of-type {\n",
       "        vertical-align: middle;\n",
       "    }\n",
       "\n",
       "    .dataframe tbody tr th {\n",
       "        vertical-align: top;\n",
       "    }\n",
       "\n",
       "    .dataframe thead th {\n",
       "        text-align: right;\n",
       "    }\n",
       "</style>\n",
       "<table border=\"1\" class=\"dataframe\">\n",
       "  <thead>\n",
       "    <tr style=\"text-align: right;\">\n",
       "      <th></th>\n",
       "      <th>XLY return</th>\n",
       "      <th>XLP return</th>\n",
       "      <th>IVW return</th>\n",
       "      <th>SP500 return</th>\n",
       "    </tr>\n",
       "    <tr>\n",
       "      <th>date</th>\n",
       "      <th></th>\n",
       "      <th></th>\n",
       "      <th></th>\n",
       "      <th></th>\n",
       "    </tr>\n",
       "  </thead>\n",
       "  <tbody>\n",
       "    <tr>\n",
       "      <th>2000-05-26</th>\n",
       "      <td>NaN</td>\n",
       "      <td>NaN</td>\n",
       "      <td>NaN</td>\n",
       "      <td>NaN</td>\n",
       "    </tr>\n",
       "    <tr>\n",
       "      <th>2000-05-30</th>\n",
       "      <td>0.007608</td>\n",
       "      <td>-0.005759</td>\n",
       "      <td>0.041496</td>\n",
       "      <td>0.032609</td>\n",
       "    </tr>\n",
       "    <tr>\n",
       "      <th>2000-05-31</th>\n",
       "      <td>0.023790</td>\n",
       "      <td>-0.009521</td>\n",
       "      <td>0.000000</td>\n",
       "      <td>0.002193</td>\n",
       "    </tr>\n",
       "    <tr>\n",
       "      <th>2000-06-01</th>\n",
       "      <td>0.007380</td>\n",
       "      <td>0.002509</td>\n",
       "      <td>0.012451</td>\n",
       "      <td>0.017506</td>\n",
       "    </tr>\n",
       "    <tr>\n",
       "      <th>2000-06-02</th>\n",
       "      <td>0.027460</td>\n",
       "      <td>-0.034585</td>\n",
       "      <td>0.032912</td>\n",
       "      <td>0.017418</td>\n",
       "    </tr>\n",
       "  </tbody>\n",
       "</table>\n",
       "</div>"
      ],
      "text/plain": [
       "            XLY return  XLP return  IVW return  SP500 return\n",
       "date                                                        \n",
       "2000-05-26         NaN         NaN         NaN           NaN\n",
       "2000-05-30    0.007608   -0.005759    0.041496      0.032609\n",
       "2000-05-31    0.023790   -0.009521    0.000000      0.002193\n",
       "2000-06-01    0.007380    0.002509    0.012451      0.017506\n",
       "2000-06-02    0.027460   -0.034585    0.032912      0.017418"
      ]
     },
     "execution_count": 55,
     "metadata": {},
     "output_type": "execute_result"
    }
   ],
   "source": [
    "returns_df.head()"
   ]
  },
  {
   "cell_type": "code",
   "execution_count": 56,
   "metadata": {},
   "outputs": [],
   "source": [
    "#START MONTE CARLO ANALYSIS (XLY)\n",
    "#Set number of simulations\n",
    "num_simulations = 1000\n",
    "\n",
    "# Set number of trading days and get last closing price of XLY from DataFrame\n",
    "\n",
    "num_trading_days = 30\n",
    "xly_last_price = returns_df['XLY return'][-1]\n",
    "\n",
    "# Initialize empty DataFrame to hold simulated prices for each simulation\n",
    "simulated_prices_XLY_df = pd.DataFrame()\n"
   ]
  },
  {
   "cell_type": "code",
   "execution_count": 57,
   "metadata": {},
   "outputs": [
    {
     "data": {
      "text/html": [
       "<div>\n",
       "<style scoped>\n",
       "    .dataframe tbody tr th:only-of-type {\n",
       "        vertical-align: middle;\n",
       "    }\n",
       "\n",
       "    .dataframe tbody tr th {\n",
       "        vertical-align: top;\n",
       "    }\n",
       "\n",
       "    .dataframe thead th {\n",
       "        text-align: right;\n",
       "    }\n",
       "</style>\n",
       "<table border=\"1\" class=\"dataframe\">\n",
       "  <thead>\n",
       "    <tr style=\"text-align: right;\">\n",
       "      <th></th>\n",
       "      <th>Simulation 1</th>\n",
       "      <th>Simulation 2</th>\n",
       "      <th>Simulation 3</th>\n",
       "      <th>Simulation 4</th>\n",
       "      <th>Simulation 5</th>\n",
       "      <th>Simulation 6</th>\n",
       "      <th>Simulation 7</th>\n",
       "      <th>Simulation 8</th>\n",
       "      <th>Simulation 9</th>\n",
       "      <th>Simulation 10</th>\n",
       "      <th>...</th>\n",
       "      <th>Simulation 991</th>\n",
       "      <th>Simulation 992</th>\n",
       "      <th>Simulation 993</th>\n",
       "      <th>Simulation 994</th>\n",
       "      <th>Simulation 995</th>\n",
       "      <th>Simulation 996</th>\n",
       "      <th>Simulation 997</th>\n",
       "      <th>Simulation 998</th>\n",
       "      <th>Simulation 999</th>\n",
       "      <th>Simulation 1000</th>\n",
       "    </tr>\n",
       "  </thead>\n",
       "  <tbody>\n",
       "    <tr>\n",
       "      <th>0</th>\n",
       "      <td>-0.037393</td>\n",
       "      <td>-0.037393</td>\n",
       "      <td>-0.037393</td>\n",
       "      <td>-0.037393</td>\n",
       "      <td>-0.037393</td>\n",
       "      <td>-0.037393</td>\n",
       "      <td>-0.037393</td>\n",
       "      <td>-0.037393</td>\n",
       "      <td>-0.037393</td>\n",
       "      <td>-0.037393</td>\n",
       "      <td>...</td>\n",
       "      <td>-0.037393</td>\n",
       "      <td>-0.037393</td>\n",
       "      <td>-0.037393</td>\n",
       "      <td>-0.037393</td>\n",
       "      <td>-0.037393</td>\n",
       "      <td>-0.037393</td>\n",
       "      <td>-0.037393</td>\n",
       "      <td>-0.037393</td>\n",
       "      <td>-0.037393</td>\n",
       "      <td>-0.037393</td>\n",
       "    </tr>\n",
       "    <tr>\n",
       "      <th>1</th>\n",
       "      <td>-0.037423</td>\n",
       "      <td>-0.037682</td>\n",
       "      <td>-0.036175</td>\n",
       "      <td>-0.037603</td>\n",
       "      <td>-0.037531</td>\n",
       "      <td>-0.037535</td>\n",
       "      <td>-0.037163</td>\n",
       "      <td>-0.037332</td>\n",
       "      <td>-0.037868</td>\n",
       "      <td>-0.038501</td>\n",
       "      <td>...</td>\n",
       "      <td>-0.037159</td>\n",
       "      <td>-0.038431</td>\n",
       "      <td>-0.037184</td>\n",
       "      <td>-0.037126</td>\n",
       "      <td>-0.037997</td>\n",
       "      <td>-0.037682</td>\n",
       "      <td>-0.037267</td>\n",
       "      <td>-0.037465</td>\n",
       "      <td>-0.036652</td>\n",
       "      <td>-0.037481</td>\n",
       "    </tr>\n",
       "    <tr>\n",
       "      <th>2</th>\n",
       "      <td>-0.038491</td>\n",
       "      <td>-0.038404</td>\n",
       "      <td>-0.035147</td>\n",
       "      <td>-0.038844</td>\n",
       "      <td>-0.037830</td>\n",
       "      <td>-0.038457</td>\n",
       "      <td>-0.037554</td>\n",
       "      <td>-0.037833</td>\n",
       "      <td>-0.037030</td>\n",
       "      <td>-0.038465</td>\n",
       "      <td>...</td>\n",
       "      <td>-0.037054</td>\n",
       "      <td>-0.038835</td>\n",
       "      <td>-0.037229</td>\n",
       "      <td>-0.036605</td>\n",
       "      <td>-0.038623</td>\n",
       "      <td>-0.037655</td>\n",
       "      <td>-0.037563</td>\n",
       "      <td>-0.037487</td>\n",
       "      <td>-0.036655</td>\n",
       "      <td>-0.037176</td>\n",
       "    </tr>\n",
       "    <tr>\n",
       "      <th>3</th>\n",
       "      <td>-0.038227</td>\n",
       "      <td>-0.039092</td>\n",
       "      <td>-0.035381</td>\n",
       "      <td>-0.038252</td>\n",
       "      <td>-0.037154</td>\n",
       "      <td>-0.037549</td>\n",
       "      <td>-0.037662</td>\n",
       "      <td>-0.038053</td>\n",
       "      <td>-0.037301</td>\n",
       "      <td>-0.038948</td>\n",
       "      <td>...</td>\n",
       "      <td>-0.037625</td>\n",
       "      <td>-0.040018</td>\n",
       "      <td>-0.036952</td>\n",
       "      <td>-0.036411</td>\n",
       "      <td>-0.038990</td>\n",
       "      <td>-0.038789</td>\n",
       "      <td>-0.037425</td>\n",
       "      <td>-0.038020</td>\n",
       "      <td>-0.036026</td>\n",
       "      <td>-0.037029</td>\n",
       "    </tr>\n",
       "    <tr>\n",
       "      <th>4</th>\n",
       "      <td>-0.038232</td>\n",
       "      <td>-0.039643</td>\n",
       "      <td>-0.035560</td>\n",
       "      <td>-0.037308</td>\n",
       "      <td>-0.037203</td>\n",
       "      <td>-0.037378</td>\n",
       "      <td>-0.038350</td>\n",
       "      <td>-0.038930</td>\n",
       "      <td>-0.037465</td>\n",
       "      <td>-0.039871</td>\n",
       "      <td>...</td>\n",
       "      <td>-0.037251</td>\n",
       "      <td>-0.040010</td>\n",
       "      <td>-0.037084</td>\n",
       "      <td>-0.035972</td>\n",
       "      <td>-0.038900</td>\n",
       "      <td>-0.038462</td>\n",
       "      <td>-0.036929</td>\n",
       "      <td>-0.038103</td>\n",
       "      <td>-0.036589</td>\n",
       "      <td>-0.037643</td>\n",
       "    </tr>\n",
       "  </tbody>\n",
       "</table>\n",
       "<p>5 rows × 1000 columns</p>\n",
       "</div>"
      ],
      "text/plain": [
       "   Simulation 1  Simulation 2  Simulation 3  Simulation 4  Simulation 5  \\\n",
       "0     -0.037393     -0.037393     -0.037393     -0.037393     -0.037393   \n",
       "1     -0.037423     -0.037682     -0.036175     -0.037603     -0.037531   \n",
       "2     -0.038491     -0.038404     -0.035147     -0.038844     -0.037830   \n",
       "3     -0.038227     -0.039092     -0.035381     -0.038252     -0.037154   \n",
       "4     -0.038232     -0.039643     -0.035560     -0.037308     -0.037203   \n",
       "\n",
       "   Simulation 6  Simulation 7  Simulation 8  Simulation 9  Simulation 10  ...  \\\n",
       "0     -0.037393     -0.037393     -0.037393     -0.037393      -0.037393  ...   \n",
       "1     -0.037535     -0.037163     -0.037332     -0.037868      -0.038501  ...   \n",
       "2     -0.038457     -0.037554     -0.037833     -0.037030      -0.038465  ...   \n",
       "3     -0.037549     -0.037662     -0.038053     -0.037301      -0.038948  ...   \n",
       "4     -0.037378     -0.038350     -0.038930     -0.037465      -0.039871  ...   \n",
       "\n",
       "   Simulation 991  Simulation 992  Simulation 993  Simulation 994  \\\n",
       "0       -0.037393       -0.037393       -0.037393       -0.037393   \n",
       "1       -0.037159       -0.038431       -0.037184       -0.037126   \n",
       "2       -0.037054       -0.038835       -0.037229       -0.036605   \n",
       "3       -0.037625       -0.040018       -0.036952       -0.036411   \n",
       "4       -0.037251       -0.040010       -0.037084       -0.035972   \n",
       "\n",
       "   Simulation 995  Simulation 996  Simulation 997  Simulation 998  \\\n",
       "0       -0.037393       -0.037393       -0.037393       -0.037393   \n",
       "1       -0.037997       -0.037682       -0.037267       -0.037465   \n",
       "2       -0.038623       -0.037655       -0.037563       -0.037487   \n",
       "3       -0.038990       -0.038789       -0.037425       -0.038020   \n",
       "4       -0.038900       -0.038462       -0.036929       -0.038103   \n",
       "\n",
       "   Simulation 999  Simulation 1000  \n",
       "0       -0.037393        -0.037393  \n",
       "1       -0.036652        -0.037481  \n",
       "2       -0.036655        -0.037176  \n",
       "3       -0.036026        -0.037029  \n",
       "4       -0.036589        -0.037643  \n",
       "\n",
       "[5 rows x 1000 columns]"
      ]
     },
     "execution_count": 57,
     "metadata": {},
     "output_type": "execute_result"
    }
   ],
   "source": [
    "## Run the simulation `1000` times for XLY\n",
    "for n in range(num_simulations):\n",
    "    \n",
    "    # Initialize the simulated prices list with the last closing price of XLY\n",
    "    simulated_XLY_prices = [xly_last_price]\n",
    "    simulated_XLY_prices\n",
    "\n",
    "    # Simulate the returns for 504 days\n",
    "    for i in range(num_trading_days):\n",
    "\n",
    "    # Calculate the simulated price using the last price within the list\n",
    "        simulated_price = simulated_XLY_prices[-1] * (1 + np.random.normal(avg_xly_daily_returns, std_xly_daily_returns))\n",
    "        # Append the simulated price to the list\n",
    "        simulated_XLY_prices.append(simulated_price)\n",
    "\n",
    "    # Append simulated price of each simulation to DataFrame\n",
    "    simulated_prices_XLY_df[f\"Simulation {n+1}\"] = pd.Series(simulated_XLY_prices)\n",
    "\n",
    "simulated_prices_XLY_df.head()\n",
    "\n",
    "\n"
   ]
  },
  {
   "cell_type": "code",
   "execution_count": 58,
   "metadata": {},
   "outputs": [
    {
     "data": {
      "text/plain": [
       "<matplotlib.axes._subplots.AxesSubplot at 0x1a28aeb090>"
      ]
     },
     "execution_count": 58,
     "metadata": {},
     "output_type": "execute_result"
    },
    {
     "data": {
      "image/png": "[encoded data removed]",
      "text/plain": [
       "<Figure size 432x288 with 1 Axes>"
      ]
     },
     "metadata": {
      "needs_background": "light"
     },
     "output_type": "display_data"
    }
   ],
   "source": [
    "#plot 1000 simulations of 30 trading days\n",
    "plot_title = f\"{n+1} Simulations of XLY Over the Next 30 Trading Days\"\n",
    "simulated_prices_XLY_df.plot(legend=None, title=plot_title)"
   ]
  },
  {
   "cell_type": "code",
   "execution_count": 34,
   "metadata": {},
   "outputs": [
    {
     "data": {
      "text/plain": [
       "Simulation 1   -6.280038e+49\n",
       "Simulation 2    1.924368e+49\n",
       "Simulation 3    1.204176e+53\n",
       "Simulation 4    2.458026e+48\n",
       "Simulation 5   -3.812681e+47\n",
       "Name: 30, dtype: float64"
      ]
     },
     "execution_count": 34,
     "metadata": {},
     "output_type": "execute_result"
    }
   ],
   "source": [
    "# Select the last row (price of each simulation on the 30th trading day)\n",
    "simulated_ending_prices_XLY = simulated_prices_XLY_df.iloc[-1, :]\n",
    "simulated_ending_prices_XLY.head()"
   ]
  },
  {
   "cell_type": "code",
   "execution_count": 35,
   "metadata": {},
   "outputs": [
    {
     "data": {
      "text/plain": [
       "<matplotlib.axes._subplots.AxesSubplot at 0x1a1fa3abd0>"
      ]
     },
     "execution_count": 35,
     "metadata": {},
     "output_type": "execute_result"
    },
    {
     "data": {
      "image/png": "[encoded data removed]",
      "text/plain": [
       "<Figure size 432x288 with 1 Axes>"
      ]
     },
     "metadata": {
      "needs_background": "light"
     },
     "output_type": "display_data"
    }
   ],
   "source": [
    "# Plot a frequency distribution of simulated ending prices\n",
    "simulated_ending_prices_XLY.plot(kind='hist')"
   ]
  },
  {
   "cell_type": "code",
   "execution_count": 36,
   "metadata": {},
   "outputs": [
    {
     "data": {
      "text/plain": [
       "0.025   -5.930527e+52\n",
       "0.975    1.198689e+53\n",
       "Name: 30, dtype: float64"
      ]
     },
     "execution_count": 36,
     "metadata": {},
     "output_type": "execute_result"
    }
   ],
   "source": [
    "# Use `quantile` function to calculate the 95% confidence interval for simulated ending prices\n",
    "confidence_interval = simulated_ending_prices_XLY.quantile(q=[0.025, 0.975])\n",
    "confidence_interval"
   ]
  },
  {
   "cell_type": "code",
   "execution_count": 37,
   "metadata": {},
   "outputs": [
    {
     "data": {
      "text/plain": [
       "<matplotlib.lines.Line2D at 0x1a1fa3af50>"
      ]
     },
     "execution_count": 37,
     "metadata": {},
     "output_type": "execute_result"
    },
    {
     "data": {
      "image/png": "[encoded data removed]",
      "text/plain": [
       "<Figure size 432x288 with 1 Axes>"
      ]
     },
     "metadata": {
      "needs_background": "light"
     },
     "output_type": "display_data"
    }
   ],
   "source": [
    "# Create a probability distribution histogram of simulated ending prices\n",
    "# Mark the 95% confidence interval\n",
    "plt.figure();\n",
    "simulated_ending_prices_XLY.plot(kind='hist', density=True, bins=10)\n",
    "plt.axvline(confidence_interval.iloc[0], color='r')\n",
    "plt.axvline(confidence_interval.iloc[1], color='r')"
   ]
  },
  {
   "cell_type": "code",
   "execution_count": 38,
   "metadata": {},
   "outputs": [
    {
     "name": "stdout",
     "output_type": "stream",
     "text": [
      "There is a 95% chance that an initial investment of $10,000 in XLB over the next 30 trading days will end within in the range of $-5.283790632936746e+54 and $1.0679693046503597e+55\n"
     ]
    }
   ],
   "source": [
    "# Set initial investment\n",
    "initial_investment = 10000\n",
    "\n",
    "# Calculate cumulative profit/loss of lower and upper bound\n",
    "cumulative_pnl_lower_bound = initial_investment * ((confidence_interval.iloc[0] - xly_last_price) / xly_last_price)\n",
    "cumulative_pnl_upper_bound = initial_investment * ((confidence_interval.iloc[1] - xly_last_price) / xly_last_price)\n",
    "\n",
    "# Add the initial investment to the cumulative profit/loss of lower and upper bound\n",
    "ending_investment_lower_bound = initial_investment + cumulative_pnl_lower_bound\n",
    "ending_investment_upper_bound = initial_investment + cumulative_pnl_upper_bound\n",
    "\n",
    "# Print the results\n",
    "print(f\"There is a 95% chance that an initial investment of $10,000 in XLB\"\n",
    "      f\" over the next 30 trading days will end within in the range of\"\n",
    "      f\" ${round(ending_investment_lower_bound,2)} and ${round(ending_investment_upper_bound,2)}\")"
   ]
  },
  {
   "cell_type": "code",
   "execution_count": 39,
   "metadata": {},
   "outputs": [
    {
     "ename": "KeyError",
     "evalue": "'XLP_return'",
     "output_type": "error",
     "traceback": [
      "\u001b[0;31m---------------------------------------------------------------------------\u001b[0m",
      "\u001b[0;31mTypeError\u001b[0m                                 Traceback (most recent call last)",
      "\u001b[0;32m~/opt/anaconda3/lib/python3.7/site-packages/pandas/core/indexes/base.py\u001b[0m in \u001b[0;36mget_value\u001b[0;34m(self, series, key)\u001b[0m\n\u001b[1;32m   4735\u001b[0m             \u001b[0;32mtry\u001b[0m\u001b[0;34m:\u001b[0m\u001b[0;34m\u001b[0m\u001b[0;34m\u001b[0m\u001b[0m\n\u001b[0;32m-> 4736\u001b[0;31m                 \u001b[0;32mreturn\u001b[0m \u001b[0mlibindex\u001b[0m\u001b[0;34m.\u001b[0m\u001b[0mget_value_box\u001b[0m\u001b[0;34m(\u001b[0m\u001b[0ms\u001b[0m\u001b[0;34m,\u001b[0m \u001b[0mkey\u001b[0m\u001b[0;34m)\u001b[0m\u001b[0;34m\u001b[0m\u001b[0;34m\u001b[0m\u001b[0m\n\u001b[0m\u001b[1;32m   4737\u001b[0m             \u001b[0;32mexcept\u001b[0m \u001b[0mIndexError\u001b[0m\u001b[0;34m:\u001b[0m\u001b[0;34m\u001b[0m\u001b[0;34m\u001b[0m\u001b[0m\n",
      "\u001b[0;32mpandas/_libs/index.pyx\u001b[0m in \u001b[0;36mpandas._libs.index.get_value_box\u001b[0;34m()\u001b[0m\n",
      "\u001b[0;32mpandas/_libs/index.pyx\u001b[0m in \u001b[0;36mpandas._libs.index.get_value_at\u001b[0;34m()\u001b[0m\n",
      "\u001b[0;32mpandas/_libs/util.pxd\u001b[0m in \u001b[0;36mpandas._libs.util.get_value_at\u001b[0;34m()\u001b[0m\n",
      "\u001b[0;32mpandas/_libs/util.pxd\u001b[0m in \u001b[0;36mpandas._libs.util.validate_indexer\u001b[0;34m()\u001b[0m\n",
      "\u001b[0;31mTypeError\u001b[0m: 'str' object cannot be interpreted as an integer",
      "\nDuring handling of the above exception, another exception occurred:\n",
      "\u001b[0;31mKeyError\u001b[0m                                  Traceback (most recent call last)",
      "\u001b[0;32m<ipython-input-39-54c04b02381f>\u001b[0m in \u001b[0;36m<module>\u001b[0;34m\u001b[0m\n\u001b[1;32m      2\u001b[0m \u001b[0;34m\u001b[0m\u001b[0m\n\u001b[1;32m      3\u001b[0m \u001b[0;31m# Calculate the mean of daily returns for XLP\u001b[0m\u001b[0;34m\u001b[0m\u001b[0;34m\u001b[0m\u001b[0;34m\u001b[0m\u001b[0m\n\u001b[0;32m----> 4\u001b[0;31m \u001b[0mavg_daily_return_xlp\u001b[0m \u001b[0;34m=\u001b[0m \u001b[0mconcat_df\u001b[0m\u001b[0;34m.\u001b[0m\u001b[0mmean\u001b[0m\u001b[0;34m(\u001b[0m\u001b[0;34m)\u001b[0m\u001b[0;34m[\u001b[0m\u001b[0;34m'XLP_return'\u001b[0m\u001b[0;34m]\u001b[0m\u001b[0;34m\u001b[0m\u001b[0;34m\u001b[0m\u001b[0m\n\u001b[0m\u001b[1;32m      5\u001b[0m \u001b[0mprint\u001b[0m\u001b[0;34m(\u001b[0m\u001b[0;34mf\"The average daily return of XLP is {avg_daily_return_xlp}\"\u001b[0m\u001b[0;34m)\u001b[0m\u001b[0;34m\u001b[0m\u001b[0;34m\u001b[0m\u001b[0m\n",
      "\u001b[0;32m~/opt/anaconda3/lib/python3.7/site-packages/pandas/core/series.py\u001b[0m in \u001b[0;36m__getitem__\u001b[0;34m(self, key)\u001b[0m\n\u001b[1;32m   1069\u001b[0m         \u001b[0mkey\u001b[0m \u001b[0;34m=\u001b[0m \u001b[0mcom\u001b[0m\u001b[0;34m.\u001b[0m\u001b[0mapply_if_callable\u001b[0m\u001b[0;34m(\u001b[0m\u001b[0mkey\u001b[0m\u001b[0;34m,\u001b[0m \u001b[0mself\u001b[0m\u001b[0;34m)\u001b[0m\u001b[0;34m\u001b[0m\u001b[0;34m\u001b[0m\u001b[0m\n\u001b[1;32m   1070\u001b[0m         \u001b[0;32mtry\u001b[0m\u001b[0;34m:\u001b[0m\u001b[0;34m\u001b[0m\u001b[0;34m\u001b[0m\u001b[0m\n\u001b[0;32m-> 1071\u001b[0;31m             \u001b[0mresult\u001b[0m \u001b[0;34m=\u001b[0m \u001b[0mself\u001b[0m\u001b[0;34m.\u001b[0m\u001b[0mindex\u001b[0m\u001b[0;34m.\u001b[0m\u001b[0mget_value\u001b[0m\u001b[0;34m(\u001b[0m\u001b[0mself\u001b[0m\u001b[0;34m,\u001b[0m \u001b[0mkey\u001b[0m\u001b[0;34m)\u001b[0m\u001b[0;34m\u001b[0m\u001b[0;34m\u001b[0m\u001b[0m\n\u001b[0m\u001b[1;32m   1072\u001b[0m \u001b[0;34m\u001b[0m\u001b[0m\n\u001b[1;32m   1073\u001b[0m             \u001b[0;32mif\u001b[0m \u001b[0;32mnot\u001b[0m \u001b[0mis_scalar\u001b[0m\u001b[0;34m(\u001b[0m\u001b[0mresult\u001b[0m\u001b[0;34m)\u001b[0m\u001b[0;34m:\u001b[0m\u001b[0;34m\u001b[0m\u001b[0;34m\u001b[0m\u001b[0m\n",
      "\u001b[0;32m~/opt/anaconda3/lib/python3.7/site-packages/pandas/core/indexes/base.py\u001b[0m in \u001b[0;36mget_value\u001b[0;34m(self, series, key)\u001b[0m\n\u001b[1;32m   4742\u001b[0m                     \u001b[0;32mraise\u001b[0m \u001b[0mInvalidIndexError\u001b[0m\u001b[0;34m(\u001b[0m\u001b[0mkey\u001b[0m\u001b[0;34m)\u001b[0m\u001b[0;34m\u001b[0m\u001b[0;34m\u001b[0m\u001b[0m\n\u001b[1;32m   4743\u001b[0m                 \u001b[0;32melse\u001b[0m\u001b[0;34m:\u001b[0m\u001b[0;34m\u001b[0m\u001b[0;34m\u001b[0m\u001b[0m\n\u001b[0;32m-> 4744\u001b[0;31m                     \u001b[0;32mraise\u001b[0m \u001b[0me1\u001b[0m\u001b[0;34m\u001b[0m\u001b[0;34m\u001b[0m\u001b[0m\n\u001b[0m\u001b[1;32m   4745\u001b[0m             \u001b[0;32mexcept\u001b[0m \u001b[0mException\u001b[0m\u001b[0;34m:\u001b[0m  \u001b[0;31m# pragma: no cover\u001b[0m\u001b[0;34m\u001b[0m\u001b[0;34m\u001b[0m\u001b[0m\n\u001b[1;32m   4746\u001b[0m                 \u001b[0;32mraise\u001b[0m \u001b[0me1\u001b[0m\u001b[0;34m\u001b[0m\u001b[0;34m\u001b[0m\u001b[0m\n",
      "\u001b[0;32m~/opt/anaconda3/lib/python3.7/site-packages/pandas/core/indexes/base.py\u001b[0m in \u001b[0;36mget_value\u001b[0;34m(self, series, key)\u001b[0m\n\u001b[1;32m   4728\u001b[0m         \u001b[0mk\u001b[0m \u001b[0;34m=\u001b[0m \u001b[0mself\u001b[0m\u001b[0;34m.\u001b[0m\u001b[0m_convert_scalar_indexer\u001b[0m\u001b[0;34m(\u001b[0m\u001b[0mk\u001b[0m\u001b[0;34m,\u001b[0m \u001b[0mkind\u001b[0m\u001b[0;34m=\u001b[0m\u001b[0;34m\"getitem\"\u001b[0m\u001b[0;34m)\u001b[0m\u001b[0;34m\u001b[0m\u001b[0;34m\u001b[0m\u001b[0m\n\u001b[1;32m   4729\u001b[0m         \u001b[0;32mtry\u001b[0m\u001b[0;34m:\u001b[0m\u001b[0;34m\u001b[0m\u001b[0;34m\u001b[0m\u001b[0m\n\u001b[0;32m-> 4730\u001b[0;31m             \u001b[0;32mreturn\u001b[0m \u001b[0mself\u001b[0m\u001b[0;34m.\u001b[0m\u001b[0m_engine\u001b[0m\u001b[0;34m.\u001b[0m\u001b[0mget_value\u001b[0m\u001b[0;34m(\u001b[0m\u001b[0ms\u001b[0m\u001b[0;34m,\u001b[0m \u001b[0mk\u001b[0m\u001b[0;34m,\u001b[0m \u001b[0mtz\u001b[0m\u001b[0;34m=\u001b[0m\u001b[0mgetattr\u001b[0m\u001b[0;34m(\u001b[0m\u001b[0mseries\u001b[0m\u001b[0;34m.\u001b[0m\u001b[0mdtype\u001b[0m\u001b[0;34m,\u001b[0m \u001b[0;34m\"tz\"\u001b[0m\u001b[0;34m,\u001b[0m \u001b[0;32mNone\u001b[0m\u001b[0;34m)\u001b[0m\u001b[0;34m)\u001b[0m\u001b[0;34m\u001b[0m\u001b[0;34m\u001b[0m\u001b[0m\n\u001b[0m\u001b[1;32m   4731\u001b[0m         \u001b[0;32mexcept\u001b[0m \u001b[0mKeyError\u001b[0m \u001b[0;32mas\u001b[0m \u001b[0me1\u001b[0m\u001b[0;34m:\u001b[0m\u001b[0;34m\u001b[0m\u001b[0;34m\u001b[0m\u001b[0m\n\u001b[1;32m   4732\u001b[0m             \u001b[0;32mif\u001b[0m \u001b[0mlen\u001b[0m\u001b[0;34m(\u001b[0m\u001b[0mself\u001b[0m\u001b[0;34m)\u001b[0m \u001b[0;34m>\u001b[0m \u001b[0;36m0\u001b[0m \u001b[0;32mand\u001b[0m \u001b[0;34m(\u001b[0m\u001b[0mself\u001b[0m\u001b[0;34m.\u001b[0m\u001b[0mholds_integer\u001b[0m\u001b[0;34m(\u001b[0m\u001b[0;34m)\u001b[0m \u001b[0;32mor\u001b[0m \u001b[0mself\u001b[0m\u001b[0;34m.\u001b[0m\u001b[0mis_boolean\u001b[0m\u001b[0;34m(\u001b[0m\u001b[0;34m)\u001b[0m\u001b[0;34m)\u001b[0m\u001b[0;34m:\u001b[0m\u001b[0;34m\u001b[0m\u001b[0;34m\u001b[0m\u001b[0m\n",
      "\u001b[0;32mpandas/_libs/index.pyx\u001b[0m in \u001b[0;36mpandas._libs.index.IndexEngine.get_value\u001b[0;34m()\u001b[0m\n",
      "\u001b[0;32mpandas/_libs/index.pyx\u001b[0m in \u001b[0;36mpandas._libs.index.IndexEngine.get_value\u001b[0;34m()\u001b[0m\n",
      "\u001b[0;32mpandas/_libs/index.pyx\u001b[0m in \u001b[0;36mpandas._libs.index.IndexEngine.get_loc\u001b[0;34m()\u001b[0m\n",
      "\u001b[0;32mpandas/_libs/hashtable_class_helper.pxi\u001b[0m in \u001b[0;36mpandas._libs.hashtable.PyObjectHashTable.get_item\u001b[0;34m()\u001b[0m\n",
      "\u001b[0;32mpandas/_libs/hashtable_class_helper.pxi\u001b[0m in \u001b[0;36mpandas._libs.hashtable.PyObjectHashTable.get_item\u001b[0;34m()\u001b[0m\n",
      "\u001b[0;31mKeyError\u001b[0m: 'XLP_return'"
     ]
    }
   ],
   "source": [
    "#START MONTE CARLO ANALYSIS XLP\n",
    "\n",
    "# Calculate the mean of daily returns for XLP\n",
    "avg_daily_return_xlp = concat_df.mean()['XLP_return']\n",
    "print(f\"The average daily return of XLP is {avg_daily_return_xlp}\")"
   ]
  },
  {
   "cell_type": "code",
   "execution_count": null,
   "metadata": {},
   "outputs": [],
   "source": [
    "#Set number of simulations\n",
    "num_simulations = 1000\n",
    "\n",
    "# Set number of trading days and get last closing price of XLP from DataFrame\n",
    "\n",
    "num_trading_days = 30\n",
    "xlp_last_price = concat_df['XLP close'][-1]\n",
    "\n",
    "# Initialize empty DataFrame to hold simulated prices for each simulation\n",
    "simulated_prices_XLP_df = pd.DataFrame()"
   ]
  },
  {
   "cell_type": "code",
   "execution_count": null,
   "metadata": {},
   "outputs": [],
   "source": [
    "# Run the simulation `1000` times\n",
    "for n in range(num_simulations):\n",
    "    \n",
    "    # Initialize the simulated prices list with the last closing price of XLP\n",
    "    simulated_XLP_prices = [xlp_last_price]\n",
    "    simulated_XLP_prices\n",
    "\n",
    "    # Simulate the returns for 30 days\n",
    "    for i in range(num_trading_days):\n",
    "\n",
    "    # Calculate the simulated price using the last price within the list\n",
    "        simulated_price = simulated_XLP_prices[-1] * (1 + np.random.normal(avg_daily_return_xlp, std_xlp_daily_returns))\n",
    "        # Append the simulated price to the list\n",
    "        simulated_XLP_prices.append(simulated_price)\n",
    "\n",
    "    # Append simulated price of each simulation to DataFrame\n",
    "    simulated_prices_XLP_df[f\"Simulation {n+1}\"] = pd.Series(simulated_XLP_prices)\n",
    "\n",
    "simulated_prices_XLP_df.head()"
   ]
  },
  {
   "cell_type": "code",
   "execution_count": null,
   "metadata": {},
   "outputs": [],
   "source": [
    "#Plot 1000 simulations of 30 trading days\n",
    "plot_title = f\"{n+1} Simulations of XLP Over the Next 30 Trading Days\"\n",
    "simulated_prices_XLP_df.plot(legend=None, title=plot_title)"
   ]
  },
  {
   "cell_type": "code",
   "execution_count": null,
   "metadata": {},
   "outputs": [],
   "source": [
    "# Select the last row (price of each simulation on the 30th trading day)\n",
    "simulated_ending_prices_XLP = simulated_prices_XLP_df.iloc[-1, :]\n",
    "simulated_ending_prices_XLP.head()"
   ]
  },
  {
   "cell_type": "code",
   "execution_count": null,
   "metadata": {},
   "outputs": [],
   "source": []
  }
 ],
 "metadata": {
  "kernelspec": {
   "display_name": "Python 3",
   "language": "python",
   "name": "python3"
  },
  "language_info": {
   "codemirror_mode": {
    "name": "ipython",
    "version": 3
   },
   "file_extension": ".py",
   "mimetype": "text/x-python",
   "name": "python",
   "nbconvert_exporter": "python",
   "pygments_lexer": "ipython3",
   "version": "3.7.4"
  }
 },
 "nbformat": 4,
 "nbformat_minor": 4
}
