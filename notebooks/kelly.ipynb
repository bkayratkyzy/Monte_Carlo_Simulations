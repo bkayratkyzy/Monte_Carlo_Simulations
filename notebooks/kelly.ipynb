{
 "cells": [
  {
   "cell_type": "code",
   "execution_count": 51,
   "metadata": {},
   "outputs": [],
   "source": [
    "#     API Alpaca\n",
    "#     Data cleanup\n",
    "#     Consumer Discretionary Monte Carlo = XLY\n",
    "#     Consumer Staples Monte Carlo = XLP\n",
    "#     SP500 GROWTH Monte Carlo = SGX\n"
   ]
  },
  {
   "cell_type": "code",
   "execution_count": 111,
   "metadata": {},
   "outputs": [],
   "source": [
    "#import libraries\n",
    "import numpy as np\n",
    "import pandas as pd\n",
    "from datetime import datetime, timedelta\n",
    "import matplotlib.pyplot as plt\n",
    "import json\n",
    "from pathlib import Path\n",
    "import alpaca_trade_api as tradeapi\n",
    "import requests\n",
    "import os\n",
    "import seaborn as sns\n",
    "from dotenv import load_dotenv\n",
    "\n",
    "%matplotlib inline"
   ]
  },
  {
   "cell_type": "code",
   "execution_count": 53,
   "metadata": {},
   "outputs": [
    {
     "data": {
      "text/plain": [
       "str"
      ]
     },
     "execution_count": 53,
     "metadata": {},
     "output_type": "execute_result"
    }
   ],
   "source": [
    "# Load .env enviroment variables\n",
    "from dotenv import load_dotenv\n",
    "load_dotenv()\n",
    "\n",
    "# Set Alpaca API key and secret\n",
    "APCA_API_KEY_ID = os.getenv(\"APCA_API_KEY\")\n",
    "APCA_SECRET_KEY = os.getenv(\"APCA_SECRET_KEY\")\n",
    "\n",
    "api = tradeapi.REST(APCA_API_KEY_ID, APCA_SECRET_KEY, api_version='v2')\n",
    "type(APCA_API_KEY_ID)\n"
   ]
  },
  {
   "cell_type": "code",
   "execution_count": 54,
   "metadata": {},
   "outputs": [],
   "source": [
    "#Use alpha vantage to get historic quotes for XLY,XLP,SGX. This goes back 20 years.\n",
    "\n",
    "xly_df = api.alpha_vantage.historic_quotes('XLY', adjusted=True, output_format='pandas')\n",
    "xly_df.head()\n",
    "\n",
    "xlp_df = api.alpha_vantage.historic_quotes('XLP', adjusted=True, output_format='pandas')\n",
    "#xlp_df.tail()\n",
    "\n",
    "ivw_df = api.alpha_vantage.historic_quotes('IVW', adjusted=True, output_format='pandas')\n",
    "#ivw_df.head()\n"
   ]
  },
  {
   "cell_type": "code",
   "execution_count": 55,
   "metadata": {},
   "outputs": [
    {
     "data": {
      "text/html": [
       "<div>\n",
       "<style scoped>\n",
       "    .dataframe tbody tr th:only-of-type {\n",
       "        vertical-align: middle;\n",
       "    }\n",
       "\n",
       "    .dataframe tbody tr th {\n",
       "        vertical-align: top;\n",
       "    }\n",
       "\n",
       "    .dataframe thead th {\n",
       "        text-align: right;\n",
       "    }\n",
       "</style>\n",
       "<table border=\"1\" class=\"dataframe\">\n",
       "  <thead>\n",
       "    <tr style=\"text-align: right;\">\n",
       "      <th></th>\n",
       "      <th>1. open</th>\n",
       "      <th>2. high</th>\n",
       "      <th>3. low</th>\n",
       "      <th>4. close</th>\n",
       "      <th>5. adjusted close</th>\n",
       "      <th>6. volume</th>\n",
       "      <th>7. dividend amount</th>\n",
       "      <th>8. split coefficient</th>\n",
       "    </tr>\n",
       "    <tr>\n",
       "      <th>date</th>\n",
       "      <th></th>\n",
       "      <th></th>\n",
       "      <th></th>\n",
       "      <th></th>\n",
       "      <th></th>\n",
       "      <th></th>\n",
       "      <th></th>\n",
       "      <th></th>\n",
       "    </tr>\n",
       "  </thead>\n",
       "  <tbody>\n",
       "    <tr>\n",
       "      <th>2020-04-30</th>\n",
       "      <td>116.48</td>\n",
       "      <td>117.30</td>\n",
       "      <td>115.3988</td>\n",
       "      <td>116.60</td>\n",
       "      <td>116.60</td>\n",
       "      <td>5013531.0</td>\n",
       "      <td>0.0</td>\n",
       "      <td>1.0</td>\n",
       "    </tr>\n",
       "    <tr>\n",
       "      <th>2020-04-29</th>\n",
       "      <td>117.03</td>\n",
       "      <td>118.21</td>\n",
       "      <td>116.3800</td>\n",
       "      <td>117.33</td>\n",
       "      <td>117.33</td>\n",
       "      <td>4998795.0</td>\n",
       "      <td>0.0</td>\n",
       "      <td>1.0</td>\n",
       "    </tr>\n",
       "    <tr>\n",
       "      <th>2020-04-28</th>\n",
       "      <td>116.49</td>\n",
       "      <td>116.90</td>\n",
       "      <td>114.2200</td>\n",
       "      <td>114.80</td>\n",
       "      <td>114.80</td>\n",
       "      <td>4729438.0</td>\n",
       "      <td>0.0</td>\n",
       "      <td>1.0</td>\n",
       "    </tr>\n",
       "    <tr>\n",
       "      <th>2020-04-27</th>\n",
       "      <td>113.40</td>\n",
       "      <td>115.09</td>\n",
       "      <td>113.2900</td>\n",
       "      <td>114.35</td>\n",
       "      <td>114.35</td>\n",
       "      <td>4118447.0</td>\n",
       "      <td>0.0</td>\n",
       "      <td>1.0</td>\n",
       "    </tr>\n",
       "    <tr>\n",
       "      <th>2020-04-24</th>\n",
       "      <td>111.52</td>\n",
       "      <td>112.75</td>\n",
       "      <td>110.4950</td>\n",
       "      <td>112.25</td>\n",
       "      <td>112.25</td>\n",
       "      <td>2914498.0</td>\n",
       "      <td>0.0</td>\n",
       "      <td>1.0</td>\n",
       "    </tr>\n",
       "  </tbody>\n",
       "</table>\n",
       "</div>"
      ],
      "text/plain": [
       "            1. open  2. high    3. low  4. close  5. adjusted close  \\\n",
       "date                                                                  \n",
       "2020-04-30   116.48   117.30  115.3988    116.60             116.60   \n",
       "2020-04-29   117.03   118.21  116.3800    117.33             117.33   \n",
       "2020-04-28   116.49   116.90  114.2200    114.80             114.80   \n",
       "2020-04-27   113.40   115.09  113.2900    114.35             114.35   \n",
       "2020-04-24   111.52   112.75  110.4950    112.25             112.25   \n",
       "\n",
       "            6. volume  7. dividend amount  8. split coefficient  \n",
       "date                                                             \n",
       "2020-04-30  5013531.0                 0.0                   1.0  \n",
       "2020-04-29  4998795.0                 0.0                   1.0  \n",
       "2020-04-28  4729438.0                 0.0                   1.0  \n",
       "2020-04-27  4118447.0                 0.0                   1.0  \n",
       "2020-04-24  2914498.0                 0.0                   1.0  "
      ]
     },
     "execution_count": 55,
     "metadata": {},
     "output_type": "execute_result"
    }
   ],
   "source": [
    "xly_df.head()\n"
   ]
  },
  {
   "cell_type": "code",
   "execution_count": 56,
   "metadata": {},
   "outputs": [
    {
     "data": {
      "text/html": [
       "<div>\n",
       "<style scoped>\n",
       "    .dataframe tbody tr th:only-of-type {\n",
       "        vertical-align: middle;\n",
       "    }\n",
       "\n",
       "    .dataframe tbody tr th {\n",
       "        vertical-align: top;\n",
       "    }\n",
       "\n",
       "    .dataframe thead th {\n",
       "        text-align: right;\n",
       "    }\n",
       "</style>\n",
       "<table border=\"1\" class=\"dataframe\">\n",
       "  <thead>\n",
       "    <tr style=\"text-align: right;\">\n",
       "      <th></th>\n",
       "      <th>5. adjusted close</th>\n",
       "      <th>5. adjusted close</th>\n",
       "      <th>5. adjusted close</th>\n",
       "    </tr>\n",
       "    <tr>\n",
       "      <th>date</th>\n",
       "      <th></th>\n",
       "      <th></th>\n",
       "      <th></th>\n",
       "    </tr>\n",
       "  </thead>\n",
       "  <tbody>\n",
       "    <tr>\n",
       "      <th>2020-04-30</th>\n",
       "      <td>116.60</td>\n",
       "      <td>58.26</td>\n",
       "      <td>188.57</td>\n",
       "    </tr>\n",
       "    <tr>\n",
       "      <th>2020-04-29</th>\n",
       "      <td>117.33</td>\n",
       "      <td>58.96</td>\n",
       "      <td>188.89</td>\n",
       "    </tr>\n",
       "    <tr>\n",
       "      <th>2020-04-28</th>\n",
       "      <td>114.80</td>\n",
       "      <td>59.21</td>\n",
       "      <td>183.09</td>\n",
       "    </tr>\n",
       "    <tr>\n",
       "      <th>2020-04-27</th>\n",
       "      <td>114.35</td>\n",
       "      <td>58.88</td>\n",
       "      <td>185.34</td>\n",
       "    </tr>\n",
       "    <tr>\n",
       "      <th>2020-04-24</th>\n",
       "      <td>112.25</td>\n",
       "      <td>58.71</td>\n",
       "      <td>183.50</td>\n",
       "    </tr>\n",
       "  </tbody>\n",
       "</table>\n",
       "</div>"
      ],
      "text/plain": [
       "            5. adjusted close  5. adjusted close  5. adjusted close\n",
       "date                                                               \n",
       "2020-04-30             116.60              58.26             188.57\n",
       "2020-04-29             117.33              58.96             188.89\n",
       "2020-04-28             114.80              59.21             183.09\n",
       "2020-04-27             114.35              58.88             185.34\n",
       "2020-04-24             112.25              58.71             183.50"
      ]
     },
     "execution_count": 56,
     "metadata": {},
     "output_type": "execute_result"
    }
   ],
   "source": [
    "#DATA CLEANUP\n",
    "\n",
    "#Select the one column we need,  \"adjusted close\", and drop the others\n",
    "\n",
    "xly_df = xly_df['5. adjusted close']\n",
    "xly_df.head()\n",
    "\n",
    "xlp_df = xlp_df['5. adjusted close']\n",
    "xlp_df.head()\n",
    "\n",
    "ivw_df = ivw_df['5. adjusted close']\n",
    "ivw_df.head()\n",
    "\n",
    "#Use concat to put the data in one dataframe\n",
    "concat_df = pd.concat([xly_df, xlp_df, ivw_df], axis = \"columns\", join = \"inner\")\n",
    "concat_df.head()\n",
    "    "
   ]
  },
  {
   "cell_type": "code",
   "execution_count": 57,
   "metadata": {},
   "outputs": [
    {
     "name": "stdout",
     "output_type": "stream",
     "text": [
      "Index(['5. adjusted close', '5. adjusted close', '5. adjusted close'], dtype='object')\n"
     ]
    }
   ],
   "source": [
    "#print column names\n",
    "print(concat_df.columns)\n"
   ]
  },
  {
   "cell_type": "code",
   "execution_count": 59,
   "metadata": {},
   "outputs": [
    {
     "data": {
      "text/html": [
       "<div>\n",
       "<style scoped>\n",
       "    .dataframe tbody tr th:only-of-type {\n",
       "        vertical-align: middle;\n",
       "    }\n",
       "\n",
       "    .dataframe tbody tr th {\n",
       "        vertical-align: top;\n",
       "    }\n",
       "\n",
       "    .dataframe thead th {\n",
       "        text-align: right;\n",
       "    }\n",
       "</style>\n",
       "<table border=\"1\" class=\"dataframe\">\n",
       "  <thead>\n",
       "    <tr style=\"text-align: right;\">\n",
       "      <th></th>\n",
       "      <th>XLY close</th>\n",
       "      <th>XLP close</th>\n",
       "      <th>IVW close</th>\n",
       "    </tr>\n",
       "    <tr>\n",
       "      <th>date</th>\n",
       "      <th></th>\n",
       "      <th></th>\n",
       "      <th></th>\n",
       "    </tr>\n",
       "  </thead>\n",
       "  <tbody>\n",
       "    <tr>\n",
       "      <th>2020-04-30</th>\n",
       "      <td>116.60</td>\n",
       "      <td>58.26</td>\n",
       "      <td>188.57</td>\n",
       "    </tr>\n",
       "    <tr>\n",
       "      <th>2020-04-29</th>\n",
       "      <td>117.33</td>\n",
       "      <td>58.96</td>\n",
       "      <td>188.89</td>\n",
       "    </tr>\n",
       "    <tr>\n",
       "      <th>2020-04-28</th>\n",
       "      <td>114.80</td>\n",
       "      <td>59.21</td>\n",
       "      <td>183.09</td>\n",
       "    </tr>\n",
       "    <tr>\n",
       "      <th>2020-04-27</th>\n",
       "      <td>114.35</td>\n",
       "      <td>58.88</td>\n",
       "      <td>185.34</td>\n",
       "    </tr>\n",
       "    <tr>\n",
       "      <th>2020-04-24</th>\n",
       "      <td>112.25</td>\n",
       "      <td>58.71</td>\n",
       "      <td>183.50</td>\n",
       "    </tr>\n",
       "  </tbody>\n",
       "</table>\n",
       "</div>"
      ],
      "text/plain": [
       "            XLY close  XLP close  IVW close\n",
       "date                                       \n",
       "2020-04-30     116.60      58.26     188.57\n",
       "2020-04-29     117.33      58.96     188.89\n",
       "2020-04-28     114.80      59.21     183.09\n",
       "2020-04-27     114.35      58.88     185.34\n",
       "2020-04-24     112.25      58.71     183.50"
      ]
     },
     "execution_count": 59,
     "metadata": {},
     "output_type": "execute_result"
    }
   ],
   "source": [
    "#Change column names to avoid confusion\n",
    "columns = ['XLY close', 'XLP close', 'IVW close']\n",
    "concat_df.columns = columns\n",
    "concat_df.head()\n"
   ]
  },
  {
   "cell_type": "code",
   "execution_count": 60,
   "metadata": {},
   "outputs": [
    {
     "data": {
      "text/html": [
       "<div>\n",
       "<style scoped>\n",
       "    .dataframe tbody tr th:only-of-type {\n",
       "        vertical-align: middle;\n",
       "    }\n",
       "\n",
       "    .dataframe tbody tr th {\n",
       "        vertical-align: top;\n",
       "    }\n",
       "\n",
       "    .dataframe thead th {\n",
       "        text-align: right;\n",
       "    }\n",
       "</style>\n",
       "<table border=\"1\" class=\"dataframe\">\n",
       "  <thead>\n",
       "    <tr style=\"text-align: right;\">\n",
       "      <th></th>\n",
       "      <th>XLY close</th>\n",
       "      <th>XLP close</th>\n",
       "      <th>IVW close</th>\n",
       "      <th>XLY_return</th>\n",
       "      <th>XLP_return</th>\n",
       "      <th>IVW_return</th>\n",
       "    </tr>\n",
       "    <tr>\n",
       "      <th>date</th>\n",
       "      <th></th>\n",
       "      <th></th>\n",
       "      <th></th>\n",
       "      <th></th>\n",
       "      <th></th>\n",
       "      <th></th>\n",
       "    </tr>\n",
       "  </thead>\n",
       "  <tbody>\n",
       "    <tr>\n",
       "      <th>2020-04-30</th>\n",
       "      <td>116.60</td>\n",
       "      <td>58.26</td>\n",
       "      <td>188.57</td>\n",
       "      <td>NaN</td>\n",
       "      <td>NaN</td>\n",
       "      <td>NaN</td>\n",
       "    </tr>\n",
       "    <tr>\n",
       "      <th>2020-04-29</th>\n",
       "      <td>117.33</td>\n",
       "      <td>58.96</td>\n",
       "      <td>188.89</td>\n",
       "      <td>0.006261</td>\n",
       "      <td>0.012015</td>\n",
       "      <td>0.001697</td>\n",
       "    </tr>\n",
       "    <tr>\n",
       "      <th>2020-04-28</th>\n",
       "      <td>114.80</td>\n",
       "      <td>59.21</td>\n",
       "      <td>183.09</td>\n",
       "      <td>-0.021563</td>\n",
       "      <td>0.004240</td>\n",
       "      <td>-0.030706</td>\n",
       "    </tr>\n",
       "    <tr>\n",
       "      <th>2020-04-27</th>\n",
       "      <td>114.35</td>\n",
       "      <td>58.88</td>\n",
       "      <td>185.34</td>\n",
       "      <td>-0.003920</td>\n",
       "      <td>-0.005573</td>\n",
       "      <td>0.012289</td>\n",
       "    </tr>\n",
       "    <tr>\n",
       "      <th>2020-04-24</th>\n",
       "      <td>112.25</td>\n",
       "      <td>58.71</td>\n",
       "      <td>183.50</td>\n",
       "      <td>-0.018365</td>\n",
       "      <td>-0.002887</td>\n",
       "      <td>-0.009928</td>\n",
       "    </tr>\n",
       "  </tbody>\n",
       "</table>\n",
       "</div>"
      ],
      "text/plain": [
       "            XLY close  XLP close  IVW close  XLY_return  XLP_return  \\\n",
       "date                                                                  \n",
       "2020-04-30     116.60      58.26     188.57         NaN         NaN   \n",
       "2020-04-29     117.33      58.96     188.89    0.006261    0.012015   \n",
       "2020-04-28     114.80      59.21     183.09   -0.021563    0.004240   \n",
       "2020-04-27     114.35      58.88     185.34   -0.003920   -0.005573   \n",
       "2020-04-24     112.25      58.71     183.50   -0.018365   -0.002887   \n",
       "\n",
       "            IVW_return  \n",
       "date                    \n",
       "2020-04-30         NaN  \n",
       "2020-04-29    0.001697  \n",
       "2020-04-28   -0.030706  \n",
       "2020-04-27    0.012289  \n",
       "2020-04-24   -0.009928  "
      ]
     },
     "execution_count": 60,
     "metadata": {},
     "output_type": "execute_result"
    }
   ],
   "source": [
    "#add another column to get daily returns of XLY\n",
    "daily_returns_xly = xly_df.pct_change()\n",
    "concat_df['XLY_return']= daily_returns_xly \n",
    "\n",
    "#add another column to get daily returns of XLP\n",
    "daily_returns_xlp = xlp_df.pct_change()\n",
    "concat_df['XLP_return']= daily_returns_xlp \n",
    "\n",
    "#add another column to get daily returns of SGX\n",
    "daily_returns_ivw = ivw_df.pct_change()\n",
    "concat_df['IVW_return']= daily_returns_ivw \n",
    "\n",
    "concat_df.head()"
   ]
  },
  {
   "cell_type": "code",
   "execution_count": 61,
   "metadata": {},
   "outputs": [
    {
     "data": {
      "text/plain": [
       "XLY close     0\n",
       "XLP close     0\n",
       "IVW close     0\n",
       "XLY_return    1\n",
       "XLP_return    1\n",
       "IVW_return    1\n",
       "dtype: int64"
      ]
     },
     "execution_count": 61,
     "metadata": {},
     "output_type": "execute_result"
    }
   ],
   "source": [
    "#check for nulls\n",
    "\n",
    "concat_df.isnull().sum()"
   ]
  },
  {
   "cell_type": "code",
   "execution_count": 62,
   "metadata": {},
   "outputs": [
    {
     "data": {
      "text/plain": [
       "XLY close     0\n",
       "XLP close     0\n",
       "IVW close     0\n",
       "XLY_return    0\n",
       "XLP_return    0\n",
       "IVW_return    0\n",
       "dtype: int64"
      ]
     },
     "execution_count": 62,
     "metadata": {},
     "output_type": "execute_result"
    }
   ],
   "source": [
    "# Drop nulls\n",
    "concat_df.dropna(inplace=True)\n",
    "\n",
    "#count nulls again\n",
    "concat_df.isnull().sum()"
   ]
  },
  {
   "cell_type": "code",
   "execution_count": 63,
   "metadata": {},
   "outputs": [
    {
     "data": {
      "text/plain": [
       "date\n",
       "2020-04-29    False\n",
       "2020-04-28    False\n",
       "2020-04-27    False\n",
       "2020-04-24    False\n",
       "2020-04-23    False\n",
       "              ...  \n",
       "2000-06-02    False\n",
       "2000-06-01    False\n",
       "2000-05-31    False\n",
       "2000-05-30    False\n",
       "2000-05-26    False\n",
       "Length: 5012, dtype: bool"
      ]
     },
     "execution_count": 63,
     "metadata": {},
     "output_type": "execute_result"
    }
   ],
   "source": [
    "# Checking for duplicate rows\n",
    "concat_df.duplicated()"
   ]
  },
  {
   "cell_type": "code",
   "execution_count": 64,
   "metadata": {},
   "outputs": [],
   "source": [
    "# drop duplicates\n",
    "concat_df.drop_duplicates(inplace=True)"
   ]
  },
  {
   "cell_type": "code",
   "execution_count": 65,
   "metadata": {},
   "outputs": [],
   "source": [
    "concat_df.sort_index(inplace=True, ascending=True)"
   ]
  },
  {
   "cell_type": "code",
   "execution_count": 66,
   "metadata": {},
   "outputs": [
    {
     "data": {
      "text/html": [
       "<div>\n",
       "<style scoped>\n",
       "    .dataframe tbody tr th:only-of-type {\n",
       "        vertical-align: middle;\n",
       "    }\n",
       "\n",
       "    .dataframe tbody tr th {\n",
       "        vertical-align: top;\n",
       "    }\n",
       "\n",
       "    .dataframe thead th {\n",
       "        text-align: right;\n",
       "    }\n",
       "</style>\n",
       "<table border=\"1\" class=\"dataframe\">\n",
       "  <thead>\n",
       "    <tr style=\"text-align: right;\">\n",
       "      <th></th>\n",
       "      <th>XLY close</th>\n",
       "      <th>XLP close</th>\n",
       "      <th>IVW close</th>\n",
       "      <th>XLY_return</th>\n",
       "      <th>XLP_return</th>\n",
       "      <th>IVW_return</th>\n",
       "    </tr>\n",
       "    <tr>\n",
       "      <th>date</th>\n",
       "      <th></th>\n",
       "      <th></th>\n",
       "      <th></th>\n",
       "      <th></th>\n",
       "      <th></th>\n",
       "      <th></th>\n",
       "    </tr>\n",
       "  </thead>\n",
       "  <tbody>\n",
       "    <tr>\n",
       "      <th>2000-05-26</th>\n",
       "      <td>20.4125</td>\n",
       "      <td>15.2972</td>\n",
       "      <td>61.6055</td>\n",
       "      <td>-0.007551</td>\n",
       "      <td>0.005793</td>\n",
       "      <td>-0.039843</td>\n",
       "    </tr>\n",
       "    <tr>\n",
       "      <th>2000-05-30</th>\n",
       "      <td>20.5678</td>\n",
       "      <td>15.2091</td>\n",
       "      <td>64.1619</td>\n",
       "      <td>-0.023237</td>\n",
       "      <td>0.009612</td>\n",
       "      <td>0.000000</td>\n",
       "    </tr>\n",
       "    <tr>\n",
       "      <th>2000-05-31</th>\n",
       "      <td>21.0571</td>\n",
       "      <td>15.0643</td>\n",
       "      <td>64.1619</td>\n",
       "      <td>-0.007326</td>\n",
       "      <td>-0.002503</td>\n",
       "      <td>-0.012298</td>\n",
       "    </tr>\n",
       "    <tr>\n",
       "      <th>2000-06-01</th>\n",
       "      <td>21.2125</td>\n",
       "      <td>15.1021</td>\n",
       "      <td>64.9608</td>\n",
       "      <td>-0.026726</td>\n",
       "      <td>0.035824</td>\n",
       "      <td>-0.031863</td>\n",
       "    </tr>\n",
       "    <tr>\n",
       "      <th>2000-06-02</th>\n",
       "      <td>21.7950</td>\n",
       "      <td>14.5798</td>\n",
       "      <td>67.0988</td>\n",
       "      <td>0.005374</td>\n",
       "      <td>0.001298</td>\n",
       "      <td>0.005015</td>\n",
       "    </tr>\n",
       "  </tbody>\n",
       "</table>\n",
       "</div>"
      ],
      "text/plain": [
       "            XLY close  XLP close  IVW close  XLY_return  XLP_return  \\\n",
       "date                                                                  \n",
       "2000-05-26    20.4125    15.2972    61.6055   -0.007551    0.005793   \n",
       "2000-05-30    20.5678    15.2091    64.1619   -0.023237    0.009612   \n",
       "2000-05-31    21.0571    15.0643    64.1619   -0.007326   -0.002503   \n",
       "2000-06-01    21.2125    15.1021    64.9608   -0.026726    0.035824   \n",
       "2000-06-02    21.7950    14.5798    67.0988    0.005374    0.001298   \n",
       "\n",
       "            IVW_return  \n",
       "date                    \n",
       "2000-05-26   -0.039843  \n",
       "2000-05-30    0.000000  \n",
       "2000-05-31   -0.012298  \n",
       "2000-06-01   -0.031863  \n",
       "2000-06-02    0.005015  "
      ]
     },
     "execution_count": 66,
     "metadata": {},
     "output_type": "execute_result"
    }
   ],
   "source": [
    "concat_df.head()"
   ]
  },
  {
   "cell_type": "code",
   "execution_count": 116,
   "metadata": {},
   "outputs": [
    {
     "data": {
      "text/plain": [
       "0.013475656721798818"
      ]
     },
     "execution_count": 116,
     "metadata": {},
     "output_type": "execute_result"
    }
   ],
   "source": [
    "#calculate value of standard deviation of daily returns\n",
    "#use the std function to calculate the standard deviation of daily returns for XLY, XLP, & SGX\n",
    "\n",
    "std_xly_daily_returns = concat_df['XLY_return'].std()\n",
    "std_xly_daily_returns\n",
    "\n",
    "std_xlp_daily_returns = concat_df['XLP_return'].std()\n",
    "std_xlp_daily_returns\n",
    "\n",
    "std_ivw_daily_returns = concat_df['IVW_return'].std()\n",
    "std_ivw_daily_returns"
   ]
  },
  {
   "cell_type": "code",
   "execution_count": 117,
   "metadata": {},
   "outputs": [
    {
     "data": {
      "text/plain": [
       "-0.00013369405070561257"
      ]
     },
     "execution_count": 117,
     "metadata": {},
     "output_type": "execute_result"
    }
   ],
   "source": [
    "#calculate average of daily returns\n",
    "avg_xly_daily_returns = concat_df['XLY_return'].mean()\n",
    "avg_xly_daily_returns\n",
    "\n",
    "avg_xlp_daily_returns = concat_df['XLP_return'].mean()\n",
    "avg_xlp_daily_returns\n",
    "\n",
    "avg_ivw_daily_returns = concat_df['IVW_return'].mean()\n",
    "avg_ivw_daily_returns"
   ]
  },
  {
   "cell_type": "code",
   "execution_count": 118,
   "metadata": {},
   "outputs": [
    {
     "data": {
      "text/plain": [
       "XLY close     float64\n",
       "XLP close     float64\n",
       "IVW close     float64\n",
       "XLY_return    float64\n",
       "XLP_return    float64\n",
       "IVW_return    float64\n",
       "dtype: object"
      ]
     },
     "execution_count": 118,
     "metadata": {},
     "output_type": "execute_result"
    }
   ],
   "source": [
    "#Check datatypes\n",
    "\n",
    "concat_df.dtypes"
   ]
  },
  {
   "cell_type": "code",
   "execution_count": 70,
   "metadata": {},
   "outputs": [
    {
     "data": {
      "text/plain": [
       "XLY close     5012\n",
       "XLP close     5012\n",
       "IVW close     5012\n",
       "XLY_return    5012\n",
       "XLP_return    5012\n",
       "IVW_return    5012\n",
       "dtype: int64"
      ]
     },
     "execution_count": 70,
     "metadata": {},
     "output_type": "execute_result"
    }
   ],
   "source": [
    "#check counts\n",
    "concat_df.count()"
   ]
  },
  {
   "cell_type": "code",
   "execution_count": 119,
   "metadata": {},
   "outputs": [
    {
     "data": {
      "text/html": [
       "<div>\n",
       "<style scoped>\n",
       "    .dataframe tbody tr th:only-of-type {\n",
       "        vertical-align: middle;\n",
       "    }\n",
       "\n",
       "    .dataframe tbody tr th {\n",
       "        vertical-align: top;\n",
       "    }\n",
       "\n",
       "    .dataframe thead th {\n",
       "        text-align: right;\n",
       "    }\n",
       "</style>\n",
       "<table border=\"1\" class=\"dataframe\">\n",
       "  <thead>\n",
       "    <tr style=\"text-align: right;\">\n",
       "      <th></th>\n",
       "      <th>XLY close</th>\n",
       "      <th>XLP close</th>\n",
       "      <th>IVW close</th>\n",
       "      <th>XLY_return</th>\n",
       "      <th>XLP_return</th>\n",
       "      <th>IVW_return</th>\n",
       "    </tr>\n",
       "  </thead>\n",
       "  <tbody>\n",
       "    <tr>\n",
       "      <th>count</th>\n",
       "      <td>5012.000000</td>\n",
       "      <td>5012.000000</td>\n",
       "      <td>5012.000000</td>\n",
       "      <td>5012.000000</td>\n",
       "      <td>5012.000000</td>\n",
       "      <td>5012.000000</td>\n",
       "    </tr>\n",
       "    <tr>\n",
       "      <th>mean</th>\n",
       "      <td>46.982950</td>\n",
       "      <td>28.702122</td>\n",
       "      <td>77.440777</td>\n",
       "      <td>-0.000248</td>\n",
       "      <td>-0.000221</td>\n",
       "      <td>-0.000134</td>\n",
       "    </tr>\n",
       "    <tr>\n",
       "      <th>std</th>\n",
       "      <td>30.601988</td>\n",
       "      <td>14.758473</td>\n",
       "      <td>42.790004</td>\n",
       "      <td>0.014131</td>\n",
       "      <td>0.009531</td>\n",
       "      <td>0.013476</td>\n",
       "    </tr>\n",
       "    <tr>\n",
       "      <th>min</th>\n",
       "      <td>13.621800</td>\n",
       "      <td>11.666100</td>\n",
       "      <td>30.552700</td>\n",
       "      <td>-0.104402</td>\n",
       "      <td>-0.083707</td>\n",
       "      <td>-0.199221</td>\n",
       "    </tr>\n",
       "    <tr>\n",
       "      <th>25%</th>\n",
       "      <td>24.543775</td>\n",
       "      <td>16.248025</td>\n",
       "      <td>46.185200</td>\n",
       "      <td>-0.007065</td>\n",
       "      <td>-0.005110</td>\n",
       "      <td>-0.005776</td>\n",
       "    </tr>\n",
       "    <tr>\n",
       "      <th>50%</th>\n",
       "      <td>31.372950</td>\n",
       "      <td>20.820100</td>\n",
       "      <td>57.294800</td>\n",
       "      <td>-0.000822</td>\n",
       "      <td>-0.000443</td>\n",
       "      <td>-0.000696</td>\n",
       "    </tr>\n",
       "    <tr>\n",
       "      <th>75%</th>\n",
       "      <td>69.966600</td>\n",
       "      <td>42.688300</td>\n",
       "      <td>104.505350</td>\n",
       "      <td>0.005764</td>\n",
       "      <td>0.004201</td>\n",
       "      <td>0.004683</td>\n",
       "    </tr>\n",
       "    <tr>\n",
       "      <th>max</th>\n",
       "      <td>131.682600</td>\n",
       "      <td>64.409400</td>\n",
       "      <td>209.913000</td>\n",
       "      <td>0.145063</td>\n",
       "      <td>0.103699</td>\n",
       "      <td>0.313908</td>\n",
       "    </tr>\n",
       "  </tbody>\n",
       "</table>\n",
       "</div>"
      ],
      "text/plain": [
       "         XLY close    XLP close    IVW close   XLY_return   XLP_return  \\\n",
       "count  5012.000000  5012.000000  5012.000000  5012.000000  5012.000000   \n",
       "mean     46.982950    28.702122    77.440777    -0.000248    -0.000221   \n",
       "std      30.601988    14.758473    42.790004     0.014131     0.009531   \n",
       "min      13.621800    11.666100    30.552700    -0.104402    -0.083707   \n",
       "25%      24.543775    16.248025    46.185200    -0.007065    -0.005110   \n",
       "50%      31.372950    20.820100    57.294800    -0.000822    -0.000443   \n",
       "75%      69.966600    42.688300   104.505350     0.005764     0.004201   \n",
       "max     131.682600    64.409400   209.913000     0.145063     0.103699   \n",
       "\n",
       "        IVW_return  \n",
       "count  5012.000000  \n",
       "mean     -0.000134  \n",
       "std       0.013476  \n",
       "min      -0.199221  \n",
       "25%      -0.005776  \n",
       "50%      -0.000696  \n",
       "75%       0.004683  \n",
       "max       0.313908  "
      ]
     },
     "execution_count": 119,
     "metadata": {},
     "output_type": "execute_result"
    }
   ],
   "source": [
    "#use describe to explore data\n",
    "concat_df.describe()"
   ]
  },
  {
   "cell_type": "code",
   "execution_count": 120,
   "metadata": {},
   "outputs": [
    {
     "data": {
      "text/plain": [
       "<matplotlib.axes._subplots.AxesSubplot at 0x1a21efc7d0>"
      ]
     },
     "execution_count": 120,
     "metadata": {},
     "output_type": "execute_result"
    },
    {
     "data": {
      "image/png": "[encoded data removed]",
      "text/plain": [
       "<Figure size 720x360 with 1 Axes>"
      ]
     },
     "metadata": {
      "needs_background": "light"
     },
     "output_type": "display_data"
    }
   ],
   "source": [
    "#plot daily returns of XLY\n",
    "\n",
    "concat_df['XLY_return'].plot(figsize=(10,5))"
   ]
  },
  {
   "cell_type": "code",
   "execution_count": 121,
   "metadata": {},
   "outputs": [
    {
     "data": {
      "text/plain": [
       "<matplotlib.axes._subplots.AxesSubplot at 0x1a2235f150>"
      ]
     },
     "execution_count": 121,
     "metadata": {},
     "output_type": "execute_result"
    },
    {
     "data": {
      "image/png": "[encoded data removed]",
      "text/plain": [
       "<Figure size 720x360 with 1 Axes>"
      ]
     },
     "metadata": {
      "needs_background": "light"
     },
     "output_type": "display_data"
    }
   ],
   "source": [
    "#plot daily returns of XLP\n",
    "\n",
    "concat_df['XLP_return'].plot(figsize=(10,5))"
   ]
  },
  {
   "cell_type": "code",
   "execution_count": 122,
   "metadata": {},
   "outputs": [
    {
     "data": {
      "text/plain": [
       "<matplotlib.axes._subplots.AxesSubplot at 0x1a21fbb750>"
      ]
     },
     "execution_count": 122,
     "metadata": {},
     "output_type": "execute_result"
    },
    {
     "data": {
      "image/png": "[encoded data removed]",
      "text/plain": [
       "<Figure size 720x360 with 1 Axes>"
      ]
     },
     "metadata": {
      "needs_background": "light"
     },
     "output_type": "display_data"
    }
   ],
   "source": [
    "#plot daily returns of IVW\n",
    "\n",
    "concat_df['IVW_return'].plot(figsize=(10,5))"
   ]
  },
  {
   "cell_type": "code",
   "execution_count": 123,
   "metadata": {},
   "outputs": [
    {
     "data": {
      "text/plain": [
       "date\n",
       "2000-05-26    0.992449\n",
       "2000-05-30    0.969388\n",
       "2000-05-31    0.962286\n",
       "2000-06-01    0.936568\n",
       "2000-06-02    0.941601\n",
       "Name: XLY_return, dtype: float64"
      ]
     },
     "execution_count": 123,
     "metadata": {},
     "output_type": "execute_result"
    }
   ],
   "source": [
    "# Calculate the cumulative returns using the 'cumprod()' function\n",
    "cumulative_returns_xly = (1 + concat_df['XLY_return']).cumprod()\n",
    "cumulative_returns_xlp = (1 + concat_df['XLP_return']).cumprod()\n",
    "cumulative_returns_ivw = (1 + concat_df['IVW_return']).cumprod()\n",
    "\n",
    "cumulative_returns_xly.head()"
   ]
  },
  {
   "cell_type": "code",
   "execution_count": 124,
   "metadata": {},
   "outputs": [
    {
     "data": {
      "text/plain": [
       "<matplotlib.axes._subplots.AxesSubplot at 0x1a22462850>"
      ]
     },
     "execution_count": 124,
     "metadata": {},
     "output_type": "execute_result"
    },
    {
     "data": {
      "image/png": "[encoded data removed]",
      "text/plain": [
       "<Figure size 720x360 with 1 Axes>"
      ]
     },
     "metadata": {
      "needs_background": "light"
     },
     "output_type": "display_data"
    }
   ],
   "source": [
    "#plot cumulative returns\n",
    "\n",
    "cumulative_returns_xly.plot(figsize=(10,5), legend=True)\n",
    "cumulative_returns_xlp.plot(figsize=(10,5), legend=True)\n",
    "cumulative_returns_ivw.plot(figsize=(10,5), legend=True)"
   ]
  },
  {
   "cell_type": "code",
   "execution_count": 88,
   "metadata": {},
   "outputs": [],
   "source": [
    "#need to check on dividend"
   ]
  },
  {
   "cell_type": "code",
   "execution_count": 128,
   "metadata": {},
   "outputs": [
    {
     "name": "stdout",
     "output_type": "stream",
     "text": [
      " XLY: -0.2788917981769577, XLP: -0.36879157052207795, IVW:-0.15749341968486713\n"
     ]
    }
   ],
   "source": [
    "# Calculate Sharpe Ratios for the sectors\n",
    "\n",
    "XLY_sharpe_ratio = (concat_df['XLY_return'].mean() * 252) / (concat_df['XLY_return'].std() * np.sqrt(252))\n",
    "\n",
    "XLP_sharpe_ratio = (concat_df['XLP_return'].mean() * 252) / (concat_df['XLP_return'].std() * np.sqrt(252))\n",
    "\n",
    "IVW_sharpe_ratio = (concat_df['IVW_return'].mean() * 252) / (concat_df['IVW_return'].std() * np.sqrt(252))\n",
    "\n",
    "print(f\" XLY: {XLY_sharpe_ratio}, XLP: {XLP_sharpe_ratio}, IVW:{IVW_sharpe_ratio}\")\n",
    "\n",
    "\n"
   ]
  },
  {
   "cell_type": "code",
   "execution_count": null,
   "metadata": {},
   "outputs": [],
   "source": [
    "#BETA CALCULATION XLY and SPY\n",
    "\n",
    "# Calculate covariance of XLK vs. S&P 500\n",
    "covariance = returns_only_df['XLY_return'].cov(returns_only_df['SPY_return'])\n",
    "covariance\n",
    "\n",
    "# Calculate variance of S&P 500 returns\n",
    "variance = returns_only_df['SPY_return'].var()\n",
    "variance\n",
    "\n",
    "# Calculate beta of XLY\n",
    "XLY_beta = covariance / variance\n",
    "XLY_beta"
   ]
  },
  {
   "cell_type": "code",
   "execution_count": 131,
   "metadata": {},
   "outputs": [
    {
     "data": {
      "text/html": [
       "<div>\n",
       "<style scoped>\n",
       "    .dataframe tbody tr th:only-of-type {\n",
       "        vertical-align: middle;\n",
       "    }\n",
       "\n",
       "    .dataframe tbody tr th {\n",
       "        vertical-align: top;\n",
       "    }\n",
       "\n",
       "    .dataframe thead th {\n",
       "        text-align: right;\n",
       "    }\n",
       "</style>\n",
       "<table border=\"1\" class=\"dataframe\">\n",
       "  <thead>\n",
       "    <tr style=\"text-align: right;\">\n",
       "      <th></th>\n",
       "      <th>XLY close</th>\n",
       "      <th>XLP close</th>\n",
       "      <th>IVW close</th>\n",
       "      <th>XLY_return</th>\n",
       "      <th>XLP_return</th>\n",
       "      <th>IVW_return</th>\n",
       "    </tr>\n",
       "    <tr>\n",
       "      <th>date</th>\n",
       "      <th></th>\n",
       "      <th></th>\n",
       "      <th></th>\n",
       "      <th></th>\n",
       "      <th></th>\n",
       "      <th></th>\n",
       "    </tr>\n",
       "  </thead>\n",
       "  <tbody>\n",
       "    <tr>\n",
       "      <th>2000-05-26</th>\n",
       "      <td>20.4125</td>\n",
       "      <td>15.2972</td>\n",
       "      <td>61.6055</td>\n",
       "      <td>-0.007551</td>\n",
       "      <td>0.005793</td>\n",
       "      <td>-0.039843</td>\n",
       "    </tr>\n",
       "    <tr>\n",
       "      <th>2000-05-30</th>\n",
       "      <td>20.5678</td>\n",
       "      <td>15.2091</td>\n",
       "      <td>64.1619</td>\n",
       "      <td>-0.023237</td>\n",
       "      <td>0.009612</td>\n",
       "      <td>0.000000</td>\n",
       "    </tr>\n",
       "    <tr>\n",
       "      <th>2000-05-31</th>\n",
       "      <td>21.0571</td>\n",
       "      <td>15.0643</td>\n",
       "      <td>64.1619</td>\n",
       "      <td>-0.007326</td>\n",
       "      <td>-0.002503</td>\n",
       "      <td>-0.012298</td>\n",
       "    </tr>\n",
       "    <tr>\n",
       "      <th>2000-06-01</th>\n",
       "      <td>21.2125</td>\n",
       "      <td>15.1021</td>\n",
       "      <td>64.9608</td>\n",
       "      <td>-0.026726</td>\n",
       "      <td>0.035824</td>\n",
       "      <td>-0.031863</td>\n",
       "    </tr>\n",
       "    <tr>\n",
       "      <th>2000-06-02</th>\n",
       "      <td>21.7950</td>\n",
       "      <td>14.5798</td>\n",
       "      <td>67.0988</td>\n",
       "      <td>0.005374</td>\n",
       "      <td>0.001298</td>\n",
       "      <td>0.005015</td>\n",
       "    </tr>\n",
       "  </tbody>\n",
       "</table>\n",
       "</div>"
      ],
      "text/plain": [
       "            XLY close  XLP close  IVW close  XLY_return  XLP_return  \\\n",
       "date                                                                  \n",
       "2000-05-26    20.4125    15.2972    61.6055   -0.007551    0.005793   \n",
       "2000-05-30    20.5678    15.2091    64.1619   -0.023237    0.009612   \n",
       "2000-05-31    21.0571    15.0643    64.1619   -0.007326   -0.002503   \n",
       "2000-06-01    21.2125    15.1021    64.9608   -0.026726    0.035824   \n",
       "2000-06-02    21.7950    14.5798    67.0988    0.005374    0.001298   \n",
       "\n",
       "            IVW_return  \n",
       "date                    \n",
       "2000-05-26   -0.039843  \n",
       "2000-05-30    0.000000  \n",
       "2000-05-31   -0.012298  \n",
       "2000-06-01   -0.031863  \n",
       "2000-06-02    0.005015  "
      ]
     },
     "execution_count": 131,
     "metadata": {},
     "output_type": "execute_result"
    }
   ],
   "source": [
    "concat_df.head()"
   ]
  },
  {
   "cell_type": "code",
   "execution_count": 125,
   "metadata": {},
   "outputs": [],
   "source": [
    "#START MONTE CARLO ANALYSIS (XLY)\n",
    "#Set number of simulations\n",
    "num_simulations = 1000\n",
    "\n",
    "# Set number of trading days and get last closing price of XLY from DataFrame\n",
    "\n",
    "num_trading_days = 252*2\n",
    "xly_last_price = concat_df['XLY close'][-1]\n",
    "\n",
    "# Initialize empty DataFrame to hold simulated prices for each simulation\n",
    "simulated_prices_XLY_df = pd.DataFrame()\n"
   ]
  },
  {
   "cell_type": "code",
   "execution_count": 126,
   "metadata": {},
   "outputs": [
    {
     "data": {
      "text/html": [
       "<div>\n",
       "<style scoped>\n",
       "    .dataframe tbody tr th:only-of-type {\n",
       "        vertical-align: middle;\n",
       "    }\n",
       "\n",
       "    .dataframe tbody tr th {\n",
       "        vertical-align: top;\n",
       "    }\n",
       "\n",
       "    .dataframe thead th {\n",
       "        text-align: right;\n",
       "    }\n",
       "</style>\n",
       "<table border=\"1\" class=\"dataframe\">\n",
       "  <thead>\n",
       "    <tr style=\"text-align: right;\">\n",
       "      <th></th>\n",
       "      <th>Simulation 1</th>\n",
       "      <th>Simulation 2</th>\n",
       "      <th>Simulation 3</th>\n",
       "      <th>Simulation 4</th>\n",
       "      <th>Simulation 5</th>\n",
       "      <th>Simulation 6</th>\n",
       "      <th>Simulation 7</th>\n",
       "      <th>Simulation 8</th>\n",
       "      <th>Simulation 9</th>\n",
       "      <th>Simulation 10</th>\n",
       "      <th>...</th>\n",
       "      <th>Simulation 991</th>\n",
       "      <th>Simulation 992</th>\n",
       "      <th>Simulation 993</th>\n",
       "      <th>Simulation 994</th>\n",
       "      <th>Simulation 995</th>\n",
       "      <th>Simulation 996</th>\n",
       "      <th>Simulation 997</th>\n",
       "      <th>Simulation 998</th>\n",
       "      <th>Simulation 999</th>\n",
       "      <th>Simulation 1000</th>\n",
       "    </tr>\n",
       "  </thead>\n",
       "  <tbody>\n",
       "    <tr>\n",
       "      <th>0</th>\n",
       "      <td>117.330000</td>\n",
       "      <td>117.330000</td>\n",
       "      <td>117.330000</td>\n",
       "      <td>117.330000</td>\n",
       "      <td>117.330000</td>\n",
       "      <td>117.330000</td>\n",
       "      <td>117.330000</td>\n",
       "      <td>117.330000</td>\n",
       "      <td>117.330000</td>\n",
       "      <td>117.330000</td>\n",
       "      <td>...</td>\n",
       "      <td>117.330000</td>\n",
       "      <td>117.330000</td>\n",
       "      <td>117.330000</td>\n",
       "      <td>117.330000</td>\n",
       "      <td>117.330000</td>\n",
       "      <td>117.330000</td>\n",
       "      <td>117.330000</td>\n",
       "      <td>117.330000</td>\n",
       "      <td>117.330000</td>\n",
       "      <td>117.330000</td>\n",
       "    </tr>\n",
       "    <tr>\n",
       "      <th>1</th>\n",
       "      <td>117.224853</td>\n",
       "      <td>117.474835</td>\n",
       "      <td>116.642073</td>\n",
       "      <td>117.484157</td>\n",
       "      <td>115.653465</td>\n",
       "      <td>117.440176</td>\n",
       "      <td>115.430371</td>\n",
       "      <td>117.294554</td>\n",
       "      <td>115.324464</td>\n",
       "      <td>117.775761</td>\n",
       "      <td>...</td>\n",
       "      <td>116.840926</td>\n",
       "      <td>117.561071</td>\n",
       "      <td>116.282733</td>\n",
       "      <td>119.258441</td>\n",
       "      <td>116.449801</td>\n",
       "      <td>116.158089</td>\n",
       "      <td>117.517840</td>\n",
       "      <td>118.769079</td>\n",
       "      <td>117.529597</td>\n",
       "      <td>116.207411</td>\n",
       "    </tr>\n",
       "    <tr>\n",
       "      <th>2</th>\n",
       "      <td>117.230357</td>\n",
       "      <td>119.724602</td>\n",
       "      <td>116.940337</td>\n",
       "      <td>117.096546</td>\n",
       "      <td>115.230636</td>\n",
       "      <td>119.253145</td>\n",
       "      <td>117.243750</td>\n",
       "      <td>117.118565</td>\n",
       "      <td>112.063699</td>\n",
       "      <td>116.713102</td>\n",
       "      <td>...</td>\n",
       "      <td>114.100198</td>\n",
       "      <td>117.811678</td>\n",
       "      <td>115.653178</td>\n",
       "      <td>119.796060</td>\n",
       "      <td>116.526210</td>\n",
       "      <td>114.975975</td>\n",
       "      <td>117.556363</td>\n",
       "      <td>120.907315</td>\n",
       "      <td>114.280618</td>\n",
       "      <td>119.204699</td>\n",
       "    </tr>\n",
       "    <tr>\n",
       "      <th>3</th>\n",
       "      <td>114.460984</td>\n",
       "      <td>117.359169</td>\n",
       "      <td>116.300801</td>\n",
       "      <td>116.266464</td>\n",
       "      <td>115.111373</td>\n",
       "      <td>117.454973</td>\n",
       "      <td>117.254831</td>\n",
       "      <td>116.702070</td>\n",
       "      <td>111.629175</td>\n",
       "      <td>114.703208</td>\n",
       "      <td>...</td>\n",
       "      <td>114.052361</td>\n",
       "      <td>118.026250</td>\n",
       "      <td>117.241211</td>\n",
       "      <td>120.745852</td>\n",
       "      <td>113.350132</td>\n",
       "      <td>116.540224</td>\n",
       "      <td>116.254888</td>\n",
       "      <td>121.936215</td>\n",
       "      <td>116.164253</td>\n",
       "      <td>119.737433</td>\n",
       "    </tr>\n",
       "    <tr>\n",
       "      <th>4</th>\n",
       "      <td>114.715620</td>\n",
       "      <td>119.782313</td>\n",
       "      <td>116.711313</td>\n",
       "      <td>114.054420</td>\n",
       "      <td>118.275833</td>\n",
       "      <td>115.660748</td>\n",
       "      <td>115.352334</td>\n",
       "      <td>117.393053</td>\n",
       "      <td>114.167842</td>\n",
       "      <td>113.062694</td>\n",
       "      <td>...</td>\n",
       "      <td>113.038368</td>\n",
       "      <td>118.277304</td>\n",
       "      <td>114.655592</td>\n",
       "      <td>121.984934</td>\n",
       "      <td>114.434721</td>\n",
       "      <td>116.318671</td>\n",
       "      <td>115.324930</td>\n",
       "      <td>121.833485</td>\n",
       "      <td>114.917875</td>\n",
       "      <td>123.541424</td>\n",
       "    </tr>\n",
       "  </tbody>\n",
       "</table>\n",
       "<p>5 rows × 1000 columns</p>\n",
       "</div>"
      ],
      "text/plain": [
       "   Simulation 1  Simulation 2  Simulation 3  Simulation 4  Simulation 5  \\\n",
       "0    117.330000    117.330000    117.330000    117.330000    117.330000   \n",
       "1    117.224853    117.474835    116.642073    117.484157    115.653465   \n",
       "2    117.230357    119.724602    116.940337    117.096546    115.230636   \n",
       "3    114.460984    117.359169    116.300801    116.266464    115.111373   \n",
       "4    114.715620    119.782313    116.711313    114.054420    118.275833   \n",
       "\n",
       "   Simulation 6  Simulation 7  Simulation 8  Simulation 9  Simulation 10  ...  \\\n",
       "0    117.330000    117.330000    117.330000    117.330000     117.330000  ...   \n",
       "1    117.440176    115.430371    117.294554    115.324464     117.775761  ...   \n",
       "2    119.253145    117.243750    117.118565    112.063699     116.713102  ...   \n",
       "3    117.454973    117.254831    116.702070    111.629175     114.703208  ...   \n",
       "4    115.660748    115.352334    117.393053    114.167842     113.062694  ...   \n",
       "\n",
       "   Simulation 991  Simulation 992  Simulation 993  Simulation 994  \\\n",
       "0      117.330000      117.330000      117.330000      117.330000   \n",
       "1      116.840926      117.561071      116.282733      119.258441   \n",
       "2      114.100198      117.811678      115.653178      119.796060   \n",
       "3      114.052361      118.026250      117.241211      120.745852   \n",
       "4      113.038368      118.277304      114.655592      121.984934   \n",
       "\n",
       "   Simulation 995  Simulation 996  Simulation 997  Simulation 998  \\\n",
       "0      117.330000      117.330000      117.330000      117.330000   \n",
       "1      116.449801      116.158089      117.517840      118.769079   \n",
       "2      116.526210      114.975975      117.556363      120.907315   \n",
       "3      113.350132      116.540224      116.254888      121.936215   \n",
       "4      114.434721      116.318671      115.324930      121.833485   \n",
       "\n",
       "   Simulation 999  Simulation 1000  \n",
       "0      117.330000       117.330000  \n",
       "1      117.529597       116.207411  \n",
       "2      114.280618       119.204699  \n",
       "3      116.164253       119.737433  \n",
       "4      114.917875       123.541424  \n",
       "\n",
       "[5 rows x 1000 columns]"
      ]
     },
     "execution_count": 126,
     "metadata": {},
     "output_type": "execute_result"
    }
   ],
   "source": [
    "## Run the simulation `1000` times for XLY\n",
    "for n in range(num_simulations):\n",
    "    \n",
    "    # Initialize the simulated prices list with the last closing price of XLY\n",
    "    simulated_XLY_prices = [xly_last_price]\n",
    "    simulated_XLY_prices\n",
    "\n",
    "    # Simulate the returns for 504 days\n",
    "    for i in range(num_trading_days):\n",
    "\n",
    "    # Calculate the simulated price using the last price within the list\n",
    "        simulated_price = simulated_XLY_prices[-1] * (1 + np.random.normal(avg_xly_daily_returns, std_xly_daily_returns))\n",
    "        # Append the simulated price to the list\n",
    "        simulated_XLY_prices.append(simulated_price)\n",
    "\n",
    "    # Append simulated price of each simulation to DataFrame\n",
    "    simulated_prices_XLY_df[f\"Simulation {n+1}\"] = pd.Series(simulated_XLY_prices)\n",
    "\n",
    "simulated_prices_XLY_df.head()\n",
    "\n",
    "\n"
   ]
  },
  {
   "cell_type": "code",
   "execution_count": 132,
   "metadata": {},
   "outputs": [
    {
     "data": {
      "text/plain": [
       "<matplotlib.axes._subplots.AxesSubplot at 0x1a233d3310>"
      ]
     },
     "execution_count": 132,
     "metadata": {},
     "output_type": "execute_result"
    },
    {
     "data": {
      "image/png": "[encoded data removed]",
      "text/plain": [
       "<Figure size 432x288 with 1 Axes>"
      ]
     },
     "metadata": {
      "needs_background": "light"
     },
     "output_type": "display_data"
    }
   ],
   "source": [
    "#plot 1000 simulations of 504 trading days\n",
    "plot_title = f\"{n+1} Simulations of XLY Over the Next 504 trading Days\"\n",
    "simulated_prices_XLY_df.plot(legend=None, title=plot_title)"
   ]
  },
  {
   "cell_type": "code",
   "execution_count": 133,
   "metadata": {},
   "outputs": [
    {
     "data": {
      "text/plain": [
       "Simulation 1     88.353662\n",
       "Simulation 2    135.940183\n",
       "Simulation 3     77.940520\n",
       "Simulation 4    152.921279\n",
       "Simulation 5    147.281786\n",
       "Name: 504, dtype: float64"
      ]
     },
     "execution_count": 133,
     "metadata": {},
     "output_type": "execute_result"
    }
   ],
   "source": [
    "# Select the last row (price of each simulation on the 504th trading day)\n",
    "simulated_ending_prices_XLY = simulated_prices_XLY_df.iloc[-1, :]\n",
    "simulated_ending_prices_XLY.head()"
   ]
  },
  {
   "cell_type": "code",
   "execution_count": 140,
   "metadata": {},
   "outputs": [
    {
     "data": {
      "text/plain": [
       "<matplotlib.axes._subplots.AxesSubplot at 0x1a239f7750>"
      ]
     },
     "execution_count": 140,
     "metadata": {},
     "output_type": "execute_result"
    },
    {
     "data": {
      "image/png": "[encoded data removed]",
      "text/plain": [
       "<Figure size 432x288 with 1 Axes>"
      ]
     },
     "metadata": {
      "needs_background": "light"
     },
     "output_type": "display_data"
    }
   ],
   "source": [
    "# Plot a frequency distribution of simulated ending prices\n",
    "simulated_ending_prices_XLY.plot(kind='hist')"
   ]
  },
  {
   "cell_type": "code",
   "execution_count": 141,
   "metadata": {},
   "outputs": [
    {
     "data": {
      "text/plain": [
       "0.025     52.498766\n",
       "0.975    186.404511\n",
       "Name: 504, dtype: float64"
      ]
     },
     "execution_count": 141,
     "metadata": {},
     "output_type": "execute_result"
    }
   ],
   "source": [
    "# Use `quantile` function to calculate the 95% confidence interval for simulated ending prices\n",
    "confidence_interval = simulated_ending_prices_XLY.quantile(q=[0.025, 0.975])\n",
    "confidence_interval"
   ]
  },
  {
   "cell_type": "code",
   "execution_count": 142,
   "metadata": {},
   "outputs": [
    {
     "data": {
      "text/plain": [
       "<matplotlib.lines.Line2D at 0x1a243e88d0>"
      ]
     },
     "execution_count": 142,
     "metadata": {},
     "output_type": "execute_result"
    },
    {
     "data": {
      "image/png": "[encoded data removed]",
      "text/plain": [
       "<Figure size 432x288 with 1 Axes>"
      ]
     },
     "metadata": {
      "needs_background": "light"
     },
     "output_type": "display_data"
    }
   ],
   "source": [
    "# Create a probability distribution histogram of simulated ending prices\n",
    "# Mark the 95% confidence interval\n",
    "plt.figure();\n",
    "simulated_ending_prices_XLY.plot(kind='hist', density=True, bins=10)\n",
    "plt.axvline(confidence_interval.iloc[0], color='r')\n",
    "plt.axvline(confidence_interval.iloc[1], color='r')"
   ]
  },
  {
   "cell_type": "code",
   "execution_count": 145,
   "metadata": {},
   "outputs": [
    {
     "name": "stdout",
     "output_type": "stream",
     "text": [
      "There is a 95% chance that an initial investment of $10,000 in XLB over the next 504 trading days will end within in the range of $4474.45 and $15887.2\n"
     ]
    }
   ],
   "source": [
    "# Set initial investment\n",
    "initial_investment = 10000\n",
    "\n",
    "# Calculate cumulative profit/loss of lower and upper bound\n",
    "cumulative_pnl_lower_bound = initial_investment * ((confidence_interval.iloc[0] - xly_last_price) / xly_last_price)\n",
    "cumulative_pnl_upper_bound = initial_investment * ((confidence_interval.iloc[1] - xly_last_price) / xly_last_price)\n",
    "\n",
    "# Add the initial investment to the cumulative profit/loss of lower and upper bound\n",
    "ending_investment_lower_bound = initial_investment + cumulative_pnl_lower_bound\n",
    "ending_investment_upper_bound = initial_investment + cumulative_pnl_upper_bound\n",
    "\n",
    "# Print the results\n",
    "print(f\"There is a 95% chance that an initial investment of $10,000 in XLB\"\n",
    "      f\" over the next 504 trading days will end within in the range of\"\n",
    "      f\" ${round(ending_investment_lower_bound,2)} and ${round(ending_investment_upper_bound,2)}\")"
   ]
  },
  {
   "cell_type": "code",
   "execution_count": null,
   "metadata": {},
   "outputs": [],
   "source": [
    "#START MONTE CARLO ANALYSIS XLP\n",
    "\n",
    "# Calculate the mean of daily returns for XLK\n",
    "avg_daily_return_xlp = concat_df.mean()['XLP_return']\n",
    "print(f\"The average daily return of XLP is {avg_daily_return_xlk}\")"
   ]
  }
 ],
 "metadata": {
  "kernelspec": {
   "display_name": "Python 3",
   "language": "python",
   "name": "python3"
  },
  "language_info": {
   "codemirror_mode": {
    "name": "ipython",
    "version": 3
   },
   "file_extension": ".py",
   "mimetype": "text/x-python",
   "name": "python",
   "nbconvert_exporter": "python",
   "pygments_lexer": "ipython3",
   "version": "3.7.4"
  }
 },
 "nbformat": 4,
 "nbformat_minor": 4
}
