{
 "cells": [
  {
   "cell_type": "code",
   "execution_count": 9,
   "metadata": {},
   "outputs": [],
   "source": [
    "#     API Alpaca\n",
    "#     Data cleanup\n",
    "#     Consumer Discretionary Monte Carlo = XLY\n",
    "#     Consumer Staples Monte Carlo = XLP\n",
    "#     SP500 GROWTH Monte Carlo = SGX"
   ]
  },
  {
   "cell_type": "code",
   "execution_count": 1,
   "metadata": {},
   "outputs": [],
   "source": [
    "#Import libraries\n",
    "import numpy as np\n",
    "import pandas as pd\n",
    "from datetime import datetime, timedelta\n",
    "import matplotlib.pyplot as plt\n",
    "import json\n",
    "from pathlib import Path\n",
    "import alpaca_trade_api as tradeapi\n",
    "import requests\n",
    "import os \n",
    "\n",
    "\n",
    "%matplotlib inline"
   ]
  },
  {
   "cell_type": "code",
   "execution_count": 7,
   "metadata": {},
   "outputs": [
    {
     "data": {
      "text/plain": [
       "str"
      ]
     },
     "execution_count": 7,
     "metadata": {},
     "output_type": "execute_result"
    }
   ],
   "source": [
    "# Load .env enviroment variables\n",
    "from dotenv import load_dotenv\n",
    "load_dotenv()\n",
    "\n",
    "# Set Alpaca API key and secret\n",
    "APCA_API_KEY_ID = os.getenv(\"APCA_API_KEY\")\n",
    "APCA_SECRET_KEY = os.getenv(\"APCA_SECRET_KEY\")\n",
    "\n",
    "api = tradeapi.REST(APCA_API_KEY_ID, APCA_SECRET_KEY, api_version='v2')\n",
    "type(APCA_API_KEY_ID)"
   ]
  },
  {
   "cell_type": "code",
   "execution_count": 11,
   "metadata": {},
   "outputs": [],
   "source": [
    "#Use alpha vantage to get historic quotes for XLY,XLP,SGX. This goes back 20 years.\n",
    "\n",
    "xly_df = api.alpha_vantage.historic_quotes('XLY', adjusted=True, output_format='pandas')\n",
    "xly_df.head()\n",
    "\n",
    "xlp_df = api.alpha_vantage.historic_quotes('XLP', adjusted=True, output_format='pandas')\n",
    "#xlp_df.tail()\n",
    "\n",
    "sgx_df = api.alpha_vantage.historic_quotes('SGX', adjusted=True, output_format='pandas')\n",
    "#sgx_df.head()\n"
   ]
  },
  {
   "cell_type": "code",
   "execution_count": 12,
   "metadata": {},
   "outputs": [
    {
     "data": {
      "text/html": [
       "<div>\n",
       "<style scoped>\n",
       "    .dataframe tbody tr th:only-of-type {\n",
       "        vertical-align: middle;\n",
       "    }\n",
       "\n",
       "    .dataframe tbody tr th {\n",
       "        vertical-align: top;\n",
       "    }\n",
       "\n",
       "    .dataframe thead th {\n",
       "        text-align: right;\n",
       "    }\n",
       "</style>\n",
       "<table border=\"1\" class=\"dataframe\">\n",
       "  <thead>\n",
       "    <tr style=\"text-align: right;\">\n",
       "      <th></th>\n",
       "      <th>1. open</th>\n",
       "      <th>2. high</th>\n",
       "      <th>3. low</th>\n",
       "      <th>4. close</th>\n",
       "      <th>5. adjusted close</th>\n",
       "      <th>6. volume</th>\n",
       "      <th>7. dividend amount</th>\n",
       "      <th>8. split coefficient</th>\n",
       "    </tr>\n",
       "    <tr>\n",
       "      <th>date</th>\n",
       "      <th></th>\n",
       "      <th></th>\n",
       "      <th></th>\n",
       "      <th></th>\n",
       "      <th></th>\n",
       "      <th></th>\n",
       "      <th></th>\n",
       "      <th></th>\n",
       "    </tr>\n",
       "  </thead>\n",
       "  <tbody>\n",
       "    <tr>\n",
       "      <th>2020-04-28</th>\n",
       "      <td>116.49</td>\n",
       "      <td>116.90</td>\n",
       "      <td>114.220</td>\n",
       "      <td>114.80</td>\n",
       "      <td>114.80</td>\n",
       "      <td>4663133.0</td>\n",
       "      <td>0.0</td>\n",
       "      <td>1.0</td>\n",
       "    </tr>\n",
       "    <tr>\n",
       "      <th>2020-04-27</th>\n",
       "      <td>113.40</td>\n",
       "      <td>115.09</td>\n",
       "      <td>113.290</td>\n",
       "      <td>114.35</td>\n",
       "      <td>114.35</td>\n",
       "      <td>4118447.0</td>\n",
       "      <td>0.0</td>\n",
       "      <td>1.0</td>\n",
       "    </tr>\n",
       "    <tr>\n",
       "      <th>2020-04-24</th>\n",
       "      <td>111.52</td>\n",
       "      <td>112.75</td>\n",
       "      <td>110.495</td>\n",
       "      <td>112.25</td>\n",
       "      <td>112.25</td>\n",
       "      <td>2914498.0</td>\n",
       "      <td>0.0</td>\n",
       "      <td>1.0</td>\n",
       "    </tr>\n",
       "    <tr>\n",
       "      <th>2020-04-23</th>\n",
       "      <td>110.96</td>\n",
       "      <td>112.02</td>\n",
       "      <td>109.980</td>\n",
       "      <td>110.38</td>\n",
       "      <td>110.38</td>\n",
       "      <td>4129555.0</td>\n",
       "      <td>0.0</td>\n",
       "      <td>1.0</td>\n",
       "    </tr>\n",
       "    <tr>\n",
       "      <th>2020-04-22</th>\n",
       "      <td>110.09</td>\n",
       "      <td>111.18</td>\n",
       "      <td>109.470</td>\n",
       "      <td>110.41</td>\n",
       "      <td>110.41</td>\n",
       "      <td>3385548.0</td>\n",
       "      <td>0.0</td>\n",
       "      <td>1.0</td>\n",
       "    </tr>\n",
       "  </tbody>\n",
       "</table>\n",
       "</div>"
      ],
      "text/plain": [
       "            1. open  2. high   3. low  4. close  5. adjusted close  6. volume  \\\n",
       "date                                                                            \n",
       "2020-04-28   116.49   116.90  114.220    114.80             114.80  4663133.0   \n",
       "2020-04-27   113.40   115.09  113.290    114.35             114.35  4118447.0   \n",
       "2020-04-24   111.52   112.75  110.495    112.25             112.25  2914498.0   \n",
       "2020-04-23   110.96   112.02  109.980    110.38             110.38  4129555.0   \n",
       "2020-04-22   110.09   111.18  109.470    110.41             110.41  3385548.0   \n",
       "\n",
       "            7. dividend amount  8. split coefficient  \n",
       "date                                                  \n",
       "2020-04-28                 0.0                   1.0  \n",
       "2020-04-27                 0.0                   1.0  \n",
       "2020-04-24                 0.0                   1.0  \n",
       "2020-04-23                 0.0                   1.0  \n",
       "2020-04-22                 0.0                   1.0  "
      ]
     },
     "execution_count": 12,
     "metadata": {},
     "output_type": "execute_result"
    }
   ],
   "source": [
    "xly_df.head()"
   ]
  },
  {
   "cell_type": "code",
   "execution_count": 13,
   "metadata": {},
   "outputs": [
    {
     "data": {
      "text/html": [
       "<div>\n",
       "<style scoped>\n",
       "    .dataframe tbody tr th:only-of-type {\n",
       "        vertical-align: middle;\n",
       "    }\n",
       "\n",
       "    .dataframe tbody tr th {\n",
       "        vertical-align: top;\n",
       "    }\n",
       "\n",
       "    .dataframe thead th {\n",
       "        text-align: right;\n",
       "    }\n",
       "</style>\n",
       "<table border=\"1\" class=\"dataframe\">\n",
       "  <thead>\n",
       "    <tr style=\"text-align: right;\">\n",
       "      <th></th>\n",
       "      <th>5. adjusted close</th>\n",
       "      <th>5. adjusted close</th>\n",
       "      <th>5. adjusted close</th>\n",
       "    </tr>\n",
       "    <tr>\n",
       "      <th>date</th>\n",
       "      <th></th>\n",
       "      <th></th>\n",
       "      <th></th>\n",
       "    </tr>\n",
       "  </thead>\n",
       "  <tbody>\n",
       "    <tr>\n",
       "      <th>2020-04-27</th>\n",
       "      <td>114.35</td>\n",
       "      <td>58.88</td>\n",
       "      <td>1868.83</td>\n",
       "    </tr>\n",
       "    <tr>\n",
       "      <th>2020-04-24</th>\n",
       "      <td>112.25</td>\n",
       "      <td>58.71</td>\n",
       "      <td>1850.60</td>\n",
       "    </tr>\n",
       "    <tr>\n",
       "      <th>2020-04-23</th>\n",
       "      <td>110.38</td>\n",
       "      <td>58.09</td>\n",
       "      <td>1823.75</td>\n",
       "    </tr>\n",
       "    <tr>\n",
       "      <th>2020-04-22</th>\n",
       "      <td>110.41</td>\n",
       "      <td>58.61</td>\n",
       "      <td>1826.15</td>\n",
       "    </tr>\n",
       "    <tr>\n",
       "      <th>2020-04-21</th>\n",
       "      <td>108.08</td>\n",
       "      <td>58.05</td>\n",
       "      <td>1775.70</td>\n",
       "    </tr>\n",
       "  </tbody>\n",
       "</table>\n",
       "</div>"
      ],
      "text/plain": [
       "            5. adjusted close  5. adjusted close  5. adjusted close\n",
       "date                                                               \n",
       "2020-04-27             114.35              58.88            1868.83\n",
       "2020-04-24             112.25              58.71            1850.60\n",
       "2020-04-23             110.38              58.09            1823.75\n",
       "2020-04-22             110.41              58.61            1826.15\n",
       "2020-04-21             108.08              58.05            1775.70"
      ]
     },
     "execution_count": 13,
     "metadata": {},
     "output_type": "execute_result"
    }
   ],
   "source": [
    "#DATA CLEANUP\n",
    "\n",
    "#Select the one column we need,  \"adjusted close\", and drop the others\n",
    "\n",
    "xly_df = xly_df['5. adjusted close']\n",
    "xly_df.head()\n",
    "\n",
    "xlp_df = xlp_df['5. adjusted close']\n",
    "xlp_df.head()\n",
    "\n",
    "sgx_df = sgx_df['5. adjusted close']\n",
    "sgx_df.head()\n",
    "\n",
    "#Use concat to put the data in one dataframe\n",
    "concat_df = pd.concat([xly_df, xlp_df, sgx_df], axis = \"columns\", join = \"inner\")\n",
    "concat_df.head()\n",
    "    "
   ]
  },
  {
   "cell_type": "code",
   "execution_count": 45,
   "metadata": {},
   "outputs": [
    {
     "name": "stdout",
     "output_type": "stream",
     "text": [
      "Index(['SGX Adjusted Close', 'SGX Adjusted Close', 'SGX Adjusted Close'], dtype='object')\n"
     ]
    }
   ],
   "source": [
    "#print column names\n",
    "print(concat_df.columns)"
   ]
  },
  {
   "cell_type": "code",
   "execution_count": 52,
   "metadata": {},
   "outputs": [
    {
     "data": {
      "text/html": [
       "<div>\n",
       "<style scoped>\n",
       "    .dataframe tbody tr th:only-of-type {\n",
       "        vertical-align: middle;\n",
       "    }\n",
       "\n",
       "    .dataframe tbody tr th {\n",
       "        vertical-align: top;\n",
       "    }\n",
       "\n",
       "    .dataframe thead th {\n",
       "        text-align: right;\n",
       "    }\n",
       "</style>\n",
       "<table border=\"1\" class=\"dataframe\">\n",
       "  <thead>\n",
       "    <tr style=\"text-align: right;\">\n",
       "      <th></th>\n",
       "      <th>XLY close</th>\n",
       "      <th>XLP close</th>\n",
       "      <th>SGX close</th>\n",
       "    </tr>\n",
       "    <tr>\n",
       "      <th>date</th>\n",
       "      <th></th>\n",
       "      <th></th>\n",
       "      <th></th>\n",
       "    </tr>\n",
       "  </thead>\n",
       "  <tbody>\n",
       "    <tr>\n",
       "      <th>2020-04-27</th>\n",
       "      <td>114.35</td>\n",
       "      <td>58.88</td>\n",
       "      <td>1868.83</td>\n",
       "    </tr>\n",
       "    <tr>\n",
       "      <th>2020-04-24</th>\n",
       "      <td>112.25</td>\n",
       "      <td>58.71</td>\n",
       "      <td>1850.60</td>\n",
       "    </tr>\n",
       "    <tr>\n",
       "      <th>2020-04-23</th>\n",
       "      <td>110.38</td>\n",
       "      <td>58.09</td>\n",
       "      <td>1823.75</td>\n",
       "    </tr>\n",
       "    <tr>\n",
       "      <th>2020-04-22</th>\n",
       "      <td>110.41</td>\n",
       "      <td>58.61</td>\n",
       "      <td>1826.15</td>\n",
       "    </tr>\n",
       "    <tr>\n",
       "      <th>2020-04-21</th>\n",
       "      <td>108.08</td>\n",
       "      <td>58.05</td>\n",
       "      <td>1775.70</td>\n",
       "    </tr>\n",
       "  </tbody>\n",
       "</table>\n",
       "</div>"
      ],
      "text/plain": [
       "            XLY close  XLP close  SGX close\n",
       "date                                       \n",
       "2020-04-27     114.35      58.88    1868.83\n",
       "2020-04-24     112.25      58.71    1850.60\n",
       "2020-04-23     110.38      58.09    1823.75\n",
       "2020-04-22     110.41      58.61    1826.15\n",
       "2020-04-21     108.08      58.05    1775.70"
      ]
     },
     "execution_count": 52,
     "metadata": {},
     "output_type": "execute_result"
    }
   ],
   "source": [
    "#Change column names to avoid confusion\n",
    "columns = ['XLY close', 'XLP close', 'SGX close']\n",
    "concat_df.columns = columns\n",
    "concat_df.head()"
   ]
  },
  {
   "cell_type": "code",
   "execution_count": 53,
   "metadata": {},
   "outputs": [
    {
     "data": {
      "text/html": [
       "<div>\n",
       "<style scoped>\n",
       "    .dataframe tbody tr th:only-of-type {\n",
       "        vertical-align: middle;\n",
       "    }\n",
       "\n",
       "    .dataframe tbody tr th {\n",
       "        vertical-align: top;\n",
       "    }\n",
       "\n",
       "    .dataframe thead th {\n",
       "        text-align: right;\n",
       "    }\n",
       "</style>\n",
       "<table border=\"1\" class=\"dataframe\">\n",
       "  <thead>\n",
       "    <tr style=\"text-align: right;\">\n",
       "      <th></th>\n",
       "      <th>XLY close</th>\n",
       "      <th>XLP close</th>\n",
       "      <th>SGX close</th>\n",
       "      <th>XLY_return</th>\n",
       "      <th>XLP_return</th>\n",
       "      <th>SGX_return</th>\n",
       "    </tr>\n",
       "    <tr>\n",
       "      <th>date</th>\n",
       "      <th></th>\n",
       "      <th></th>\n",
       "      <th></th>\n",
       "      <th></th>\n",
       "      <th></th>\n",
       "      <th></th>\n",
       "    </tr>\n",
       "  </thead>\n",
       "  <tbody>\n",
       "    <tr>\n",
       "      <th>2020-04-27</th>\n",
       "      <td>114.35</td>\n",
       "      <td>58.88</td>\n",
       "      <td>1868.83</td>\n",
       "      <td>-0.003920</td>\n",
       "      <td>-0.005573</td>\n",
       "      <td>NaN</td>\n",
       "    </tr>\n",
       "    <tr>\n",
       "      <th>2020-04-24</th>\n",
       "      <td>112.25</td>\n",
       "      <td>58.71</td>\n",
       "      <td>1850.60</td>\n",
       "      <td>-0.018365</td>\n",
       "      <td>-0.002887</td>\n",
       "      <td>-0.009755</td>\n",
       "    </tr>\n",
       "    <tr>\n",
       "      <th>2020-04-23</th>\n",
       "      <td>110.38</td>\n",
       "      <td>58.09</td>\n",
       "      <td>1823.75</td>\n",
       "      <td>-0.016659</td>\n",
       "      <td>-0.010560</td>\n",
       "      <td>-0.014509</td>\n",
       "    </tr>\n",
       "    <tr>\n",
       "      <th>2020-04-22</th>\n",
       "      <td>110.41</td>\n",
       "      <td>58.61</td>\n",
       "      <td>1826.15</td>\n",
       "      <td>0.000272</td>\n",
       "      <td>0.008952</td>\n",
       "      <td>0.001316</td>\n",
       "    </tr>\n",
       "    <tr>\n",
       "      <th>2020-04-21</th>\n",
       "      <td>108.08</td>\n",
       "      <td>58.05</td>\n",
       "      <td>1775.70</td>\n",
       "      <td>-0.021103</td>\n",
       "      <td>-0.009555</td>\n",
       "      <td>-0.027626</td>\n",
       "    </tr>\n",
       "  </tbody>\n",
       "</table>\n",
       "</div>"
      ],
      "text/plain": [
       "            XLY close  XLP close  SGX close  XLY_return  XLP_return  \\\n",
       "date                                                                  \n",
       "2020-04-27     114.35      58.88    1868.83   -0.003920   -0.005573   \n",
       "2020-04-24     112.25      58.71    1850.60   -0.018365   -0.002887   \n",
       "2020-04-23     110.38      58.09    1823.75   -0.016659   -0.010560   \n",
       "2020-04-22     110.41      58.61    1826.15    0.000272    0.008952   \n",
       "2020-04-21     108.08      58.05    1775.70   -0.021103   -0.009555   \n",
       "\n",
       "            SGX_return  \n",
       "date                    \n",
       "2020-04-27         NaN  \n",
       "2020-04-24   -0.009755  \n",
       "2020-04-23   -0.014509  \n",
       "2020-04-22    0.001316  \n",
       "2020-04-21   -0.027626  "
      ]
     },
     "execution_count": 53,
     "metadata": {},
     "output_type": "execute_result"
    }
   ],
   "source": [
    "#add another column to get daily returns of XLY\n",
    "daily_returns_xly = xly_df.pct_change()\n",
    "concat_df['XLY_return']= daily_returns_xly \n",
    "\n",
    "#add another column to get daily returns of XLP\n",
    "daily_returns_xlp = xlp_df.pct_change()\n",
    "concat_df['XLP_return']= daily_returns_xlp \n",
    "\n",
    "#add another column to get daily returns of SGX\n",
    "daily_returns_sgx = sgx_df.pct_change()\n",
    "concat_df['SGX_return']= daily_returns_sgx \n",
    "\n",
    "concat_df.head()"
   ]
  },
  {
   "cell_type": "code",
   "execution_count": 54,
   "metadata": {},
   "outputs": [
    {
     "data": {
      "text/plain": [
       "XLY close     0\n",
       "XLP close     0\n",
       "SGX close     0\n",
       "XLY_return    0\n",
       "XLP_return    0\n",
       "SGX_return    1\n",
       "dtype: int64"
      ]
     },
     "execution_count": 54,
     "metadata": {},
     "output_type": "execute_result"
    }
   ],
   "source": [
    "#check for nulls\n",
    "\n",
    "concat_df.isnull().sum()"
   ]
  },
  {
   "cell_type": "code",
   "execution_count": 55,
   "metadata": {},
   "outputs": [
    {
     "data": {
      "text/plain": [
       "XLY close     0\n",
       "XLP close     0\n",
       "SGX close     0\n",
       "XLY_return    0\n",
       "XLP_return    0\n",
       "SGX_return    0\n",
       "dtype: int64"
      ]
     },
     "execution_count": 55,
     "metadata": {},
     "output_type": "execute_result"
    }
   ],
   "source": [
    "# Drop nulls\n",
    "concat_df.dropna(inplace=True)\n",
    "\n",
    "#count nulls again\n",
    "concat_df.isnull().sum()"
   ]
  },
  {
   "cell_type": "code",
   "execution_count": 56,
   "metadata": {},
   "outputs": [
    {
     "data": {
      "text/plain": [
       "date\n",
       "2020-04-24    False\n",
       "2020-04-23    False\n",
       "2020-04-22    False\n",
       "2020-04-21    False\n",
       "2020-04-20    False\n",
       "              ...  \n",
       "2000-05-05    False\n",
       "2000-05-04    False\n",
       "2000-05-03    False\n",
       "2000-05-02    False\n",
       "2000-05-01    False\n",
       "Length: 5028, dtype: bool"
      ]
     },
     "execution_count": 56,
     "metadata": {},
     "output_type": "execute_result"
    }
   ],
   "source": [
    "# Checking for duplicate rows\n",
    "concat_df.duplicated()"
   ]
  },
  {
   "cell_type": "code",
   "execution_count": 57,
   "metadata": {},
   "outputs": [],
   "source": [
    "# drop duplicates\n",
    "concat_df.drop_duplicates(inplace=True)"
   ]
  },
  {
   "cell_type": "code",
   "execution_count": 59,
   "metadata": {},
   "outputs": [
    {
     "data": {
      "text/html": [
       "<div>\n",
       "<style scoped>\n",
       "    .dataframe tbody tr th:only-of-type {\n",
       "        vertical-align: middle;\n",
       "    }\n",
       "\n",
       "    .dataframe tbody tr th {\n",
       "        vertical-align: top;\n",
       "    }\n",
       "\n",
       "    .dataframe thead th {\n",
       "        text-align: right;\n",
       "    }\n",
       "</style>\n",
       "<table border=\"1\" class=\"dataframe\">\n",
       "  <thead>\n",
       "    <tr style=\"text-align: right;\">\n",
       "      <th></th>\n",
       "      <th>XLY close</th>\n",
       "      <th>XLP close</th>\n",
       "      <th>SGX close</th>\n",
       "      <th>XLY_return</th>\n",
       "      <th>XLP_return</th>\n",
       "      <th>SGX_return</th>\n",
       "    </tr>\n",
       "    <tr>\n",
       "      <th>date</th>\n",
       "      <th></th>\n",
       "      <th></th>\n",
       "      <th></th>\n",
       "      <th></th>\n",
       "      <th></th>\n",
       "      <th></th>\n",
       "    </tr>\n",
       "  </thead>\n",
       "  <tbody>\n",
       "    <tr>\n",
       "      <th>2020-04-24</th>\n",
       "      <td>112.2500</td>\n",
       "      <td>58.7100</td>\n",
       "      <td>1850.60</td>\n",
       "      <td>-0.018365</td>\n",
       "      <td>-0.002887</td>\n",
       "      <td>-0.009755</td>\n",
       "    </tr>\n",
       "    <tr>\n",
       "      <th>2020-04-23</th>\n",
       "      <td>110.3800</td>\n",
       "      <td>58.0900</td>\n",
       "      <td>1823.75</td>\n",
       "      <td>-0.016659</td>\n",
       "      <td>-0.010560</td>\n",
       "      <td>-0.014509</td>\n",
       "    </tr>\n",
       "    <tr>\n",
       "      <th>2020-04-22</th>\n",
       "      <td>110.4100</td>\n",
       "      <td>58.6100</td>\n",
       "      <td>1826.15</td>\n",
       "      <td>0.000272</td>\n",
       "      <td>0.008952</td>\n",
       "      <td>0.001316</td>\n",
       "    </tr>\n",
       "    <tr>\n",
       "      <th>2020-04-21</th>\n",
       "      <td>108.0800</td>\n",
       "      <td>58.0500</td>\n",
       "      <td>1775.70</td>\n",
       "      <td>-0.021103</td>\n",
       "      <td>-0.009555</td>\n",
       "      <td>-0.027626</td>\n",
       "    </tr>\n",
       "    <tr>\n",
       "      <th>2020-04-20</th>\n",
       "      <td>110.9600</td>\n",
       "      <td>59.3100</td>\n",
       "      <td>1836.67</td>\n",
       "      <td>0.026647</td>\n",
       "      <td>0.021705</td>\n",
       "      <td>0.034336</td>\n",
       "    </tr>\n",
       "    <tr>\n",
       "      <th>...</th>\n",
       "      <td>...</td>\n",
       "      <td>...</td>\n",
       "      <td>...</td>\n",
       "      <td>...</td>\n",
       "      <td>...</td>\n",
       "      <td>...</td>\n",
       "    </tr>\n",
       "    <tr>\n",
       "      <th>2000-05-05</th>\n",
       "      <td>21.6164</td>\n",
       "      <td>14.6113</td>\n",
       "      <td>866.12</td>\n",
       "      <td>0.002886</td>\n",
       "      <td>-0.020250</td>\n",
       "      <td>0.016967</td>\n",
       "    </tr>\n",
       "    <tr>\n",
       "      <th>2000-05-04</th>\n",
       "      <td>21.3445</td>\n",
       "      <td>14.2778</td>\n",
       "      <td>846.30</td>\n",
       "      <td>-0.012578</td>\n",
       "      <td>-0.022825</td>\n",
       "      <td>-0.022884</td>\n",
       "    </tr>\n",
       "    <tr>\n",
       "      <th>2000-05-03</th>\n",
       "      <td>21.7018</td>\n",
       "      <td>14.2778</td>\n",
       "      <td>851.44</td>\n",
       "      <td>0.016740</td>\n",
       "      <td>0.000000</td>\n",
       "      <td>0.006073</td>\n",
       "    </tr>\n",
       "    <tr>\n",
       "      <th>2000-05-02</th>\n",
       "      <td>22.7815</td>\n",
       "      <td>14.2778</td>\n",
       "      <td>869.43</td>\n",
       "      <td>0.049752</td>\n",
       "      <td>0.000000</td>\n",
       "      <td>0.021129</td>\n",
       "    </tr>\n",
       "    <tr>\n",
       "      <th>2000-05-01</th>\n",
       "      <td>22.9368</td>\n",
       "      <td>14.2400</td>\n",
       "      <td>885.57</td>\n",
       "      <td>0.006817</td>\n",
       "      <td>-0.002647</td>\n",
       "      <td>0.018564</td>\n",
       "    </tr>\n",
       "  </tbody>\n",
       "</table>\n",
       "<p>5028 rows × 6 columns</p>\n",
       "</div>"
      ],
      "text/plain": [
       "            XLY close  XLP close  SGX close  XLY_return  XLP_return  \\\n",
       "date                                                                  \n",
       "2020-04-24   112.2500    58.7100    1850.60   -0.018365   -0.002887   \n",
       "2020-04-23   110.3800    58.0900    1823.75   -0.016659   -0.010560   \n",
       "2020-04-22   110.4100    58.6100    1826.15    0.000272    0.008952   \n",
       "2020-04-21   108.0800    58.0500    1775.70   -0.021103   -0.009555   \n",
       "2020-04-20   110.9600    59.3100    1836.67    0.026647    0.021705   \n",
       "...               ...        ...        ...         ...         ...   \n",
       "2000-05-05    21.6164    14.6113     866.12    0.002886   -0.020250   \n",
       "2000-05-04    21.3445    14.2778     846.30   -0.012578   -0.022825   \n",
       "2000-05-03    21.7018    14.2778     851.44    0.016740    0.000000   \n",
       "2000-05-02    22.7815    14.2778     869.43    0.049752    0.000000   \n",
       "2000-05-01    22.9368    14.2400     885.57    0.006817   -0.002647   \n",
       "\n",
       "            SGX_return  \n",
       "date                    \n",
       "2020-04-24   -0.009755  \n",
       "2020-04-23   -0.014509  \n",
       "2020-04-22    0.001316  \n",
       "2020-04-21   -0.027626  \n",
       "2020-04-20    0.034336  \n",
       "...                ...  \n",
       "2000-05-05    0.016967  \n",
       "2000-05-04   -0.022884  \n",
       "2000-05-03    0.006073  \n",
       "2000-05-02    0.021129  \n",
       "2000-05-01    0.018564  \n",
       "\n",
       "[5028 rows x 6 columns]"
      ]
     },
     "execution_count": 59,
     "metadata": {},
     "output_type": "execute_result"
    }
   ],
   "source": [
    "concat_df"
   ]
  },
  {
   "cell_type": "code",
   "execution_count": 60,
   "metadata": {},
   "outputs": [
    {
     "data": {
      "text/plain": [
       "XLY close     float64\n",
       "XLP close     float64\n",
       "SGX close     float64\n",
       "XLY_return    float64\n",
       "XLP_return    float64\n",
       "SGX_return    float64\n",
       "dtype: object"
      ]
     },
     "execution_count": 60,
     "metadata": {},
     "output_type": "execute_result"
    }
   ],
   "source": [
    "#Check datatypes\n",
    "\n",
    "concat_df.dtypes"
   ]
  },
  {
   "cell_type": "code",
   "execution_count": 61,
   "metadata": {},
   "outputs": [
    {
     "data": {
      "text/plain": [
       "XLY close     5028\n",
       "XLP close     5028\n",
       "SGX close     5028\n",
       "XLY_return    5028\n",
       "XLP_return    5028\n",
       "SGX_return    5028\n",
       "dtype: int64"
      ]
     },
     "execution_count": 61,
     "metadata": {},
     "output_type": "execute_result"
    }
   ],
   "source": [
    "#check counts\n",
    "concat_df.count()"
   ]
  },
  {
   "cell_type": "code",
   "execution_count": 62,
   "metadata": {},
   "outputs": [
    {
     "data": {
      "text/html": [
       "<div>\n",
       "<style scoped>\n",
       "    .dataframe tbody tr th:only-of-type {\n",
       "        vertical-align: middle;\n",
       "    }\n",
       "\n",
       "    .dataframe tbody tr th {\n",
       "        vertical-align: top;\n",
       "    }\n",
       "\n",
       "    .dataframe thead th {\n",
       "        text-align: right;\n",
       "    }\n",
       "</style>\n",
       "<table border=\"1\" class=\"dataframe\">\n",
       "  <thead>\n",
       "    <tr style=\"text-align: right;\">\n",
       "      <th></th>\n",
       "      <th>XLY close</th>\n",
       "      <th>XLP close</th>\n",
       "      <th>SGX close</th>\n",
       "      <th>XLY_return</th>\n",
       "      <th>XLP_return</th>\n",
       "      <th>SGX_return</th>\n",
       "    </tr>\n",
       "  </thead>\n",
       "  <tbody>\n",
       "    <tr>\n",
       "      <th>count</th>\n",
       "      <td>5028.000000</td>\n",
       "      <td>5028.000000</td>\n",
       "      <td>5028.000000</td>\n",
       "      <td>5028.000000</td>\n",
       "      <td>5028.000000</td>\n",
       "      <td>5028.000000</td>\n",
       "    </tr>\n",
       "    <tr>\n",
       "      <th>mean</th>\n",
       "      <td>46.847216</td>\n",
       "      <td>28.631587</td>\n",
       "      <td>867.168016</td>\n",
       "      <td>-0.000220</td>\n",
       "      <td>-0.000237</td>\n",
       "      <td>-0.000069</td>\n",
       "    </tr>\n",
       "    <tr>\n",
       "      <th>std</th>\n",
       "      <td>30.546083</td>\n",
       "      <td>14.740906</td>\n",
       "      <td>402.981158</td>\n",
       "      <td>0.014149</td>\n",
       "      <td>0.009538</td>\n",
       "      <td>0.012618</td>\n",
       "    </tr>\n",
       "    <tr>\n",
       "      <th>min</th>\n",
       "      <td>13.621800</td>\n",
       "      <td>11.666100</td>\n",
       "      <td>363.990000</td>\n",
       "      <td>-0.104402</td>\n",
       "      <td>-0.083707</td>\n",
       "      <td>-0.113694</td>\n",
       "    </tr>\n",
       "    <tr>\n",
       "      <th>25%</th>\n",
       "      <td>24.375900</td>\n",
       "      <td>16.229300</td>\n",
       "      <td>575.747500</td>\n",
       "      <td>-0.007073</td>\n",
       "      <td>-0.005110</td>\n",
       "      <td>-0.005796</td>\n",
       "    </tr>\n",
       "    <tr>\n",
       "      <th>50%</th>\n",
       "      <td>31.281350</td>\n",
       "      <td>20.779600</td>\n",
       "      <td>683.945000</td>\n",
       "      <td>-0.000787</td>\n",
       "      <td>-0.000443</td>\n",
       "      <td>-0.000616</td>\n",
       "    </tr>\n",
       "    <tr>\n",
       "      <th>75%</th>\n",
       "      <td>69.769875</td>\n",
       "      <td>42.654475</td>\n",
       "      <td>1125.919925</td>\n",
       "      <td>0.005799</td>\n",
       "      <td>0.004199</td>\n",
       "      <td>0.004843</td>\n",
       "    </tr>\n",
       "    <tr>\n",
       "      <th>max</th>\n",
       "      <td>131.682600</td>\n",
       "      <td>64.409400</td>\n",
       "      <td>2120.379900</td>\n",
       "      <td>0.145063</td>\n",
       "      <td>0.103699</td>\n",
       "      <td>0.139774</td>\n",
       "    </tr>\n",
       "  </tbody>\n",
       "</table>\n",
       "</div>"
      ],
      "text/plain": [
       "         XLY close    XLP close    SGX close   XLY_return   XLP_return  \\\n",
       "count  5028.000000  5028.000000  5028.000000  5028.000000  5028.000000   \n",
       "mean     46.847216    28.631587   867.168016    -0.000220    -0.000237   \n",
       "std      30.546083    14.740906   402.981158     0.014149     0.009538   \n",
       "min      13.621800    11.666100   363.990000    -0.104402    -0.083707   \n",
       "25%      24.375900    16.229300   575.747500    -0.007073    -0.005110   \n",
       "50%      31.281350    20.779600   683.945000    -0.000787    -0.000443   \n",
       "75%      69.769875    42.654475  1125.919925     0.005799     0.004199   \n",
       "max     131.682600    64.409400  2120.379900     0.145063     0.103699   \n",
       "\n",
       "        SGX_return  \n",
       "count  5028.000000  \n",
       "mean     -0.000069  \n",
       "std       0.012618  \n",
       "min      -0.113694  \n",
       "25%      -0.005796  \n",
       "50%      -0.000616  \n",
       "75%       0.004843  \n",
       "max       0.139774  "
      ]
     },
     "execution_count": 62,
     "metadata": {},
     "output_type": "execute_result"
    }
   ],
   "source": [
    "#use describe to explore data\n",
    "concat_df.describe()"
   ]
  },
  {
   "cell_type": "code",
   "execution_count": 63,
   "metadata": {},
   "outputs": [
    {
     "data": {
      "text/plain": [
       "<matplotlib.axes._subplots.AxesSubplot at 0x11e5b72d0>"
      ]
     },
     "execution_count": 63,
     "metadata": {},
     "output_type": "execute_result"
    },
    {
     "data": {
      "image/png": "[encoded data removed]",
      "text/plain": [
       "<Figure size 720x360 with 1 Axes>"
      ]
     },
     "metadata": {
      "needs_background": "light"
     },
     "output_type": "display_data"
    }
   ],
   "source": [
    "#plot daily returns of XLY\n",
    "\n",
    "concat_df['XLY_return'].plot(figsize=(10,5))"
   ]
  },
  {
   "cell_type": "code",
   "execution_count": 64,
   "metadata": {},
   "outputs": [
    {
     "data": {
      "text/plain": [
       "<matplotlib.axes._subplots.AxesSubplot at 0x11e3c8410>"
      ]
     },
     "execution_count": 64,
     "metadata": {},
     "output_type": "execute_result"
    },
    {
     "data": {
      "image/png": "[encoded data removed]",
      "text/plain": [
       "<Figure size 720x360 with 1 Axes>"
      ]
     },
     "metadata": {
      "needs_background": "light"
     },
     "output_type": "display_data"
    }
   ],
   "source": [
    "#plot daily returns of XLP\n",
    "\n",
    "concat_df['XLP_return'].plot(figsize=(10,5))"
   ]
  },
  {
   "cell_type": "code",
   "execution_count": 66,
   "metadata": {},
   "outputs": [
    {
     "data": {
      "text/plain": [
       "<matplotlib.axes._subplots.AxesSubplot at 0x11e340bd0>"
      ]
     },
     "execution_count": 66,
     "metadata": {},
     "output_type": "execute_result"
    },
    {
     "data": {
      "image/png": "[encoded data removed]",
      "text/plain": [
       "<Figure size 720x360 with 1 Axes>"
      ]
     },
     "metadata": {
      "needs_background": "light"
     },
     "output_type": "display_data"
    }
   ],
   "source": [
    "#plot daily returns of SGX\n",
    "\n",
    "concat_df['SGX_return'].plot(figsize=(10,5))"
   ]
  },
  {
   "cell_type": "code",
   "execution_count": 68,
   "metadata": {},
   "outputs": [
    {
     "data": {
      "text/plain": [
       "date\n",
       "2020-04-28         NaN\n",
       "2020-04-27    0.996080\n",
       "2020-04-24    0.977787\n",
       "2020-04-23    0.961498\n",
       "2020-04-22    0.961760\n",
       "Name: 5. adjusted close, dtype: float64"
      ]
     },
     "execution_count": 68,
     "metadata": {},
     "output_type": "execute_result"
    }
   ],
   "source": [
    "# Calculate the cumulative returns using the 'cumprod()' function\n",
    "cumulative_returns_xly = (1 + daily_returns_xly).cumprod()\n",
    "cumulative_returns_xlp = (1 + daily_returns_xlp).cumprod()\n",
    "cumulative_returns_sgx = (1 + daily_returns_sgx).cumprod()\n",
    "\n",
    "cumulative_returns_xly.head()"
   ]
  },
  {
   "cell_type": "code",
   "execution_count": 70,
   "metadata": {},
   "outputs": [
    {
     "data": {
      "text/plain": [
       "<matplotlib.axes._subplots.AxesSubplot at 0x11f0ee450>"
      ]
     },
     "execution_count": 70,
     "metadata": {},
     "output_type": "execute_result"
    },
    {
     "data": {
      "image/png": "[encoded data removed]",
      "text/plain": [
       "<Figure size 720x360 with 1 Axes>"
      ]
     },
     "metadata": {
      "needs_background": "light"
     },
     "output_type": "display_data"
    }
   ],
   "source": [
    "#plot cumulative returns\n",
    "\n",
    "cumulative_returns_xly.plot(figsize=(10,5))\n",
    "cumulative_returns_xlp.plot(figsize=(10,5))\n",
    "cumulative_returns_sgx.plot(figsize=(10,5))"
   ]
  },
  {
   "cell_type": "code",
   "execution_count": null,
   "metadata": {},
   "outputs": [],
   "source": [
    "#need to check on dividend"
   ]
  }
 ],
 "metadata": {
  "kernelspec": {
   "display_name": "Python 3",
   "language": "python",
   "name": "python3"
  },
  "language_info": {
   "codemirror_mode": {
    "name": "ipython",
    "version": 3
   },
   "file_extension": ".py",
   "mimetype": "text/x-python",
   "name": "python",
   "nbconvert_exporter": "python",
   "pygments_lexer": "ipython3",
   "version": "3.7.4"
  }
 },
 "nbformat": 4,
 "nbformat_minor": 4
}
