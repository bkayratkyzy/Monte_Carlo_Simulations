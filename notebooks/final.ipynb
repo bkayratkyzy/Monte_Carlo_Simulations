{
 "cells": [
  {
   "cell_type": "code",
   "execution_count": 9,
   "metadata": {},
   "outputs": [],
   "source": [
    "import numpy as np\n",
    "import pandas as pd\n",
    "from datetime import datetime, timedelta\n",
    "import matplotlib.pyplot as plt\n",
    "import json\n",
    "from pathlib import Path\n",
    "import alpaca_trade_api as tradeapi\n",
    "import requests\n",
    "import os \n",
    "from dotenv import load_dotenv\n",
    "\n",
    "%matplotlib inline"
   ]
  },
  {
   "cell_type": "code",
   "execution_count": 11,
   "metadata": {},
   "outputs": [
    {
     "data": {
      "text/plain": [
       "str"
      ]
     },
     "execution_count": 11,
     "metadata": {},
     "output_type": "execute_result"
    }
   ],
   "source": [
    "load_dotenv()\n",
    "\n",
    "alpaca_api_key = os.getenv(\"Api_key\")\n",
    "alpaca_secret_key = os.getenv(\"Secret_key\")\n",
    "\n",
    "api = tradeapi.REST(alpaca_api_key, alpaca_secret_key, api_version='v2')\n",
    "\n",
    "\n",
    "type(alpaca_api_key)\n"
   ]
  },
  {
   "cell_type": "code",
   "execution_count": 12,
   "metadata": {},
   "outputs": [],
   "source": [
    "xle_df = api.alpha_vantage.historic_quotes('XLE', adjusted=True, output_format='pandas')\n",
    "\n",
    "xlf_df = api.alpha_vantage.historic_quotes('XLF', adjusted=True, output_format='pandas')\n",
    "\n",
    "ive_df = api.alpha_vantage.historic_quotes('IVE', adjusted=True, output_format='pandas')\n",
    "ive_df.tail()\n",
    "\n",
    "xlb_df = api.alpha_vantage.historic_quotes('XLB', adjusted=True, output_format='pandas')\n",
    "xlb_df.head()\n",
    "\n",
    "xlk_df = api.alpha_vantage.historic_quotes('XLK', adjusted=True, output_format='pandas')\n",
    "# xlk_df.tail()\n",
    "\n"
   ]
  },
  {
   "cell_type": "code",
   "execution_count": 14,
   "metadata": {},
   "outputs": [],
   "source": [
    "rwr_df = api.alpha_vantage.historic_quotes('RWR', adjusted=True, output_format='pandas')\n",
    "rwr_df.head()\n",
    "\n",
    "\n",
    "spy_df = api.alpha_vantage.historic_quotes('SPY', adjusted=True, output_format='pandas')"
   ]
  },
  {
   "cell_type": "code",
   "execution_count": 15,
   "metadata": {},
   "outputs": [
    {
     "data": {
      "text/html": [
       "<div>\n",
       "<style scoped>\n",
       "    .dataframe tbody tr th:only-of-type {\n",
       "        vertical-align: middle;\n",
       "    }\n",
       "\n",
       "    .dataframe tbody tr th {\n",
       "        vertical-align: top;\n",
       "    }\n",
       "\n",
       "    .dataframe thead th {\n",
       "        text-align: right;\n",
       "    }\n",
       "</style>\n",
       "<table border=\"1\" class=\"dataframe\">\n",
       "  <thead>\n",
       "    <tr style=\"text-align: right;\">\n",
       "      <th></th>\n",
       "      <th>1. open</th>\n",
       "      <th>2. high</th>\n",
       "      <th>3. low</th>\n",
       "      <th>4. close</th>\n",
       "      <th>5. adjusted close</th>\n",
       "      <th>6. volume</th>\n",
       "      <th>7. dividend amount</th>\n",
       "      <th>8. split coefficient</th>\n",
       "    </tr>\n",
       "    <tr>\n",
       "      <th>date</th>\n",
       "      <th></th>\n",
       "      <th></th>\n",
       "      <th></th>\n",
       "      <th></th>\n",
       "      <th></th>\n",
       "      <th></th>\n",
       "      <th></th>\n",
       "      <th></th>\n",
       "    </tr>\n",
       "  </thead>\n",
       "  <tbody>\n",
       "    <tr>\n",
       "      <th>2020-05-01</th>\n",
       "      <td>184.99</td>\n",
       "      <td>186.385</td>\n",
       "      <td>183.08</td>\n",
       "      <td>183.70</td>\n",
       "      <td>183.70</td>\n",
       "      <td>526756.0</td>\n",
       "      <td>0.0</td>\n",
       "      <td>1.0</td>\n",
       "    </tr>\n",
       "    <tr>\n",
       "      <th>2020-04-30</th>\n",
       "      <td>188.80</td>\n",
       "      <td>189.410</td>\n",
       "      <td>187.13</td>\n",
       "      <td>188.57</td>\n",
       "      <td>188.57</td>\n",
       "      <td>1337886.0</td>\n",
       "      <td>0.0</td>\n",
       "      <td>1.0</td>\n",
       "    </tr>\n",
       "    <tr>\n",
       "      <th>2020-04-29</th>\n",
       "      <td>187.20</td>\n",
       "      <td>189.955</td>\n",
       "      <td>186.41</td>\n",
       "      <td>188.89</td>\n",
       "      <td>188.89</td>\n",
       "      <td>1182129.0</td>\n",
       "      <td>0.0</td>\n",
       "      <td>1.0</td>\n",
       "    </tr>\n",
       "    <tr>\n",
       "      <th>2020-04-28</th>\n",
       "      <td>187.49</td>\n",
       "      <td>187.524</td>\n",
       "      <td>182.97</td>\n",
       "      <td>183.09</td>\n",
       "      <td>183.09</td>\n",
       "      <td>1151132.0</td>\n",
       "      <td>0.0</td>\n",
       "      <td>1.0</td>\n",
       "    </tr>\n",
       "    <tr>\n",
       "      <th>2020-04-27</th>\n",
       "      <td>184.97</td>\n",
       "      <td>186.000</td>\n",
       "      <td>184.67</td>\n",
       "      <td>185.34</td>\n",
       "      <td>185.34</td>\n",
       "      <td>695039.0</td>\n",
       "      <td>0.0</td>\n",
       "      <td>1.0</td>\n",
       "    </tr>\n",
       "  </tbody>\n",
       "</table>\n",
       "</div>"
      ],
      "text/plain": [
       "            1. open  2. high  3. low  4. close  5. adjusted close  6. volume  \\\n",
       "date                                                                           \n",
       "2020-05-01   184.99  186.385  183.08    183.70             183.70   526756.0   \n",
       "2020-04-30   188.80  189.410  187.13    188.57             188.57  1337886.0   \n",
       "2020-04-29   187.20  189.955  186.41    188.89             188.89  1182129.0   \n",
       "2020-04-28   187.49  187.524  182.97    183.09             183.09  1151132.0   \n",
       "2020-04-27   184.97  186.000  184.67    185.34             185.34   695039.0   \n",
       "\n",
       "            7. dividend amount  8. split coefficient  \n",
       "date                                                  \n",
       "2020-05-01                 0.0                   1.0  \n",
       "2020-04-30                 0.0                   1.0  \n",
       "2020-04-29                 0.0                   1.0  \n",
       "2020-04-28                 0.0                   1.0  \n",
       "2020-04-27                 0.0                   1.0  "
      ]
     },
     "execution_count": 15,
     "metadata": {},
     "output_type": "execute_result"
    }
   ],
   "source": [
    "xly_df = api.alpha_vantage.historic_quotes('XLY', adjusted=True, output_format='pandas')\n",
    "xly_df.head()\n",
    "\n",
    "xlp_df = api.alpha_vantage.historic_quotes('XLP', adjusted=True, output_format='pandas')\n",
    "xlp_df.tail()\n",
    "\n",
    "ivw_df = api.alpha_vantage.historic_quotes('IVW', adjusted=True, output_format='pandas')\n",
    "ivw_df.head()"
   ]
  },
  {
   "cell_type": "code",
   "execution_count": null,
   "metadata": {},
   "outputs": [],
   "source": []
  }
 ],
 "metadata": {
  "kernelspec": {
   "display_name": "Python 3",
   "language": "python",
   "name": "python3"
  },
  "language_info": {
   "codemirror_mode": {
    "name": "ipython",
    "version": 3
   },
   "file_extension": ".py",
   "mimetype": "text/x-python",
   "name": "python",
   "nbconvert_exporter": "python",
   "pygments_lexer": "ipython3",
   "version": "3.7.4"
  }
 },
 "nbformat": 4,
 "nbformat_minor": 4
}
