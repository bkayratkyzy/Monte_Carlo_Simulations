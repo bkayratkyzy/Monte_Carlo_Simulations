{
 "cells": [
  {
   "cell_type": "code",
   "execution_count": 1,
   "metadata": {},
   "outputs": [],
   "source": [
    "import numpy as np\n",
    "import pandas as pd\n",
    "from datetime import datetime, timedelta\n",
    "import matplotlib.pyplot as plt\n",
    "import json\n",
    "from pathlib import Path\n",
    "import alpaca_trade_api as tradeapi\n",
    "import requests\n",
    "import seaborn as sns\n",
    "import os \n",
    "from dotenv import load_dotenv\n",
    "\n",
    "%matplotlib inline"
   ]
  },
  {
   "cell_type": "code",
   "execution_count": 2,
   "metadata": {},
   "outputs": [
    {
     "data": {
      "text/plain": [
       "str"
      ]
     },
     "execution_count": 2,
     "metadata": {},
     "output_type": "execute_result"
    }
   ],
   "source": [
    "load_dotenv()\n",
    "\n",
    "alpaca_api_key = os.getenv(\"Api_key\")\n",
    "alpaca_secret_key = os.getenv(\"Secret_key\")\n",
    "\n",
    "api = tradeapi.REST(alpaca_api_key, alpaca_secret_key, api_version='v2')\n",
    "\n",
    "\n",
    "type(alpaca_api_key)\n"
   ]
  },
  {
   "cell_type": "code",
   "execution_count": 4,
   "metadata": {},
   "outputs": [],
   "source": [
    "energy_df = api.alpha_vantage.historic_quotes('XLE', adjusted=True, output_format='pandas')\n",
    "\n",
    "financials_df = api.alpha_vantage.historic_quotes('XLF', adjusted=True, output_format='pandas')\n",
    "\n",
    "materials_df = api.alpha_vantage.historic_quotes('XLB', adjusted=True, output_format='pandas')\n",
    "\n",
    "technology_df = api.alpha_vantage.historic_quotes('XLK', adjusted=True, output_format='pandas')"
   ]
  },
  {
   "cell_type": "code",
   "execution_count": 6,
   "metadata": {},
   "outputs": [],
   "source": [
    "health_df = api.alpha_vantage.historic_quotes('XLV', adjusted=True, output_format='pandas')\n",
    "\n",
    "industrial_df = api.alpha_vantage.historic_quotes('XLI', adjusted=True, output_format='pandas')\n",
    "\n",
    "utilities_df = api.alpha_vantage.historic_quotes('XLU', adjusted=True, output_format='pandas')"
   ]
  },
  {
   "cell_type": "code",
   "execution_count": 7,
   "metadata": {},
   "outputs": [],
   "source": [
    "real_estate_df = api.alpha_vantage.historic_quotes('RWR', adjusted=True, output_format='pandas')\n",
    "\n",
    "\n",
    "cons_disc_df = api.alpha_vantage.historic_quotes('XLY', adjusted=True, output_format='pandas')\n",
    "\n"
   ]
  },
  {
   "cell_type": "code",
   "execution_count": 8,
   "metadata": {},
   "outputs": [],
   "source": [
    "\n",
    "cons_staples_df = api.alpha_vantage.historic_quotes('XLP', adjusted=True, output_format='pandas')\n",
    "\n",
    "transports_df = api.alpha_vantage.historic_quotes('IYT', adjusted=True, output_format='pandas')\n",
    "\n",
    "# ive_df = api.alpha_vantage.historic_quotes('IVE', adjusted=True, output_format='pandas')\n",
    "spy_df = api.alpha_vantage.historic_quotes('SPY', adjusted=True, output_format='pandas')\n"
   ]
  },
  {
   "cell_type": "code",
   "execution_count": 9,
   "metadata": {},
   "outputs": [
    {
     "data": {
      "text/html": [
       "<div>\n",
       "<style scoped>\n",
       "    .dataframe tbody tr th:only-of-type {\n",
       "        vertical-align: middle;\n",
       "    }\n",
       "\n",
       "    .dataframe tbody tr th {\n",
       "        vertical-align: top;\n",
       "    }\n",
       "\n",
       "    .dataframe thead th {\n",
       "        text-align: right;\n",
       "    }\n",
       "</style>\n",
       "<table border=\"1\" class=\"dataframe\">\n",
       "  <thead>\n",
       "    <tr style=\"text-align: right;\">\n",
       "      <th></th>\n",
       "      <th>5. adjusted close</th>\n",
       "      <th>5. adjusted close</th>\n",
       "      <th>5. adjusted close</th>\n",
       "      <th>5. adjusted close</th>\n",
       "      <th>5. adjusted close</th>\n",
       "      <th>5. adjusted close</th>\n",
       "      <th>5. adjusted close</th>\n",
       "      <th>5. adjusted close</th>\n",
       "      <th>5. adjusted close</th>\n",
       "      <th>5. adjusted close</th>\n",
       "      <th>5. adjusted close</th>\n",
       "      <th>5. adjusted close</th>\n",
       "    </tr>\n",
       "    <tr>\n",
       "      <th>date</th>\n",
       "      <th></th>\n",
       "      <th></th>\n",
       "      <th></th>\n",
       "      <th></th>\n",
       "      <th></th>\n",
       "      <th></th>\n",
       "      <th></th>\n",
       "      <th></th>\n",
       "      <th></th>\n",
       "      <th></th>\n",
       "      <th></th>\n",
       "      <th></th>\n",
       "    </tr>\n",
       "  </thead>\n",
       "  <tbody>\n",
       "    <tr>\n",
       "      <td>2020-05-01</td>\n",
       "      <td>50.79</td>\n",
       "      <td>88.90</td>\n",
       "      <td>75.11</td>\n",
       "      <td>112.24</td>\n",
       "      <td>57.62</td>\n",
       "      <td>35.85</td>\n",
       "      <td>22.06</td>\n",
       "      <td>97.83</td>\n",
       "      <td>62.27</td>\n",
       "      <td>55.88</td>\n",
       "      <td>144.775</td>\n",
       "      <td>282.79</td>\n",
       "    </tr>\n",
       "    <tr>\n",
       "      <td>2020-04-30</td>\n",
       "      <td>51.88</td>\n",
       "      <td>91.41</td>\n",
       "      <td>77.87</td>\n",
       "      <td>116.60</td>\n",
       "      <td>58.26</td>\n",
       "      <td>38.00</td>\n",
       "      <td>22.79</td>\n",
       "      <td>99.73</td>\n",
       "      <td>64.21</td>\n",
       "      <td>57.26</td>\n",
       "      <td>149.920</td>\n",
       "      <td>290.48</td>\n",
       "    </tr>\n",
       "    <tr>\n",
       "      <td>2020-04-29</td>\n",
       "      <td>53.47</td>\n",
       "      <td>91.82</td>\n",
       "      <td>79.10</td>\n",
       "      <td>117.33</td>\n",
       "      <td>58.96</td>\n",
       "      <td>38.86</td>\n",
       "      <td>23.38</td>\n",
       "      <td>100.19</td>\n",
       "      <td>65.51</td>\n",
       "      <td>58.61</td>\n",
       "      <td>154.400</td>\n",
       "      <td>293.21</td>\n",
       "    </tr>\n",
       "    <tr>\n",
       "      <td>2020-04-28</td>\n",
       "      <td>52.14</td>\n",
       "      <td>88.20</td>\n",
       "      <td>77.38</td>\n",
       "      <td>114.80</td>\n",
       "      <td>59.21</td>\n",
       "      <td>36.18</td>\n",
       "      <td>22.72</td>\n",
       "      <td>99.53</td>\n",
       "      <td>64.28</td>\n",
       "      <td>59.15</td>\n",
       "      <td>150.270</td>\n",
       "      <td>285.73</td>\n",
       "    </tr>\n",
       "    <tr>\n",
       "      <td>2020-04-27</td>\n",
       "      <td>51.19</td>\n",
       "      <td>89.39</td>\n",
       "      <td>76.08</td>\n",
       "      <td>114.35</td>\n",
       "      <td>58.88</td>\n",
       "      <td>35.37</td>\n",
       "      <td>22.48</td>\n",
       "      <td>101.58</td>\n",
       "      <td>63.10</td>\n",
       "      <td>58.93</td>\n",
       "      <td>148.900</td>\n",
       "      <td>287.05</td>\n",
       "    </tr>\n",
       "  </tbody>\n",
       "</table>\n",
       "</div>"
      ],
      "text/plain": [
       "            5. adjusted close  5. adjusted close  5. adjusted close  \\\n",
       "date                                                                  \n",
       "2020-05-01              50.79              88.90              75.11   \n",
       "2020-04-30              51.88              91.41              77.87   \n",
       "2020-04-29              53.47              91.82              79.10   \n",
       "2020-04-28              52.14              88.20              77.38   \n",
       "2020-04-27              51.19              89.39              76.08   \n",
       "\n",
       "            5. adjusted close  5. adjusted close  5. adjusted close  \\\n",
       "date                                                                  \n",
       "2020-05-01             112.24              57.62              35.85   \n",
       "2020-04-30             116.60              58.26              38.00   \n",
       "2020-04-29             117.33              58.96              38.86   \n",
       "2020-04-28             114.80              59.21              36.18   \n",
       "2020-04-27             114.35              58.88              35.37   \n",
       "\n",
       "            5. adjusted close  5. adjusted close  5. adjusted close  \\\n",
       "date                                                                  \n",
       "2020-05-01              22.06              97.83              62.27   \n",
       "2020-04-30              22.79              99.73              64.21   \n",
       "2020-04-29              23.38             100.19              65.51   \n",
       "2020-04-28              22.72              99.53              64.28   \n",
       "2020-04-27              22.48             101.58              63.10   \n",
       "\n",
       "            5. adjusted close  5. adjusted close  5. adjusted close  \n",
       "date                                                                 \n",
       "2020-05-01              55.88            144.775             282.79  \n",
       "2020-04-30              57.26            149.920             290.48  \n",
       "2020-04-29              58.61            154.400             293.21  \n",
       "2020-04-28              59.15            150.270             285.73  \n",
       "2020-04-27              58.93            148.900             287.05  "
      ]
     },
     "execution_count": 9,
     "metadata": {},
     "output_type": "execute_result"
    }
   ],
   "source": [
    "#DATA CLEANUP\n",
    "\n",
    "#Select the one column we need,  \"adjusted close\", and drop the others\n",
    "\n",
    "materials_df = materials_df['5. adjusted close']\n",
    "materials_df.head()\n",
    "\n",
    "technology_df = technology_df['5. adjusted close']\n",
    "technology_df.head()\n",
    "\n",
    "real_estate_df = real_estate_df['5. adjusted close']\n",
    "real_estate_df.head()\n",
    "\n",
    "cons_disc_df = cons_disc_df['5. adjusted close']\n",
    "cons_disc_df.head()\n",
    "\n",
    "cons_staples_df = cons_staples_df['5. adjusted close']\n",
    "cons_staples_df.head()\n",
    "\n",
    "energy_df = energy_df['5. adjusted close']\n",
    "energy_df.head()\n",
    "\n",
    "financials_df = financials_df['5. adjusted close']\n",
    "financials_df.head()\n",
    "\n",
    "health_df = health_df['5. adjusted close']\n",
    "health_df.head()\n",
    "\n",
    "industrial_df = industrial_df['5. adjusted close']\n",
    "industrial_df.head()\n",
    "\n",
    "utilities_df = utilities_df['5. adjusted close']\n",
    "utilities_df.head()\n",
    "\n",
    "transports_df = transports_df['5. adjusted close']\n",
    "transports_df.head()\n",
    "\n",
    "spy_df = spy_df['5. adjusted close']\n",
    "spy_df.head()\n",
    "\n",
    "\n",
    "#Use concat to put the data in one dataframe\n",
    "concat_df = pd.concat([materials_df, technology_df, real_estate_df, cons_disc_df, \n",
    "                       cons_staples_df, energy_df, financials_df, health_df, industrial_df, \n",
    "                       utilities_df, transports_df, spy_df], \n",
    "                      axis = \"columns\", join = \"inner\")\n",
    "concat_df.head()\n"
   ]
  },
  {
   "cell_type": "code",
   "execution_count": 11,
   "metadata": {},
   "outputs": [
    {
     "data": {
      "text/html": [
       "<div>\n",
       "<style scoped>\n",
       "    .dataframe tbody tr th:only-of-type {\n",
       "        vertical-align: middle;\n",
       "    }\n",
       "\n",
       "    .dataframe tbody tr th {\n",
       "        vertical-align: top;\n",
       "    }\n",
       "\n",
       "    .dataframe thead th {\n",
       "        text-align: right;\n",
       "    }\n",
       "</style>\n",
       "<table border=\"1\" class=\"dataframe\">\n",
       "  <thead>\n",
       "    <tr style=\"text-align: right;\">\n",
       "      <th></th>\n",
       "      <th>Materials close</th>\n",
       "      <th>Tech close</th>\n",
       "      <th>RE close</th>\n",
       "      <th>Discretionary close</th>\n",
       "      <th>Staples close</th>\n",
       "      <th>Energy close</th>\n",
       "      <th>Fin close</th>\n",
       "      <th>HealthCare close</th>\n",
       "      <th>Industrials close</th>\n",
       "      <th>Utilities close</th>\n",
       "      <th>Transports close</th>\n",
       "      <th>S&amp;P 500 Close</th>\n",
       "    </tr>\n",
       "    <tr>\n",
       "      <th>date</th>\n",
       "      <th></th>\n",
       "      <th></th>\n",
       "      <th></th>\n",
       "      <th></th>\n",
       "      <th></th>\n",
       "      <th></th>\n",
       "      <th></th>\n",
       "      <th></th>\n",
       "      <th></th>\n",
       "      <th></th>\n",
       "      <th></th>\n",
       "      <th></th>\n",
       "    </tr>\n",
       "  </thead>\n",
       "  <tbody>\n",
       "    <tr>\n",
       "      <td>2020-05-01</td>\n",
       "      <td>50.79</td>\n",
       "      <td>88.90</td>\n",
       "      <td>75.11</td>\n",
       "      <td>112.24</td>\n",
       "      <td>57.62</td>\n",
       "      <td>35.85</td>\n",
       "      <td>22.06</td>\n",
       "      <td>97.83</td>\n",
       "      <td>62.27</td>\n",
       "      <td>55.88</td>\n",
       "      <td>144.775</td>\n",
       "      <td>282.79</td>\n",
       "    </tr>\n",
       "    <tr>\n",
       "      <td>2020-04-30</td>\n",
       "      <td>51.88</td>\n",
       "      <td>91.41</td>\n",
       "      <td>77.87</td>\n",
       "      <td>116.60</td>\n",
       "      <td>58.26</td>\n",
       "      <td>38.00</td>\n",
       "      <td>22.79</td>\n",
       "      <td>99.73</td>\n",
       "      <td>64.21</td>\n",
       "      <td>57.26</td>\n",
       "      <td>149.920</td>\n",
       "      <td>290.48</td>\n",
       "    </tr>\n",
       "    <tr>\n",
       "      <td>2020-04-29</td>\n",
       "      <td>53.47</td>\n",
       "      <td>91.82</td>\n",
       "      <td>79.10</td>\n",
       "      <td>117.33</td>\n",
       "      <td>58.96</td>\n",
       "      <td>38.86</td>\n",
       "      <td>23.38</td>\n",
       "      <td>100.19</td>\n",
       "      <td>65.51</td>\n",
       "      <td>58.61</td>\n",
       "      <td>154.400</td>\n",
       "      <td>293.21</td>\n",
       "    </tr>\n",
       "    <tr>\n",
       "      <td>2020-04-28</td>\n",
       "      <td>52.14</td>\n",
       "      <td>88.20</td>\n",
       "      <td>77.38</td>\n",
       "      <td>114.80</td>\n",
       "      <td>59.21</td>\n",
       "      <td>36.18</td>\n",
       "      <td>22.72</td>\n",
       "      <td>99.53</td>\n",
       "      <td>64.28</td>\n",
       "      <td>59.15</td>\n",
       "      <td>150.270</td>\n",
       "      <td>285.73</td>\n",
       "    </tr>\n",
       "    <tr>\n",
       "      <td>2020-04-27</td>\n",
       "      <td>51.19</td>\n",
       "      <td>89.39</td>\n",
       "      <td>76.08</td>\n",
       "      <td>114.35</td>\n",
       "      <td>58.88</td>\n",
       "      <td>35.37</td>\n",
       "      <td>22.48</td>\n",
       "      <td>101.58</td>\n",
       "      <td>63.10</td>\n",
       "      <td>58.93</td>\n",
       "      <td>148.900</td>\n",
       "      <td>287.05</td>\n",
       "    </tr>\n",
       "  </tbody>\n",
       "</table>\n",
       "</div>"
      ],
      "text/plain": [
       "            Materials close  Tech close  RE close  Discretionary close  \\\n",
       "date                                                                     \n",
       "2020-05-01            50.79       88.90     75.11               112.24   \n",
       "2020-04-30            51.88       91.41     77.87               116.60   \n",
       "2020-04-29            53.47       91.82     79.10               117.33   \n",
       "2020-04-28            52.14       88.20     77.38               114.80   \n",
       "2020-04-27            51.19       89.39     76.08               114.35   \n",
       "\n",
       "            Staples close  Energy close  Fin close  HealthCare close  \\\n",
       "date                                                                   \n",
       "2020-05-01          57.62         35.85      22.06             97.83   \n",
       "2020-04-30          58.26         38.00      22.79             99.73   \n",
       "2020-04-29          58.96         38.86      23.38            100.19   \n",
       "2020-04-28          59.21         36.18      22.72             99.53   \n",
       "2020-04-27          58.88         35.37      22.48            101.58   \n",
       "\n",
       "            Industrials close  Utilities close  Transports close  \\\n",
       "date                                                               \n",
       "2020-05-01              62.27            55.88           144.775   \n",
       "2020-04-30              64.21            57.26           149.920   \n",
       "2020-04-29              65.51            58.61           154.400   \n",
       "2020-04-28              64.28            59.15           150.270   \n",
       "2020-04-27              63.10            58.93           148.900   \n",
       "\n",
       "            S&P 500 Close  \n",
       "date                       \n",
       "2020-05-01         282.79  \n",
       "2020-04-30         290.48  \n",
       "2020-04-29         293.21  \n",
       "2020-04-28         285.73  \n",
       "2020-04-27         287.05  "
      ]
     },
     "execution_count": 11,
     "metadata": {},
     "output_type": "execute_result"
    }
   ],
   "source": [
    "#Change column names to avoid confusion\n",
    "columns = ['Materials close',\n",
    "          'Tech close',\n",
    "          'RE close',\n",
    "          'Discretionary close',\n",
    "          'Staples close',\n",
    "          'Energy close',\n",
    "          'Fin close',\n",
    "          'HealthCare close',\n",
    "          'Industrials close',\n",
    "          'Utilities close',\n",
    "          'Transports close',\n",
    "          'S&P 500 Close']\n",
    "concat_df.columns = columns\n",
    "concat_df.head()"
   ]
  },
  {
   "cell_type": "code",
   "execution_count": 12,
   "metadata": {},
   "outputs": [
    {
     "data": {
      "text/html": [
       "<div>\n",
       "<style scoped>\n",
       "    .dataframe tbody tr th:only-of-type {\n",
       "        vertical-align: middle;\n",
       "    }\n",
       "\n",
       "    .dataframe tbody tr th {\n",
       "        vertical-align: top;\n",
       "    }\n",
       "\n",
       "    .dataframe thead th {\n",
       "        text-align: right;\n",
       "    }\n",
       "</style>\n",
       "<table border=\"1\" class=\"dataframe\">\n",
       "  <thead>\n",
       "    <tr style=\"text-align: right;\">\n",
       "      <th></th>\n",
       "      <th>Materials close</th>\n",
       "      <th>Tech close</th>\n",
       "      <th>RE close</th>\n",
       "      <th>Discretionary close</th>\n",
       "      <th>Staples close</th>\n",
       "      <th>Energy close</th>\n",
       "      <th>Fin close</th>\n",
       "      <th>HealthCare close</th>\n",
       "      <th>Industrials close</th>\n",
       "      <th>Utilities close</th>\n",
       "      <th>Transports close</th>\n",
       "      <th>S&amp;P 500 Close</th>\n",
       "    </tr>\n",
       "    <tr>\n",
       "      <th>date</th>\n",
       "      <th></th>\n",
       "      <th></th>\n",
       "      <th></th>\n",
       "      <th></th>\n",
       "      <th></th>\n",
       "      <th></th>\n",
       "      <th></th>\n",
       "      <th></th>\n",
       "      <th></th>\n",
       "      <th></th>\n",
       "      <th></th>\n",
       "      <th></th>\n",
       "    </tr>\n",
       "  </thead>\n",
       "  <tbody>\n",
       "    <tr>\n",
       "      <td>2003-10-10</td>\n",
       "      <td>15.6663</td>\n",
       "      <td>15.2225</td>\n",
       "      <td>24.9652</td>\n",
       "      <td>23.4176</td>\n",
       "      <td>13.9255</td>\n",
       "      <td>16.9139</td>\n",
       "      <td>15.2858</td>\n",
       "      <td>21.2388</td>\n",
       "      <td>17.2546</td>\n",
       "      <td>12.1628</td>\n",
       "      <td>42.1221</td>\n",
       "      <td>75.1311</td>\n",
       "    </tr>\n",
       "    <tr>\n",
       "      <td>2003-10-13</td>\n",
       "      <td>15.8310</td>\n",
       "      <td>15.2692</td>\n",
       "      <td>25.0908</td>\n",
       "      <td>23.6569</td>\n",
       "      <td>13.9785</td>\n",
       "      <td>16.9818</td>\n",
       "      <td>15.5271</td>\n",
       "      <td>21.2993</td>\n",
       "      <td>17.3261</td>\n",
       "      <td>12.2403</td>\n",
       "      <td>42.7774</td>\n",
       "      <td>75.3682</td>\n",
       "    </tr>\n",
       "    <tr>\n",
       "      <td>2003-10-14</td>\n",
       "      <td>15.9340</td>\n",
       "      <td>15.2303</td>\n",
       "      <td>25.1083</td>\n",
       "      <td>23.7845</td>\n",
       "      <td>14.0515</td>\n",
       "      <td>16.9139</td>\n",
       "      <td>15.6190</td>\n",
       "      <td>21.3296</td>\n",
       "      <td>17.4118</td>\n",
       "      <td>12.2735</td>\n",
       "      <td>43.0097</td>\n",
       "      <td>75.6341</td>\n",
       "    </tr>\n",
       "    <tr>\n",
       "      <td>2003-10-15</td>\n",
       "      <td>15.9203</td>\n",
       "      <td>15.3238</td>\n",
       "      <td>25.0088</td>\n",
       "      <td>23.6888</td>\n",
       "      <td>14.0316</td>\n",
       "      <td>16.6694</td>\n",
       "      <td>15.5788</td>\n",
       "      <td>21.2842</td>\n",
       "      <td>17.4404</td>\n",
       "      <td>12.1186</td>\n",
       "      <td>42.6696</td>\n",
       "      <td>75.4329</td>\n",
       "    </tr>\n",
       "    <tr>\n",
       "      <td>2003-10-16</td>\n",
       "      <td>15.9752</td>\n",
       "      <td>15.3783</td>\n",
       "      <td>25.1222</td>\n",
       "      <td>23.7925</td>\n",
       "      <td>14.0515</td>\n",
       "      <td>16.8460</td>\n",
       "      <td>15.5960</td>\n",
       "      <td>21.3977</td>\n",
       "      <td>17.4476</td>\n",
       "      <td>12.1739</td>\n",
       "      <td>42.8023</td>\n",
       "      <td>75.7346</td>\n",
       "    </tr>\n",
       "  </tbody>\n",
       "</table>\n",
       "</div>"
      ],
      "text/plain": [
       "            Materials close  Tech close  RE close  Discretionary close  \\\n",
       "date                                                                     \n",
       "2003-10-10          15.6663     15.2225   24.9652              23.4176   \n",
       "2003-10-13          15.8310     15.2692   25.0908              23.6569   \n",
       "2003-10-14          15.9340     15.2303   25.1083              23.7845   \n",
       "2003-10-15          15.9203     15.3238   25.0088              23.6888   \n",
       "2003-10-16          15.9752     15.3783   25.1222              23.7925   \n",
       "\n",
       "            Staples close  Energy close  Fin close  HealthCare close  \\\n",
       "date                                                                   \n",
       "2003-10-10        13.9255       16.9139    15.2858           21.2388   \n",
       "2003-10-13        13.9785       16.9818    15.5271           21.2993   \n",
       "2003-10-14        14.0515       16.9139    15.6190           21.3296   \n",
       "2003-10-15        14.0316       16.6694    15.5788           21.2842   \n",
       "2003-10-16        14.0515       16.8460    15.5960           21.3977   \n",
       "\n",
       "            Industrials close  Utilities close  Transports close  \\\n",
       "date                                                               \n",
       "2003-10-10            17.2546          12.1628           42.1221   \n",
       "2003-10-13            17.3261          12.2403           42.7774   \n",
       "2003-10-14            17.4118          12.2735           43.0097   \n",
       "2003-10-15            17.4404          12.1186           42.6696   \n",
       "2003-10-16            17.4476          12.1739           42.8023   \n",
       "\n",
       "            S&P 500 Close  \n",
       "date                       \n",
       "2003-10-10        75.1311  \n",
       "2003-10-13        75.3682  \n",
       "2003-10-14        75.6341  \n",
       "2003-10-15        75.4329  \n",
       "2003-10-16        75.7346  "
      ]
     },
     "execution_count": 12,
     "metadata": {},
     "output_type": "execute_result"
    }
   ],
   "source": [
    "#Sort earliest to latest so that .pct_change() function works right.\n",
    "\n",
    "concat_df.sort_index(inplace=True, ascending=True)\n",
    "concat_df.head()"
   ]
  },
  {
   "cell_type": "code",
   "execution_count": 13,
   "metadata": {},
   "outputs": [
    {
     "data": {
      "text/html": [
       "<div>\n",
       "<style scoped>\n",
       "    .dataframe tbody tr th:only-of-type {\n",
       "        vertical-align: middle;\n",
       "    }\n",
       "\n",
       "    .dataframe tbody tr th {\n",
       "        vertical-align: top;\n",
       "    }\n",
       "\n",
       "    .dataframe thead th {\n",
       "        text-align: right;\n",
       "    }\n",
       "</style>\n",
       "<table border=\"1\" class=\"dataframe\">\n",
       "  <thead>\n",
       "    <tr style=\"text-align: right;\">\n",
       "      <th></th>\n",
       "      <th>Materials close</th>\n",
       "      <th>Tech close</th>\n",
       "      <th>RE close</th>\n",
       "      <th>Discretionary close</th>\n",
       "      <th>Staples close</th>\n",
       "      <th>Energy close</th>\n",
       "      <th>Fin close</th>\n",
       "      <th>HealthCare close</th>\n",
       "      <th>Industrials close</th>\n",
       "      <th>Utilities close</th>\n",
       "      <th>Transports close</th>\n",
       "      <th>S&amp;P 500 Close</th>\n",
       "    </tr>\n",
       "    <tr>\n",
       "      <th>date</th>\n",
       "      <th></th>\n",
       "      <th></th>\n",
       "      <th></th>\n",
       "      <th></th>\n",
       "      <th></th>\n",
       "      <th></th>\n",
       "      <th></th>\n",
       "      <th></th>\n",
       "      <th></th>\n",
       "      <th></th>\n",
       "      <th></th>\n",
       "      <th></th>\n",
       "    </tr>\n",
       "  </thead>\n",
       "  <tbody>\n",
       "    <tr>\n",
       "      <td>2003-10-10</td>\n",
       "      <td>NaN</td>\n",
       "      <td>NaN</td>\n",
       "      <td>NaN</td>\n",
       "      <td>NaN</td>\n",
       "      <td>NaN</td>\n",
       "      <td>NaN</td>\n",
       "      <td>NaN</td>\n",
       "      <td>NaN</td>\n",
       "      <td>NaN</td>\n",
       "      <td>NaN</td>\n",
       "      <td>NaN</td>\n",
       "      <td>NaN</td>\n",
       "    </tr>\n",
       "    <tr>\n",
       "      <td>2003-10-13</td>\n",
       "      <td>0.010513</td>\n",
       "      <td>0.003068</td>\n",
       "      <td>0.005031</td>\n",
       "      <td>0.010219</td>\n",
       "      <td>0.003806</td>\n",
       "      <td>0.004014</td>\n",
       "      <td>0.015786</td>\n",
       "      <td>0.002849</td>\n",
       "      <td>0.004144</td>\n",
       "      <td>0.006372</td>\n",
       "      <td>0.015557</td>\n",
       "      <td>0.003156</td>\n",
       "    </tr>\n",
       "    <tr>\n",
       "      <td>2003-10-14</td>\n",
       "      <td>0.006506</td>\n",
       "      <td>-0.002548</td>\n",
       "      <td>0.000697</td>\n",
       "      <td>0.005394</td>\n",
       "      <td>0.005222</td>\n",
       "      <td>-0.003998</td>\n",
       "      <td>0.005919</td>\n",
       "      <td>0.001423</td>\n",
       "      <td>0.004946</td>\n",
       "      <td>0.002712</td>\n",
       "      <td>0.005430</td>\n",
       "      <td>0.003528</td>\n",
       "    </tr>\n",
       "    <tr>\n",
       "      <td>2003-10-15</td>\n",
       "      <td>-0.000860</td>\n",
       "      <td>0.006139</td>\n",
       "      <td>-0.003963</td>\n",
       "      <td>-0.004024</td>\n",
       "      <td>-0.001416</td>\n",
       "      <td>-0.014456</td>\n",
       "      <td>-0.002574</td>\n",
       "      <td>-0.002128</td>\n",
       "      <td>0.001643</td>\n",
       "      <td>-0.012621</td>\n",
       "      <td>-0.007908</td>\n",
       "      <td>-0.002660</td>\n",
       "    </tr>\n",
       "    <tr>\n",
       "      <td>2003-10-16</td>\n",
       "      <td>0.003448</td>\n",
       "      <td>0.003557</td>\n",
       "      <td>0.004534</td>\n",
       "      <td>0.004378</td>\n",
       "      <td>0.001418</td>\n",
       "      <td>0.010594</td>\n",
       "      <td>0.001104</td>\n",
       "      <td>0.005333</td>\n",
       "      <td>0.000413</td>\n",
       "      <td>0.004563</td>\n",
       "      <td>0.003110</td>\n",
       "      <td>0.004000</td>\n",
       "    </tr>\n",
       "    <tr>\n",
       "      <td>...</td>\n",
       "      <td>...</td>\n",
       "      <td>...</td>\n",
       "      <td>...</td>\n",
       "      <td>...</td>\n",
       "      <td>...</td>\n",
       "      <td>...</td>\n",
       "      <td>...</td>\n",
       "      <td>...</td>\n",
       "      <td>...</td>\n",
       "      <td>...</td>\n",
       "      <td>...</td>\n",
       "      <td>...</td>\n",
       "    </tr>\n",
       "    <tr>\n",
       "      <td>2020-04-27</td>\n",
       "      <td>0.026675</td>\n",
       "      <td>0.008575</td>\n",
       "      <td>0.038635</td>\n",
       "      <td>0.018708</td>\n",
       "      <td>0.002896</td>\n",
       "      <td>0.021664</td>\n",
       "      <td>0.034039</td>\n",
       "      <td>0.012863</td>\n",
       "      <td>0.024850</td>\n",
       "      <td>0.010460</td>\n",
       "      <td>0.028528</td>\n",
       "      <td>0.014418</td>\n",
       "    </tr>\n",
       "    <tr>\n",
       "      <td>2020-04-28</td>\n",
       "      <td>0.018558</td>\n",
       "      <td>-0.013312</td>\n",
       "      <td>0.017087</td>\n",
       "      <td>0.003935</td>\n",
       "      <td>0.005605</td>\n",
       "      <td>0.022901</td>\n",
       "      <td>0.010676</td>\n",
       "      <td>-0.020181</td>\n",
       "      <td>0.018700</td>\n",
       "      <td>0.003733</td>\n",
       "      <td>0.009201</td>\n",
       "      <td>-0.004599</td>\n",
       "    </tr>\n",
       "    <tr>\n",
       "      <td>2020-04-29</td>\n",
       "      <td>0.025508</td>\n",
       "      <td>0.041043</td>\n",
       "      <td>0.022228</td>\n",
       "      <td>0.022038</td>\n",
       "      <td>-0.004222</td>\n",
       "      <td>0.074074</td>\n",
       "      <td>0.029049</td>\n",
       "      <td>0.006631</td>\n",
       "      <td>0.019135</td>\n",
       "      <td>-0.009129</td>\n",
       "      <td>0.027484</td>\n",
       "      <td>0.026179</td>\n",
       "    </tr>\n",
       "    <tr>\n",
       "      <td>2020-04-30</td>\n",
       "      <td>-0.029736</td>\n",
       "      <td>-0.004465</td>\n",
       "      <td>-0.015550</td>\n",
       "      <td>-0.006222</td>\n",
       "      <td>-0.011872</td>\n",
       "      <td>-0.022131</td>\n",
       "      <td>-0.025235</td>\n",
       "      <td>-0.004591</td>\n",
       "      <td>-0.019844</td>\n",
       "      <td>-0.023034</td>\n",
       "      <td>-0.029016</td>\n",
       "      <td>-0.009311</td>\n",
       "    </tr>\n",
       "    <tr>\n",
       "      <td>2020-05-01</td>\n",
       "      <td>-0.021010</td>\n",
       "      <td>-0.027459</td>\n",
       "      <td>-0.035444</td>\n",
       "      <td>-0.037393</td>\n",
       "      <td>-0.010985</td>\n",
       "      <td>-0.056579</td>\n",
       "      <td>-0.032032</td>\n",
       "      <td>-0.019051</td>\n",
       "      <td>-0.030213</td>\n",
       "      <td>-0.024101</td>\n",
       "      <td>-0.034318</td>\n",
       "      <td>-0.026473</td>\n",
       "    </tr>\n",
       "  </tbody>\n",
       "</table>\n",
       "<p>4168 rows × 12 columns</p>\n",
       "</div>"
      ],
      "text/plain": [
       "            Materials close  Tech close  RE close  Discretionary close  \\\n",
       "date                                                                     \n",
       "2003-10-10              NaN         NaN       NaN                  NaN   \n",
       "2003-10-13         0.010513    0.003068  0.005031             0.010219   \n",
       "2003-10-14         0.006506   -0.002548  0.000697             0.005394   \n",
       "2003-10-15        -0.000860    0.006139 -0.003963            -0.004024   \n",
       "2003-10-16         0.003448    0.003557  0.004534             0.004378   \n",
       "...                     ...         ...       ...                  ...   \n",
       "2020-04-27         0.026675    0.008575  0.038635             0.018708   \n",
       "2020-04-28         0.018558   -0.013312  0.017087             0.003935   \n",
       "2020-04-29         0.025508    0.041043  0.022228             0.022038   \n",
       "2020-04-30        -0.029736   -0.004465 -0.015550            -0.006222   \n",
       "2020-05-01        -0.021010   -0.027459 -0.035444            -0.037393   \n",
       "\n",
       "            Staples close  Energy close  Fin close  HealthCare close  \\\n",
       "date                                                                   \n",
       "2003-10-10            NaN           NaN        NaN               NaN   \n",
       "2003-10-13       0.003806      0.004014   0.015786          0.002849   \n",
       "2003-10-14       0.005222     -0.003998   0.005919          0.001423   \n",
       "2003-10-15      -0.001416     -0.014456  -0.002574         -0.002128   \n",
       "2003-10-16       0.001418      0.010594   0.001104          0.005333   \n",
       "...                   ...           ...        ...               ...   \n",
       "2020-04-27       0.002896      0.021664   0.034039          0.012863   \n",
       "2020-04-28       0.005605      0.022901   0.010676         -0.020181   \n",
       "2020-04-29      -0.004222      0.074074   0.029049          0.006631   \n",
       "2020-04-30      -0.011872     -0.022131  -0.025235         -0.004591   \n",
       "2020-05-01      -0.010985     -0.056579  -0.032032         -0.019051   \n",
       "\n",
       "            Industrials close  Utilities close  Transports close  \\\n",
       "date                                                               \n",
       "2003-10-10                NaN              NaN               NaN   \n",
       "2003-10-13           0.004144         0.006372          0.015557   \n",
       "2003-10-14           0.004946         0.002712          0.005430   \n",
       "2003-10-15           0.001643        -0.012621         -0.007908   \n",
       "2003-10-16           0.000413         0.004563          0.003110   \n",
       "...                       ...              ...               ...   \n",
       "2020-04-27           0.024850         0.010460          0.028528   \n",
       "2020-04-28           0.018700         0.003733          0.009201   \n",
       "2020-04-29           0.019135        -0.009129          0.027484   \n",
       "2020-04-30          -0.019844        -0.023034         -0.029016   \n",
       "2020-05-01          -0.030213        -0.024101         -0.034318   \n",
       "\n",
       "            S&P 500 Close  \n",
       "date                       \n",
       "2003-10-10            NaN  \n",
       "2003-10-13       0.003156  \n",
       "2003-10-14       0.003528  \n",
       "2003-10-15      -0.002660  \n",
       "2003-10-16       0.004000  \n",
       "...                   ...  \n",
       "2020-04-27       0.014418  \n",
       "2020-04-28      -0.004599  \n",
       "2020-04-29       0.026179  \n",
       "2020-04-30      -0.009311  \n",
       "2020-05-01      -0.026473  \n",
       "\n",
       "[4168 rows x 12 columns]"
      ]
     },
     "execution_count": 13,
     "metadata": {},
     "output_type": "execute_result"
    }
   ],
   "source": [
    "returns_df = concat_df.pct_change()\n",
    "returns_df"
   ]
  },
  {
   "cell_type": "code",
   "execution_count": 14,
   "metadata": {},
   "outputs": [
    {
     "data": {
      "text/plain": [
       "Materials close        0\n",
       "Tech close             0\n",
       "RE close               0\n",
       "Discretionary close    0\n",
       "Staples close          0\n",
       "Energy close           0\n",
       "Fin close              0\n",
       "HealthCare close       0\n",
       "Industrials close      0\n",
       "Utilities close        0\n",
       "Transports close       0\n",
       "S&P 500 Close          0\n",
       "dtype: int64"
      ]
     },
     "execution_count": 14,
     "metadata": {},
     "output_type": "execute_result"
    }
   ],
   "source": [
    "# Drop nulls\n",
    "returns_df.dropna(inplace=True)\n",
    "\n",
    "#count nulls again\n",
    "returns_df.isnull().sum()"
   ]
  },
  {
   "cell_type": "code",
   "execution_count": 15,
   "metadata": {},
   "outputs": [
    {
     "data": {
      "text/plain": [
       "date\n",
       "2003-10-13    False\n",
       "2003-10-14    False\n",
       "2003-10-15    False\n",
       "2003-10-16    False\n",
       "2003-10-17    False\n",
       "              ...  \n",
       "2020-04-27    False\n",
       "2020-04-28    False\n",
       "2020-04-29    False\n",
       "2020-04-30    False\n",
       "2020-05-01    False\n",
       "Length: 4167, dtype: bool"
      ]
     },
     "execution_count": 15,
     "metadata": {},
     "output_type": "execute_result"
    }
   ],
   "source": [
    "# Checking for duplicate rows\n",
    "returns_df.duplicated()"
   ]
  },
  {
   "cell_type": "code",
   "execution_count": 16,
   "metadata": {},
   "outputs": [
    {
     "data": {
      "text/html": [
       "<div>\n",
       "<style scoped>\n",
       "    .dataframe tbody tr th:only-of-type {\n",
       "        vertical-align: middle;\n",
       "    }\n",
       "\n",
       "    .dataframe tbody tr th {\n",
       "        vertical-align: top;\n",
       "    }\n",
       "\n",
       "    .dataframe thead th {\n",
       "        text-align: right;\n",
       "    }\n",
       "</style>\n",
       "<table border=\"1\" class=\"dataframe\">\n",
       "  <thead>\n",
       "    <tr style=\"text-align: right;\">\n",
       "      <th></th>\n",
       "      <th>Materials close</th>\n",
       "      <th>Tech close</th>\n",
       "      <th>RE close</th>\n",
       "      <th>Discretionary close</th>\n",
       "      <th>Staples close</th>\n",
       "      <th>Energy close</th>\n",
       "      <th>Fin close</th>\n",
       "      <th>HealthCare close</th>\n",
       "      <th>Industrials close</th>\n",
       "      <th>Utilities close</th>\n",
       "      <th>Transports close</th>\n",
       "      <th>S&amp;P 500 Close</th>\n",
       "    </tr>\n",
       "    <tr>\n",
       "      <th>date</th>\n",
       "      <th></th>\n",
       "      <th></th>\n",
       "      <th></th>\n",
       "      <th></th>\n",
       "      <th></th>\n",
       "      <th></th>\n",
       "      <th></th>\n",
       "      <th></th>\n",
       "      <th></th>\n",
       "      <th></th>\n",
       "      <th></th>\n",
       "      <th></th>\n",
       "    </tr>\n",
       "  </thead>\n",
       "  <tbody>\n",
       "    <tr>\n",
       "      <td>2003-10-13</td>\n",
       "      <td>0.010513</td>\n",
       "      <td>0.003068</td>\n",
       "      <td>0.005031</td>\n",
       "      <td>0.010219</td>\n",
       "      <td>0.003806</td>\n",
       "      <td>0.004014</td>\n",
       "      <td>0.015786</td>\n",
       "      <td>0.002849</td>\n",
       "      <td>0.004144</td>\n",
       "      <td>0.006372</td>\n",
       "      <td>0.015557</td>\n",
       "      <td>0.003156</td>\n",
       "    </tr>\n",
       "    <tr>\n",
       "      <td>2003-10-14</td>\n",
       "      <td>0.006506</td>\n",
       "      <td>-0.002548</td>\n",
       "      <td>0.000697</td>\n",
       "      <td>0.005394</td>\n",
       "      <td>0.005222</td>\n",
       "      <td>-0.003998</td>\n",
       "      <td>0.005919</td>\n",
       "      <td>0.001423</td>\n",
       "      <td>0.004946</td>\n",
       "      <td>0.002712</td>\n",
       "      <td>0.005430</td>\n",
       "      <td>0.003528</td>\n",
       "    </tr>\n",
       "    <tr>\n",
       "      <td>2003-10-15</td>\n",
       "      <td>-0.000860</td>\n",
       "      <td>0.006139</td>\n",
       "      <td>-0.003963</td>\n",
       "      <td>-0.004024</td>\n",
       "      <td>-0.001416</td>\n",
       "      <td>-0.014456</td>\n",
       "      <td>-0.002574</td>\n",
       "      <td>-0.002128</td>\n",
       "      <td>0.001643</td>\n",
       "      <td>-0.012621</td>\n",
       "      <td>-0.007908</td>\n",
       "      <td>-0.002660</td>\n",
       "    </tr>\n",
       "    <tr>\n",
       "      <td>2003-10-16</td>\n",
       "      <td>0.003448</td>\n",
       "      <td>0.003557</td>\n",
       "      <td>0.004534</td>\n",
       "      <td>0.004378</td>\n",
       "      <td>0.001418</td>\n",
       "      <td>0.010594</td>\n",
       "      <td>0.001104</td>\n",
       "      <td>0.005333</td>\n",
       "      <td>0.000413</td>\n",
       "      <td>0.004563</td>\n",
       "      <td>0.003110</td>\n",
       "      <td>0.004000</td>\n",
       "    </tr>\n",
       "    <tr>\n",
       "      <td>2003-10-17</td>\n",
       "      <td>-0.009452</td>\n",
       "      <td>-0.016211</td>\n",
       "      <td>-0.007846</td>\n",
       "      <td>-0.014080</td>\n",
       "      <td>-0.006135</td>\n",
       "      <td>-0.006856</td>\n",
       "      <td>-0.008836</td>\n",
       "      <td>-0.011319</td>\n",
       "      <td>-0.006964</td>\n",
       "      <td>-0.006366</td>\n",
       "      <td>-0.004458</td>\n",
       "      <td>-0.010909</td>\n",
       "    </tr>\n",
       "  </tbody>\n",
       "</table>\n",
       "</div>"
      ],
      "text/plain": [
       "            Materials close  Tech close  RE close  Discretionary close  \\\n",
       "date                                                                     \n",
       "2003-10-13         0.010513    0.003068  0.005031             0.010219   \n",
       "2003-10-14         0.006506   -0.002548  0.000697             0.005394   \n",
       "2003-10-15        -0.000860    0.006139 -0.003963            -0.004024   \n",
       "2003-10-16         0.003448    0.003557  0.004534             0.004378   \n",
       "2003-10-17        -0.009452   -0.016211 -0.007846            -0.014080   \n",
       "\n",
       "            Staples close  Energy close  Fin close  HealthCare close  \\\n",
       "date                                                                   \n",
       "2003-10-13       0.003806      0.004014   0.015786          0.002849   \n",
       "2003-10-14       0.005222     -0.003998   0.005919          0.001423   \n",
       "2003-10-15      -0.001416     -0.014456  -0.002574         -0.002128   \n",
       "2003-10-16       0.001418      0.010594   0.001104          0.005333   \n",
       "2003-10-17      -0.006135     -0.006856  -0.008836         -0.011319   \n",
       "\n",
       "            Industrials close  Utilities close  Transports close  \\\n",
       "date                                                               \n",
       "2003-10-13           0.004144         0.006372          0.015557   \n",
       "2003-10-14           0.004946         0.002712          0.005430   \n",
       "2003-10-15           0.001643        -0.012621         -0.007908   \n",
       "2003-10-16           0.000413         0.004563          0.003110   \n",
       "2003-10-17          -0.006964        -0.006366         -0.004458   \n",
       "\n",
       "            S&P 500 Close  \n",
       "date                       \n",
       "2003-10-13       0.003156  \n",
       "2003-10-14       0.003528  \n",
       "2003-10-15      -0.002660  \n",
       "2003-10-16       0.004000  \n",
       "2003-10-17      -0.010909  "
      ]
     },
     "execution_count": 16,
     "metadata": {},
     "output_type": "execute_result"
    }
   ],
   "source": [
    "# drop duplicates\n",
    "returns_df.drop_duplicates(inplace=True)\n",
    "returns_df.head()"
   ]
  },
  {
   "cell_type": "code",
   "execution_count": 44,
   "metadata": {},
   "outputs": [
    {
     "data": {
      "text/html": [
       "<div>\n",
       "<style scoped>\n",
       "    .dataframe tbody tr th:only-of-type {\n",
       "        vertical-align: middle;\n",
       "    }\n",
       "\n",
       "    .dataframe tbody tr th {\n",
       "        vertical-align: top;\n",
       "    }\n",
       "\n",
       "    .dataframe thead th {\n",
       "        text-align: right;\n",
       "    }\n",
       "</style>\n",
       "<table border=\"1\" class=\"dataframe\">\n",
       "  <thead>\n",
       "    <tr style=\"text-align: right;\">\n",
       "      <th></th>\n",
       "      <th>Materials return</th>\n",
       "      <th>Tech return</th>\n",
       "      <th>RE return</th>\n",
       "      <th>Discretionary return</th>\n",
       "      <th>Staples return</th>\n",
       "      <th>Energy return</th>\n",
       "      <th>Fin return</th>\n",
       "      <th>HealthCare return</th>\n",
       "      <th>Industrials return</th>\n",
       "      <th>Utilities return</th>\n",
       "      <th>Transports return</th>\n",
       "      <th>S&amp;P return</th>\n",
       "    </tr>\n",
       "    <tr>\n",
       "      <th>date</th>\n",
       "      <th></th>\n",
       "      <th></th>\n",
       "      <th></th>\n",
       "      <th></th>\n",
       "      <th></th>\n",
       "      <th></th>\n",
       "      <th></th>\n",
       "      <th></th>\n",
       "      <th></th>\n",
       "      <th></th>\n",
       "      <th></th>\n",
       "      <th></th>\n",
       "    </tr>\n",
       "  </thead>\n",
       "  <tbody>\n",
       "    <tr>\n",
       "      <td>2003-10-13</td>\n",
       "      <td>0.010513</td>\n",
       "      <td>0.003068</td>\n",
       "      <td>0.005031</td>\n",
       "      <td>0.010219</td>\n",
       "      <td>0.003806</td>\n",
       "      <td>0.004014</td>\n",
       "      <td>0.015786</td>\n",
       "      <td>0.002849</td>\n",
       "      <td>0.004144</td>\n",
       "      <td>0.006372</td>\n",
       "      <td>0.015557</td>\n",
       "      <td>0.003156</td>\n",
       "    </tr>\n",
       "    <tr>\n",
       "      <td>2003-10-14</td>\n",
       "      <td>0.006506</td>\n",
       "      <td>-0.002548</td>\n",
       "      <td>0.000697</td>\n",
       "      <td>0.005394</td>\n",
       "      <td>0.005222</td>\n",
       "      <td>-0.003998</td>\n",
       "      <td>0.005919</td>\n",
       "      <td>0.001423</td>\n",
       "      <td>0.004946</td>\n",
       "      <td>0.002712</td>\n",
       "      <td>0.005430</td>\n",
       "      <td>0.003528</td>\n",
       "    </tr>\n",
       "    <tr>\n",
       "      <td>2003-10-15</td>\n",
       "      <td>-0.000860</td>\n",
       "      <td>0.006139</td>\n",
       "      <td>-0.003963</td>\n",
       "      <td>-0.004024</td>\n",
       "      <td>-0.001416</td>\n",
       "      <td>-0.014456</td>\n",
       "      <td>-0.002574</td>\n",
       "      <td>-0.002128</td>\n",
       "      <td>0.001643</td>\n",
       "      <td>-0.012621</td>\n",
       "      <td>-0.007908</td>\n",
       "      <td>-0.002660</td>\n",
       "    </tr>\n",
       "    <tr>\n",
       "      <td>2003-10-16</td>\n",
       "      <td>0.003448</td>\n",
       "      <td>0.003557</td>\n",
       "      <td>0.004534</td>\n",
       "      <td>0.004378</td>\n",
       "      <td>0.001418</td>\n",
       "      <td>0.010594</td>\n",
       "      <td>0.001104</td>\n",
       "      <td>0.005333</td>\n",
       "      <td>0.000413</td>\n",
       "      <td>0.004563</td>\n",
       "      <td>0.003110</td>\n",
       "      <td>0.004000</td>\n",
       "    </tr>\n",
       "    <tr>\n",
       "      <td>2003-10-17</td>\n",
       "      <td>-0.009452</td>\n",
       "      <td>-0.016211</td>\n",
       "      <td>-0.007846</td>\n",
       "      <td>-0.014080</td>\n",
       "      <td>-0.006135</td>\n",
       "      <td>-0.006856</td>\n",
       "      <td>-0.008836</td>\n",
       "      <td>-0.011319</td>\n",
       "      <td>-0.006964</td>\n",
       "      <td>-0.006366</td>\n",
       "      <td>-0.004458</td>\n",
       "      <td>-0.010909</td>\n",
       "    </tr>\n",
       "  </tbody>\n",
       "</table>\n",
       "</div>"
      ],
      "text/plain": [
       "            Materials return  Tech return  RE return  Discretionary return  \\\n",
       "date                                                                         \n",
       "2003-10-13          0.010513     0.003068   0.005031              0.010219   \n",
       "2003-10-14          0.006506    -0.002548   0.000697              0.005394   \n",
       "2003-10-15         -0.000860     0.006139  -0.003963             -0.004024   \n",
       "2003-10-16          0.003448     0.003557   0.004534              0.004378   \n",
       "2003-10-17         -0.009452    -0.016211  -0.007846             -0.014080   \n",
       "\n",
       "            Staples return  Energy return  Fin return  HealthCare return  \\\n",
       "date                                                                       \n",
       "2003-10-13        0.003806       0.004014    0.015786           0.002849   \n",
       "2003-10-14        0.005222      -0.003998    0.005919           0.001423   \n",
       "2003-10-15       -0.001416      -0.014456   -0.002574          -0.002128   \n",
       "2003-10-16        0.001418       0.010594    0.001104           0.005333   \n",
       "2003-10-17       -0.006135      -0.006856   -0.008836          -0.011319   \n",
       "\n",
       "            Industrials return  Utilities return  Transports return  \\\n",
       "date                                                                  \n",
       "2003-10-13            0.004144          0.006372           0.015557   \n",
       "2003-10-14            0.004946          0.002712           0.005430   \n",
       "2003-10-15            0.001643         -0.012621          -0.007908   \n",
       "2003-10-16            0.000413          0.004563           0.003110   \n",
       "2003-10-17           -0.006964         -0.006366          -0.004458   \n",
       "\n",
       "            S&P return  \n",
       "date                    \n",
       "2003-10-13    0.003156  \n",
       "2003-10-14    0.003528  \n",
       "2003-10-15   -0.002660  \n",
       "2003-10-16    0.004000  \n",
       "2003-10-17   -0.010909  "
      ]
     },
     "execution_count": 44,
     "metadata": {},
     "output_type": "execute_result"
    }
   ],
   "source": [
    "# rename columns to create dataframe for daily returns\n",
    "returns_df.rename(columns={'Materials close': 'Materials return',\n",
    "                          'Tech close': 'Tech return',\n",
    "                          'RE close': 'RE return',\n",
    "                          'Discretionary close': 'Discretionary return',\n",
    "                          'Staples close': 'Staples return',\n",
    "                          'Energy close': 'Energy return',\n",
    "                          'Fin close': 'Fin return',\n",
    "                          'HealthCare close': 'HealthCare return',\n",
    "                          'Industrials close': 'Industrials return',\n",
    "                          'Utilities close': 'Utilities return',\n",
    "                          'Transports close': 'Transports return',\n",
    "                          'S&P 500 Close': 'S&P 500 return'},\n",
    "                  inplace=True)\n",
    "returns_df.head()"
   ]
  },
  {
   "cell_type": "code",
   "execution_count": 45,
   "metadata": {},
   "outputs": [],
   "source": [
    "# Calculate the cumulative returns using the 'cumprod()' function\n",
    "cumulative_returns_materials = (1 + returns_df['Materials return']).cumprod()\n",
    "cumulative_returns_tech = (1 + returns_df['Tech return']).cumprod()\n",
    "cumulative_returns_RE = (1 + returns_df['RE return']).cumprod()\n",
    "cumulative_returns_Discretionary = (1 + returns_df['Discretionary return']).cumprod()\n",
    "cumulative_returns_Staples = (1 + returns_df['Staples return']).cumprod()\n",
    "cumulative_returns_Energy = (1 + returns_df['Energy return']).cumprod()\n",
    "cumulative_returns_Fin = (1 + returns_df['Fin return']).cumprod()\n",
    "cumulative_returns_HealthCare = (1 + returns_df['HealthCare return']).cumprod()\n",
    "cumulative_returns_Industrials = (1 + returns_df['Industrials return']).cumprod()\n",
    "cumulative_returns_Utilities = (1 + returns_df['Utilities return']).cumprod()\n",
    "cumulative_returns_Transports = (1 + returns_df['Transports return']).cumprod()"
   ]
  },
  {
   "cell_type": "code",
   "execution_count": 46,
   "metadata": {},
   "outputs": [
    {
     "data": {
      "text/plain": [
       "date\n",
       "2003-10-13    1.010513\n",
       "2003-10-14    1.017088\n",
       "2003-10-15    1.016213\n",
       "2003-10-16    1.019717\n",
       "2003-10-17    1.010079\n",
       "                ...   \n",
       "2020-04-27    3.267523\n",
       "2020-04-28    3.328163\n",
       "2020-04-29    3.413059\n",
       "2020-04-30    3.311567\n",
       "2020-05-01    3.241991\n",
       "Name: Materials return, Length: 4167, dtype: float64"
      ]
     },
     "execution_count": 46,
     "metadata": {},
     "output_type": "execute_result"
    }
   ],
   "source": [
    "cumulative_returns_materials"
   ]
  },
  {
   "cell_type": "code",
   "execution_count": 47,
   "metadata": {},
   "outputs": [
    {
     "data": {
      "text/plain": [
       "<matplotlib.axes._subplots.AxesSubplot at 0x591137d0c8>"
      ]
     },
     "execution_count": 47,
     "metadata": {},
     "output_type": "execute_result"
    },
    {
     "data": {
      "image/png": "[encoded data removed]",
      "text/plain": [
       "<Figure size 720x360 with 1 Axes>"
      ]
     },
     "metadata": {
      "needs_background": "light"
     },
     "output_type": "display_data"
    }
   ],
   "source": [
    "#plot cumulative returns\n",
    "\n",
    "cumulative_returns_materials.plot(figsize=(10,5), legend=True)\n",
    "cumulative_returns_tech.plot(figsize=(10,5), legend=True)\n",
    "cumulative_returns_RE.plot(figsize=(10,5), legend=True)\n",
    "cumulative_returns_Discretionary.plot(figsize=(10,5), legend=True)\n",
    "cumulative_returns_Staples.plot(figsize=(10,5), legend=True)\n",
    "cumulative_returns_Energy.plot(figsize=(10,5), legend=True)\n",
    "cumulative_returns_Fin.plot(figsize=(10,5), legend=True)\n",
    "cumulative_returns_HealthCare.plot(figsize=(10,5), legend=True)\n",
    "cumulative_returns_Industrials.plot(figsize=(10,5), legend=True)\n",
    "cumulative_returns_Utilities.plot(figsize=(10,5), legend=True)\n",
    "cumulative_returns_Transports.plot(figsize=(10,5), legend=True)"
   ]
  },
  {
   "cell_type": "code",
   "execution_count": 48,
   "metadata": {},
   "outputs": [
    {
     "name": "stdout",
     "output_type": "stream",
     "text": [
      " Healthcare standard deviation is 0.010990536854688808\n",
      " Industrials standard deviation is 0.013337363855978265\n",
      " Utilities standard deviation is 0.011814651629996162\n",
      " Materials standard deviation is 0.014985524229934601\n",
      " Technology standard deviation is 0.013325845448843401\n",
      " Real estate standard deviation is 0.019783194308093773\n",
      " Consumer Discretionary standard deviation is 0.013239538765127708\n",
      " Staples standard deviation is 0.009071747186554168\n",
      " Energy standard deviation is 0.018457212148046038\n",
      " Financials standard deviation is 0.019255131918076252\n",
      " Transports standard deviation is 0.01522068566054936\n",
      "[0.009071747186554168, 0.010990536854688808, 0.011814651629996162, 0.013239538765127708, 0.013325845448843401, 0.013337363855978265, 0.014985524229934601, 0.01522068566054936, 0.018457212148046038, 0.019255131918076252, 0.019783194308093773]\n"
     ]
    }
   ],
   "source": [
    "# Calculate Standard Deviations for each sector\n",
    "health_std = returns_df['HealthCare return'].std()\n",
    "print(f' Healthcare standard deviation is {health_std}')\n",
    "\n",
    "industrials_std = returns_df['Industrials return'].std()\n",
    "print(f' Industrials standard deviation is {industrials_std}')\n",
    "\n",
    "utilities_std = returns_df['Utilities return'].std()\n",
    "print(f' Utilities standard deviation is {utilities_std}')\n",
    "\n",
    "materials_std = returns_df['Materials return'].std()\n",
    "print(f' Materials standard deviation is {materials_std}')\n",
    "\n",
    "tech_std = returns_df['Tech return'].std()\n",
    "print(f' Technology standard deviation is {tech_std}')\n",
    "\n",
    "real_estate_std = returns_df['RE return'].std()\n",
    "print(f' Real estate standard deviation is {real_estate_std}')\n",
    "\n",
    "cons_disc_std = returns_df['Discretionary return'].std()\n",
    "print(f' Consumer Discretionary standard deviation is {cons_disc_std}')\n",
    "\n",
    "staples_std = returns_df['Staples return'].std()\n",
    "print(f' Staples standard deviation is {staples_std}')\n",
    "\n",
    "energy_std = returns_df['Energy return'].std()\n",
    "print(f' Energy standard deviation is {energy_std}')\n",
    "\n",
    "financials_std = returns_df['Fin return'].std()\n",
    "print(f' Financials standard deviation is {financials_std}')\n",
    "\n",
    "transports_std = returns_df['Transports return'].std()\n",
    "print(f' Transports standard deviation is {transports_std}')\n",
    "\n",
    "\n",
    "\n",
    "\n",
    "\n",
    "\n",
    "\n",
    "\n",
    "\n",
    "# SP500_std = returns_df['SP500_return'].std()\n",
    "# print(f' S&P 500 standard deviation is {SP500_std}')\n",
    "\n",
    "# Identify the sector with highest standard deviation (riskiest)\n",
    "sectors = [health_std, industrials_std, utilities_std, materials_std, tech_std,\n",
    "           real_estate_std, cons_disc_std, staples_std, energy_std, financials_std, transports_std ]\n",
    "sectors.sort()\n",
    "print(sectors)"
   ]
  },
  {
   "cell_type": "code",
   "execution_count": 49,
   "metadata": {},
   "outputs": [
    {
     "data": {
      "text/plain": [
       "0.2416208942502029"
      ]
     },
     "execution_count": 49,
     "metadata": {},
     "output_type": "execute_result"
    }
   ],
   "source": [
    "# Calculate the annualized standard deviation (252 trading days) for each sector\n",
    "annual_HealthCare_std = health_std * np.sqrt(252)\n",
    "annual_HealthCare_std\n",
    "\n",
    "annual_Industrials_std = industrials_std * np.sqrt(252)\n",
    "annual_Industrials_std\n",
    "\n",
    "annual_Utilities_std = utilities_std * np.sqrt(252)\n",
    "annual_Utilities_std\n",
    "\n",
    "annual_Materials_std = materials_std * np.sqrt(252)\n",
    "annual_Materials_std\n",
    "\n",
    "annual_Tech_std = tech_std * np.sqrt(252)\n",
    "annual_Tech_std\n",
    "\n",
    "annual_RE_std = real_estate_std * np.sqrt(252)\n",
    "annual_RE_std\n",
    "\n",
    "annual_Discretionary_std = cons_disc_std * np.sqrt(252)\n",
    "annual_Discretionary_std\n",
    "\n",
    "annual_Staples_std = staples_std * np.sqrt(252)\n",
    "annual_Staples_std\n",
    "\n",
    "annual_Energy_std = energy_std * np.sqrt(252)\n",
    "annual_Energy_std\n",
    "\n",
    "annual_FIN_std = financials_std * np.sqrt(252)\n",
    "annual_FIN_std\n",
    "\n",
    "annual_Transports_std = transports_std * np.sqrt(252)\n",
    "annual_Transports_std\n",
    "\n",
    "# annual_SP500_std = SP500_std * np.sqrt(252)\n",
    "# annual_HealthCare_std"
   ]
  },
  {
   "cell_type": "code",
   "execution_count": 50,
   "metadata": {},
   "outputs": [
    {
     "data": {
      "text/plain": [
       "<matplotlib.axes._subplots.AxesSubplot at 0x59126b5348>"
      ]
     },
     "execution_count": 50,
     "metadata": {},
     "output_type": "execute_result"
    },
    {
     "data": {
      "image/png": "[encoded data removed]",
      "text/plain": [
       "<Figure size 432x288 with 1 Axes>"
      ]
     },
     "metadata": {
      "needs_background": "light"
     },
     "output_type": "display_data"
    }
   ],
   "source": [
    "#Plot\n",
    "\n",
    "sectors_std = pd.DataFrame({\n",
    "    \"health_std\": returns_df['HealthCare return'],\n",
    "    \"industrials_std\": returns_df['Industrials return'],\n",
    "    \"utilities_std\": returns_df['Utilities return'],\n",
    "    \"materials_std\": returns_df['Materials return'],\n",
    "    \"tech_std\": returns_df['Tech return'],\n",
    "    \"real_estate_std\": returns_df['RE return'],\n",
    "    \"cons_disc_std\": returns_df['Discretionary return'],\n",
    "    \"staples_std\": returns_df['Staples return'],\n",
    "    \"energy_std\": returns_df['Energy return'],\n",
    "    \"financials_std\": returns_df['Fin return'],\n",
    "    \"transports_std\": returns_df['Transports return'],\n",
    "})\n",
    "\n",
    "sectors_std.plot.hist(stacked=True, bins=300)"
   ]
  },
  {
   "cell_type": "code",
   "execution_count": 51,
   "metadata": {},
   "outputs": [
    {
     "data": {
      "text/plain": [
       "<matplotlib.axes._subplots.AxesSubplot at 0x59144742c8>"
      ]
     },
     "execution_count": 51,
     "metadata": {},
     "output_type": "execute_result"
    },
    {
     "data": {
      "image/png": "[encoded data removed]",
      "text/plain": [
       "<Figure size 432x288 with 1 Axes>"
      ]
     },
     "metadata": {
      "needs_background": "light"
     },
     "output_type": "display_data"
    }
   ],
   "source": [
    "sectors_std.plot.box()"
   ]
  },
  {
   "cell_type": "code",
   "execution_count": 52,
   "metadata": {},
   "outputs": [
    {
     "name": "stdout",
     "output_type": "stream",
     "text": [
      " HealthCare: 0.6165140088775338,Industrials: 0.4727900273760369,Utilities:0.5852809487113092,Materials: 0.4185740854610443,Technology: 0.6103701956375294,Real Estate: 0.3698789877808839,Consumer Discretionary: 0.5564261985437952,Consumer Staples: 0.6684488337743945,Energy: 0.30253731398949213,Financials: 0.22520511001132418,Transports: 0.43017610112073096\n"
     ]
    }
   ],
   "source": [
    "\n",
    "# Calculate Sharpe Ratios for the sectors\n",
    "\n",
    "HealthCare_sharpe = (returns_df['HealthCare return'].mean() * 252) / (returns_df['HealthCare return'].std() * np.sqrt(252))\n",
    "\n",
    "Industrials_sharpe = (returns_df['Industrials return'].mean() * 252) / (returns_df['Industrials return'].std() * np.sqrt(252))\n",
    "\n",
    "Utilities_sharpe = (returns_df['Utilities return'].mean() * 252) / (returns_df['Utilities return'].std() * np.sqrt(252))\n",
    "\n",
    "Materials_sharpe = (returns_df['Materials return'].mean() * 252) / (returns_df['Materials return'].std() * np.sqrt(252))\n",
    "\n",
    "Tech_sharpe = (returns_df['Tech return'].mean() * 252) / (returns_df['Tech return'].std() * np.sqrt(252))\n",
    "\n",
    "RE_sharpe = (returns_df['RE return'].mean() * 252) / (returns_df['RE return'].std() * np.sqrt(252))\n",
    "\n",
    "Discretionary_sharpe = (returns_df['Discretionary return'].mean() * 252) / (returns_df['Discretionary return'].std() * np.sqrt(252))\n",
    "\n",
    "Staples_sharpe = (returns_df['Staples return'].mean() * 252) / (returns_df['Staples return'].std() * np.sqrt(252))\n",
    "\n",
    "Energy_sharpe = (returns_df['Energy return'].mean() * 252) / (returns_df['Energy return'].std() * np.sqrt(252))\n",
    "\n",
    "Financials_sharpe = (returns_df['Fin return'].mean() * 252) / (returns_df['Fin return'].std() * np.sqrt(252))\n",
    "\n",
    "Transports_sharpe = (returns_df['Transports return'].mean() * 252) / (returns_df['Transports return'].std() * np.sqrt(252))\n",
    "\n",
    "print(f\" HealthCare: {HealthCare_sharpe},Industrials: {Industrials_sharpe},Utilities:{Utilities_sharpe},Materials: {Materials_sharpe},Technology: {Tech_sharpe},Real Estate: {RE_sharpe},Consumer Discretionary: {Discretionary_sharpe},Consumer Staples: {Staples_sharpe},Energy: {Energy_sharpe},Financials: {Financials_sharpe},Transports: {Transports_sharpe}\")"
   ]
  },
  {
   "cell_type": "code",
   "execution_count": 53,
   "metadata": {},
   "outputs": [
    {
     "data": {
      "image/png": "[encoded data removed]",
      "text/plain": [
       "<Figure size 432x288 with 1 Axes>"
      ]
     },
     "metadata": {
      "needs_background": "light"
     },
     "output_type": "display_data"
    }
   ],
   "source": [
    "#Plot the sharpe ratios\n",
    "\n",
    "objects = ('HealthCare',\n",
    "           'Industrials',\n",
    "           'Utilities',\n",
    "           'Materials',\n",
    "           'Technology',\n",
    "           'Real Estate',\n",
    "           'Consumer Discretionary',\n",
    "           'Consumer Staples',\n",
    "          'Energy',\n",
    "          'Financials',\n",
    "          'Transports')\n",
    "y_pos = np.arange(len(objects))\n",
    "sharpe = [HealthCare_sharpe,\n",
    "          Industrials_sharpe,\n",
    "          Utilities_sharpe,\n",
    "          Materials_sharpe,\n",
    "         Tech_sharpe,\n",
    "         RE_sharpe,\n",
    "         Discretionary_sharpe,\n",
    "         Staples_sharpe,\n",
    "         Energy_sharpe,\n",
    "         Financials_sharpe,\n",
    "         Transports_sharpe]\n",
    "\n",
    "plt.bar(y_pos, sharpe, align='center')\n",
    "plt.xticks(y_pos, objects, rotation=90)\n",
    "plt.ylabel('Sharpe')\n",
    "plt.title('Sharpe Ratios')\n",
    "\n",
    "plt.show()"
   ]
  },
  {
   "cell_type": "code",
   "execution_count": 54,
   "metadata": {},
   "outputs": [
    {
     "data": {
      "text/plain": [
       "Materials return        0\n",
       "Tech return             0\n",
       "RE return               0\n",
       "Discretionary return    0\n",
       "Staples return          0\n",
       "Energy return           0\n",
       "Fin return              0\n",
       "HealthCare return       0\n",
       "Industrials return      0\n",
       "Utilities return        0\n",
       "Transports return       0\n",
       "S&P return              0\n",
       "dtype: int64"
      ]
     },
     "execution_count": 54,
     "metadata": {},
     "output_type": "execute_result"
    }
   ],
   "source": [
    "# Drop nulls on Returns\n",
    "returns_df.dropna(inplace=True)\n",
    "\n",
    "#count nulls \n",
    "returns_df.isnull().sum()"
   ]
  },
  {
   "cell_type": "code",
   "execution_count": 55,
   "metadata": {},
   "outputs": [
    {
     "data": {
      "text/html": [
       "<div>\n",
       "<style scoped>\n",
       "    .dataframe tbody tr th:only-of-type {\n",
       "        vertical-align: middle;\n",
       "    }\n",
       "\n",
       "    .dataframe tbody tr th {\n",
       "        vertical-align: top;\n",
       "    }\n",
       "\n",
       "    .dataframe thead th {\n",
       "        text-align: right;\n",
       "    }\n",
       "</style>\n",
       "<table border=\"1\" class=\"dataframe\">\n",
       "  <thead>\n",
       "    <tr style=\"text-align: right;\">\n",
       "      <th></th>\n",
       "      <th>Materials return</th>\n",
       "      <th>Tech return</th>\n",
       "      <th>RE return</th>\n",
       "      <th>Discretionary return</th>\n",
       "      <th>Staples return</th>\n",
       "      <th>Energy return</th>\n",
       "      <th>Fin return</th>\n",
       "      <th>HealthCare return</th>\n",
       "      <th>Industrials return</th>\n",
       "      <th>Utilities return</th>\n",
       "      <th>Transports return</th>\n",
       "      <th>S&amp;P return</th>\n",
       "    </tr>\n",
       "  </thead>\n",
       "  <tbody>\n",
       "    <tr>\n",
       "      <td>Materials return</td>\n",
       "      <td>1.000000</td>\n",
       "      <td>0.761640</td>\n",
       "      <td>0.651843</td>\n",
       "      <td>0.786922</td>\n",
       "      <td>0.642656</td>\n",
       "      <td>0.774966</td>\n",
       "      <td>0.731352</td>\n",
       "      <td>0.667321</td>\n",
       "      <td>0.856311</td>\n",
       "      <td>0.574562</td>\n",
       "      <td>0.793243</td>\n",
       "      <td>0.853319</td>\n",
       "    </tr>\n",
       "    <tr>\n",
       "      <td>Tech return</td>\n",
       "      <td>0.761640</td>\n",
       "      <td>1.000000</td>\n",
       "      <td>0.633527</td>\n",
       "      <td>0.842002</td>\n",
       "      <td>0.719271</td>\n",
       "      <td>0.661647</td>\n",
       "      <td>0.730081</td>\n",
       "      <td>0.746081</td>\n",
       "      <td>0.833109</td>\n",
       "      <td>0.594847</td>\n",
       "      <td>0.756555</td>\n",
       "      <td>0.911838</td>\n",
       "    </tr>\n",
       "    <tr>\n",
       "      <td>RE return</td>\n",
       "      <td>0.651843</td>\n",
       "      <td>0.633527</td>\n",
       "      <td>1.000000</td>\n",
       "      <td>0.737316</td>\n",
       "      <td>0.598340</td>\n",
       "      <td>0.535559</td>\n",
       "      <td>0.794066</td>\n",
       "      <td>0.554304</td>\n",
       "      <td>0.709150</td>\n",
       "      <td>0.573430</td>\n",
       "      <td>0.672311</td>\n",
       "      <td>0.743505</td>\n",
       "    </tr>\n",
       "    <tr>\n",
       "      <td>Discretionary return</td>\n",
       "      <td>0.786922</td>\n",
       "      <td>0.842002</td>\n",
       "      <td>0.737316</td>\n",
       "      <td>1.000000</td>\n",
       "      <td>0.729726</td>\n",
       "      <td>0.652030</td>\n",
       "      <td>0.801526</td>\n",
       "      <td>0.731633</td>\n",
       "      <td>0.870237</td>\n",
       "      <td>0.580467</td>\n",
       "      <td>0.830715</td>\n",
       "      <td>0.902984</td>\n",
       "    </tr>\n",
       "    <tr>\n",
       "      <td>Staples return</td>\n",
       "      <td>0.642656</td>\n",
       "      <td>0.719271</td>\n",
       "      <td>0.598340</td>\n",
       "      <td>0.729726</td>\n",
       "      <td>1.000000</td>\n",
       "      <td>0.548903</td>\n",
       "      <td>0.627079</td>\n",
       "      <td>0.746410</td>\n",
       "      <td>0.725204</td>\n",
       "      <td>0.710530</td>\n",
       "      <td>0.650446</td>\n",
       "      <td>0.796936</td>\n",
       "    </tr>\n",
       "    <tr>\n",
       "      <td>Energy return</td>\n",
       "      <td>0.774966</td>\n",
       "      <td>0.661647</td>\n",
       "      <td>0.535559</td>\n",
       "      <td>0.652030</td>\n",
       "      <td>0.548903</td>\n",
       "      <td>1.000000</td>\n",
       "      <td>0.623422</td>\n",
       "      <td>0.598086</td>\n",
       "      <td>0.730474</td>\n",
       "      <td>0.579587</td>\n",
       "      <td>0.642275</td>\n",
       "      <td>0.791807</td>\n",
       "    </tr>\n",
       "    <tr>\n",
       "      <td>Fin return</td>\n",
       "      <td>0.731352</td>\n",
       "      <td>0.730081</td>\n",
       "      <td>0.794066</td>\n",
       "      <td>0.801526</td>\n",
       "      <td>0.627079</td>\n",
       "      <td>0.623422</td>\n",
       "      <td>1.000000</td>\n",
       "      <td>0.651621</td>\n",
       "      <td>0.807835</td>\n",
       "      <td>0.524662</td>\n",
       "      <td>0.758010</td>\n",
       "      <td>0.860674</td>\n",
       "    </tr>\n",
       "    <tr>\n",
       "      <td>HealthCare return</td>\n",
       "      <td>0.667321</td>\n",
       "      <td>0.746081</td>\n",
       "      <td>0.554304</td>\n",
       "      <td>0.731633</td>\n",
       "      <td>0.746410</td>\n",
       "      <td>0.598086</td>\n",
       "      <td>0.651621</td>\n",
       "      <td>1.000000</td>\n",
       "      <td>0.745997</td>\n",
       "      <td>0.619377</td>\n",
       "      <td>0.662768</td>\n",
       "      <td>0.833273</td>\n",
       "    </tr>\n",
       "    <tr>\n",
       "      <td>Industrials return</td>\n",
       "      <td>0.856311</td>\n",
       "      <td>0.833109</td>\n",
       "      <td>0.709150</td>\n",
       "      <td>0.870237</td>\n",
       "      <td>0.725204</td>\n",
       "      <td>0.730474</td>\n",
       "      <td>0.807835</td>\n",
       "      <td>0.745997</td>\n",
       "      <td>1.000000</td>\n",
       "      <td>0.609047</td>\n",
       "      <td>0.890903</td>\n",
       "      <td>0.918249</td>\n",
       "    </tr>\n",
       "    <tr>\n",
       "      <td>Utilities return</td>\n",
       "      <td>0.574562</td>\n",
       "      <td>0.594847</td>\n",
       "      <td>0.573430</td>\n",
       "      <td>0.580467</td>\n",
       "      <td>0.710530</td>\n",
       "      <td>0.579587</td>\n",
       "      <td>0.524662</td>\n",
       "      <td>0.619377</td>\n",
       "      <td>0.609047</td>\n",
       "      <td>1.000000</td>\n",
       "      <td>0.529738</td>\n",
       "      <td>0.695279</td>\n",
       "    </tr>\n",
       "    <tr>\n",
       "      <td>Transports return</td>\n",
       "      <td>0.793243</td>\n",
       "      <td>0.756555</td>\n",
       "      <td>0.672311</td>\n",
       "      <td>0.830715</td>\n",
       "      <td>0.650446</td>\n",
       "      <td>0.642275</td>\n",
       "      <td>0.758010</td>\n",
       "      <td>0.662768</td>\n",
       "      <td>0.890903</td>\n",
       "      <td>0.529738</td>\n",
       "      <td>1.000000</td>\n",
       "      <td>0.834628</td>\n",
       "    </tr>\n",
       "    <tr>\n",
       "      <td>S&amp;P return</td>\n",
       "      <td>0.853319</td>\n",
       "      <td>0.911838</td>\n",
       "      <td>0.743505</td>\n",
       "      <td>0.902984</td>\n",
       "      <td>0.796936</td>\n",
       "      <td>0.791807</td>\n",
       "      <td>0.860674</td>\n",
       "      <td>0.833273</td>\n",
       "      <td>0.918249</td>\n",
       "      <td>0.695279</td>\n",
       "      <td>0.834628</td>\n",
       "      <td>1.000000</td>\n",
       "    </tr>\n",
       "  </tbody>\n",
       "</table>\n",
       "</div>"
      ],
      "text/plain": [
       "                      Materials return  Tech return  RE return  \\\n",
       "Materials return              1.000000     0.761640   0.651843   \n",
       "Tech return                   0.761640     1.000000   0.633527   \n",
       "RE return                     0.651843     0.633527   1.000000   \n",
       "Discretionary return          0.786922     0.842002   0.737316   \n",
       "Staples return                0.642656     0.719271   0.598340   \n",
       "Energy return                 0.774966     0.661647   0.535559   \n",
       "Fin return                    0.731352     0.730081   0.794066   \n",
       "HealthCare return             0.667321     0.746081   0.554304   \n",
       "Industrials return            0.856311     0.833109   0.709150   \n",
       "Utilities return              0.574562     0.594847   0.573430   \n",
       "Transports return             0.793243     0.756555   0.672311   \n",
       "S&P return                    0.853319     0.911838   0.743505   \n",
       "\n",
       "                      Discretionary return  Staples return  Energy return  \\\n",
       "Materials return                  0.786922        0.642656       0.774966   \n",
       "Tech return                       0.842002        0.719271       0.661647   \n",
       "RE return                         0.737316        0.598340       0.535559   \n",
       "Discretionary return              1.000000        0.729726       0.652030   \n",
       "Staples return                    0.729726        1.000000       0.548903   \n",
       "Energy return                     0.652030        0.548903       1.000000   \n",
       "Fin return                        0.801526        0.627079       0.623422   \n",
       "HealthCare return                 0.731633        0.746410       0.598086   \n",
       "Industrials return                0.870237        0.725204       0.730474   \n",
       "Utilities return                  0.580467        0.710530       0.579587   \n",
       "Transports return                 0.830715        0.650446       0.642275   \n",
       "S&P return                        0.902984        0.796936       0.791807   \n",
       "\n",
       "                      Fin return  HealthCare return  Industrials return  \\\n",
       "Materials return        0.731352           0.667321            0.856311   \n",
       "Tech return             0.730081           0.746081            0.833109   \n",
       "RE return               0.794066           0.554304            0.709150   \n",
       "Discretionary return    0.801526           0.731633            0.870237   \n",
       "Staples return          0.627079           0.746410            0.725204   \n",
       "Energy return           0.623422           0.598086            0.730474   \n",
       "Fin return              1.000000           0.651621            0.807835   \n",
       "HealthCare return       0.651621           1.000000            0.745997   \n",
       "Industrials return      0.807835           0.745997            1.000000   \n",
       "Utilities return        0.524662           0.619377            0.609047   \n",
       "Transports return       0.758010           0.662768            0.890903   \n",
       "S&P return              0.860674           0.833273            0.918249   \n",
       "\n",
       "                      Utilities return  Transports return  S&P return  \n",
       "Materials return              0.574562           0.793243    0.853319  \n",
       "Tech return                   0.594847           0.756555    0.911838  \n",
       "RE return                     0.573430           0.672311    0.743505  \n",
       "Discretionary return          0.580467           0.830715    0.902984  \n",
       "Staples return                0.710530           0.650446    0.796936  \n",
       "Energy return                 0.579587           0.642275    0.791807  \n",
       "Fin return                    0.524662           0.758010    0.860674  \n",
       "HealthCare return             0.619377           0.662768    0.833273  \n",
       "Industrials return            0.609047           0.890903    0.918249  \n",
       "Utilities return              1.000000           0.529738    0.695279  \n",
       "Transports return             0.529738           1.000000    0.834628  \n",
       "S&P return                    0.695279           0.834628    1.000000  "
      ]
     },
     "execution_count": 55,
     "metadata": {},
     "output_type": "execute_result"
    }
   ],
   "source": [
    "#Check correlation\n",
    "\n",
    "sector_correlation = returns_df.corr()\n",
    "sector_correlation"
   ]
  },
  {
   "cell_type": "code",
   "execution_count": 56,
   "metadata": {},
   "outputs": [
    {
     "data": {
      "text/plain": [
       "<matplotlib.axes._subplots.AxesSubplot at 0x5914a8fc88>"
      ]
     },
     "execution_count": 56,
     "metadata": {},
     "output_type": "execute_result"
    },
    {
     "data": {
      "image/png": "[encoded data removed]",
      "text/plain": [
       "<Figure size 432x288 with 2 Axes>"
      ]
     },
     "metadata": {
      "needs_background": "light"
     },
     "output_type": "display_data"
    }
   ],
   "source": [
    "# Heapmap to visualize sector correlation\n",
    "sns.heatmap(sector_correlation)"
   ]
  },
  {
   "cell_type": "code",
   "execution_count": 59,
   "metadata": {},
   "outputs": [
    {
     "data": {
      "text/plain": [
       "1.061332614618054"
      ]
     },
     "execution_count": 59,
     "metadata": {},
     "output_type": "execute_result"
    }
   ],
   "source": [
    "#BETA CALCULATION Materials Sector and S&P 500\n",
    "\n",
    "# Calculate covariance of Materials vs. S&P 500\n",
    "materials_covariance = returns_df['Materials return'].cov(returns_df['S&P return'])\n",
    "materials_covariance\n",
    "\n",
    "# Calculate variance of S&P 500 returns\n",
    "variance = returns_df['S&P return'].var()\n",
    "variance\n",
    "\n",
    "# Calculate beta of Materials Sector\n",
    "Materials_beta = materials_covariance / variance\n",
    "Materials_beta"
   ]
  },
  {
   "cell_type": "code",
   "execution_count": 60,
   "metadata": {},
   "outputs": [
    {
     "data": {
      "text/plain": [
       "1.0085105577848397"
      ]
     },
     "execution_count": 60,
     "metadata": {},
     "output_type": "execute_result"
    }
   ],
   "source": [
    "#BETA CALCULATION Technology Sector and S&P 500\n",
    "\n",
    "# Calculate covariance of Tech vs. S&P 500\n",
    "tech_covariance = returns_df['Tech return'].cov(returns_df['S&P return'])\n",
    "tech_covariance\n",
    "\n",
    "# Calculate variance of S&P 500 returns\n",
    "variance = returns_df['S&P return'].var()\n",
    "variance\n",
    "\n",
    "# Calculate beta of Technology Sector\n",
    "Tech_beta = tech_covariance / variance\n",
    "Tech_beta"
   ]
  },
  {
   "cell_type": "code",
   "execution_count": 61,
   "metadata": {},
   "outputs": [
    {
     "data": {
      "text/plain": [
       "1.061332614618054"
      ]
     },
     "execution_count": 61,
     "metadata": {},
     "output_type": "execute_result"
    }
   ],
   "source": [
    "#BETA CALCULATION Real Estate Sector and S&P 500\n",
    "\n",
    "# Calculate covariance of RE vs. S&P 500\n",
    "RE_covariance = returns_df['RE return'].cov(returns_df['S&P return'])\n",
    "RE_covariance\n",
    "\n",
    "# Calculate variance of S&P 500 returns\n",
    "variance = returns_df['S&P return'].var()\n",
    "variance\n",
    "\n",
    "# Calculate beta of Real Estate Sector\n",
    "RE_beta = materials_covariance / variance\n",
    "RE_beta"
   ]
  },
  {
   "cell_type": "code",
   "execution_count": 62,
   "metadata": {},
   "outputs": [
    {
     "data": {
      "text/plain": [
       "0.9922489242741143"
      ]
     },
     "execution_count": 62,
     "metadata": {},
     "output_type": "execute_result"
    }
   ],
   "source": [
    "#BETA CALCULATION Consumer Discretionary Sector and S&P 500\n",
    "\n",
    "# Calculate covariance of Consumer Discretionary vs. S&P 500\n",
    "Discretionary_covariance = returns_df['Discretionary return'].cov(returns_df['S&P return'])\n",
    "Discretionary_covariance\n",
    "\n",
    "# Calculate variance of S&P 500 returns\n",
    "variance = returns_df['S&P return'].var()\n",
    "variance\n",
    "\n",
    "# Calculate beta of Consumer Discretionary Sector\n",
    "Discretionary_beta = Discretionary_covariance / variance\n",
    "Discretionary_beta"
   ]
  },
  {
   "cell_type": "code",
   "execution_count": 63,
   "metadata": {},
   "outputs": [
    {
     "data": {
      "text/plain": [
       "0.6000430053758643"
      ]
     },
     "execution_count": 63,
     "metadata": {},
     "output_type": "execute_result"
    }
   ],
   "source": [
    "#BETA CALCULATION Consumer Staples Sector and S&P 500\n",
    "\n",
    "# Calculate covariance of Healthcare vs. S&P 500\n",
    "Staples_covariance = returns_df['Staples return'].cov(returns_df['S&P return'])\n",
    "Discretionary_covariance\n",
    "\n",
    "# Calculate variance of S&P 500 returns\n",
    "variance = returns_df['S&P return'].var()\n",
    "variance\n",
    "\n",
    "# Calculate beta of Consumer Staples Sector\n",
    "Staples_beta = Staples_covariance / variance\n",
    "Staples_beta"
   ]
  },
  {
   "cell_type": "code",
   "execution_count": 64,
   "metadata": {},
   "outputs": [
    {
     "data": {
      "text/plain": [
       "1.212979872036041"
      ]
     },
     "execution_count": 64,
     "metadata": {},
     "output_type": "execute_result"
    }
   ],
   "source": [
    "#BETA CALCULATION Energy Sector and S&P 500\n",
    "\n",
    "# Calculate covariance of Energy vs. S&P 500\n",
    "Energy_covariance = returns_df['Energy return'].cov(returns_df['S&P return'])\n",
    "Energy_covariance\n",
    "\n",
    "# Calculate variance of S&P 500 returns\n",
    "variance = returns_df['S&P return'].var()\n",
    "variance\n",
    "\n",
    "# Calculate beta of Energy Sector\n",
    "Energy_beta = Energy_covariance / variance\n",
    "Energy_beta"
   ]
  },
  {
   "cell_type": "code",
   "execution_count": 65,
   "metadata": {},
   "outputs": [
    {
     "data": {
      "text/plain": [
       "1.3754757802945523"
      ]
     },
     "execution_count": 65,
     "metadata": {},
     "output_type": "execute_result"
    }
   ],
   "source": [
    "#BETA CALCULATION Financials Sector and S&P 500\n",
    "\n",
    "# Calculate covariance of Healthcare vs. S&P 500\n",
    "Financials_covariance = returns_df['Fin return'].cov(returns_df['S&P return'])\n",
    "Financials_covariance\n",
    "\n",
    "# Calculate variance of S&P 500 returns\n",
    "variance = returns_df['S&P return'].var()\n",
    "variance\n",
    "\n",
    "# Calculate beta of Healthcare Sector\n",
    "Financials_beta = Financials_covariance / variance\n",
    "Financials_beta"
   ]
  },
  {
   "cell_type": "code",
   "execution_count": 66,
   "metadata": {},
   "outputs": [
    {
     "data": {
      "text/plain": [
       "0.7601059191306926"
      ]
     },
     "execution_count": 66,
     "metadata": {},
     "output_type": "execute_result"
    }
   ],
   "source": [
    "#BETA CALCULATION Consumer HealthCare Sector and S&P 500\n",
    "\n",
    "# Calculate covariance of Healthcare vs. S&P 500\n",
    "HealthCare_covariance = returns_df['HealthCare return'].cov(returns_df['S&P return'])\n",
    "HealthCare_covariance\n",
    "\n",
    "# Calculate variance of S&P 500 returns\n",
    "variance = returns_df['S&P return'].var()\n",
    "variance\n",
    "\n",
    "# Calculate beta of Healthcare Sector\n",
    "HealthCare_beta = HealthCare_covariance / variance\n",
    "HealthCare_beta"
   ]
  },
  {
   "cell_type": "code",
   "execution_count": 67,
   "metadata": {},
   "outputs": [
    {
     "data": {
      "text/plain": [
       "1.016479499723216"
      ]
     },
     "execution_count": 67,
     "metadata": {},
     "output_type": "execute_result"
    }
   ],
   "source": [
    "#BETA CALCULATION Industrials Sector and S&P 500\n",
    "\n",
    "# Calculate covariance of Industrials vs. S&P 500\n",
    "Industrials_covariance = returns_df['Industrials return'].cov(returns_df['S&P return'])\n",
    "Industrials_covariance\n",
    "\n",
    "# Calculate variance of S&P 500 returns\n",
    "variance = returns_df['S&P return'].var()\n",
    "variance\n",
    "\n",
    "# Calculate beta of Industrials Sector\n",
    "Industrials_beta = Industrials_covariance / variance\n",
    "Industrials_beta"
   ]
  },
  {
   "cell_type": "code",
   "execution_count": 69,
   "metadata": {},
   "outputs": [
    {
     "data": {
      "text/plain": [
       "0.6817858526035526"
      ]
     },
     "execution_count": 69,
     "metadata": {},
     "output_type": "execute_result"
    }
   ],
   "source": [
    "#BETA CALCULATION Utilities Sector and S&P 500\n",
    "\n",
    "# Calculate covariance of Utilities vs. S&P 500\n",
    "Utilities_covariance = returns_df['Utilities return'].cov(returns_df['S&P return'])\n",
    "Utilities_covariance\n",
    "\n",
    "# Calculate variance of S&P 500 returns\n",
    "variance = returns_df['S&P return'].var()\n",
    "variance\n",
    "\n",
    "# Calculate beta of Utilities Sector\n",
    "Utilities_beta = Utilities_covariance / variance\n",
    "Utilities_beta"
   ]
  },
  {
   "cell_type": "code",
   "execution_count": 77,
   "metadata": {},
   "outputs": [
    {
     "data": {
      "text/plain": [
       "1.054374733784144"
      ]
     },
     "execution_count": 77,
     "metadata": {},
     "output_type": "execute_result"
    }
   ],
   "source": [
    "#BETA CALCULATION Transports Sector and S&P 500\n",
    "\n",
    "# Calculate covariance of Transports vs. S&P 500\n",
    "Transports_covariance = returns_df['Transports return'].cov(returns_df['S&P return'])\n",
    "Transports_covariance\n",
    "\n",
    "# Calculate variance of S&P 500 returns\n",
    "variance = returns_df['S&P return'].var()\n",
    "variance\n",
    "\n",
    "# Calculate beta of Transports Sector\n",
    "Transports_beta = Transports_covariance / variance\n",
    "Transports_beta"
   ]
  },
  {
   "cell_type": "code",
   "execution_count": 78,
   "metadata": {},
   "outputs": [
    {
     "name": "stdout",
     "output_type": "stream",
     "text": [
      "A 10,000 investment in the Materials Sector would have increased to 32419.90769996753\n"
     ]
    },
    {
     "data": {
      "text/plain": [
       "<matplotlib.axes._subplots.AxesSubplot at 0x59171a9388>"
      ]
     },
     "execution_count": 78,
     "metadata": {},
     "output_type": "execute_result"
    },
    {
     "data": {
      "image/png": "[encoded data removed]",
      "text/plain": [
       "<Figure size 432x288 with 1 Axes>"
      ]
     },
     "metadata": {
      "needs_background": "light"
     },
     "output_type": "display_data"
    }
   ],
   "source": [
    "# Plot the monetary returns of Materials Sector \n",
    "initial_investment = 10000\n",
    "cumulative_profit_materials = initial_investment * cumulative_returns_materials\n",
    "print(f'A 10,000 investment in the Materials Sector would have increased to {cumulative_profit_materials[-1]}')\n",
    "cumulative_profit_materials.plot()"
   ]
  },
  {
   "cell_type": "code",
   "execution_count": 79,
   "metadata": {},
   "outputs": [
    {
     "name": "stdout",
     "output_type": "stream",
     "text": [
      "A 10,000 investment in the Technology Sector would have increased to 58400.39415339094\n"
     ]
    },
    {
     "data": {
      "text/plain": [
       "<matplotlib.axes._subplots.AxesSubplot at 0x5917263c48>"
      ]
     },
     "execution_count": 79,
     "metadata": {},
     "output_type": "execute_result"
    },
    {
     "data": {
      "image/png": "[encoded data removed]",
      "text/plain": [
       "<Figure size 432x288 with 1 Axes>"
      ]
     },
     "metadata": {
      "needs_background": "light"
     },
     "output_type": "display_data"
    }
   ],
   "source": [
    "# Plot the monetary returns of Tech Sector \n",
    "initial_investment = 10000\n",
    "cumulative_profit_tech = initial_investment * cumulative_returns_tech\n",
    "print(f'A 10,000 investment in the Technology Sector would have increased to {cumulative_profit_tech[-1]}')\n",
    "cumulative_profit_tech.plot()"
   ]
  },
  {
   "cell_type": "code",
   "execution_count": 80,
   "metadata": {},
   "outputs": [
    {
     "name": "stdout",
     "output_type": "stream",
     "text": [
      "A 10,000 investment in the Real Estate Sector would have increased to 30085.879544325584\n"
     ]
    },
    {
     "data": {
      "text/plain": [
       "<matplotlib.axes._subplots.AxesSubplot at 0x5917309748>"
      ]
     },
     "execution_count": 80,
     "metadata": {},
     "output_type": "execute_result"
    },
    {
     "data": {
      "image/png": "[encoded data removed]",
      "text/plain": [
       "<Figure size 432x288 with 1 Axes>"
      ]
     },
     "metadata": {
      "needs_background": "light"
     },
     "output_type": "display_data"
    }
   ],
   "source": [
    "# Plot the monetary returns of Real Estate Sector \n",
    "initial_investment = 10000\n",
    "cumulative_profit_RE = initial_investment * cumulative_returns_RE\n",
    "print(f'A 10,000 investment in the Real Estate Sector would have increased to {cumulative_profit_RE[-1]}')\n",
    "cumulative_profit_RE.plot()"
   ]
  },
  {
   "cell_type": "code",
   "execution_count": 81,
   "metadata": {},
   "outputs": [
    {
     "name": "stdout",
     "output_type": "stream",
     "text": [
      "A 10,000 investment in the Consumer Discretionary Sector would have increased to 47929.76223011727\n"
     ]
    },
    {
     "data": {
      "text/plain": [
       "<matplotlib.axes._subplots.AxesSubplot at 0x5917384b48>"
      ]
     },
     "execution_count": 81,
     "metadata": {},
     "output_type": "execute_result"
    },
    {
     "data": {
      "image/png": "[encoded data removed]",
      "text/plain": [
       "<Figure size 432x288 with 1 Axes>"
      ]
     },
     "metadata": {
      "needs_background": "light"
     },
     "output_type": "display_data"
    }
   ],
   "source": [
    "# Plot the monetary returns of Consumer Discretionary Sector \n",
    "initial_investment = 10000\n",
    "cumulative_profit_Discretionary = initial_investment * cumulative_returns_Discretionary\n",
    "print(f'A 10,000 investment in the Consumer Discretionary Sector would have increased to {cumulative_profit_Discretionary[-1]}')\n",
    "cumulative_profit_Discretionary.plot()"
   ]
  },
  {
   "cell_type": "code",
   "execution_count": 82,
   "metadata": {},
   "outputs": [
    {
     "name": "stdout",
     "output_type": "stream",
     "text": [
      "A 10,000 investment in the Consumer Staples Sector would have increased to 41377.32935980735\n"
     ]
    },
    {
     "data": {
      "text/plain": [
       "<matplotlib.axes._subplots.AxesSubplot at 0x591744a508>"
      ]
     },
     "execution_count": 82,
     "metadata": {},
     "output_type": "execute_result"
    },
    {
     "data": {
      "image/png": "[encoded data removed]",
      "text/plain": [
       "<Figure size 432x288 with 1 Axes>"
      ]
     },
     "metadata": {
      "needs_background": "light"
     },
     "output_type": "display_data"
    }
   ],
   "source": [
    "# Plot the monetary returns of Consumer Staples Sector \n",
    "initial_investment = 10000\n",
    "cumulative_profit_Staples = initial_investment * cumulative_returns_Staples\n",
    "print(f'A 10,000 investment in the Consumer Staples Sector would have increased to {cumulative_profit_Staples[-1]}')\n",
    "cumulative_profit_Staples.plot()"
   ]
  },
  {
   "cell_type": "code",
   "execution_count": 83,
   "metadata": {},
   "outputs": [
    {
     "name": "stdout",
     "output_type": "stream",
     "text": [
      "A 10,000 investment in the Energy Sector would have increased to 21195.58469661045\n"
     ]
    },
    {
     "data": {
      "text/plain": [
       "<matplotlib.axes._subplots.AxesSubplot at 0x5917440088>"
      ]
     },
     "execution_count": 83,
     "metadata": {},
     "output_type": "execute_result"
    },
    {
     "data": {
      "image/png": "[encoded data removed]",
      "text/plain": [
       "<Figure size 432x288 with 1 Axes>"
      ]
     },
     "metadata": {
      "needs_background": "light"
     },
     "output_type": "display_data"
    }
   ],
   "source": [
    "# Plot the monetary returns of Energy Sector \n",
    "initial_investment = 10000\n",
    "cumulative_profit_Energy = initial_investment * cumulative_returns_Energy\n",
    "print(f'A 10,000 investment in the Energy Sector would have increased to {cumulative_profit_Energy[-1]}')\n",
    "cumulative_profit_Energy.plot()"
   ]
  },
  {
   "cell_type": "code",
   "execution_count": 84,
   "metadata": {},
   "outputs": [
    {
     "name": "stdout",
     "output_type": "stream",
     "text": [
      "A 10,000 investment in the Financials Sector would have increased to 14431.694775543247\n"
     ]
    },
    {
     "data": {
      "text/plain": [
       "<matplotlib.axes._subplots.AxesSubplot at 0x5918572088>"
      ]
     },
     "execution_count": 84,
     "metadata": {},
     "output_type": "execute_result"
    },
    {
     "data": {
      "image/png": "[encoded data removed]",
      "text/plain": [
       "<Figure size 432x288 with 1 Axes>"
      ]
     },
     "metadata": {
      "needs_background": "light"
     },
     "output_type": "display_data"
    }
   ],
   "source": [
    "# Plot the monetary returns of Financial Sector \n",
    "initial_investment = 10000\n",
    "cumulative_profit_Fin = initial_investment * cumulative_returns_Fin\n",
    "print(f'A 10,000 investment in the Financials Sector would have increased to {cumulative_profit_Fin[-1]}')\n",
    "cumulative_profit_Fin.plot()"
   ]
  },
  {
   "cell_type": "code",
   "execution_count": 86,
   "metadata": {},
   "outputs": [
    {
     "name": "stdout",
     "output_type": "stream",
     "text": [
      "A 10,000 investment in the Healthcare Sector would have increased to 46061.92440250844\n"
     ]
    },
    {
     "data": {
      "text/plain": [
       "<matplotlib.axes._subplots.AxesSubplot at 0x59185f9b48>"
      ]
     },
     "execution_count": 86,
     "metadata": {},
     "output_type": "execute_result"
    },
    {
     "data": {
      "image/png": "[encoded data removed]",
      "text/plain": [
       "<Figure size 432x288 with 1 Axes>"
      ]
     },
     "metadata": {
      "needs_background": "light"
     },
     "output_type": "display_data"
    }
   ],
   "source": [
    "# Plot the monetary returns of HealthCare Sector \n",
    "initial_investment = 10000\n",
    "cumulative_profit_health = initial_investment * cumulative_returns_HealthCare\n",
    "print(f'A 10,000 investment in the Healthcare Sector would have increased to {cumulative_profit_health[-1]}')\n",
    "cumulative_profit_health.plot()"
   ]
  },
  {
   "cell_type": "code",
   "execution_count": 90,
   "metadata": {},
   "outputs": [
    {
     "name": "stdout",
     "output_type": "stream",
     "text": [
      "A 10,000 investment in the Industrial Sector would have grown to 36088.92701076814\n"
     ]
    },
    {
     "data": {
      "text/plain": [
       "<matplotlib.axes._subplots.AxesSubplot at 0x5918805688>"
      ]
     },
     "execution_count": 90,
     "metadata": {},
     "output_type": "execute_result"
    },
    {
     "data": {
      "image/png": "[encoded data removed]",
      "text/plain": [
       "<Figure size 432x288 with 1 Axes>"
      ]
     },
     "metadata": {
      "needs_background": "light"
     },
     "output_type": "display_data"
    }
   ],
   "source": [
    "# Plot the monetary returns of Industrial Sector \n",
    "initial_investment = 10000\n",
    "cumulative_profit_industrial = initial_investment * cumulative_returns_Industrials\n",
    "print(f'A 10,000 investment in the Industrial Sector would have grown to {cumulative_profit_industrial[-1]}')\n",
    "cumulative_profit_industrial.plot()"
   ]
  },
  {
   "cell_type": "code",
   "execution_count": 91,
   "metadata": {},
   "outputs": [
    {
     "name": "stdout",
     "output_type": "stream",
     "text": [
      "A 10,000 investment in the Utilities Sector would have grown to 45943.36830335114\n"
     ]
    },
    {
     "data": {
      "text/plain": [
       "<matplotlib.axes._subplots.AxesSubplot at 0x5918899a48>"
      ]
     },
     "execution_count": 91,
     "metadata": {},
     "output_type": "execute_result"
    },
    {
     "data": {
      "image/png": "[encoded data removed]",
      "text/plain": [
       "<Figure size 432x288 with 1 Axes>"
      ]
     },
     "metadata": {
      "needs_background": "light"
     },
     "output_type": "display_data"
    }
   ],
   "source": [
    "# Plot the monetary returns of Utilities Sector \n",
    "initial_investment = 10000\n",
    "cumulative_profit_utilities = initial_investment * cumulative_returns_Utilities\n",
    "print(f'A 10,000 investment in the Utilities Sector would have grown to {cumulative_profit_utilities[-1]}')\n",
    "cumulative_profit_utilities.plot()"
   ]
  },
  {
   "cell_type": "code",
   "execution_count": 92,
   "metadata": {},
   "outputs": [
    {
     "name": "stdout",
     "output_type": "stream",
     "text": [
      "A 10,000 investment in the Transports Sector would have grown to 34370.31866882226\n"
     ]
    },
    {
     "data": {
      "text/plain": [
       "<matplotlib.axes._subplots.AxesSubplot at 0x591892a608>"
      ]
     },
     "execution_count": 92,
     "metadata": {},
     "output_type": "execute_result"
    },
    {
     "data": {
      "image/png": "[encoded data removed]",
      "text/plain": [
       "<Figure size 432x288 with 1 Axes>"
      ]
     },
     "metadata": {
      "needs_background": "light"
     },
     "output_type": "display_data"
    }
   ],
   "source": [
    "# Plot the monetary returns of Transport Sector \n",
    "initial_investment = 10000\n",
    "cumulative_profit_transports = initial_investment * cumulative_returns_Transports\n",
    "print(f'A 10,000 investment in the Transports Sector would have grown to {cumulative_profit_transports[-1]}')\n",
    "cumulative_profit_utilities.plot()"
   ]
  },
  {
   "cell_type": "code",
   "execution_count": null,
   "metadata": {},
   "outputs": [],
   "source": []
  }
 ],
 "metadata": {
  "kernelspec": {
   "display_name": "Python 3",
   "language": "python",
   "name": "python3"
  },
  "language_info": {
   "codemirror_mode": {
    "name": "ipython",
    "version": 3
   },
   "file_extension": ".py",
   "mimetype": "text/x-python",
   "name": "python",
   "nbconvert_exporter": "python",
   "pygments_lexer": "ipython3",
   "version": "3.7.4"
  }
 },
 "nbformat": 4,
 "nbformat_minor": 4
}
