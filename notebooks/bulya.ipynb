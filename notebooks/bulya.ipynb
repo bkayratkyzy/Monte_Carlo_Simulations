{
 "cells": [
  {
   "cell_type": "code",
   "execution_count": 1,
   "metadata": {},
   "outputs": [],
   "source": [
    "import numpy as np\n",
    "import pandas as pd\n",
    "from datetime import datetime, timedelta\n",
    "import matplotlib.pyplot as plt\n",
    "import json\n",
    "from pathlib import Path\n",
    "import alpaca_trade_api as tradeapi\n",
    "import requests\n",
    "import os \n",
    "from dotenv import load_dotenv\n",
    "\n",
    "%matplotlib inline"
   ]
  },
  {
   "cell_type": "code",
   "execution_count": 2,
   "metadata": {},
   "outputs": [
    {
     "data": {
      "text/plain": [
       "str"
      ]
     },
     "execution_count": 2,
     "metadata": {},
     "output_type": "execute_result"
    }
   ],
   "source": [
    "load_dotenv()\n",
    "\n",
    "alpaca_api_key = os.getenv(\"Api_key\")\n",
    "alpaca_secret_key = os.getenv(\"Secret_Key\")\n",
    "\n",
    "api = tradeapi.REST(alpaca_api_key, alpaca_secret_key, api_version='v2')\n",
    "\n",
    "\n",
    "type(alpaca_api_key)\n"
   ]
  },
  {
   "cell_type": "code",
   "execution_count": 48,
   "metadata": {},
   "outputs": [
    {
     "data": {
      "text/html": [
       "<div>\n",
       "<style scoped>\n",
       "    .dataframe tbody tr th:only-of-type {\n",
       "        vertical-align: middle;\n",
       "    }\n",
       "\n",
       "    .dataframe tbody tr th {\n",
       "        vertical-align: top;\n",
       "    }\n",
       "\n",
       "    .dataframe thead th {\n",
       "        text-align: right;\n",
       "    }\n",
       "</style>\n",
       "<table border=\"1\" class=\"dataframe\">\n",
       "  <thead>\n",
       "    <tr style=\"text-align: right;\">\n",
       "      <th></th>\n",
       "      <th>1. open</th>\n",
       "      <th>2. high</th>\n",
       "      <th>3. low</th>\n",
       "      <th>4. close</th>\n",
       "      <th>5. adjusted close</th>\n",
       "      <th>6. volume</th>\n",
       "      <th>7. dividend amount</th>\n",
       "      <th>8. split coefficient</th>\n",
       "    </tr>\n",
       "    <tr>\n",
       "      <th>date</th>\n",
       "      <th></th>\n",
       "      <th></th>\n",
       "      <th></th>\n",
       "      <th></th>\n",
       "      <th></th>\n",
       "      <th></th>\n",
       "      <th></th>\n",
       "      <th></th>\n",
       "    </tr>\n",
       "  </thead>\n",
       "  <tbody>\n",
       "    <tr>\n",
       "      <th>2000-06-02</th>\n",
       "      <td>62.47</td>\n",
       "      <td>62.59</td>\n",
       "      <td>62.28</td>\n",
       "      <td>62.28</td>\n",
       "      <td>39.9311</td>\n",
       "      <td>10000.0</td>\n",
       "      <td>0.0</td>\n",
       "      <td>1.0</td>\n",
       "    </tr>\n",
       "    <tr>\n",
       "      <th>2000-06-01</th>\n",
       "      <td>60.78</td>\n",
       "      <td>61.42</td>\n",
       "      <td>60.69</td>\n",
       "      <td>61.42</td>\n",
       "      <td>39.3797</td>\n",
       "      <td>25400.0</td>\n",
       "      <td>0.0</td>\n",
       "      <td>1.0</td>\n",
       "    </tr>\n",
       "    <tr>\n",
       "      <th>2000-05-31</th>\n",
       "      <td>60.19</td>\n",
       "      <td>60.80</td>\n",
       "      <td>60.19</td>\n",
       "      <td>60.50</td>\n",
       "      <td>38.7899</td>\n",
       "      <td>12200.0</td>\n",
       "      <td>0.0</td>\n",
       "      <td>1.0</td>\n",
       "    </tr>\n",
       "    <tr>\n",
       "      <th>2000-05-30</th>\n",
       "      <td>59.91</td>\n",
       "      <td>60.22</td>\n",
       "      <td>59.91</td>\n",
       "      <td>60.22</td>\n",
       "      <td>38.6104</td>\n",
       "      <td>1800.0</td>\n",
       "      <td>0.0</td>\n",
       "      <td>1.0</td>\n",
       "    </tr>\n",
       "    <tr>\n",
       "      <th>2000-05-26</th>\n",
       "      <td>59.61</td>\n",
       "      <td>59.61</td>\n",
       "      <td>59.31</td>\n",
       "      <td>59.31</td>\n",
       "      <td>38.0269</td>\n",
       "      <td>2900.0</td>\n",
       "      <td>0.0</td>\n",
       "      <td>1.0</td>\n",
       "    </tr>\n",
       "  </tbody>\n",
       "</table>\n",
       "</div>"
      ],
      "text/plain": [
       "            1. open  2. high  3. low  4. close  5. adjusted close  6. volume  \\\n",
       "date                                                                           \n",
       "2000-06-02    62.47    62.59   62.28     62.28            39.9311    10000.0   \n",
       "2000-06-01    60.78    61.42   60.69     61.42            39.3797    25400.0   \n",
       "2000-05-31    60.19    60.80   60.19     60.50            38.7899    12200.0   \n",
       "2000-05-30    59.91    60.22   59.91     60.22            38.6104     1800.0   \n",
       "2000-05-26    59.61    59.61   59.31     59.31            38.0269     2900.0   \n",
       "\n",
       "            7. dividend amount  8. split coefficient  \n",
       "date                                                  \n",
       "2000-06-02                 0.0                   1.0  \n",
       "2000-06-01                 0.0                   1.0  \n",
       "2000-05-31                 0.0                   1.0  \n",
       "2000-05-30                 0.0                   1.0  \n",
       "2000-05-26                 0.0                   1.0  "
      ]
     },
     "execution_count": 48,
     "metadata": {},
     "output_type": "execute_result"
    }
   ],
   "source": [
    "xle_df = api.alpha_vantage.historic_quotes('XLE', adjusted=True, output_format='pandas')\n",
    "\n",
    "\n",
    "xlf_df = api.alpha_vantage.historic_quotes('XLF', adjusted=True, output_format='pandas')\n",
    "\n",
    "ive_df = api.alpha_vantage.historic_quotes('IVE', adjusted=True, output_format='pandas')\n",
    "ive_df.tail()"
   ]
  },
  {
   "cell_type": "code",
   "execution_count": 42,
   "metadata": {},
   "outputs": [
    {
     "data": {
      "text/plain": [
       "Index(['1. open', '2. high', '3. low', '4. close', '5. adjusted close',\n",
       "       '6. volume', '7. dividend amount', '8. split coefficient'],\n",
       "      dtype='object')"
      ]
     },
     "execution_count": 42,
     "metadata": {},
     "output_type": "execute_result"
    }
   ],
   "source": [
    "xle_df.columns"
   ]
  },
  {
   "cell_type": "code",
   "execution_count": 43,
   "metadata": {},
   "outputs": [
    {
     "data": {
      "text/plain": [
       "Index(['1. open', '2. high', '3. low', '4. close', '5. adjusted close',\n",
       "       '6. volume', '7. dividend amount', '8. split coefficient'],\n",
       "      dtype='object')"
      ]
     },
     "execution_count": 43,
     "metadata": {},
     "output_type": "execute_result"
    }
   ],
   "source": [
    "ive_df.columns\n",
    "\n"
   ]
  },
  {
   "cell_type": "code",
   "execution_count": 44,
   "metadata": {},
   "outputs": [
    {
     "data": {
      "text/plain": [
       "Index(['1. open', '2. high', '3. low', '4. close', '5. adjusted close',\n",
       "       '6. volume', '7. dividend amount', '8. split coefficient'],\n",
       "      dtype='object')"
      ]
     },
     "execution_count": 44,
     "metadata": {},
     "output_type": "execute_result"
    }
   ],
   "source": [
    "xlf_df.columns\n"
   ]
  },
  {
   "cell_type": "code",
   "execution_count": 47,
   "metadata": {},
   "outputs": [
    {
     "ename": "SyntaxError",
     "evalue": "invalid syntax (<ipython-input-47-53159201a9f2>, line 2)",
     "output_type": "error",
     "traceback": [
      "\u001b[0;36m  File \u001b[0;32m\"<ipython-input-47-53159201a9f2>\"\u001b[0;36m, line \u001b[0;32m2\u001b[0m\n\u001b[0;31m    xle_df.head()\u001b[0m\n\u001b[0m         ^\u001b[0m\n\u001b[0;31mSyntaxError\u001b[0m\u001b[0;31m:\u001b[0m invalid syntax\n"
     ]
    }
   ],
   "source": [
    "\n",
    "xle_df=xle_df.rename(columns=['5. adjusted close']\n",
    "xle_df.head()\n",
    "xlf_df = xlf_df['5. adjusted close']\n",
    "xlf_df.head()\n",
    "ive_df= ive_df ['5. adjusted close']\n",
    "ive_df.head()\n",
    "\n",
    "\n",
    "\n",
    "concat_df = pd.concat([xle_df, xlf_df, ive_df], axis = \"columns\", join = \"inner\"\n",
    "                     )\n",
    "concat_df.head()"
   ]
  },
  {
   "cell_type": "code",
   "execution_count": 8,
   "metadata": {},
   "outputs": [],
   "source": [
    "concat_df.dropna(inplace=True)"
   ]
  },
  {
   "cell_type": "code",
   "execution_count": 9,
   "metadata": {},
   "outputs": [
    {
     "data": {
      "text/plain": [
       "pandas.core.frame.DataFrame"
      ]
     },
     "execution_count": 9,
     "metadata": {},
     "output_type": "execute_result"
    }
   ],
   "source": [
    "type(concat_df)"
   ]
  },
  {
   "cell_type": "code",
   "execution_count": 10,
   "metadata": {},
   "outputs": [
    {
     "data": {
      "text/html": [
       "<div>\n",
       "<style scoped>\n",
       "    .dataframe tbody tr th:only-of-type {\n",
       "        vertical-align: middle;\n",
       "    }\n",
       "\n",
       "    .dataframe tbody tr th {\n",
       "        vertical-align: top;\n",
       "    }\n",
       "\n",
       "    .dataframe thead th {\n",
       "        text-align: right;\n",
       "    }\n",
       "</style>\n",
       "<table border=\"1\" class=\"dataframe\">\n",
       "  <thead>\n",
       "    <tr style=\"text-align: right;\">\n",
       "      <th></th>\n",
       "      <th>5. adjusted close</th>\n",
       "      <th>5. adjusted close</th>\n",
       "      <th>5. adjusted close</th>\n",
       "    </tr>\n",
       "    <tr>\n",
       "      <th>date</th>\n",
       "      <th></th>\n",
       "      <th></th>\n",
       "      <th></th>\n",
       "    </tr>\n",
       "  </thead>\n",
       "  <tbody>\n",
       "    <tr>\n",
       "      <th>2000-05-26</th>\n",
       "      <td>19.6775</td>\n",
       "      <td>13.1248</td>\n",
       "      <td>38.0269</td>\n",
       "    </tr>\n",
       "    <tr>\n",
       "      <th>2000-05-30</th>\n",
       "      <td>19.9578</td>\n",
       "      <td>13.3954</td>\n",
       "      <td>38.6104</td>\n",
       "    </tr>\n",
       "    <tr>\n",
       "      <th>2000-05-31</th>\n",
       "      <td>20.5566</td>\n",
       "      <td>13.5578</td>\n",
       "      <td>38.7899</td>\n",
       "    </tr>\n",
       "    <tr>\n",
       "      <th>2000-06-01</th>\n",
       "      <td>20.3655</td>\n",
       "      <td>14.0070</td>\n",
       "      <td>39.3797</td>\n",
       "    </tr>\n",
       "    <tr>\n",
       "      <th>2000-06-02</th>\n",
       "      <td>19.6712</td>\n",
       "      <td>14.5807</td>\n",
       "      <td>39.9311</td>\n",
       "    </tr>\n",
       "    <tr>\n",
       "      <th>...</th>\n",
       "      <td>...</td>\n",
       "      <td>...</td>\n",
       "      <td>...</td>\n",
       "    </tr>\n",
       "    <tr>\n",
       "      <th>2020-04-27</th>\n",
       "      <td>35.3700</td>\n",
       "      <td>22.4800</td>\n",
       "      <td>106.1900</td>\n",
       "    </tr>\n",
       "    <tr>\n",
       "      <th>2020-04-28</th>\n",
       "      <td>36.1800</td>\n",
       "      <td>22.7200</td>\n",
       "      <td>106.6400</td>\n",
       "    </tr>\n",
       "    <tr>\n",
       "      <th>2020-04-29</th>\n",
       "      <td>38.8600</td>\n",
       "      <td>23.3800</td>\n",
       "      <td>108.7000</td>\n",
       "    </tr>\n",
       "    <tr>\n",
       "      <th>2020-04-30</th>\n",
       "      <td>38.0000</td>\n",
       "      <td>22.7900</td>\n",
       "      <td>106.4900</td>\n",
       "    </tr>\n",
       "    <tr>\n",
       "      <th>2020-05-01</th>\n",
       "      <td>35.8500</td>\n",
       "      <td>22.0600</td>\n",
       "      <td>103.5400</td>\n",
       "    </tr>\n",
       "  </tbody>\n",
       "</table>\n",
       "<p>5014 rows × 3 columns</p>\n",
       "</div>"
      ],
      "text/plain": [
       "            5. adjusted close  5. adjusted close  5. adjusted close\n",
       "date                                                               \n",
       "2000-05-26            19.6775            13.1248            38.0269\n",
       "2000-05-30            19.9578            13.3954            38.6104\n",
       "2000-05-31            20.5566            13.5578            38.7899\n",
       "2000-06-01            20.3655            14.0070            39.3797\n",
       "2000-06-02            19.6712            14.5807            39.9311\n",
       "...                       ...                ...                ...\n",
       "2020-04-27            35.3700            22.4800           106.1900\n",
       "2020-04-28            36.1800            22.7200           106.6400\n",
       "2020-04-29            38.8600            23.3800           108.7000\n",
       "2020-04-30            38.0000            22.7900           106.4900\n",
       "2020-05-01            35.8500            22.0600           103.5400\n",
       "\n",
       "[5014 rows x 3 columns]"
      ]
     },
     "execution_count": 10,
     "metadata": {},
     "output_type": "execute_result"
    }
   ],
   "source": [
    "concat_df=concat_df.sort_index(ascending=True)\n",
    "concat_df"
   ]
  },
  {
   "cell_type": "code",
   "execution_count": 11,
   "metadata": {},
   "outputs": [
    {
     "data": {
      "text/html": [
       "<div>\n",
       "<style scoped>\n",
       "    .dataframe tbody tr th:only-of-type {\n",
       "        vertical-align: middle;\n",
       "    }\n",
       "\n",
       "    .dataframe tbody tr th {\n",
       "        vertical-align: top;\n",
       "    }\n",
       "\n",
       "    .dataframe thead th {\n",
       "        text-align: right;\n",
       "    }\n",
       "</style>\n",
       "<table border=\"1\" class=\"dataframe\">\n",
       "  <thead>\n",
       "    <tr style=\"text-align: right;\">\n",
       "      <th></th>\n",
       "      <th>XLE close</th>\n",
       "      <th>XLF close</th>\n",
       "      <th>IVE close</th>\n",
       "    </tr>\n",
       "    <tr>\n",
       "      <th>date</th>\n",
       "      <th></th>\n",
       "      <th></th>\n",
       "      <th></th>\n",
       "    </tr>\n",
       "  </thead>\n",
       "  <tbody>\n",
       "    <tr>\n",
       "      <th>2000-05-26</th>\n",
       "      <td>19.6775</td>\n",
       "      <td>13.1248</td>\n",
       "      <td>38.0269</td>\n",
       "    </tr>\n",
       "    <tr>\n",
       "      <th>2000-05-30</th>\n",
       "      <td>19.9578</td>\n",
       "      <td>13.3954</td>\n",
       "      <td>38.6104</td>\n",
       "    </tr>\n",
       "    <tr>\n",
       "      <th>2000-05-31</th>\n",
       "      <td>20.5566</td>\n",
       "      <td>13.5578</td>\n",
       "      <td>38.7899</td>\n",
       "    </tr>\n",
       "    <tr>\n",
       "      <th>2000-06-01</th>\n",
       "      <td>20.3655</td>\n",
       "      <td>14.0070</td>\n",
       "      <td>39.3797</td>\n",
       "    </tr>\n",
       "    <tr>\n",
       "      <th>2000-06-02</th>\n",
       "      <td>19.6712</td>\n",
       "      <td>14.5807</td>\n",
       "      <td>39.9311</td>\n",
       "    </tr>\n",
       "  </tbody>\n",
       "</table>\n",
       "</div>"
      ],
      "text/plain": [
       "            XLE close  XLF close  IVE close\n",
       "date                                       \n",
       "2000-05-26    19.6775    13.1248    38.0269\n",
       "2000-05-30    19.9578    13.3954    38.6104\n",
       "2000-05-31    20.5566    13.5578    38.7899\n",
       "2000-06-01    20.3655    14.0070    39.3797\n",
       "2000-06-02    19.6712    14.5807    39.9311"
      ]
     },
     "execution_count": 11,
     "metadata": {},
     "output_type": "execute_result"
    }
   ],
   "source": [
    "columns = ['XLE close', 'XLF close', 'IVE close']\n",
    "concat_df.columns = columns\n",
    "concat_df.head()"
   ]
  },
  {
   "cell_type": "code",
   "execution_count": null,
   "metadata": {},
   "outputs": [],
   "source": []
  },
  {
   "cell_type": "code",
   "execution_count": 19,
   "metadata": {},
   "outputs": [
    {
     "data": {
      "text/html": [
       "<div>\n",
       "<style scoped>\n",
       "    .dataframe tbody tr th:only-of-type {\n",
       "        vertical-align: middle;\n",
       "    }\n",
       "\n",
       "    .dataframe tbody tr th {\n",
       "        vertical-align: top;\n",
       "    }\n",
       "\n",
       "    .dataframe thead th {\n",
       "        text-align: right;\n",
       "    }\n",
       "</style>\n",
       "<table border=\"1\" class=\"dataframe\">\n",
       "  <thead>\n",
       "    <tr style=\"text-align: right;\">\n",
       "      <th></th>\n",
       "      <th>XLE return</th>\n",
       "      <th>XLF return</th>\n",
       "      <th>IVE return</th>\n",
       "    </tr>\n",
       "    <tr>\n",
       "      <th>date</th>\n",
       "      <th></th>\n",
       "      <th></th>\n",
       "      <th></th>\n",
       "    </tr>\n",
       "  </thead>\n",
       "  <tbody>\n",
       "    <tr>\n",
       "      <th>2000-05-26</th>\n",
       "      <td>NaN</td>\n",
       "      <td>NaN</td>\n",
       "      <td>NaN</td>\n",
       "    </tr>\n",
       "    <tr>\n",
       "      <th>2000-05-30</th>\n",
       "      <td>0.014245</td>\n",
       "      <td>0.020617</td>\n",
       "      <td>0.015344</td>\n",
       "    </tr>\n",
       "    <tr>\n",
       "      <th>2000-05-31</th>\n",
       "      <td>0.030003</td>\n",
       "      <td>0.012124</td>\n",
       "      <td>0.004649</td>\n",
       "    </tr>\n",
       "    <tr>\n",
       "      <th>2000-06-01</th>\n",
       "      <td>-0.009296</td>\n",
       "      <td>0.033132</td>\n",
       "      <td>0.015205</td>\n",
       "    </tr>\n",
       "    <tr>\n",
       "      <th>2000-06-02</th>\n",
       "      <td>-0.034092</td>\n",
       "      <td>0.040958</td>\n",
       "      <td>0.014002</td>\n",
       "    </tr>\n",
       "    <tr>\n",
       "      <th>...</th>\n",
       "      <td>...</td>\n",
       "      <td>...</td>\n",
       "      <td>...</td>\n",
       "    </tr>\n",
       "    <tr>\n",
       "      <th>2020-04-27</th>\n",
       "      <td>0.021664</td>\n",
       "      <td>0.034039</td>\n",
       "      <td>0.021156</td>\n",
       "    </tr>\n",
       "    <tr>\n",
       "      <th>2020-04-28</th>\n",
       "      <td>0.022901</td>\n",
       "      <td>0.010676</td>\n",
       "      <td>0.004238</td>\n",
       "    </tr>\n",
       "    <tr>\n",
       "      <th>2020-04-29</th>\n",
       "      <td>0.074074</td>\n",
       "      <td>0.029049</td>\n",
       "      <td>0.019317</td>\n",
       "    </tr>\n",
       "    <tr>\n",
       "      <th>2020-04-30</th>\n",
       "      <td>-0.022131</td>\n",
       "      <td>-0.025235</td>\n",
       "      <td>-0.020331</td>\n",
       "    </tr>\n",
       "    <tr>\n",
       "      <th>2020-05-01</th>\n",
       "      <td>-0.056579</td>\n",
       "      <td>-0.032032</td>\n",
       "      <td>-0.027702</td>\n",
       "    </tr>\n",
       "  </tbody>\n",
       "</table>\n",
       "<p>5014 rows × 3 columns</p>\n",
       "</div>"
      ],
      "text/plain": [
       "            XLE return  XLF return  IVE return\n",
       "date                                          \n",
       "2000-05-26         NaN         NaN         NaN\n",
       "2000-05-30    0.014245    0.020617    0.015344\n",
       "2000-05-31    0.030003    0.012124    0.004649\n",
       "2000-06-01   -0.009296    0.033132    0.015205\n",
       "2000-06-02   -0.034092    0.040958    0.014002\n",
       "...                ...         ...         ...\n",
       "2020-04-27    0.021664    0.034039    0.021156\n",
       "2020-04-28    0.022901    0.010676    0.004238\n",
       "2020-04-29    0.074074    0.029049    0.019317\n",
       "2020-04-30   -0.022131   -0.025235   -0.020331\n",
       "2020-05-01   -0.056579   -0.032032   -0.027702\n",
       "\n",
       "[5014 rows x 3 columns]"
      ]
     },
     "execution_count": 19,
     "metadata": {},
     "output_type": "execute_result"
    }
   ],
   "source": [
    "\n",
    "concat_return=concat_df.rename(columns={\"XLE close\":\"XLE return\",\"XLF close\":\"XLF return\", \"IVE close\":\"IVE return\"},inplace=True)\n",
    "concat_return= concat_df.pct_change()\n",
    "concat_return\n",
    "\n",
    "\n"
   ]
  },
  {
   "cell_type": "code",
   "execution_count": 20,
   "metadata": {},
   "outputs": [
    {
     "data": {
      "text/plain": [
       "XLE return    0\n",
       "XLF return    0\n",
       "IVE return    0\n",
       "dtype: int64"
      ]
     },
     "execution_count": 20,
     "metadata": {},
     "output_type": "execute_result"
    }
   ],
   "source": [
    "concat_return.dropna(inplace=True)\n",
    "\n",
    "#count nulls again\n",
    "concat_return.isnull().sum()"
   ]
  },
  {
   "cell_type": "code",
   "execution_count": 21,
   "metadata": {},
   "outputs": [
    {
     "data": {
      "text/html": [
       "<div>\n",
       "<style scoped>\n",
       "    .dataframe tbody tr th:only-of-type {\n",
       "        vertical-align: middle;\n",
       "    }\n",
       "\n",
       "    .dataframe tbody tr th {\n",
       "        vertical-align: top;\n",
       "    }\n",
       "\n",
       "    .dataframe thead th {\n",
       "        text-align: right;\n",
       "    }\n",
       "</style>\n",
       "<table border=\"1\" class=\"dataframe\">\n",
       "  <thead>\n",
       "    <tr style=\"text-align: right;\">\n",
       "      <th></th>\n",
       "      <th>XLE return</th>\n",
       "      <th>XLF return</th>\n",
       "      <th>IVE return</th>\n",
       "    </tr>\n",
       "    <tr>\n",
       "      <th>date</th>\n",
       "      <th></th>\n",
       "      <th></th>\n",
       "      <th></th>\n",
       "    </tr>\n",
       "  </thead>\n",
       "  <tbody>\n",
       "    <tr>\n",
       "      <th>2000-05-30</th>\n",
       "      <td>0.014245</td>\n",
       "      <td>0.020617</td>\n",
       "      <td>0.015344</td>\n",
       "    </tr>\n",
       "    <tr>\n",
       "      <th>2000-05-31</th>\n",
       "      <td>0.030003</td>\n",
       "      <td>0.012124</td>\n",
       "      <td>0.004649</td>\n",
       "    </tr>\n",
       "    <tr>\n",
       "      <th>2000-06-01</th>\n",
       "      <td>-0.009296</td>\n",
       "      <td>0.033132</td>\n",
       "      <td>0.015205</td>\n",
       "    </tr>\n",
       "    <tr>\n",
       "      <th>2000-06-02</th>\n",
       "      <td>-0.034092</td>\n",
       "      <td>0.040958</td>\n",
       "      <td>0.014002</td>\n",
       "    </tr>\n",
       "    <tr>\n",
       "      <th>2000-06-05</th>\n",
       "      <td>-0.014249</td>\n",
       "      <td>-0.022640</td>\n",
       "      <td>-0.004495</td>\n",
       "    </tr>\n",
       "    <tr>\n",
       "      <th>...</th>\n",
       "      <td>...</td>\n",
       "      <td>...</td>\n",
       "      <td>...</td>\n",
       "    </tr>\n",
       "    <tr>\n",
       "      <th>2020-04-27</th>\n",
       "      <td>0.021664</td>\n",
       "      <td>0.034039</td>\n",
       "      <td>0.021156</td>\n",
       "    </tr>\n",
       "    <tr>\n",
       "      <th>2020-04-28</th>\n",
       "      <td>0.022901</td>\n",
       "      <td>0.010676</td>\n",
       "      <td>0.004238</td>\n",
       "    </tr>\n",
       "    <tr>\n",
       "      <th>2020-04-29</th>\n",
       "      <td>0.074074</td>\n",
       "      <td>0.029049</td>\n",
       "      <td>0.019317</td>\n",
       "    </tr>\n",
       "    <tr>\n",
       "      <th>2020-04-30</th>\n",
       "      <td>-0.022131</td>\n",
       "      <td>-0.025235</td>\n",
       "      <td>-0.020331</td>\n",
       "    </tr>\n",
       "    <tr>\n",
       "      <th>2020-05-01</th>\n",
       "      <td>-0.056579</td>\n",
       "      <td>-0.032032</td>\n",
       "      <td>-0.027702</td>\n",
       "    </tr>\n",
       "  </tbody>\n",
       "</table>\n",
       "<p>5011 rows × 3 columns</p>\n",
       "</div>"
      ],
      "text/plain": [
       "            XLE return  XLF return  IVE return\n",
       "date                                          \n",
       "2000-05-30    0.014245    0.020617    0.015344\n",
       "2000-05-31    0.030003    0.012124    0.004649\n",
       "2000-06-01   -0.009296    0.033132    0.015205\n",
       "2000-06-02   -0.034092    0.040958    0.014002\n",
       "2000-06-05   -0.014249   -0.022640   -0.004495\n",
       "...                ...         ...         ...\n",
       "2020-04-27    0.021664    0.034039    0.021156\n",
       "2020-04-28    0.022901    0.010676    0.004238\n",
       "2020-04-29    0.074074    0.029049    0.019317\n",
       "2020-04-30   -0.022131   -0.025235   -0.020331\n",
       "2020-05-01   -0.056579   -0.032032   -0.027702\n",
       "\n",
       "[5011 rows x 3 columns]"
      ]
     },
     "execution_count": 21,
     "metadata": {},
     "output_type": "execute_result"
    }
   ],
   "source": [
    "concat_return.drop_duplicates(inplace=True)\n",
    "concat_return"
   ]
  },
  {
   "cell_type": "code",
   "execution_count": 22,
   "metadata": {},
   "outputs": [
    {
     "data": {
      "text/plain": [
       "XLE return    float64\n",
       "XLF return    float64\n",
       "IVE return    float64\n",
       "dtype: object"
      ]
     },
     "execution_count": 22,
     "metadata": {},
     "output_type": "execute_result"
    }
   ],
   "source": [
    "concat_return.dtypes"
   ]
  },
  {
   "cell_type": "code",
   "execution_count": 23,
   "metadata": {},
   "outputs": [
    {
     "data": {
      "text/plain": [
       "XLE return    5011\n",
       "XLF return    5011\n",
       "IVE return    5011\n",
       "dtype: int64"
      ]
     },
     "execution_count": 23,
     "metadata": {},
     "output_type": "execute_result"
    }
   ],
   "source": [
    "concat_return.count()\n"
   ]
  },
  {
   "cell_type": "code",
   "execution_count": 24,
   "metadata": {},
   "outputs": [
    {
     "data": {
      "text/html": [
       "<div>\n",
       "<style scoped>\n",
       "    .dataframe tbody tr th:only-of-type {\n",
       "        vertical-align: middle;\n",
       "    }\n",
       "\n",
       "    .dataframe tbody tr th {\n",
       "        vertical-align: top;\n",
       "    }\n",
       "\n",
       "    .dataframe thead th {\n",
       "        text-align: right;\n",
       "    }\n",
       "</style>\n",
       "<table border=\"1\" class=\"dataframe\">\n",
       "  <thead>\n",
       "    <tr style=\"text-align: right;\">\n",
       "      <th></th>\n",
       "      <th>XLE return</th>\n",
       "      <th>XLF return</th>\n",
       "      <th>IVE return</th>\n",
       "    </tr>\n",
       "  </thead>\n",
       "  <tbody>\n",
       "    <tr>\n",
       "      <th>count</th>\n",
       "      <td>5011.000000</td>\n",
       "      <td>5011.000000</td>\n",
       "      <td>5011.000000</td>\n",
       "    </tr>\n",
       "    <tr>\n",
       "      <th>mean</th>\n",
       "      <td>0.000283</td>\n",
       "      <td>0.000282</td>\n",
       "      <td>0.000283</td>\n",
       "    </tr>\n",
       "    <tr>\n",
       "      <th>std</th>\n",
       "      <td>0.018040</td>\n",
       "      <td>0.018907</td>\n",
       "      <td>0.012853</td>\n",
       "    </tr>\n",
       "    <tr>\n",
       "      <th>min</th>\n",
       "      <td>-0.201413</td>\n",
       "      <td>-0.166671</td>\n",
       "      <td>-0.111856</td>\n",
       "    </tr>\n",
       "    <tr>\n",
       "      <th>25%</th>\n",
       "      <td>-0.007975</td>\n",
       "      <td>-0.006580</td>\n",
       "      <td>-0.004784</td>\n",
       "    </tr>\n",
       "    <tr>\n",
       "      <th>50%</th>\n",
       "      <td>0.000595</td>\n",
       "      <td>0.000470</td>\n",
       "      <td>0.000715</td>\n",
       "    </tr>\n",
       "    <tr>\n",
       "      <th>75%</th>\n",
       "      <td>0.009289</td>\n",
       "      <td>0.007526</td>\n",
       "      <td>0.005819</td>\n",
       "    </tr>\n",
       "    <tr>\n",
       "      <th>max</th>\n",
       "      <td>0.200234</td>\n",
       "      <td>0.164020</td>\n",
       "      <td>0.107043</td>\n",
       "    </tr>\n",
       "  </tbody>\n",
       "</table>\n",
       "</div>"
      ],
      "text/plain": [
       "        XLE return   XLF return   IVE return\n",
       "count  5011.000000  5011.000000  5011.000000\n",
       "mean      0.000283     0.000282     0.000283\n",
       "std       0.018040     0.018907     0.012853\n",
       "min      -0.201413    -0.166671    -0.111856\n",
       "25%      -0.007975    -0.006580    -0.004784\n",
       "50%       0.000595     0.000470     0.000715\n",
       "75%       0.009289     0.007526     0.005819\n",
       "max       0.200234     0.164020     0.107043"
      ]
     },
     "execution_count": 24,
     "metadata": {},
     "output_type": "execute_result"
    }
   ],
   "source": [
    "concat_return.describe()"
   ]
  },
  {
   "cell_type": "code",
   "execution_count": 25,
   "metadata": {},
   "outputs": [
    {
     "data": {
      "text/plain": [
       "<matplotlib.axes._subplots.AxesSubplot at 0x119e78a50>"
      ]
     },
     "execution_count": 25,
     "metadata": {},
     "output_type": "execute_result"
    },
    {
     "data": {
      "image/png": "[encoded data removed]",
      "text/plain": [
       "<Figure size 720x360 with 1 Axes>"
      ]
     },
     "metadata": {
      "needs_background": "light"
     },
     "output_type": "display_data"
    }
   ],
   "source": [
    "concat_return['XLE return'].plot(figsize=(10,5), legend= True, title= \"Energy Sector\", color= \"pink\")"
   ]
  },
  {
   "cell_type": "code",
   "execution_count": 26,
   "metadata": {},
   "outputs": [
    {
     "data": {
      "text/plain": [
       "<matplotlib.axes._subplots.AxesSubplot at 0x119952b10>"
      ]
     },
     "execution_count": 26,
     "metadata": {},
     "output_type": "execute_result"
    },
    {
     "data": {
      "image/png": "[encoded data removed]",
      "text/plain": [
       "<Figure size 720x360 with 1 Axes>"
      ]
     },
     "metadata": {
      "needs_background": "light"
     },
     "output_type": "display_data"
    }
   ],
   "source": [
    "concat_return['XLF return'].plot(figsize=(10,5), legend= True, title=\"Financial Sector\", color=\"green\")"
   ]
  },
  {
   "cell_type": "code",
   "execution_count": 27,
   "metadata": {},
   "outputs": [
    {
     "data": {
      "text/plain": [
       "<matplotlib.axes._subplots.AxesSubplot at 0x119cc0a10>"
      ]
     },
     "execution_count": 27,
     "metadata": {},
     "output_type": "execute_result"
    },
    {
     "data": {
      "image/png": "[encoded data removed]",
      "text/plain": [
       "<Figure size 720x360 with 1 Axes>"
      ]
     },
     "metadata": {
      "needs_background": "light"
     },
     "output_type": "display_data"
    }
   ],
   "source": [
    "concat_return['IVE return'].plot(figsize=(10,5), legend= True, title= \"S&P Value\", color= \"purple\")"
   ]
  },
  {
   "cell_type": "code",
   "execution_count": 28,
   "metadata": {},
   "outputs": [
    {
     "data": {
      "text/html": [
       "<div>\n",
       "<style scoped>\n",
       "    .dataframe tbody tr th:only-of-type {\n",
       "        vertical-align: middle;\n",
       "    }\n",
       "\n",
       "    .dataframe tbody tr th {\n",
       "        vertical-align: top;\n",
       "    }\n",
       "\n",
       "    .dataframe thead th {\n",
       "        text-align: right;\n",
       "    }\n",
       "</style>\n",
       "<table border=\"1\" class=\"dataframe\">\n",
       "  <thead>\n",
       "    <tr style=\"text-align: right;\">\n",
       "      <th></th>\n",
       "      <th>XLE return</th>\n",
       "      <th>XLF return</th>\n",
       "      <th>IVE return</th>\n",
       "    </tr>\n",
       "    <tr>\n",
       "      <th>date</th>\n",
       "      <th></th>\n",
       "      <th></th>\n",
       "      <th></th>\n",
       "    </tr>\n",
       "  </thead>\n",
       "  <tbody>\n",
       "    <tr>\n",
       "      <th>2000-05-30</th>\n",
       "      <td>1.014245</td>\n",
       "      <td>1.020617</td>\n",
       "      <td>1.015344</td>\n",
       "    </tr>\n",
       "    <tr>\n",
       "      <th>2000-05-31</th>\n",
       "      <td>1.044675</td>\n",
       "      <td>1.032991</td>\n",
       "      <td>1.020065</td>\n",
       "    </tr>\n",
       "    <tr>\n",
       "      <th>2000-06-01</th>\n",
       "      <td>1.034964</td>\n",
       "      <td>1.067216</td>\n",
       "      <td>1.035575</td>\n",
       "    </tr>\n",
       "    <tr>\n",
       "      <th>2000-06-02</th>\n",
       "      <td>0.999680</td>\n",
       "      <td>1.110927</td>\n",
       "      <td>1.050075</td>\n",
       "    </tr>\n",
       "    <tr>\n",
       "      <th>2000-06-05</th>\n",
       "      <td>0.985435</td>\n",
       "      <td>1.085777</td>\n",
       "      <td>1.045355</td>\n",
       "    </tr>\n",
       "  </tbody>\n",
       "</table>\n",
       "</div>"
      ],
      "text/plain": [
       "            XLE return  XLF return  IVE return\n",
       "date                                          \n",
       "2000-05-30    1.014245    1.020617    1.015344\n",
       "2000-05-31    1.044675    1.032991    1.020065\n",
       "2000-06-01    1.034964    1.067216    1.035575\n",
       "2000-06-02    0.999680    1.110927    1.050075\n",
       "2000-06-05    0.985435    1.085777    1.045355"
      ]
     },
     "execution_count": 28,
     "metadata": {},
     "output_type": "execute_result"
    }
   ],
   "source": [
    "\n",
    "cumulative_returns_concat = (1 + concat_return).cumprod()\n",
    "cumulative_returns_concat.head()"
   ]
  },
  {
   "cell_type": "code",
   "execution_count": 29,
   "metadata": {},
   "outputs": [],
   "source": [
    "#umulative_returns_xle.rename(columns={'5. adjusted close':'XLE'})\n",
    "#cumulative_returns_xle\n"
   ]
  },
  {
   "cell_type": "code",
   "execution_count": 30,
   "metadata": {},
   "outputs": [],
   "source": [
    "cumulative_returns_concat.dropna(inplace=True)"
   ]
  },
  {
   "cell_type": "code",
   "execution_count": 31,
   "metadata": {},
   "outputs": [
    {
     "data": {
      "text/plain": [
       "XLE return    0\n",
       "XLF return    0\n",
       "IVE return    0\n",
       "dtype: int64"
      ]
     },
     "execution_count": 31,
     "metadata": {},
     "output_type": "execute_result"
    }
   ],
   "source": [
    "cumulative_returns_concat.isnull().sum()"
   ]
  },
  {
   "cell_type": "code",
   "execution_count": 32,
   "metadata": {},
   "outputs": [],
   "source": [
    "#df = pd.DataFrame([1, 2, np.inf, -np.inf])\n",
    "\n",
    "#In [12]: df.replace([np.inf, -np.inf], np.nan)"
   ]
  },
  {
   "cell_type": "code",
   "execution_count": 33,
   "metadata": {},
   "outputs": [
    {
     "data": {
      "text/plain": [
       "<matplotlib.axes._subplots.AxesSubplot at 0x11ab229d0>"
      ]
     },
     "execution_count": 33,
     "metadata": {},
     "output_type": "execute_result"
    },
    {
     "data": {
      "image/png": "[encoded data removed]",
      "text/plain": [
       "<Figure size 720x360 with 1 Axes>"
      ]
     },
     "metadata": {
      "needs_background": "light"
     },
     "output_type": "display_data"
    }
   ],
   "source": [
    "#cumulative_returns_xle.plot(figsize=(10,5), legend= True)\n",
    "#cumulative_returns_xlf.plot(figsize=(10,5), legend= True)\n",
    "#cumulative_returns_ive.plot(figsize= (10,5), legend= True)\n",
    "cumulative_returns_concat.plot(figsize= (10,5), legend= True)"
   ]
  },
  {
   "cell_type": "code",
   "execution_count": 34,
   "metadata": {},
   "outputs": [],
   "source": [
    "#need to rename "
   ]
  },
  {
   "cell_type": "code",
   "execution_count": 35,
   "metadata": {},
   "outputs": [
    {
     "name": "stdout",
     "output_type": "stream",
     "text": [
      " XLE standard deviation is 0.0180395341263017\n",
      " XLF standard deviation is 0.01890682920015961\n",
      " IVE standard deviation is 0.012853430549898218\n",
      "[0.012853430549898218, 0.0180395341263017, 0.01890682920015961]\n"
     ]
    }
   ],
   "source": [
    "xle_std = concat_return['XLE return'].std()\n",
    "print(f' XLE standard deviation is {xle_std}')\n",
    "\n",
    "\n",
    "xlf_std = concat_return['XLF return'].std()\n",
    "print(f' XLF standard deviation is {xlf_std}')\n",
    "\n",
    "ive_std = concat_return['IVE return'].std()\n",
    "print(f' IVE standard deviation is {ive_std}')\n",
    "\n",
    "\n",
    "# Identify the sector with highest standard deviation (riskiest)\n",
    "sectors = [xle_std, xlf_std, ive_std]\n",
    "sectors.sort()\n",
    "print(sectors)"
   ]
  },
  {
   "cell_type": "code",
   "execution_count": 183,
   "metadata": {},
   "outputs": [
    {
     "data": {
      "text/plain": [
       "0.20406224102840032"
      ]
     },
     "execution_count": 183,
     "metadata": {},
     "output_type": "execute_result"
    }
   ],
   "source": [
    "annualized_xle_std = xle_std * np.sqrt(252)\n",
    "annualized_xle_std\n",
    "\n",
    "annualized_xlf_std = xlf_std * np.sqrt(252)\n",
    "annualized_xlf_std\n",
    "\n",
    "annualized_ive_std = ive_std * np.sqrt(252)\n",
    "annualized_ive_std\n",
    "\n"
   ]
  },
  {
   "cell_type": "code",
   "execution_count": 189,
   "metadata": {},
   "outputs": [
    {
     "data": {
      "text/html": [
       "<div>\n",
       "<style scoped>\n",
       "    .dataframe tbody tr th:only-of-type {\n",
       "        vertical-align: middle;\n",
       "    }\n",
       "\n",
       "    .dataframe tbody tr th {\n",
       "        vertical-align: top;\n",
       "    }\n",
       "\n",
       "    .dataframe thead th {\n",
       "        text-align: right;\n",
       "    }\n",
       "</style>\n",
       "<table border=\"1\" class=\"dataframe\">\n",
       "  <thead>\n",
       "    <tr style=\"text-align: right;\">\n",
       "      <th></th>\n",
       "      <th>XLE std</th>\n",
       "      <th>XLF std</th>\n",
       "      <th>IVE std</th>\n",
       "    </tr>\n",
       "    <tr>\n",
       "      <th>date</th>\n",
       "      <th></th>\n",
       "      <th></th>\n",
       "      <th></th>\n",
       "    </tr>\n",
       "  </thead>\n",
       "  <tbody>\n",
       "    <tr>\n",
       "      <th>2000-05-30</th>\n",
       "      <td>0.014245</td>\n",
       "      <td>0.020617</td>\n",
       "      <td>0.015344</td>\n",
       "    </tr>\n",
       "    <tr>\n",
       "      <th>2000-05-31</th>\n",
       "      <td>0.030003</td>\n",
       "      <td>0.012124</td>\n",
       "      <td>0.004649</td>\n",
       "    </tr>\n",
       "    <tr>\n",
       "      <th>2000-06-01</th>\n",
       "      <td>-0.009296</td>\n",
       "      <td>0.033132</td>\n",
       "      <td>0.015205</td>\n",
       "    </tr>\n",
       "    <tr>\n",
       "      <th>2000-06-02</th>\n",
       "      <td>-0.034092</td>\n",
       "      <td>0.040958</td>\n",
       "      <td>0.014002</td>\n",
       "    </tr>\n",
       "    <tr>\n",
       "      <th>2000-06-05</th>\n",
       "      <td>-0.014249</td>\n",
       "      <td>-0.022640</td>\n",
       "      <td>-0.004495</td>\n",
       "    </tr>\n",
       "    <tr>\n",
       "      <th>...</th>\n",
       "      <td>...</td>\n",
       "      <td>...</td>\n",
       "      <td>...</td>\n",
       "    </tr>\n",
       "    <tr>\n",
       "      <th>2020-04-27</th>\n",
       "      <td>0.021664</td>\n",
       "      <td>0.034039</td>\n",
       "      <td>0.021156</td>\n",
       "    </tr>\n",
       "    <tr>\n",
       "      <th>2020-04-28</th>\n",
       "      <td>0.022901</td>\n",
       "      <td>0.010676</td>\n",
       "      <td>0.004238</td>\n",
       "    </tr>\n",
       "    <tr>\n",
       "      <th>2020-04-29</th>\n",
       "      <td>0.074074</td>\n",
       "      <td>0.029049</td>\n",
       "      <td>0.019317</td>\n",
       "    </tr>\n",
       "    <tr>\n",
       "      <th>2020-04-30</th>\n",
       "      <td>-0.022131</td>\n",
       "      <td>-0.025235</td>\n",
       "      <td>-0.020331</td>\n",
       "    </tr>\n",
       "    <tr>\n",
       "      <th>2020-05-01</th>\n",
       "      <td>-0.056579</td>\n",
       "      <td>-0.032032</td>\n",
       "      <td>-0.027702</td>\n",
       "    </tr>\n",
       "  </tbody>\n",
       "</table>\n",
       "<p>5010 rows × 3 columns</p>\n",
       "</div>"
      ],
      "text/plain": [
       "             XLE std   XLF std   IVE std\n",
       "date                                    \n",
       "2000-05-30  0.014245  0.020617  0.015344\n",
       "2000-05-31  0.030003  0.012124  0.004649\n",
       "2000-06-01 -0.009296  0.033132  0.015205\n",
       "2000-06-02 -0.034092  0.040958  0.014002\n",
       "2000-06-05 -0.014249 -0.022640 -0.004495\n",
       "...              ...       ...       ...\n",
       "2020-04-27  0.021664  0.034039  0.021156\n",
       "2020-04-28  0.022901  0.010676  0.004238\n",
       "2020-04-29  0.074074  0.029049  0.019317\n",
       "2020-04-30 -0.022131 -0.025235 -0.020331\n",
       "2020-05-01 -0.056579 -0.032032 -0.027702\n",
       "\n",
       "[5010 rows x 3 columns]"
      ]
     },
     "execution_count": 189,
     "metadata": {},
     "output_type": "execute_result"
    }
   ],
   "source": [
    "sectors_std = pd.DataFrame({\n",
    "    \"xle_std\": concat_return['XLE return'],\n",
    "    \"xlf_std\": concat_return['XLF return'],\n",
    "    \"ive_std\": concat_return['IVE return'],\n",
    " })\n"
   ]
  },
  {
   "cell_type": "code",
   "execution_count": 191,
   "metadata": {},
   "outputs": [],
   "source": [
    "sectors_std=sectors_std.rename(columns={\"xle_std\": \"XLE std\", \"xlf_std\": \"XLF std\", \"ive_std\": \"IVE std\"})\n"
   ]
  },
  {
   "cell_type": "code",
   "execution_count": 192,
   "metadata": {},
   "outputs": [
    {
     "data": {
      "text/plain": [
       "<matplotlib.axes._subplots.AxesSubplot at 0x1a31427cd0>"
      ]
     },
     "execution_count": 192,
     "metadata": {},
     "output_type": "execute_result"
    },
    {
     "data": {
      "image/png": "[encoded data removed]",
      "text/plain": [
       "<Figure size 432x288 with 1 Axes>"
      ]
     },
     "metadata": {
      "needs_background": "light"
     },
     "output_type": "display_data"
    }
   ],
   "source": [
    "sectors_std.plot.hist(stacked=True, bins=100)"
   ]
  },
  {
   "cell_type": "code",
   "execution_count": 193,
   "metadata": {},
   "outputs": [
    {
     "data": {
      "text/plain": [
       "<matplotlib.axes._subplots.AxesSubplot at 0x1a27f427d0>"
      ]
     },
     "execution_count": 193,
     "metadata": {},
     "output_type": "execute_result"
    },
    {
     "data": {
      "image/png": "[encoded data removed]",
      "text/plain": [
       "<Figure size 432x288 with 1 Axes>"
      ]
     },
     "metadata": {
      "needs_background": "light"
     },
     "output_type": "display_data"
    }
   ],
   "source": [
    "sectors_std.plot.box()"
   ]
  },
  {
   "cell_type": "code",
   "execution_count": 194,
   "metadata": {},
   "outputs": [
    {
     "name": "stdout",
     "output_type": "stream",
     "text": [
      " XLE: 0.24942187593133766, XLF: 0.23687961954218334, IVE:0.34923155084486696\n"
     ]
    }
   ],
   "source": [
    "XLE_sharpe_ratio = (concat_return['XLE return'].mean() * 252) / (concat_return['XLE return'].std() * np.sqrt(252))\n",
    "\n",
    "XLF_sharpe_ratio = (concat_return['XLF return'].mean() * 252) / (concat_return['XLF return'].std() * np.sqrt(252))\n",
    "\n",
    "IVE_sharpe_ratio = (concat_return['IVE return'].mean() * 252) / (concat_return['IVE return'].std() * np.sqrt(252))\n",
    "\n",
    "\n",
    "print(f\" XLE: {XLE_sharpe_ratio}, XLF: {XLF_sharpe_ratio}, IVE:{IVE_sharpe_ratio}\")\n"
   ]
  },
  {
   "cell_type": "code",
   "execution_count": 169,
   "metadata": {},
   "outputs": [
    {
     "data": {
      "image/png": "[encoded data removed]",
      "text/plain": [
       "<Figure size 432x288 with 1 Axes>"
      ]
     },
     "metadata": {
      "needs_background": "light"
     },
     "output_type": "display_data"
    }
   ],
   "source": [
    "objects = ('XLE', 'XLF', 'IVE')\n",
    "y_pos = np.arange(len(objects))\n",
    "sharpe = [XLE_sharpe_ratio,XLF_sharpe_ratio,IVE_sharpe_ratio]\n",
    "\n",
    "plt.bar(y_pos, sharpe, align='center')\n",
    "plt.xticks(y_pos, objects)\n",
    "plt.ylabel('Sharpe')\n",
    "plt.title('Sharpe Ratios')\n",
    "\n",
    "plt.show()"
   ]
  },
  {
   "cell_type": "code",
   "execution_count": null,
   "metadata": {},
   "outputs": [],
   "source": []
  },
  {
   "cell_type": "code",
   "execution_count": 170,
   "metadata": {},
   "outputs": [
    {
     "data": {
      "text/html": [
       "<div>\n",
       "<style scoped>\n",
       "    .dataframe tbody tr th:only-of-type {\n",
       "        vertical-align: middle;\n",
       "    }\n",
       "\n",
       "    .dataframe tbody tr th {\n",
       "        vertical-align: top;\n",
       "    }\n",
       "\n",
       "    .dataframe thead th {\n",
       "        text-align: right;\n",
       "    }\n",
       "</style>\n",
       "<table border=\"1\" class=\"dataframe\">\n",
       "  <thead>\n",
       "    <tr style=\"text-align: right;\">\n",
       "      <th></th>\n",
       "      <th>XLE_return</th>\n",
       "      <th>XLF_return</th>\n",
       "      <th>IVE_return</th>\n",
       "    </tr>\n",
       "  </thead>\n",
       "  <tbody>\n",
       "    <tr>\n",
       "      <th>XLE_return</th>\n",
       "      <td>1.000000</td>\n",
       "      <td>0.599633</td>\n",
       "      <td>0.731827</td>\n",
       "    </tr>\n",
       "    <tr>\n",
       "      <th>XLF_return</th>\n",
       "      <td>0.599633</td>\n",
       "      <td>1.000000</td>\n",
       "      <td>0.901697</td>\n",
       "    </tr>\n",
       "    <tr>\n",
       "      <th>IVE_return</th>\n",
       "      <td>0.731827</td>\n",
       "      <td>0.901697</td>\n",
       "      <td>1.000000</td>\n",
       "    </tr>\n",
       "  </tbody>\n",
       "</table>\n",
       "</div>"
      ],
      "text/plain": [
       "            XLE_return  XLF_return  IVE_return\n",
       "XLE_return    1.000000    0.599633    0.731827\n",
       "XLF_return    0.599633    1.000000    0.901697\n",
       "IVE_return    0.731827    0.901697    1.000000"
      ]
     },
     "execution_count": 170,
     "metadata": {},
     "output_type": "execute_result"
    }
   ],
   "source": [
    "correlation=returns.corr()\n",
    "correlation"
   ]
  },
  {
   "cell_type": "code",
   "execution_count": 171,
   "metadata": {},
   "outputs": [],
   "source": [
    "import seaborn as sns\n"
   ]
  },
  {
   "cell_type": "code",
   "execution_count": 172,
   "metadata": {},
   "outputs": [
    {
     "data": {
      "text/plain": [
       "<matplotlib.axes._subplots.AxesSubplot at 0x1a28c05cd0>"
      ]
     },
     "execution_count": 172,
     "metadata": {},
     "output_type": "execute_result"
    },
    {
     "data": {
      "image/png": "[encoded data removed]",
      "text/plain": [
       "<Figure size 432x288 with 2 Axes>"
      ]
     },
     "metadata": {
      "needs_background": "light"
     },
     "output_type": "display_data"
    }
   ],
   "source": [
    "sns.heatmap(correlation)"
   ]
  },
  {
   "cell_type": "code",
   "execution_count": 195,
   "metadata": {},
   "outputs": [
    {
     "name": "stdout",
     "output_type": "stream",
     "text": [
      "The average daily return of XLE is 0.0002834672724534378\n",
      "The average daily return of XLF is 0.0002821561136307462\n",
      "The average daily return of IVE is 0.0002827975115207432\n"
     ]
    }
   ],
   "source": [
    "avg_daily_return_xle = concat_return.mean()['XLE return']\n",
    "print(f\"The average daily return of XLE is {avg_daily_return_xle}\")\n",
    "\n",
    "\n",
    "avg_daily_return_xlf = concat_return.mean()['XLF return']\n",
    "print(f\"The average daily return of XLF is {avg_daily_return_xlf}\")\n",
    "\n",
    "avg_daily_return_ive = concat_return.mean()['IVE return']\n",
    "print(f\"The average daily return of IVE is {avg_daily_return_ive}\")"
   ]
  },
  {
   "cell_type": "code",
   "execution_count": 205,
   "metadata": {},
   "outputs": [
    {
     "ename": "KeyError",
     "evalue": "'5. adjusted close'",
     "output_type": "error",
     "traceback": [
      "\u001b[0;31m---------------------------------------------------------------------------\u001b[0m",
      "\u001b[0;31mTypeError\u001b[0m                                 Traceback (most recent call last)",
      "\u001b[0;32m~/opt/anaconda3/envs/vizenv/lib/python3.7/site-packages/pandas/core/indexes/base.py\u001b[0m in \u001b[0;36mget_value\u001b[0;34m(self, series, key)\u001b[0m\n\u001b[1;32m   4735\u001b[0m             \u001b[0;32mtry\u001b[0m\u001b[0;34m:\u001b[0m\u001b[0;34m\u001b[0m\u001b[0;34m\u001b[0m\u001b[0m\n\u001b[0;32m-> 4736\u001b[0;31m                 \u001b[0;32mreturn\u001b[0m \u001b[0mlibindex\u001b[0m\u001b[0;34m.\u001b[0m\u001b[0mget_value_box\u001b[0m\u001b[0;34m(\u001b[0m\u001b[0ms\u001b[0m\u001b[0;34m,\u001b[0m \u001b[0mkey\u001b[0m\u001b[0;34m)\u001b[0m\u001b[0;34m\u001b[0m\u001b[0;34m\u001b[0m\u001b[0m\n\u001b[0m\u001b[1;32m   4737\u001b[0m             \u001b[0;32mexcept\u001b[0m \u001b[0mIndexError\u001b[0m\u001b[0;34m:\u001b[0m\u001b[0;34m\u001b[0m\u001b[0;34m\u001b[0m\u001b[0m\n",
      "\u001b[0;32mpandas/_libs/index.pyx\u001b[0m in \u001b[0;36mpandas._libs.index.get_value_box\u001b[0;34m()\u001b[0m\n",
      "\u001b[0;32mpandas/_libs/index.pyx\u001b[0m in \u001b[0;36mpandas._libs.index.get_value_at\u001b[0;34m()\u001b[0m\n",
      "\u001b[0;32mpandas/_libs/util.pxd\u001b[0m in \u001b[0;36mpandas._libs.util.get_value_at\u001b[0;34m()\u001b[0m\n",
      "\u001b[0;32mpandas/_libs/util.pxd\u001b[0m in \u001b[0;36mpandas._libs.util.validate_indexer\u001b[0;34m()\u001b[0m\n",
      "\u001b[0;31mTypeError\u001b[0m: 'str' object cannot be interpreted as an integer",
      "\nDuring handling of the above exception, another exception occurred:\n",
      "\u001b[0;31mKeyError\u001b[0m                                  Traceback (most recent call last)",
      "\u001b[0;32m~/opt/anaconda3/envs/vizenv/lib/python3.7/site-packages/pandas/core/indexes/datetimes.py\u001b[0m in \u001b[0;36mget_value\u001b[0;34m(self, series, key)\u001b[0m\n\u001b[1;32m    992\u001b[0m         \u001b[0;32mtry\u001b[0m\u001b[0;34m:\u001b[0m\u001b[0;34m\u001b[0m\u001b[0;34m\u001b[0m\u001b[0m\n\u001b[0;32m--> 993\u001b[0;31m             \u001b[0;32mreturn\u001b[0m \u001b[0mcom\u001b[0m\u001b[0;34m.\u001b[0m\u001b[0mmaybe_box\u001b[0m\u001b[0;34m(\u001b[0m\u001b[0mself\u001b[0m\u001b[0;34m,\u001b[0m \u001b[0mIndex\u001b[0m\u001b[0;34m.\u001b[0m\u001b[0mget_value\u001b[0m\u001b[0;34m(\u001b[0m\u001b[0mself\u001b[0m\u001b[0;34m,\u001b[0m \u001b[0mseries\u001b[0m\u001b[0;34m,\u001b[0m \u001b[0mkey\u001b[0m\u001b[0;34m)\u001b[0m\u001b[0;34m,\u001b[0m \u001b[0mseries\u001b[0m\u001b[0;34m,\u001b[0m \u001b[0mkey\u001b[0m\u001b[0;34m)\u001b[0m\u001b[0;34m\u001b[0m\u001b[0;34m\u001b[0m\u001b[0m\n\u001b[0m\u001b[1;32m    994\u001b[0m         \u001b[0;32mexcept\u001b[0m \u001b[0mKeyError\u001b[0m\u001b[0;34m:\u001b[0m\u001b[0;34m\u001b[0m\u001b[0;34m\u001b[0m\u001b[0m\n",
      "\u001b[0;32m~/opt/anaconda3/envs/vizenv/lib/python3.7/site-packages/pandas/core/indexes/base.py\u001b[0m in \u001b[0;36mget_value\u001b[0;34m(self, series, key)\u001b[0m\n\u001b[1;32m   4743\u001b[0m                 \u001b[0;32melse\u001b[0m\u001b[0;34m:\u001b[0m\u001b[0;34m\u001b[0m\u001b[0;34m\u001b[0m\u001b[0m\n\u001b[0;32m-> 4744\u001b[0;31m                     \u001b[0;32mraise\u001b[0m \u001b[0me1\u001b[0m\u001b[0;34m\u001b[0m\u001b[0;34m\u001b[0m\u001b[0m\n\u001b[0m\u001b[1;32m   4745\u001b[0m             \u001b[0;32mexcept\u001b[0m \u001b[0mException\u001b[0m\u001b[0;34m:\u001b[0m  \u001b[0;31m# pragma: no cover\u001b[0m\u001b[0;34m\u001b[0m\u001b[0;34m\u001b[0m\u001b[0m\n",
      "\u001b[0;32m~/opt/anaconda3/envs/vizenv/lib/python3.7/site-packages/pandas/core/indexes/base.py\u001b[0m in \u001b[0;36mget_value\u001b[0;34m(self, series, key)\u001b[0m\n\u001b[1;32m   4729\u001b[0m         \u001b[0;32mtry\u001b[0m\u001b[0;34m:\u001b[0m\u001b[0;34m\u001b[0m\u001b[0;34m\u001b[0m\u001b[0m\n\u001b[0;32m-> 4730\u001b[0;31m             \u001b[0;32mreturn\u001b[0m \u001b[0mself\u001b[0m\u001b[0;34m.\u001b[0m\u001b[0m_engine\u001b[0m\u001b[0;34m.\u001b[0m\u001b[0mget_value\u001b[0m\u001b[0;34m(\u001b[0m\u001b[0ms\u001b[0m\u001b[0;34m,\u001b[0m \u001b[0mk\u001b[0m\u001b[0;34m,\u001b[0m \u001b[0mtz\u001b[0m\u001b[0;34m=\u001b[0m\u001b[0mgetattr\u001b[0m\u001b[0;34m(\u001b[0m\u001b[0mseries\u001b[0m\u001b[0;34m.\u001b[0m\u001b[0mdtype\u001b[0m\u001b[0;34m,\u001b[0m \u001b[0;34m\"tz\"\u001b[0m\u001b[0;34m,\u001b[0m \u001b[0;32mNone\u001b[0m\u001b[0;34m)\u001b[0m\u001b[0;34m)\u001b[0m\u001b[0;34m\u001b[0m\u001b[0;34m\u001b[0m\u001b[0m\n\u001b[0m\u001b[1;32m   4731\u001b[0m         \u001b[0;32mexcept\u001b[0m \u001b[0mKeyError\u001b[0m \u001b[0;32mas\u001b[0m \u001b[0me1\u001b[0m\u001b[0;34m:\u001b[0m\u001b[0;34m\u001b[0m\u001b[0;34m\u001b[0m\u001b[0m\n",
      "\u001b[0;32mpandas/_libs/index.pyx\u001b[0m in \u001b[0;36mpandas._libs.index.IndexEngine.get_value\u001b[0;34m()\u001b[0m\n",
      "\u001b[0;32mpandas/_libs/index.pyx\u001b[0m in \u001b[0;36mpandas._libs.index.IndexEngine.get_value\u001b[0;34m()\u001b[0m\n",
      "\u001b[0;32mpandas/_libs/index.pyx\u001b[0m in \u001b[0;36mpandas._libs.index.DatetimeEngine.get_loc\u001b[0;34m()\u001b[0m\n",
      "\u001b[0;32mpandas/_libs/index.pyx\u001b[0m in \u001b[0;36mpandas._libs.index.DatetimeEngine._date_check_type\u001b[0;34m()\u001b[0m\n",
      "\u001b[0;31mKeyError\u001b[0m: '5. adjusted close'",
      "\nDuring handling of the above exception, another exception occurred:\n",
      "\u001b[0;31mValueError\u001b[0m                                Traceback (most recent call last)",
      "\u001b[0;32mpandas/_libs/tslibs/conversion.pyx\u001b[0m in \u001b[0;36mpandas._libs.tslibs.conversion.convert_str_to_tsobject\u001b[0;34m()\u001b[0m\n",
      "\u001b[0;32mpandas/_libs/tslibs/parsing.pyx\u001b[0m in \u001b[0;36mpandas._libs.tslibs.parsing.parse_datetime_string\u001b[0;34m()\u001b[0m\n",
      "\u001b[0;32m~/opt/anaconda3/envs/vizenv/lib/python3.7/site-packages/dateutil/parser/_parser.py\u001b[0m in \u001b[0;36mparse\u001b[0;34m(timestr, parserinfo, **kwargs)\u001b[0m\n\u001b[1;32m   1357\u001b[0m     \u001b[0;32melse\u001b[0m\u001b[0;34m:\u001b[0m\u001b[0;34m\u001b[0m\u001b[0;34m\u001b[0m\u001b[0m\n\u001b[0;32m-> 1358\u001b[0;31m         \u001b[0;32mreturn\u001b[0m \u001b[0mDEFAULTPARSER\u001b[0m\u001b[0;34m.\u001b[0m\u001b[0mparse\u001b[0m\u001b[0;34m(\u001b[0m\u001b[0mtimestr\u001b[0m\u001b[0;34m,\u001b[0m \u001b[0;34m**\u001b[0m\u001b[0mkwargs\u001b[0m\u001b[0;34m)\u001b[0m\u001b[0;34m\u001b[0m\u001b[0;34m\u001b[0m\u001b[0m\n\u001b[0m\u001b[1;32m   1359\u001b[0m \u001b[0;34m\u001b[0m\u001b[0m\n",
      "\u001b[0;32m~/opt/anaconda3/envs/vizenv/lib/python3.7/site-packages/dateutil/parser/_parser.py\u001b[0m in \u001b[0;36mparse\u001b[0;34m(self, timestr, default, ignoretz, tzinfos, **kwargs)\u001b[0m\n\u001b[1;32m    648\u001b[0m         \u001b[0;32mif\u001b[0m \u001b[0mres\u001b[0m \u001b[0;32mis\u001b[0m \u001b[0;32mNone\u001b[0m\u001b[0;34m:\u001b[0m\u001b[0;34m\u001b[0m\u001b[0;34m\u001b[0m\u001b[0m\n\u001b[0;32m--> 649\u001b[0;31m             \u001b[0;32mraise\u001b[0m \u001b[0mValueError\u001b[0m\u001b[0;34m(\u001b[0m\u001b[0;34m\"Unknown string format:\"\u001b[0m\u001b[0;34m,\u001b[0m \u001b[0mtimestr\u001b[0m\u001b[0;34m)\u001b[0m\u001b[0;34m\u001b[0m\u001b[0;34m\u001b[0m\u001b[0m\n\u001b[0m\u001b[1;32m    650\u001b[0m \u001b[0;34m\u001b[0m\u001b[0m\n",
      "\u001b[0;31mValueError\u001b[0m: ('Unknown string format:', '5. adjusted close')",
      "\nDuring handling of the above exception, another exception occurred:\n",
      "\u001b[0;31mValueError\u001b[0m                                Traceback (most recent call last)",
      "\u001b[0;32m~/opt/anaconda3/envs/vizenv/lib/python3.7/site-packages/pandas/core/indexes/datetimes.py\u001b[0m in \u001b[0;36mget_value\u001b[0;34m(self, series, key)\u001b[0m\n\u001b[1;32m   1001\u001b[0m             \u001b[0;32mtry\u001b[0m\u001b[0;34m:\u001b[0m\u001b[0;34m\u001b[0m\u001b[0;34m\u001b[0m\u001b[0m\n\u001b[0;32m-> 1002\u001b[0;31m                 \u001b[0;32mreturn\u001b[0m \u001b[0mself\u001b[0m\u001b[0;34m.\u001b[0m\u001b[0mget_value_maybe_box\u001b[0m\u001b[0;34m(\u001b[0m\u001b[0mseries\u001b[0m\u001b[0;34m,\u001b[0m \u001b[0mkey\u001b[0m\u001b[0;34m)\u001b[0m\u001b[0;34m\u001b[0m\u001b[0;34m\u001b[0m\u001b[0m\n\u001b[0m\u001b[1;32m   1003\u001b[0m             \u001b[0;32mexcept\u001b[0m \u001b[0;34m(\u001b[0m\u001b[0mTypeError\u001b[0m\u001b[0;34m,\u001b[0m \u001b[0mValueError\u001b[0m\u001b[0;34m,\u001b[0m \u001b[0mKeyError\u001b[0m\u001b[0;34m)\u001b[0m\u001b[0;34m:\u001b[0m\u001b[0;34m\u001b[0m\u001b[0;34m\u001b[0m\u001b[0m\n",
      "\u001b[0;32m~/opt/anaconda3/envs/vizenv/lib/python3.7/site-packages/pandas/core/indexes/datetimes.py\u001b[0m in \u001b[0;36mget_value_maybe_box\u001b[0;34m(self, series, key)\u001b[0m\n\u001b[1;32m   1014\u001b[0m         \u001b[0;32melif\u001b[0m \u001b[0;32mnot\u001b[0m \u001b[0misinstance\u001b[0m\u001b[0;34m(\u001b[0m\u001b[0mkey\u001b[0m\u001b[0;34m,\u001b[0m \u001b[0mTimestamp\u001b[0m\u001b[0;34m)\u001b[0m\u001b[0;34m:\u001b[0m\u001b[0;34m\u001b[0m\u001b[0;34m\u001b[0m\u001b[0m\n\u001b[0;32m-> 1015\u001b[0;31m             \u001b[0mkey\u001b[0m \u001b[0;34m=\u001b[0m \u001b[0mTimestamp\u001b[0m\u001b[0;34m(\u001b[0m\u001b[0mkey\u001b[0m\u001b[0;34m)\u001b[0m\u001b[0;34m\u001b[0m\u001b[0;34m\u001b[0m\u001b[0m\n\u001b[0m\u001b[1;32m   1016\u001b[0m         \u001b[0mvalues\u001b[0m \u001b[0;34m=\u001b[0m \u001b[0mself\u001b[0m\u001b[0;34m.\u001b[0m\u001b[0m_engine\u001b[0m\u001b[0;34m.\u001b[0m\u001b[0mget_value\u001b[0m\u001b[0;34m(\u001b[0m\u001b[0mcom\u001b[0m\u001b[0;34m.\u001b[0m\u001b[0mvalues_from_object\u001b[0m\u001b[0;34m(\u001b[0m\u001b[0mseries\u001b[0m\u001b[0;34m)\u001b[0m\u001b[0;34m,\u001b[0m \u001b[0mkey\u001b[0m\u001b[0;34m,\u001b[0m \u001b[0mtz\u001b[0m\u001b[0;34m=\u001b[0m\u001b[0mself\u001b[0m\u001b[0;34m.\u001b[0m\u001b[0mtz\u001b[0m\u001b[0;34m)\u001b[0m\u001b[0;34m\u001b[0m\u001b[0;34m\u001b[0m\u001b[0m\n",
      "\u001b[0;32mpandas/_libs/tslibs/timestamps.pyx\u001b[0m in \u001b[0;36mpandas._libs.tslibs.timestamps.Timestamp.__new__\u001b[0;34m()\u001b[0m\n",
      "\u001b[0;32mpandas/_libs/tslibs/conversion.pyx\u001b[0m in \u001b[0;36mpandas._libs.tslibs.conversion.convert_to_tsobject\u001b[0;34m()\u001b[0m\n",
      "\u001b[0;32mpandas/_libs/tslibs/conversion.pyx\u001b[0m in \u001b[0;36mpandas._libs.tslibs.conversion.convert_str_to_tsobject\u001b[0;34m()\u001b[0m\n",
      "\u001b[0;31mValueError\u001b[0m: could not convert string to Timestamp",
      "\nDuring handling of the above exception, another exception occurred:\n",
      "\u001b[0;31mKeyError\u001b[0m                                  Traceback (most recent call last)",
      "\u001b[0;32m<ipython-input-205-516e33bfa1a3>\u001b[0m in \u001b[0;36m<module>\u001b[0;34m\u001b[0m\n\u001b[1;32m      3\u001b[0m \u001b[0;34m\u001b[0m\u001b[0m\n\u001b[1;32m      4\u001b[0m \u001b[0mnum_trading_days\u001b[0m \u001b[0;34m=\u001b[0m \u001b[0;36m30\u001b[0m\u001b[0;34m\u001b[0m\u001b[0;34m\u001b[0m\u001b[0m\n\u001b[0;32m----> 5\u001b[0;31m \u001b[0mXLE_last_price\u001b[0m \u001b[0;34m=\u001b[0m \u001b[0mxle_df\u001b[0m\u001b[0;34m[\u001b[0m\u001b[0;34m'5. adjusted close'\u001b[0m\u001b[0;34m]\u001b[0m\u001b[0;34m[\u001b[0m\u001b[0;34m-\u001b[0m\u001b[0;36m1\u001b[0m\u001b[0;34m]\u001b[0m\u001b[0;34m\u001b[0m\u001b[0;34m\u001b[0m\u001b[0m\n\u001b[0m\u001b[1;32m      6\u001b[0m \u001b[0;34m\u001b[0m\u001b[0m\n\u001b[1;32m      7\u001b[0m \u001b[0msimulated_prices_XLE_df\u001b[0m \u001b[0;34m=\u001b[0m \u001b[0mpd\u001b[0m\u001b[0;34m.\u001b[0m\u001b[0mDataFrame\u001b[0m\u001b[0;34m(\u001b[0m\u001b[0;34m)\u001b[0m\u001b[0;34m\u001b[0m\u001b[0;34m\u001b[0m\u001b[0m\n",
      "\u001b[0;32m~/opt/anaconda3/envs/vizenv/lib/python3.7/site-packages/pandas/core/series.py\u001b[0m in \u001b[0;36m__getitem__\u001b[0;34m(self, key)\u001b[0m\n\u001b[1;32m   1069\u001b[0m         \u001b[0mkey\u001b[0m \u001b[0;34m=\u001b[0m \u001b[0mcom\u001b[0m\u001b[0;34m.\u001b[0m\u001b[0mapply_if_callable\u001b[0m\u001b[0;34m(\u001b[0m\u001b[0mkey\u001b[0m\u001b[0;34m,\u001b[0m \u001b[0mself\u001b[0m\u001b[0;34m)\u001b[0m\u001b[0;34m\u001b[0m\u001b[0;34m\u001b[0m\u001b[0m\n\u001b[1;32m   1070\u001b[0m         \u001b[0;32mtry\u001b[0m\u001b[0;34m:\u001b[0m\u001b[0;34m\u001b[0m\u001b[0;34m\u001b[0m\u001b[0m\n\u001b[0;32m-> 1071\u001b[0;31m             \u001b[0mresult\u001b[0m \u001b[0;34m=\u001b[0m \u001b[0mself\u001b[0m\u001b[0;34m.\u001b[0m\u001b[0mindex\u001b[0m\u001b[0;34m.\u001b[0m\u001b[0mget_value\u001b[0m\u001b[0;34m(\u001b[0m\u001b[0mself\u001b[0m\u001b[0;34m,\u001b[0m \u001b[0mkey\u001b[0m\u001b[0;34m)\u001b[0m\u001b[0;34m\u001b[0m\u001b[0;34m\u001b[0m\u001b[0m\n\u001b[0m\u001b[1;32m   1072\u001b[0m \u001b[0;34m\u001b[0m\u001b[0m\n\u001b[1;32m   1073\u001b[0m             \u001b[0;32mif\u001b[0m \u001b[0;32mnot\u001b[0m \u001b[0mis_scalar\u001b[0m\u001b[0;34m(\u001b[0m\u001b[0mresult\u001b[0m\u001b[0;34m)\u001b[0m\u001b[0;34m:\u001b[0m\u001b[0;34m\u001b[0m\u001b[0;34m\u001b[0m\u001b[0m\n",
      "\u001b[0;32m~/opt/anaconda3/envs/vizenv/lib/python3.7/site-packages/pandas/core/indexes/datetimes.py\u001b[0m in \u001b[0;36mget_value\u001b[0;34m(self, series, key)\u001b[0m\n\u001b[1;32m   1002\u001b[0m                 \u001b[0;32mreturn\u001b[0m \u001b[0mself\u001b[0m\u001b[0;34m.\u001b[0m\u001b[0mget_value_maybe_box\u001b[0m\u001b[0;34m(\u001b[0m\u001b[0mseries\u001b[0m\u001b[0;34m,\u001b[0m \u001b[0mkey\u001b[0m\u001b[0;34m)\u001b[0m\u001b[0;34m\u001b[0m\u001b[0;34m\u001b[0m\u001b[0m\n\u001b[1;32m   1003\u001b[0m             \u001b[0;32mexcept\u001b[0m \u001b[0;34m(\u001b[0m\u001b[0mTypeError\u001b[0m\u001b[0;34m,\u001b[0m \u001b[0mValueError\u001b[0m\u001b[0;34m,\u001b[0m \u001b[0mKeyError\u001b[0m\u001b[0;34m)\u001b[0m\u001b[0;34m:\u001b[0m\u001b[0;34m\u001b[0m\u001b[0;34m\u001b[0m\u001b[0m\n\u001b[0;32m-> 1004\u001b[0;31m                 \u001b[0;32mraise\u001b[0m \u001b[0mKeyError\u001b[0m\u001b[0;34m(\u001b[0m\u001b[0mkey\u001b[0m\u001b[0;34m)\u001b[0m\u001b[0;34m\u001b[0m\u001b[0;34m\u001b[0m\u001b[0m\n\u001b[0m\u001b[1;32m   1005\u001b[0m \u001b[0;34m\u001b[0m\u001b[0m\n\u001b[1;32m   1006\u001b[0m     \u001b[0;32mdef\u001b[0m \u001b[0mget_value_maybe_box\u001b[0m\u001b[0;34m(\u001b[0m\u001b[0mself\u001b[0m\u001b[0;34m,\u001b[0m \u001b[0mseries\u001b[0m\u001b[0;34m,\u001b[0m \u001b[0mkey\u001b[0m\u001b[0;34m)\u001b[0m\u001b[0;34m:\u001b[0m\u001b[0;34m\u001b[0m\u001b[0;34m\u001b[0m\u001b[0m\n",
      "\u001b[0;31mKeyError\u001b[0m: '5. adjusted close'"
     ]
    }
   ],
   "source": [
    "num_simulations = 3000\n",
    "\n",
    "\n",
    "num_trading_days = 30\n",
    "XLE_last_price = xle_df['5. adjusted close'][-1]\n",
    "\n",
    "simulated_prices_XLE_df = pd.DataFrame()"
   ]
  },
  {
   "cell_type": "code",
   "execution_count": 35,
   "metadata": {},
   "outputs": [
    {
     "data": {
      "text/html": [
       "<div>\n",
       "<style scoped>\n",
       "    .dataframe tbody tr th:only-of-type {\n",
       "        vertical-align: middle;\n",
       "    }\n",
       "\n",
       "    .dataframe tbody tr th {\n",
       "        vertical-align: top;\n",
       "    }\n",
       "\n",
       "    .dataframe thead th {\n",
       "        text-align: right;\n",
       "    }\n",
       "</style>\n",
       "<table border=\"1\" class=\"dataframe\">\n",
       "  <thead>\n",
       "    <tr style=\"text-align: right;\">\n",
       "      <th></th>\n",
       "      <th>Simulation 1</th>\n",
       "      <th>Simulation 2</th>\n",
       "      <th>Simulation 3</th>\n",
       "      <th>Simulation 4</th>\n",
       "      <th>Simulation 5</th>\n",
       "      <th>Simulation 6</th>\n",
       "      <th>Simulation 7</th>\n",
       "      <th>Simulation 8</th>\n",
       "      <th>Simulation 9</th>\n",
       "      <th>Simulation 10</th>\n",
       "      <th>...</th>\n",
       "      <th>Simulation 2991</th>\n",
       "      <th>Simulation 2992</th>\n",
       "      <th>Simulation 2993</th>\n",
       "      <th>Simulation 2994</th>\n",
       "      <th>Simulation 2995</th>\n",
       "      <th>Simulation 2996</th>\n",
       "      <th>Simulation 2997</th>\n",
       "      <th>Simulation 2998</th>\n",
       "      <th>Simulation 2999</th>\n",
       "      <th>Simulation 3000</th>\n",
       "    </tr>\n",
       "  </thead>\n",
       "  <tbody>\n",
       "    <tr>\n",
       "      <th>0</th>\n",
       "      <td>19.677500</td>\n",
       "      <td>19.677500</td>\n",
       "      <td>19.677500</td>\n",
       "      <td>19.677500</td>\n",
       "      <td>19.677500</td>\n",
       "      <td>19.677500</td>\n",
       "      <td>19.677500</td>\n",
       "      <td>19.677500</td>\n",
       "      <td>19.677500</td>\n",
       "      <td>19.677500</td>\n",
       "      <td>...</td>\n",
       "      <td>19.677500</td>\n",
       "      <td>19.677500</td>\n",
       "      <td>19.677500</td>\n",
       "      <td>19.677500</td>\n",
       "      <td>19.677500</td>\n",
       "      <td>19.677500</td>\n",
       "      <td>19.677500</td>\n",
       "      <td>19.677500</td>\n",
       "      <td>19.677500</td>\n",
       "      <td>19.677500</td>\n",
       "    </tr>\n",
       "    <tr>\n",
       "      <th>1</th>\n",
       "      <td>20.146694</td>\n",
       "      <td>20.006333</td>\n",
       "      <td>19.648634</td>\n",
       "      <td>19.523646</td>\n",
       "      <td>19.682584</td>\n",
       "      <td>20.218409</td>\n",
       "      <td>19.263436</td>\n",
       "      <td>19.235063</td>\n",
       "      <td>19.883968</td>\n",
       "      <td>19.903956</td>\n",
       "      <td>...</td>\n",
       "      <td>19.944744</td>\n",
       "      <td>19.076657</td>\n",
       "      <td>19.612564</td>\n",
       "      <td>19.612095</td>\n",
       "      <td>19.551779</td>\n",
       "      <td>19.844303</td>\n",
       "      <td>19.721529</td>\n",
       "      <td>19.370234</td>\n",
       "      <td>19.821193</td>\n",
       "      <td>19.274151</td>\n",
       "    </tr>\n",
       "    <tr>\n",
       "      <th>2</th>\n",
       "      <td>20.627341</td>\n",
       "      <td>20.101614</td>\n",
       "      <td>19.654379</td>\n",
       "      <td>19.302367</td>\n",
       "      <td>19.547250</td>\n",
       "      <td>20.578946</td>\n",
       "      <td>19.184141</td>\n",
       "      <td>19.331676</td>\n",
       "      <td>20.001431</td>\n",
       "      <td>20.189699</td>\n",
       "      <td>...</td>\n",
       "      <td>19.992419</td>\n",
       "      <td>19.752669</td>\n",
       "      <td>19.611811</td>\n",
       "      <td>18.981710</td>\n",
       "      <td>19.626479</td>\n",
       "      <td>20.398800</td>\n",
       "      <td>19.637435</td>\n",
       "      <td>19.260734</td>\n",
       "      <td>19.931731</td>\n",
       "      <td>19.370114</td>\n",
       "    </tr>\n",
       "    <tr>\n",
       "      <th>3</th>\n",
       "      <td>20.428281</td>\n",
       "      <td>20.025582</td>\n",
       "      <td>19.383599</td>\n",
       "      <td>19.188816</td>\n",
       "      <td>19.688993</td>\n",
       "      <td>20.235664</td>\n",
       "      <td>19.137036</td>\n",
       "      <td>19.450996</td>\n",
       "      <td>19.575591</td>\n",
       "      <td>20.737339</td>\n",
       "      <td>...</td>\n",
       "      <td>19.870403</td>\n",
       "      <td>20.270805</td>\n",
       "      <td>19.110836</td>\n",
       "      <td>19.587696</td>\n",
       "      <td>19.287480</td>\n",
       "      <td>20.390620</td>\n",
       "      <td>18.785474</td>\n",
       "      <td>19.051692</td>\n",
       "      <td>20.484940</td>\n",
       "      <td>18.961283</td>\n",
       "    </tr>\n",
       "    <tr>\n",
       "      <th>4</th>\n",
       "      <td>20.601152</td>\n",
       "      <td>19.890667</td>\n",
       "      <td>19.350889</td>\n",
       "      <td>19.018440</td>\n",
       "      <td>18.864422</td>\n",
       "      <td>20.125878</td>\n",
       "      <td>19.273735</td>\n",
       "      <td>19.967556</td>\n",
       "      <td>19.438561</td>\n",
       "      <td>20.187838</td>\n",
       "      <td>...</td>\n",
       "      <td>19.952413</td>\n",
       "      <td>19.869895</td>\n",
       "      <td>19.300847</td>\n",
       "      <td>19.488421</td>\n",
       "      <td>18.829508</td>\n",
       "      <td>19.678754</td>\n",
       "      <td>18.848648</td>\n",
       "      <td>19.729207</td>\n",
       "      <td>20.145094</td>\n",
       "      <td>18.437828</td>\n",
       "    </tr>\n",
       "  </tbody>\n",
       "</table>\n",
       "<p>5 rows × 3000 columns</p>\n",
       "</div>"
      ],
      "text/plain": [
       "   Simulation 1  Simulation 2  Simulation 3  Simulation 4  Simulation 5  \\\n",
       "0     19.677500     19.677500     19.677500     19.677500     19.677500   \n",
       "1     20.146694     20.006333     19.648634     19.523646     19.682584   \n",
       "2     20.627341     20.101614     19.654379     19.302367     19.547250   \n",
       "3     20.428281     20.025582     19.383599     19.188816     19.688993   \n",
       "4     20.601152     19.890667     19.350889     19.018440     18.864422   \n",
       "\n",
       "   Simulation 6  Simulation 7  Simulation 8  Simulation 9  Simulation 10  ...  \\\n",
       "0     19.677500     19.677500     19.677500     19.677500      19.677500  ...   \n",
       "1     20.218409     19.263436     19.235063     19.883968      19.903956  ...   \n",
       "2     20.578946     19.184141     19.331676     20.001431      20.189699  ...   \n",
       "3     20.235664     19.137036     19.450996     19.575591      20.737339  ...   \n",
       "4     20.125878     19.273735     19.967556     19.438561      20.187838  ...   \n",
       "\n",
       "   Simulation 2991  Simulation 2992  Simulation 2993  Simulation 2994  \\\n",
       "0        19.677500        19.677500        19.677500        19.677500   \n",
       "1        19.944744        19.076657        19.612564        19.612095   \n",
       "2        19.992419        19.752669        19.611811        18.981710   \n",
       "3        19.870403        20.270805        19.110836        19.587696   \n",
       "4        19.952413        19.869895        19.300847        19.488421   \n",
       "\n",
       "   Simulation 2995  Simulation 2996  Simulation 2997  Simulation 2998  \\\n",
       "0        19.677500        19.677500        19.677500        19.677500   \n",
       "1        19.551779        19.844303        19.721529        19.370234   \n",
       "2        19.626479        20.398800        19.637435        19.260734   \n",
       "3        19.287480        20.390620        18.785474        19.051692   \n",
       "4        18.829508        19.678754        18.848648        19.729207   \n",
       "\n",
       "   Simulation 2999  Simulation 3000  \n",
       "0        19.677500        19.677500  \n",
       "1        19.821193        19.274151  \n",
       "2        19.931731        19.370114  \n",
       "3        20.484940        18.961283  \n",
       "4        20.145094        18.437828  \n",
       "\n",
       "[5 rows x 3000 columns]"
      ]
     },
     "execution_count": 35,
     "metadata": {},
     "output_type": "execute_result"
    }
   ],
   "source": [
    "for n in range(num_simulations):\n",
    "    \n",
    "    simulated_XLE_prices = [XLE_last_price]\n",
    "    simulated_XLE_prices\n",
    "\n",
    "    for i in range(num_trading_days):\n",
    "\n",
    "    # Calculate the simulated price using the last price within the list\n",
    "        simulated_price = simulated_XLE_prices[-1] * (1 + np.random.normal(avg_daily_return_xle, xle_std))\n",
    "        # Append the simulated price to the list\n",
    "        simulated_XLE_prices.append(simulated_price)\n",
    "\n",
    "    # Append simulated price of each simulation to DataFrame\n",
    "    simulated_prices_XLE_df[f\"Simulation {n+1}\"] = pd.Series(simulated_XLE_prices)\n",
    "\n",
    "simulated_prices_XLE_df.head()"
   ]
  },
  {
   "cell_type": "code",
   "execution_count": 37,
   "metadata": {},
   "outputs": [
    {
     "data": {
      "text/plain": [
       "<matplotlib.axes._subplots.AxesSubplot at 0x12242e790>"
      ]
     },
     "execution_count": 37,
     "metadata": {},
     "output_type": "execute_result"
    },
    {
     "data": {
      "image/png": "[encoded data removed]",
      "text/plain": [
       "<Figure size 432x288 with 1 Axes>"
      ]
     },
     "metadata": {
      "needs_background": "light"
     },
     "output_type": "display_data"
    }
   ],
   "source": [
    "plot_title = f\"{n+1} Simulations of XLE Over the Next 30 Trading Days\"\n",
    "simulated_prices_XLE_df.plot(legend=None, title=plot_title)"
   ]
  },
  {
   "cell_type": "code",
   "execution_count": 45,
   "metadata": {},
   "outputs": [
    {
     "data": {
      "text/plain": [
       "0.025    16.004670\n",
       "0.975    23.985156\n",
       "Name: 30, dtype: float64"
      ]
     },
     "execution_count": 45,
     "metadata": {},
     "output_type": "execute_result"
    }
   ],
   "source": [
    "simulated_ending_prices_XLE = simulated_prices_XLE_df.iloc[-1, :]\n",
    "confidence_interval= simulated_ending_prices_XLE.quantile(q=[0.025, 0.975])\n",
    "confidence_interval"
   ]
  },
  {
   "cell_type": "code",
   "execution_count": 46,
   "metadata": {},
   "outputs": [
    {
     "data": {
      "text/plain": [
       "<matplotlib.lines.Line2D at 0x123c2df90>"
      ]
     },
     "execution_count": 46,
     "metadata": {},
     "output_type": "execute_result"
    },
    {
     "data": {
      "image/png": "[encoded data removed]",
      "text/plain": [
       "<Figure size 432x288 with 1 Axes>"
      ]
     },
     "metadata": {
      "needs_background": "light"
     },
     "output_type": "display_data"
    }
   ],
   "source": [
    "plt.figure();\n",
    "simulated_ending_prices_XLE.plot(kind='hist', density=True, bins=10)\n",
    "plt.axvline(confidence_interval.iloc[0], color='r')\n",
    "plt.axvline(confidence_interval.iloc[1], color='r')"
   ]
  },
  {
   "cell_type": "code",
   "execution_count": 47,
   "metadata": {},
   "outputs": [
    {
     "name": "stdout",
     "output_type": "stream",
     "text": [
      "There is a 95% chance that an initial investment of $10,000 in XLE over the next 30 trading days will end within in the range of $8133.49 and $12189.13\n"
     ]
    }
   ],
   "source": [
    "initial_investment = 10000\n",
    "\n",
    "# Calculate cumulative profit/loss of lower and upper bound\n",
    "cumulative_pnl_lower_bound = initial_investment * ((confidence_interval.iloc[0] - XLE_last_price) / XLE_last_price)\n",
    "cumulative_pnl_upper_bound = initial_investment * ((confidence_interval.iloc[1] - XLE_last_price) / XLE_last_price)\n",
    "\n",
    "# Add the initial investment to the cumulative profit/loss of lower and upper bound\n",
    "ending_investment_lower_bound = initial_investment + cumulative_pnl_lower_bound\n",
    "ending_investment_upper_bound = initial_investment + cumulative_pnl_upper_bound\n",
    "\n",
    "# Print the results\n",
    "print(f\"There is a 95% chance that an initial investment of $10,000 in XLE\"\n",
    "      f\" over the next 30 trading days will end within in the range of\"\n",
    "      f\" ${round(ending_investment_lower_bound,2)} and ${round(ending_investment_upper_bound,2)}\")"
   ]
  },
  {
   "cell_type": "code",
   "execution_count": null,
   "metadata": {},
   "outputs": [],
   "source": []
  }
 ],
 "metadata": {
  "kernelspec": {
   "display_name": "Python 3",
   "language": "python",
   "name": "python3"
  },
  "language_info": {
   "codemirror_mode": {
    "name": "ipython",
    "version": 3
   },
   "file_extension": ".py",
   "mimetype": "text/x-python",
   "name": "python",
   "nbconvert_exporter": "python",
   "pygments_lexer": "ipython3",
   "version": "3.7.4"
  }
 },
 "nbformat": 4,
 "nbformat_minor": 4
}
