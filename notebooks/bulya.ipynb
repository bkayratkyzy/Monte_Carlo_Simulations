{
 "cells": [
  {
   "cell_type": "code",
   "execution_count": 1,
   "metadata": {},
   "outputs": [],
   "source": [
    "import numpy as np\n",
    "import pandas as pd\n",
    "from datetime import datetime, timedelta\n",
    "import matplotlib.pyplot as plt\n",
    "import json\n",
    "from pathlib import Path\n",
    "import alpaca_trade_api as tradeapi\n",
    "import requests\n",
    "import os \n",
    "from dotenv import load_dotenv\n",
    "\n",
    "%matplotlib inline"
   ]
  },
  {
   "cell_type": "code",
   "execution_count": 30,
   "metadata": {},
   "outputs": [
    {
     "data": {
      "text/plain": [
       "str"
      ]
     },
     "execution_count": 30,
     "metadata": {},
     "output_type": "execute_result"
    }
   ],
   "source": [
    "load_dotenv()\n",
    "\n",
    "alpaca_api_key = os.getenv(\"Api_key\")\n",
    "alpaca_secret_key = os.getenv(\"Secret_Key\")\n",
    "\n",
    "api = tradeapi.REST(alpaca_api_key, alpaca_secret_key, api_version='v2')\n",
    "\n",
    "\n",
    "type(alpaca_api_key)\n"
   ]
  },
  {
   "cell_type": "code",
   "execution_count": 31,
   "metadata": {},
   "outputs": [
    {
     "data": {
      "text/html": [
       "<div>\n",
       "<style scoped>\n",
       "    .dataframe tbody tr th:only-of-type {\n",
       "        vertical-align: middle;\n",
       "    }\n",
       "\n",
       "    .dataframe tbody tr th {\n",
       "        vertical-align: top;\n",
       "    }\n",
       "\n",
       "    .dataframe thead th {\n",
       "        text-align: right;\n",
       "    }\n",
       "</style>\n",
       "<table border=\"1\" class=\"dataframe\">\n",
       "  <thead>\n",
       "    <tr style=\"text-align: right;\">\n",
       "      <th></th>\n",
       "      <th>1. open</th>\n",
       "      <th>2. high</th>\n",
       "      <th>3. low</th>\n",
       "      <th>4. close</th>\n",
       "      <th>5. adjusted close</th>\n",
       "      <th>6. volume</th>\n",
       "      <th>7. dividend amount</th>\n",
       "      <th>8. split coefficient</th>\n",
       "    </tr>\n",
       "    <tr>\n",
       "      <th>date</th>\n",
       "      <th></th>\n",
       "      <th></th>\n",
       "      <th></th>\n",
       "      <th></th>\n",
       "      <th></th>\n",
       "      <th></th>\n",
       "      <th></th>\n",
       "      <th></th>\n",
       "    </tr>\n",
       "  </thead>\n",
       "  <tbody>\n",
       "    <tr>\n",
       "      <th>2020-04-30</th>\n",
       "      <td>107.46</td>\n",
       "      <td>107.56</td>\n",
       "      <td>106.10</td>\n",
       "      <td>106.49</td>\n",
       "      <td>106.49</td>\n",
       "      <td>1351097.0</td>\n",
       "      <td>0.0</td>\n",
       "      <td>1.0</td>\n",
       "    </tr>\n",
       "    <tr>\n",
       "      <th>2020-04-29</th>\n",
       "      <td>108.67</td>\n",
       "      <td>109.60</td>\n",
       "      <td>107.95</td>\n",
       "      <td>108.70</td>\n",
       "      <td>108.70</td>\n",
       "      <td>1731947.0</td>\n",
       "      <td>0.0</td>\n",
       "      <td>1.0</td>\n",
       "    </tr>\n",
       "    <tr>\n",
       "      <th>2020-04-28</th>\n",
       "      <td>107.94</td>\n",
       "      <td>108.25</td>\n",
       "      <td>106.28</td>\n",
       "      <td>106.64</td>\n",
       "      <td>106.64</td>\n",
       "      <td>2048623.0</td>\n",
       "      <td>0.0</td>\n",
       "      <td>1.0</td>\n",
       "    </tr>\n",
       "    <tr>\n",
       "      <th>2020-04-27</th>\n",
       "      <td>104.68</td>\n",
       "      <td>106.64</td>\n",
       "      <td>104.56</td>\n",
       "      <td>106.19</td>\n",
       "      <td>106.19</td>\n",
       "      <td>1154618.0</td>\n",
       "      <td>0.0</td>\n",
       "      <td>1.0</td>\n",
       "    </tr>\n",
       "    <tr>\n",
       "      <th>2020-04-24</th>\n",
       "      <td>103.31</td>\n",
       "      <td>104.37</td>\n",
       "      <td>102.42</td>\n",
       "      <td>103.99</td>\n",
       "      <td>103.99</td>\n",
       "      <td>969806.0</td>\n",
       "      <td>0.0</td>\n",
       "      <td>1.0</td>\n",
       "    </tr>\n",
       "  </tbody>\n",
       "</table>\n",
       "</div>"
      ],
      "text/plain": [
       "            1. open  2. high  3. low  4. close  5. adjusted close  6. volume  \\\n",
       "date                                                                           \n",
       "2020-04-30   107.46   107.56  106.10    106.49             106.49  1351097.0   \n",
       "2020-04-29   108.67   109.60  107.95    108.70             108.70  1731947.0   \n",
       "2020-04-28   107.94   108.25  106.28    106.64             106.64  2048623.0   \n",
       "2020-04-27   104.68   106.64  104.56    106.19             106.19  1154618.0   \n",
       "2020-04-24   103.31   104.37  102.42    103.99             103.99   969806.0   \n",
       "\n",
       "            7. dividend amount  8. split coefficient  \n",
       "date                                                  \n",
       "2020-04-30                 0.0                   1.0  \n",
       "2020-04-29                 0.0                   1.0  \n",
       "2020-04-28                 0.0                   1.0  \n",
       "2020-04-27                 0.0                   1.0  \n",
       "2020-04-24                 0.0                   1.0  "
      ]
     },
     "execution_count": 31,
     "metadata": {},
     "output_type": "execute_result"
    }
   ],
   "source": [
    "xle_df = api.alpha_vantage.historic_quotes('XLE', adjusted=True, output_format='pandas')\n",
    "\n",
    "\n",
    "xlf_df = api.alpha_vantage.historic_quotes('XLF', adjusted=True, output_format='pandas')\n",
    "\n",
    "ive_df = api.alpha_vantage.historic_quotes('IVE', adjusted=True, output_format='pandas')\n",
    "ive_df.head()"
   ]
  },
  {
   "cell_type": "code",
   "execution_count": 32,
   "metadata": {},
   "outputs": [
    {
     "data": {
      "text/plain": [
       "Index(['1. open', '2. high', '3. low', '4. close', '5. adjusted close',\n",
       "       '6. volume', '7. dividend amount', '8. split coefficient'],\n",
       "      dtype='object')"
      ]
     },
     "execution_count": 32,
     "metadata": {},
     "output_type": "execute_result"
    }
   ],
   "source": [
    "xle_df.columns"
   ]
  },
  {
   "cell_type": "code",
   "execution_count": 33,
   "metadata": {},
   "outputs": [
    {
     "data": {
      "text/plain": [
       "Index(['1. open', '2. high', '3. low', '4. close', '5. adjusted close',\n",
       "       '6. volume', '7. dividend amount', '8. split coefficient'],\n",
       "      dtype='object')"
      ]
     },
     "execution_count": 33,
     "metadata": {},
     "output_type": "execute_result"
    }
   ],
   "source": [
    "ive_df.columns\n",
    "\n"
   ]
  },
  {
   "cell_type": "code",
   "execution_count": 34,
   "metadata": {},
   "outputs": [
    {
     "data": {
      "text/plain": [
       "Index(['1. open', '2. high', '3. low', '4. close', '5. adjusted close',\n",
       "       '6. volume', '7. dividend amount', '8. split coefficient'],\n",
       "      dtype='object')"
      ]
     },
     "execution_count": 34,
     "metadata": {},
     "output_type": "execute_result"
    }
   ],
   "source": [
    "xlf_df.columns\n"
   ]
  },
  {
   "cell_type": "code",
   "execution_count": 35,
   "metadata": {},
   "outputs": [
    {
     "data": {
      "text/html": [
       "<div>\n",
       "<style scoped>\n",
       "    .dataframe tbody tr th:only-of-type {\n",
       "        vertical-align: middle;\n",
       "    }\n",
       "\n",
       "    .dataframe tbody tr th {\n",
       "        vertical-align: top;\n",
       "    }\n",
       "\n",
       "    .dataframe thead th {\n",
       "        text-align: right;\n",
       "    }\n",
       "</style>\n",
       "<table border=\"1\" class=\"dataframe\">\n",
       "  <thead>\n",
       "    <tr style=\"text-align: right;\">\n",
       "      <th></th>\n",
       "      <th>5. adjusted close</th>\n",
       "      <th>5. adjusted close</th>\n",
       "      <th>5. adjusted close</th>\n",
       "    </tr>\n",
       "    <tr>\n",
       "      <th>date</th>\n",
       "      <th></th>\n",
       "      <th></th>\n",
       "      <th></th>\n",
       "    </tr>\n",
       "  </thead>\n",
       "  <tbody>\n",
       "    <tr>\n",
       "      <th>2020-04-30</th>\n",
       "      <td>38.00</td>\n",
       "      <td>22.79</td>\n",
       "      <td>106.49</td>\n",
       "    </tr>\n",
       "    <tr>\n",
       "      <th>2020-04-29</th>\n",
       "      <td>38.86</td>\n",
       "      <td>23.38</td>\n",
       "      <td>108.70</td>\n",
       "    </tr>\n",
       "    <tr>\n",
       "      <th>2020-04-28</th>\n",
       "      <td>36.18</td>\n",
       "      <td>22.72</td>\n",
       "      <td>106.64</td>\n",
       "    </tr>\n",
       "    <tr>\n",
       "      <th>2020-04-27</th>\n",
       "      <td>35.37</td>\n",
       "      <td>22.48</td>\n",
       "      <td>106.19</td>\n",
       "    </tr>\n",
       "    <tr>\n",
       "      <th>2020-04-24</th>\n",
       "      <td>34.62</td>\n",
       "      <td>21.74</td>\n",
       "      <td>103.99</td>\n",
       "    </tr>\n",
       "  </tbody>\n",
       "</table>\n",
       "</div>"
      ],
      "text/plain": [
       "            5. adjusted close  5. adjusted close  5. adjusted close\n",
       "date                                                               \n",
       "2020-04-30              38.00              22.79             106.49\n",
       "2020-04-29              38.86              23.38             108.70\n",
       "2020-04-28              36.18              22.72             106.64\n",
       "2020-04-27              35.37              22.48             106.19\n",
       "2020-04-24              34.62              21.74             103.99"
      ]
     },
     "execution_count": 35,
     "metadata": {},
     "output_type": "execute_result"
    }
   ],
   "source": [
    "\n",
    "xle_df=xle_df['5. adjusted close']\n",
    "xle_df.head()\n",
    "xlf_df = xlf_df['5. adjusted close']\n",
    "xlf_df.head()\n",
    "ive_df= ive_df ['5. adjusted close']\n",
    "ive_df.head()\n",
    "\n",
    "\n",
    "\n",
    "concat_df = pd.concat([xle_df, xlf_df, ive_df], axis = \"columns\", join = \"inner\")\n",
    "concat_df.head()"
   ]
  },
  {
   "cell_type": "code",
   "execution_count": 36,
   "metadata": {},
   "outputs": [
    {
     "data": {
      "text/html": [
       "<div>\n",
       "<style scoped>\n",
       "    .dataframe tbody tr th:only-of-type {\n",
       "        vertical-align: middle;\n",
       "    }\n",
       "\n",
       "    .dataframe tbody tr th {\n",
       "        vertical-align: top;\n",
       "    }\n",
       "\n",
       "    .dataframe thead th {\n",
       "        text-align: right;\n",
       "    }\n",
       "</style>\n",
       "<table border=\"1\" class=\"dataframe\">\n",
       "  <thead>\n",
       "    <tr style=\"text-align: right;\">\n",
       "      <th></th>\n",
       "      <th>XLE close</th>\n",
       "      <th>XLF close</th>\n",
       "      <th>IVE close</th>\n",
       "    </tr>\n",
       "    <tr>\n",
       "      <th>date</th>\n",
       "      <th></th>\n",
       "      <th></th>\n",
       "      <th></th>\n",
       "    </tr>\n",
       "  </thead>\n",
       "  <tbody>\n",
       "    <tr>\n",
       "      <th>2020-04-30</th>\n",
       "      <td>38.00</td>\n",
       "      <td>22.79</td>\n",
       "      <td>106.49</td>\n",
       "    </tr>\n",
       "    <tr>\n",
       "      <th>2020-04-29</th>\n",
       "      <td>38.86</td>\n",
       "      <td>23.38</td>\n",
       "      <td>108.70</td>\n",
       "    </tr>\n",
       "    <tr>\n",
       "      <th>2020-04-28</th>\n",
       "      <td>36.18</td>\n",
       "      <td>22.72</td>\n",
       "      <td>106.64</td>\n",
       "    </tr>\n",
       "    <tr>\n",
       "      <th>2020-04-27</th>\n",
       "      <td>35.37</td>\n",
       "      <td>22.48</td>\n",
       "      <td>106.19</td>\n",
       "    </tr>\n",
       "    <tr>\n",
       "      <th>2020-04-24</th>\n",
       "      <td>34.62</td>\n",
       "      <td>21.74</td>\n",
       "      <td>103.99</td>\n",
       "    </tr>\n",
       "  </tbody>\n",
       "</table>\n",
       "</div>"
      ],
      "text/plain": [
       "            XLE close  XLF close  IVE close\n",
       "date                                       \n",
       "2020-04-30      38.00      22.79     106.49\n",
       "2020-04-29      38.86      23.38     108.70\n",
       "2020-04-28      36.18      22.72     106.64\n",
       "2020-04-27      35.37      22.48     106.19\n",
       "2020-04-24      34.62      21.74     103.99"
      ]
     },
     "execution_count": 36,
     "metadata": {},
     "output_type": "execute_result"
    }
   ],
   "source": [
    "columns = ['XLE close', 'XLF close', 'IVE close']\n",
    "concat_df.columns = columns\n",
    "concat_df.head()"
   ]
  },
  {
   "cell_type": "code",
   "execution_count": 37,
   "metadata": {},
   "outputs": [
    {
     "data": {
      "text/html": [
       "<div>\n",
       "<style scoped>\n",
       "    .dataframe tbody tr th:only-of-type {\n",
       "        vertical-align: middle;\n",
       "    }\n",
       "\n",
       "    .dataframe tbody tr th {\n",
       "        vertical-align: top;\n",
       "    }\n",
       "\n",
       "    .dataframe thead th {\n",
       "        text-align: right;\n",
       "    }\n",
       "</style>\n",
       "<table border=\"1\" class=\"dataframe\">\n",
       "  <thead>\n",
       "    <tr style=\"text-align: right;\">\n",
       "      <th></th>\n",
       "      <th>XLE close</th>\n",
       "      <th>XLF close</th>\n",
       "      <th>IVE close</th>\n",
       "      <th>XLE_return</th>\n",
       "      <th>XLF_return</th>\n",
       "      <th>IVE_return</th>\n",
       "    </tr>\n",
       "    <tr>\n",
       "      <th>date</th>\n",
       "      <th></th>\n",
       "      <th></th>\n",
       "      <th></th>\n",
       "      <th></th>\n",
       "      <th></th>\n",
       "      <th></th>\n",
       "    </tr>\n",
       "  </thead>\n",
       "  <tbody>\n",
       "    <tr>\n",
       "      <th>2020-04-30</th>\n",
       "      <td>38.00</td>\n",
       "      <td>22.79</td>\n",
       "      <td>106.49</td>\n",
       "      <td>NaN</td>\n",
       "      <td>NaN</td>\n",
       "      <td>NaN</td>\n",
       "    </tr>\n",
       "    <tr>\n",
       "      <th>2020-04-29</th>\n",
       "      <td>38.86</td>\n",
       "      <td>23.38</td>\n",
       "      <td>108.70</td>\n",
       "      <td>0.022632</td>\n",
       "      <td>0.025889</td>\n",
       "      <td>0.020753</td>\n",
       "    </tr>\n",
       "    <tr>\n",
       "      <th>2020-04-28</th>\n",
       "      <td>36.18</td>\n",
       "      <td>22.72</td>\n",
       "      <td>106.64</td>\n",
       "      <td>-0.068966</td>\n",
       "      <td>-0.028229</td>\n",
       "      <td>-0.018951</td>\n",
       "    </tr>\n",
       "    <tr>\n",
       "      <th>2020-04-27</th>\n",
       "      <td>35.37</td>\n",
       "      <td>22.48</td>\n",
       "      <td>106.19</td>\n",
       "      <td>-0.022388</td>\n",
       "      <td>-0.010563</td>\n",
       "      <td>-0.004220</td>\n",
       "    </tr>\n",
       "    <tr>\n",
       "      <th>2020-04-24</th>\n",
       "      <td>34.62</td>\n",
       "      <td>21.74</td>\n",
       "      <td>103.99</td>\n",
       "      <td>-0.021204</td>\n",
       "      <td>-0.032918</td>\n",
       "      <td>-0.020718</td>\n",
       "    </tr>\n",
       "  </tbody>\n",
       "</table>\n",
       "</div>"
      ],
      "text/plain": [
       "            XLE close  XLF close  IVE close  XLE_return  XLF_return  \\\n",
       "date                                                                  \n",
       "2020-04-30      38.00      22.79     106.49         NaN         NaN   \n",
       "2020-04-29      38.86      23.38     108.70    0.022632    0.025889   \n",
       "2020-04-28      36.18      22.72     106.64   -0.068966   -0.028229   \n",
       "2020-04-27      35.37      22.48     106.19   -0.022388   -0.010563   \n",
       "2020-04-24      34.62      21.74     103.99   -0.021204   -0.032918   \n",
       "\n",
       "            IVE_return  \n",
       "date                    \n",
       "2020-04-30         NaN  \n",
       "2020-04-29    0.020753  \n",
       "2020-04-28   -0.018951  \n",
       "2020-04-27   -0.004220  \n",
       "2020-04-24   -0.020718  "
      ]
     },
     "execution_count": 37,
     "metadata": {},
     "output_type": "execute_result"
    }
   ],
   "source": [
    "daily_returns_xle = xle_df.pct_change()\n",
    "concat_df['XLE_return']= daily_returns_xle \n",
    "\n",
    "\n",
    "daily_returns_xlf = xlf_df.pct_change()\n",
    "concat_df['XLF_return']= daily_returns_xlf \n",
    "\n",
    "daily_returns_ive = ive_df.pct_change()\n",
    "concat_df['IVE_return']= daily_returns_ive \n",
    "\n",
    "concat_df.head()"
   ]
  },
  {
   "cell_type": "code",
   "execution_count": 38,
   "metadata": {},
   "outputs": [
    {
     "data": {
      "text/plain": [
       "XLE close     0\n",
       "XLF close     0\n",
       "IVE close     0\n",
       "XLE_return    0\n",
       "XLF_return    0\n",
       "IVE_return    0\n",
       "dtype: int64"
      ]
     },
     "execution_count": 38,
     "metadata": {},
     "output_type": "execute_result"
    }
   ],
   "source": [
    "concat_df.dropna(inplace=True)\n",
    "\n",
    "#count nulls again\n",
    "concat_df.isnull().sum()"
   ]
  },
  {
   "cell_type": "code",
   "execution_count": 39,
   "metadata": {},
   "outputs": [
    {
     "data": {
      "text/html": [
       "<div>\n",
       "<style scoped>\n",
       "    .dataframe tbody tr th:only-of-type {\n",
       "        vertical-align: middle;\n",
       "    }\n",
       "\n",
       "    .dataframe tbody tr th {\n",
       "        vertical-align: top;\n",
       "    }\n",
       "\n",
       "    .dataframe thead th {\n",
       "        text-align: right;\n",
       "    }\n",
       "</style>\n",
       "<table border=\"1\" class=\"dataframe\">\n",
       "  <thead>\n",
       "    <tr style=\"text-align: right;\">\n",
       "      <th></th>\n",
       "      <th>XLE close</th>\n",
       "      <th>XLF close</th>\n",
       "      <th>IVE close</th>\n",
       "      <th>XLE_return</th>\n",
       "      <th>XLF_return</th>\n",
       "      <th>IVE_return</th>\n",
       "    </tr>\n",
       "    <tr>\n",
       "      <th>date</th>\n",
       "      <th></th>\n",
       "      <th></th>\n",
       "      <th></th>\n",
       "      <th></th>\n",
       "      <th></th>\n",
       "      <th></th>\n",
       "    </tr>\n",
       "  </thead>\n",
       "  <tbody>\n",
       "    <tr>\n",
       "      <th>2020-04-29</th>\n",
       "      <td>38.8600</td>\n",
       "      <td>23.3800</td>\n",
       "      <td>108.7000</td>\n",
       "      <td>0.022632</td>\n",
       "      <td>0.025889</td>\n",
       "      <td>0.020753</td>\n",
       "    </tr>\n",
       "    <tr>\n",
       "      <th>2020-04-28</th>\n",
       "      <td>36.1800</td>\n",
       "      <td>22.7200</td>\n",
       "      <td>106.6400</td>\n",
       "      <td>-0.068966</td>\n",
       "      <td>-0.028229</td>\n",
       "      <td>-0.018951</td>\n",
       "    </tr>\n",
       "    <tr>\n",
       "      <th>2020-04-27</th>\n",
       "      <td>35.3700</td>\n",
       "      <td>22.4800</td>\n",
       "      <td>106.1900</td>\n",
       "      <td>-0.022388</td>\n",
       "      <td>-0.010563</td>\n",
       "      <td>-0.004220</td>\n",
       "    </tr>\n",
       "    <tr>\n",
       "      <th>2020-04-24</th>\n",
       "      <td>34.6200</td>\n",
       "      <td>21.7400</td>\n",
       "      <td>103.9900</td>\n",
       "      <td>-0.021204</td>\n",
       "      <td>-0.032918</td>\n",
       "      <td>-0.020718</td>\n",
       "    </tr>\n",
       "    <tr>\n",
       "      <th>2020-04-23</th>\n",
       "      <td>34.5400</td>\n",
       "      <td>21.4300</td>\n",
       "      <td>102.7000</td>\n",
       "      <td>-0.002311</td>\n",
       "      <td>-0.014259</td>\n",
       "      <td>-0.012405</td>\n",
       "    </tr>\n",
       "    <tr>\n",
       "      <th>...</th>\n",
       "      <td>...</td>\n",
       "      <td>...</td>\n",
       "      <td>...</td>\n",
       "      <td>...</td>\n",
       "      <td>...</td>\n",
       "      <td>...</td>\n",
       "    </tr>\n",
       "    <tr>\n",
       "      <th>2000-06-02</th>\n",
       "      <td>19.6712</td>\n",
       "      <td>14.5807</td>\n",
       "      <td>39.9311</td>\n",
       "      <td>0.014455</td>\n",
       "      <td>0.023164</td>\n",
       "      <td>0.004516</td>\n",
       "    </tr>\n",
       "    <tr>\n",
       "      <th>2000-06-01</th>\n",
       "      <td>20.3655</td>\n",
       "      <td>14.0070</td>\n",
       "      <td>39.3797</td>\n",
       "      <td>0.035295</td>\n",
       "      <td>-0.039347</td>\n",
       "      <td>-0.013809</td>\n",
       "    </tr>\n",
       "    <tr>\n",
       "      <th>2000-05-31</th>\n",
       "      <td>20.5566</td>\n",
       "      <td>13.5578</td>\n",
       "      <td>38.7899</td>\n",
       "      <td>0.009384</td>\n",
       "      <td>-0.032070</td>\n",
       "      <td>-0.014977</td>\n",
       "    </tr>\n",
       "    <tr>\n",
       "      <th>2000-05-30</th>\n",
       "      <td>19.9578</td>\n",
       "      <td>13.3954</td>\n",
       "      <td>38.6104</td>\n",
       "      <td>-0.029129</td>\n",
       "      <td>-0.011978</td>\n",
       "      <td>-0.004627</td>\n",
       "    </tr>\n",
       "    <tr>\n",
       "      <th>2000-05-26</th>\n",
       "      <td>19.6775</td>\n",
       "      <td>13.1248</td>\n",
       "      <td>38.0269</td>\n",
       "      <td>-0.014045</td>\n",
       "      <td>-0.020201</td>\n",
       "      <td>-0.015113</td>\n",
       "    </tr>\n",
       "  </tbody>\n",
       "</table>\n",
       "<p>5012 rows × 6 columns</p>\n",
       "</div>"
      ],
      "text/plain": [
       "            XLE close  XLF close  IVE close  XLE_return  XLF_return  \\\n",
       "date                                                                  \n",
       "2020-04-29    38.8600    23.3800   108.7000    0.022632    0.025889   \n",
       "2020-04-28    36.1800    22.7200   106.6400   -0.068966   -0.028229   \n",
       "2020-04-27    35.3700    22.4800   106.1900   -0.022388   -0.010563   \n",
       "2020-04-24    34.6200    21.7400   103.9900   -0.021204   -0.032918   \n",
       "2020-04-23    34.5400    21.4300   102.7000   -0.002311   -0.014259   \n",
       "...               ...        ...        ...         ...         ...   \n",
       "2000-06-02    19.6712    14.5807    39.9311    0.014455    0.023164   \n",
       "2000-06-01    20.3655    14.0070    39.3797    0.035295   -0.039347   \n",
       "2000-05-31    20.5566    13.5578    38.7899    0.009384   -0.032070   \n",
       "2000-05-30    19.9578    13.3954    38.6104   -0.029129   -0.011978   \n",
       "2000-05-26    19.6775    13.1248    38.0269   -0.014045   -0.020201   \n",
       "\n",
       "            IVE_return  \n",
       "date                    \n",
       "2020-04-29    0.020753  \n",
       "2020-04-28   -0.018951  \n",
       "2020-04-27   -0.004220  \n",
       "2020-04-24   -0.020718  \n",
       "2020-04-23   -0.012405  \n",
       "...                ...  \n",
       "2000-06-02    0.004516  \n",
       "2000-06-01   -0.013809  \n",
       "2000-05-31   -0.014977  \n",
       "2000-05-30   -0.004627  \n",
       "2000-05-26   -0.015113  \n",
       "\n",
       "[5012 rows x 6 columns]"
      ]
     },
     "execution_count": 39,
     "metadata": {},
     "output_type": "execute_result"
    }
   ],
   "source": [
    "concat_df.drop_duplicates(inplace=True)\n",
    "concat_df"
   ]
  },
  {
   "cell_type": "code",
   "execution_count": 40,
   "metadata": {},
   "outputs": [
    {
     "data": {
      "text/plain": [
       "XLE close     float64\n",
       "XLF close     float64\n",
       "IVE close     float64\n",
       "XLE_return    float64\n",
       "XLF_return    float64\n",
       "IVE_return    float64\n",
       "dtype: object"
      ]
     },
     "execution_count": 40,
     "metadata": {},
     "output_type": "execute_result"
    }
   ],
   "source": [
    "concat_df.dtypes"
   ]
  },
  {
   "cell_type": "code",
   "execution_count": 41,
   "metadata": {},
   "outputs": [
    {
     "data": {
      "text/plain": [
       "XLE close     5012\n",
       "XLF close     5012\n",
       "IVE close     5012\n",
       "XLE_return    5012\n",
       "XLF_return    5012\n",
       "IVE_return    5012\n",
       "dtype: int64"
      ]
     },
     "execution_count": 41,
     "metadata": {},
     "output_type": "execute_result"
    }
   ],
   "source": [
    "concat_df.count()\n"
   ]
  },
  {
   "cell_type": "code",
   "execution_count": 42,
   "metadata": {},
   "outputs": [
    {
     "data": {
      "text/html": [
       "<div>\n",
       "<style scoped>\n",
       "    .dataframe tbody tr th:only-of-type {\n",
       "        vertical-align: middle;\n",
       "    }\n",
       "\n",
       "    .dataframe tbody tr th {\n",
       "        vertical-align: top;\n",
       "    }\n",
       "\n",
       "    .dataframe thead th {\n",
       "        text-align: right;\n",
       "    }\n",
       "</style>\n",
       "<table border=\"1\" class=\"dataframe\">\n",
       "  <thead>\n",
       "    <tr style=\"text-align: right;\">\n",
       "      <th></th>\n",
       "      <th>XLE close</th>\n",
       "      <th>XLF close</th>\n",
       "      <th>IVE close</th>\n",
       "      <th>XLE_return</th>\n",
       "      <th>XLF_return</th>\n",
       "      <th>IVE_return</th>\n",
       "    </tr>\n",
       "  </thead>\n",
       "  <tbody>\n",
       "    <tr>\n",
       "      <th>count</th>\n",
       "      <td>5012.000000</td>\n",
       "      <td>5012.000000</td>\n",
       "      <td>5012.000000</td>\n",
       "      <td>5012.000000</td>\n",
       "      <td>5012.000000</td>\n",
       "      <td>5012.000000</td>\n",
       "    </tr>\n",
       "    <tr>\n",
       "      <th>mean</th>\n",
       "      <td>44.793516</td>\n",
       "      <td>16.683295</td>\n",
       "      <td>60.680944</td>\n",
       "      <td>0.000033</td>\n",
       "      <td>0.000069</td>\n",
       "      <td>-0.000122</td>\n",
       "    </tr>\n",
       "    <tr>\n",
       "      <th>std</th>\n",
       "      <td>17.780574</td>\n",
       "      <td>5.465968</td>\n",
       "      <td>26.173253</td>\n",
       "      <td>0.018266</td>\n",
       "      <td>0.018951</td>\n",
       "      <td>0.012921</td>\n",
       "    </tr>\n",
       "    <tr>\n",
       "      <th>min</th>\n",
       "      <td>13.110500</td>\n",
       "      <td>4.097100</td>\n",
       "      <td>23.767400</td>\n",
       "      <td>-0.166829</td>\n",
       "      <td>-0.140908</td>\n",
       "      <td>-0.096693</td>\n",
       "    </tr>\n",
       "    <tr>\n",
       "      <th>25%</th>\n",
       "      <td>29.466425</td>\n",
       "      <td>12.756900</td>\n",
       "      <td>40.283900</td>\n",
       "      <td>-0.009202</td>\n",
       "      <td>-0.007463</td>\n",
       "      <td>-0.005785</td>\n",
       "    </tr>\n",
       "    <tr>\n",
       "      <th>50%</th>\n",
       "      <td>49.703800</td>\n",
       "      <td>16.248600</td>\n",
       "      <td>50.947650</td>\n",
       "      <td>-0.000593</td>\n",
       "      <td>-0.000463</td>\n",
       "      <td>-0.000714</td>\n",
       "    </tr>\n",
       "    <tr>\n",
       "      <th>75%</th>\n",
       "      <td>58.902650</td>\n",
       "      <td>19.805725</td>\n",
       "      <td>80.506825</td>\n",
       "      <td>0.008027</td>\n",
       "      <td>0.006620</td>\n",
       "      <td>0.004801</td>\n",
       "    </tr>\n",
       "    <tr>\n",
       "      <th>max</th>\n",
       "      <td>81.486300</td>\n",
       "      <td>30.891400</td>\n",
       "      <td>130.626300</td>\n",
       "      <td>0.252212</td>\n",
       "      <td>0.200006</td>\n",
       "      <td>0.125944</td>\n",
       "    </tr>\n",
       "  </tbody>\n",
       "</table>\n",
       "</div>"
      ],
      "text/plain": [
       "         XLE close    XLF close    IVE close   XLE_return   XLF_return  \\\n",
       "count  5012.000000  5012.000000  5012.000000  5012.000000  5012.000000   \n",
       "mean     44.793516    16.683295    60.680944     0.000033     0.000069   \n",
       "std      17.780574     5.465968    26.173253     0.018266     0.018951   \n",
       "min      13.110500     4.097100    23.767400    -0.166829    -0.140908   \n",
       "25%      29.466425    12.756900    40.283900    -0.009202    -0.007463   \n",
       "50%      49.703800    16.248600    50.947650    -0.000593    -0.000463   \n",
       "75%      58.902650    19.805725    80.506825     0.008027     0.006620   \n",
       "max      81.486300    30.891400   130.626300     0.252212     0.200006   \n",
       "\n",
       "        IVE_return  \n",
       "count  5012.000000  \n",
       "mean     -0.000122  \n",
       "std       0.012921  \n",
       "min      -0.096693  \n",
       "25%      -0.005785  \n",
       "50%      -0.000714  \n",
       "75%       0.004801  \n",
       "max       0.125944  "
      ]
     },
     "execution_count": 42,
     "metadata": {},
     "output_type": "execute_result"
    }
   ],
   "source": [
    "concat_df.describe()"
   ]
  },
  {
   "cell_type": "code",
   "execution_count": 45,
   "metadata": {},
   "outputs": [
    {
     "data": {
      "text/plain": [
       "<matplotlib.axes._subplots.AxesSubplot at 0x119fab4d0>"
      ]
     },
     "execution_count": 45,
     "metadata": {},
     "output_type": "execute_result"
    },
    {
     "data": {
      "image/png": "[encoded data removed]",
      "text/plain": [
       "<Figure size 720x360 with 1 Axes>"
      ]
     },
     "metadata": {
      "needs_background": "light"
     },
     "output_type": "display_data"
    }
   ],
   "source": [
    "concat_df['XLE_return'].plot(figsize=(10,5), legend= True, title= \"Energy Sector\", color= \"pink\")"
   ]
  },
  {
   "cell_type": "code",
   "execution_count": 46,
   "metadata": {},
   "outputs": [
    {
     "data": {
      "text/plain": [
       "<matplotlib.axes._subplots.AxesSubplot at 0x119826d90>"
      ]
     },
     "execution_count": 46,
     "metadata": {},
     "output_type": "execute_result"
    },
    {
     "data": {
      "image/png": "[encoded data removed]",
      "text/plain": [
       "<Figure size 720x360 with 1 Axes>"
      ]
     },
     "metadata": {
      "needs_background": "light"
     },
     "output_type": "display_data"
    }
   ],
   "source": [
    "concat_df['XLF_return'].plot(figsize=(10,5), legend= True, title=\"Financial Sector\", color=\"green\")"
   ]
  },
  {
   "cell_type": "code",
   "execution_count": 47,
   "metadata": {},
   "outputs": [
    {
     "data": {
      "text/plain": [
       "<matplotlib.axes._subplots.AxesSubplot at 0x11a0a4890>"
      ]
     },
     "execution_count": 47,
     "metadata": {},
     "output_type": "execute_result"
    },
    {
     "data": {
      "image/png": "[encoded data removed]",
      "text/plain": [
       "<Figure size 720x360 with 1 Axes>"
      ]
     },
     "metadata": {
      "needs_background": "light"
     },
     "output_type": "display_data"
    }
   ],
   "source": [
    "concat_df['IVE_return'].plot(figsize=(10,5), legend= True, title= \"S&P Value\", color= \"purple\")"
   ]
  },
  {
   "cell_type": "code",
   "execution_count": 48,
   "metadata": {},
   "outputs": [
    {
     "data": {
      "text/plain": [
       "date\n",
       "2020-04-29    1.022632\n",
       "2020-04-28    0.952105\n",
       "2020-04-27    0.930789\n",
       "2020-04-24    0.911053\n",
       "2020-04-23    0.908947\n",
       "Name: XLE_return, dtype: float64"
      ]
     },
     "execution_count": 48,
     "metadata": {},
     "output_type": "execute_result"
    }
   ],
   "source": [
    "\n",
    "cumulative_returns_xle = (1 + concat_df['XLE_return']).cumprod()\n",
    "cumulative_returns_xlf = (1 + concat_df['XLF_return']).cumprod()\n",
    "cumulative_returns_ive =(1+ concat_df['IVE_return']).cumprod()\n",
    "cumulative_returns_xle.head()"
   ]
  },
  {
   "cell_type": "code",
   "execution_count": 49,
   "metadata": {},
   "outputs": [],
   "source": [
    "#umulative_returns_xle.rename(columns={'5. adjusted close':'XLE'})\n",
    "#cumulative_returns_xle"
   ]
  },
  {
   "cell_type": "code",
   "execution_count": 50,
   "metadata": {},
   "outputs": [
    {
     "data": {
      "text/plain": [
       "<matplotlib.axes._subplots.AxesSubplot at 0x11a0d0190>"
      ]
     },
     "execution_count": 50,
     "metadata": {},
     "output_type": "execute_result"
    },
    {
     "data": {
      "image/png": "[encoded data removed]",
      "text/plain": [
       "<Figure size 720x360 with 1 Axes>"
      ]
     },
     "metadata": {
      "needs_background": "light"
     },
     "output_type": "display_data"
    }
   ],
   "source": [
    "cumulative_returns_xle.plot(figsize=(10,5), legend= True)\n",
    "cumulative_returns_xlf.plot(figsize=(10,5), legend= True)\n",
    "cumulative_returns_ive.plot(figsize= (10,5), legend= True)"
   ]
  },
  {
   "cell_type": "code",
   "execution_count": null,
   "metadata": {},
   "outputs": [],
   "source": [
    "#need to rename "
   ]
  },
  {
   "cell_type": "code",
   "execution_count": null,
   "metadata": {},
   "outputs": [],
   "source": []
  },
  {
   "cell_type": "code",
   "execution_count": null,
   "metadata": {},
   "outputs": [],
   "source": []
  },
  {
   "cell_type": "code",
   "execution_count": null,
   "metadata": {},
   "outputs": [],
   "source": []
  }
 ],
 "metadata": {
  "kernelspec": {
   "display_name": "Python 3",
   "language": "python",
   "name": "python3"
  },
  "language_info": {
   "codemirror_mode": {
    "name": "ipython",
    "version": 3
   },
   "file_extension": ".py",
   "mimetype": "text/x-python",
   "name": "python",
   "nbconvert_exporter": "python",
   "pygments_lexer": "ipython3",
   "version": "3.7.4"
  }
 },
 "nbformat": 4,
 "nbformat_minor": 4
}
