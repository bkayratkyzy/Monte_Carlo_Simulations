{
 "cells": [
  {
   "cell_type": "code",
   "execution_count": 1,
   "metadata": {},
   "outputs": [],
   "source": [
    "import numpy as np\n",
    "import pandas as pd\n",
    "from datetime import datetime, timedelta\n",
    "import matplotlib.pyplot as plt\n",
    "import json\n",
    "from pathlib import Path\n",
    "import alpaca_trade_api as tradeapi\n",
    "import requests\n",
    "import os \n",
    "from dotenv import load_dotenv\n",
    "\n",
    "%matplotlib inline"
   ]
  },
  {
   "cell_type": "code",
   "execution_count": 2,
   "metadata": {},
   "outputs": [
    {
     "data": {
      "text/plain": [
       "str"
      ]
     },
     "execution_count": 2,
     "metadata": {},
     "output_type": "execute_result"
    }
   ],
   "source": [
    "load_dotenv()\n",
    "\n",
    "alpaca_api_key = os.getenv(\"Api_key\")\n",
    "alpaca_secret_key = os.getenv(\"Secret_Key\")\n",
    "\n",
    "api = tradeapi.REST(alpaca_api_key, alpaca_secret_key, api_version='v2')\n",
    "\n",
    "\n",
    "type(alpaca_api_key)\n"
   ]
  },
  {
   "cell_type": "code",
   "execution_count": 3,
   "metadata": {},
   "outputs": [
    {
     "data": {
      "text/html": [
       "<div>\n",
       "<style scoped>\n",
       "    .dataframe tbody tr th:only-of-type {\n",
       "        vertical-align: middle;\n",
       "    }\n",
       "\n",
       "    .dataframe tbody tr th {\n",
       "        vertical-align: top;\n",
       "    }\n",
       "\n",
       "    .dataframe thead th {\n",
       "        text-align: right;\n",
       "    }\n",
       "</style>\n",
       "<table border=\"1\" class=\"dataframe\">\n",
       "  <thead>\n",
       "    <tr style=\"text-align: right;\">\n",
       "      <th></th>\n",
       "      <th>1. open</th>\n",
       "      <th>2. high</th>\n",
       "      <th>3. low</th>\n",
       "      <th>4. close</th>\n",
       "      <th>5. adjusted close</th>\n",
       "      <th>6. volume</th>\n",
       "      <th>7. dividend amount</th>\n",
       "      <th>8. split coefficient</th>\n",
       "    </tr>\n",
       "    <tr>\n",
       "      <th>date</th>\n",
       "      <th></th>\n",
       "      <th></th>\n",
       "      <th></th>\n",
       "      <th></th>\n",
       "      <th></th>\n",
       "      <th></th>\n",
       "      <th></th>\n",
       "      <th></th>\n",
       "    </tr>\n",
       "  </thead>\n",
       "  <tbody>\n",
       "    <tr>\n",
       "      <th>2000-06-02</th>\n",
       "      <td>62.47</td>\n",
       "      <td>62.59</td>\n",
       "      <td>62.28</td>\n",
       "      <td>62.28</td>\n",
       "      <td>39.9311</td>\n",
       "      <td>10000.0</td>\n",
       "      <td>0.0</td>\n",
       "      <td>1.0</td>\n",
       "    </tr>\n",
       "    <tr>\n",
       "      <th>2000-06-01</th>\n",
       "      <td>60.78</td>\n",
       "      <td>61.42</td>\n",
       "      <td>60.69</td>\n",
       "      <td>61.42</td>\n",
       "      <td>39.3797</td>\n",
       "      <td>25400.0</td>\n",
       "      <td>0.0</td>\n",
       "      <td>1.0</td>\n",
       "    </tr>\n",
       "    <tr>\n",
       "      <th>2000-05-31</th>\n",
       "      <td>60.19</td>\n",
       "      <td>60.80</td>\n",
       "      <td>60.19</td>\n",
       "      <td>60.50</td>\n",
       "      <td>38.7899</td>\n",
       "      <td>12200.0</td>\n",
       "      <td>0.0</td>\n",
       "      <td>1.0</td>\n",
       "    </tr>\n",
       "    <tr>\n",
       "      <th>2000-05-30</th>\n",
       "      <td>59.91</td>\n",
       "      <td>60.22</td>\n",
       "      <td>59.91</td>\n",
       "      <td>60.22</td>\n",
       "      <td>38.6104</td>\n",
       "      <td>1800.0</td>\n",
       "      <td>0.0</td>\n",
       "      <td>1.0</td>\n",
       "    </tr>\n",
       "    <tr>\n",
       "      <th>2000-05-26</th>\n",
       "      <td>59.61</td>\n",
       "      <td>59.61</td>\n",
       "      <td>59.31</td>\n",
       "      <td>59.31</td>\n",
       "      <td>38.0269</td>\n",
       "      <td>2900.0</td>\n",
       "      <td>0.0</td>\n",
       "      <td>1.0</td>\n",
       "    </tr>\n",
       "  </tbody>\n",
       "</table>\n",
       "</div>"
      ],
      "text/plain": [
       "            1. open  2. high  3. low  4. close  5. adjusted close  6. volume  \\\n",
       "date                                                                           \n",
       "2000-06-02    62.47    62.59   62.28     62.28            39.9311    10000.0   \n",
       "2000-06-01    60.78    61.42   60.69     61.42            39.3797    25400.0   \n",
       "2000-05-31    60.19    60.80   60.19     60.50            38.7899    12200.0   \n",
       "2000-05-30    59.91    60.22   59.91     60.22            38.6104     1800.0   \n",
       "2000-05-26    59.61    59.61   59.31     59.31            38.0269     2900.0   \n",
       "\n",
       "            7. dividend amount  8. split coefficient  \n",
       "date                                                  \n",
       "2000-06-02                 0.0                   1.0  \n",
       "2000-06-01                 0.0                   1.0  \n",
       "2000-05-31                 0.0                   1.0  \n",
       "2000-05-30                 0.0                   1.0  \n",
       "2000-05-26                 0.0                   1.0  "
      ]
     },
     "execution_count": 3,
     "metadata": {},
     "output_type": "execute_result"
    }
   ],
   "source": [
    "xle_df = api.alpha_vantage.historic_quotes('XLE', adjusted=True, output_format='pandas')\n",
    "\n",
    "\n",
    "xlf_df = api.alpha_vantage.historic_quotes('XLF', adjusted=True, output_format='pandas')\n",
    "\n",
    "ive_df = api.alpha_vantage.historic_quotes('IVE', adjusted=True, output_format='pandas')\n",
    "ive_df.tail()"
   ]
  },
  {
   "cell_type": "code",
   "execution_count": 4,
   "metadata": {},
   "outputs": [
    {
     "data": {
      "text/plain": [
       "Index(['1. open', '2. high', '3. low', '4. close', '5. adjusted close',\n",
       "       '6. volume', '7. dividend amount', '8. split coefficient'],\n",
       "      dtype='object')"
      ]
     },
     "execution_count": 4,
     "metadata": {},
     "output_type": "execute_result"
    }
   ],
   "source": [
    "xle_df.columns"
   ]
  },
  {
   "cell_type": "code",
   "execution_count": 5,
   "metadata": {},
   "outputs": [
    {
     "data": {
      "text/plain": [
       "Index(['1. open', '2. high', '3. low', '4. close', '5. adjusted close',\n",
       "       '6. volume', '7. dividend amount', '8. split coefficient'],\n",
       "      dtype='object')"
      ]
     },
     "execution_count": 5,
     "metadata": {},
     "output_type": "execute_result"
    }
   ],
   "source": [
    "ive_df.columns\n",
    "\n"
   ]
  },
  {
   "cell_type": "code",
   "execution_count": 6,
   "metadata": {},
   "outputs": [
    {
     "data": {
      "text/plain": [
       "Index(['1. open', '2. high', '3. low', '4. close', '5. adjusted close',\n",
       "       '6. volume', '7. dividend amount', '8. split coefficient'],\n",
       "      dtype='object')"
      ]
     },
     "execution_count": 6,
     "metadata": {},
     "output_type": "execute_result"
    }
   ],
   "source": [
    "xlf_df.columns\n"
   ]
  },
  {
   "cell_type": "code",
   "execution_count": 7,
   "metadata": {},
   "outputs": [
    {
     "data": {
      "text/html": [
       "<div>\n",
       "<style scoped>\n",
       "    .dataframe tbody tr th:only-of-type {\n",
       "        vertical-align: middle;\n",
       "    }\n",
       "\n",
       "    .dataframe tbody tr th {\n",
       "        vertical-align: top;\n",
       "    }\n",
       "\n",
       "    .dataframe thead th {\n",
       "        text-align: right;\n",
       "    }\n",
       "</style>\n",
       "<table border=\"1\" class=\"dataframe\">\n",
       "  <thead>\n",
       "    <tr style=\"text-align: right;\">\n",
       "      <th></th>\n",
       "      <th>5. adjusted close</th>\n",
       "      <th>5. adjusted close</th>\n",
       "      <th>5. adjusted close</th>\n",
       "    </tr>\n",
       "    <tr>\n",
       "      <th>date</th>\n",
       "      <th></th>\n",
       "      <th></th>\n",
       "      <th></th>\n",
       "    </tr>\n",
       "  </thead>\n",
       "  <tbody>\n",
       "    <tr>\n",
       "      <th>2020-05-01</th>\n",
       "      <td>35.85</td>\n",
       "      <td>22.06</td>\n",
       "      <td>103.54</td>\n",
       "    </tr>\n",
       "    <tr>\n",
       "      <th>2020-04-30</th>\n",
       "      <td>38.00</td>\n",
       "      <td>22.79</td>\n",
       "      <td>106.49</td>\n",
       "    </tr>\n",
       "    <tr>\n",
       "      <th>2020-04-29</th>\n",
       "      <td>38.86</td>\n",
       "      <td>23.38</td>\n",
       "      <td>108.70</td>\n",
       "    </tr>\n",
       "    <tr>\n",
       "      <th>2020-04-28</th>\n",
       "      <td>36.18</td>\n",
       "      <td>22.72</td>\n",
       "      <td>106.64</td>\n",
       "    </tr>\n",
       "    <tr>\n",
       "      <th>2020-04-27</th>\n",
       "      <td>35.37</td>\n",
       "      <td>22.48</td>\n",
       "      <td>106.19</td>\n",
       "    </tr>\n",
       "  </tbody>\n",
       "</table>\n",
       "</div>"
      ],
      "text/plain": [
       "            5. adjusted close  5. adjusted close  5. adjusted close\n",
       "date                                                               \n",
       "2020-05-01              35.85              22.06             103.54\n",
       "2020-04-30              38.00              22.79             106.49\n",
       "2020-04-29              38.86              23.38             108.70\n",
       "2020-04-28              36.18              22.72             106.64\n",
       "2020-04-27              35.37              22.48             106.19"
      ]
     },
     "execution_count": 7,
     "metadata": {},
     "output_type": "execute_result"
    }
   ],
   "source": [
    "\n",
    "xle_df=xle_df['5. adjusted close']\n",
    "xle_df.head()\n",
    "xlf_df = xlf_df['5. adjusted close']\n",
    "xlf_df.head()\n",
    "ive_df= ive_df ['5. adjusted close']\n",
    "ive_df.head()\n",
    "\n",
    "\n",
    "\n",
    "concat_df = pd.concat([xle_df, xlf_df, ive_df], axis = \"columns\", join = \"inner\")\n",
    "concat_df.head()"
   ]
  },
  {
   "cell_type": "code",
   "execution_count": 8,
   "metadata": {},
   "outputs": [
    {
     "data": {
      "text/html": [
       "<div>\n",
       "<style scoped>\n",
       "    .dataframe tbody tr th:only-of-type {\n",
       "        vertical-align: middle;\n",
       "    }\n",
       "\n",
       "    .dataframe tbody tr th {\n",
       "        vertical-align: top;\n",
       "    }\n",
       "\n",
       "    .dataframe thead th {\n",
       "        text-align: right;\n",
       "    }\n",
       "</style>\n",
       "<table border=\"1\" class=\"dataframe\">\n",
       "  <thead>\n",
       "    <tr style=\"text-align: right;\">\n",
       "      <th></th>\n",
       "      <th>XLE close</th>\n",
       "      <th>XLF close</th>\n",
       "      <th>IVE close</th>\n",
       "    </tr>\n",
       "    <tr>\n",
       "      <th>date</th>\n",
       "      <th></th>\n",
       "      <th></th>\n",
       "      <th></th>\n",
       "    </tr>\n",
       "  </thead>\n",
       "  <tbody>\n",
       "    <tr>\n",
       "      <th>2020-05-01</th>\n",
       "      <td>35.85</td>\n",
       "      <td>22.06</td>\n",
       "      <td>103.54</td>\n",
       "    </tr>\n",
       "    <tr>\n",
       "      <th>2020-04-30</th>\n",
       "      <td>38.00</td>\n",
       "      <td>22.79</td>\n",
       "      <td>106.49</td>\n",
       "    </tr>\n",
       "    <tr>\n",
       "      <th>2020-04-29</th>\n",
       "      <td>38.86</td>\n",
       "      <td>23.38</td>\n",
       "      <td>108.70</td>\n",
       "    </tr>\n",
       "    <tr>\n",
       "      <th>2020-04-28</th>\n",
       "      <td>36.18</td>\n",
       "      <td>22.72</td>\n",
       "      <td>106.64</td>\n",
       "    </tr>\n",
       "    <tr>\n",
       "      <th>2020-04-27</th>\n",
       "      <td>35.37</td>\n",
       "      <td>22.48</td>\n",
       "      <td>106.19</td>\n",
       "    </tr>\n",
       "  </tbody>\n",
       "</table>\n",
       "</div>"
      ],
      "text/plain": [
       "            XLE close  XLF close  IVE close\n",
       "date                                       \n",
       "2020-05-01      35.85      22.06     103.54\n",
       "2020-04-30      38.00      22.79     106.49\n",
       "2020-04-29      38.86      23.38     108.70\n",
       "2020-04-28      36.18      22.72     106.64\n",
       "2020-04-27      35.37      22.48     106.19"
      ]
     },
     "execution_count": 8,
     "metadata": {},
     "output_type": "execute_result"
    }
   ],
   "source": [
    "columns = ['XLE close', 'XLF close', 'IVE close']\n",
    "concat_df.columns = columns\n",
    "concat_df.head()"
   ]
  },
  {
   "cell_type": "code",
   "execution_count": 9,
   "metadata": {},
   "outputs": [
    {
     "data": {
      "text/html": [
       "<div>\n",
       "<style scoped>\n",
       "    .dataframe tbody tr th:only-of-type {\n",
       "        vertical-align: middle;\n",
       "    }\n",
       "\n",
       "    .dataframe tbody tr th {\n",
       "        vertical-align: top;\n",
       "    }\n",
       "\n",
       "    .dataframe thead th {\n",
       "        text-align: right;\n",
       "    }\n",
       "</style>\n",
       "<table border=\"1\" class=\"dataframe\">\n",
       "  <thead>\n",
       "    <tr style=\"text-align: right;\">\n",
       "      <th></th>\n",
       "      <th>XLE close</th>\n",
       "      <th>XLF close</th>\n",
       "      <th>IVE close</th>\n",
       "      <th>XLE_return</th>\n",
       "      <th>XLF_return</th>\n",
       "      <th>IVE_return</th>\n",
       "    </tr>\n",
       "    <tr>\n",
       "      <th>date</th>\n",
       "      <th></th>\n",
       "      <th></th>\n",
       "      <th></th>\n",
       "      <th></th>\n",
       "      <th></th>\n",
       "      <th></th>\n",
       "    </tr>\n",
       "  </thead>\n",
       "  <tbody>\n",
       "    <tr>\n",
       "      <th>2020-05-01</th>\n",
       "      <td>35.85</td>\n",
       "      <td>22.06</td>\n",
       "      <td>103.54</td>\n",
       "      <td>NaN</td>\n",
       "      <td>NaN</td>\n",
       "      <td>NaN</td>\n",
       "    </tr>\n",
       "    <tr>\n",
       "      <th>2020-04-30</th>\n",
       "      <td>38.00</td>\n",
       "      <td>22.79</td>\n",
       "      <td>106.49</td>\n",
       "      <td>0.059972</td>\n",
       "      <td>0.033092</td>\n",
       "      <td>0.028491</td>\n",
       "    </tr>\n",
       "    <tr>\n",
       "      <th>2020-04-29</th>\n",
       "      <td>38.86</td>\n",
       "      <td>23.38</td>\n",
       "      <td>108.70</td>\n",
       "      <td>0.022632</td>\n",
       "      <td>0.025889</td>\n",
       "      <td>0.020753</td>\n",
       "    </tr>\n",
       "    <tr>\n",
       "      <th>2020-04-28</th>\n",
       "      <td>36.18</td>\n",
       "      <td>22.72</td>\n",
       "      <td>106.64</td>\n",
       "      <td>-0.068966</td>\n",
       "      <td>-0.028229</td>\n",
       "      <td>-0.018951</td>\n",
       "    </tr>\n",
       "    <tr>\n",
       "      <th>2020-04-27</th>\n",
       "      <td>35.37</td>\n",
       "      <td>22.48</td>\n",
       "      <td>106.19</td>\n",
       "      <td>-0.022388</td>\n",
       "      <td>-0.010563</td>\n",
       "      <td>-0.004220</td>\n",
       "    </tr>\n",
       "  </tbody>\n",
       "</table>\n",
       "</div>"
      ],
      "text/plain": [
       "            XLE close  XLF close  IVE close  XLE_return  XLF_return  \\\n",
       "date                                                                  \n",
       "2020-05-01      35.85      22.06     103.54         NaN         NaN   \n",
       "2020-04-30      38.00      22.79     106.49    0.059972    0.033092   \n",
       "2020-04-29      38.86      23.38     108.70    0.022632    0.025889   \n",
       "2020-04-28      36.18      22.72     106.64   -0.068966   -0.028229   \n",
       "2020-04-27      35.37      22.48     106.19   -0.022388   -0.010563   \n",
       "\n",
       "            IVE_return  \n",
       "date                    \n",
       "2020-05-01         NaN  \n",
       "2020-04-30    0.028491  \n",
       "2020-04-29    0.020753  \n",
       "2020-04-28   -0.018951  \n",
       "2020-04-27   -0.004220  "
      ]
     },
     "execution_count": 9,
     "metadata": {},
     "output_type": "execute_result"
    }
   ],
   "source": [
    "daily_returns_xle = xle_df.pct_change()\n",
    "concat_df['XLE_return']= daily_returns_xle \n",
    "\n",
    "\n",
    "daily_returns_xlf = xlf_df.pct_change()\n",
    "concat_df['XLF_return']= daily_returns_xlf \n",
    "\n",
    "daily_returns_ive = ive_df.pct_change()\n",
    "concat_df['IVE_return']= daily_returns_ive \n",
    "\n",
    "concat_df.head()"
   ]
  },
  {
   "cell_type": "code",
   "execution_count": 10,
   "metadata": {},
   "outputs": [
    {
     "data": {
      "text/plain": [
       "XLE close     0\n",
       "XLF close     0\n",
       "IVE close     0\n",
       "XLE_return    0\n",
       "XLF_return    0\n",
       "IVE_return    0\n",
       "dtype: int64"
      ]
     },
     "execution_count": 10,
     "metadata": {},
     "output_type": "execute_result"
    }
   ],
   "source": [
    "concat_df.dropna(inplace=True)\n",
    "\n",
    "#count nulls again\n",
    "concat_df.isnull().sum()"
   ]
  },
  {
   "cell_type": "code",
   "execution_count": 11,
   "metadata": {},
   "outputs": [
    {
     "data": {
      "text/html": [
       "<div>\n",
       "<style scoped>\n",
       "    .dataframe tbody tr th:only-of-type {\n",
       "        vertical-align: middle;\n",
       "    }\n",
       "\n",
       "    .dataframe tbody tr th {\n",
       "        vertical-align: top;\n",
       "    }\n",
       "\n",
       "    .dataframe thead th {\n",
       "        text-align: right;\n",
       "    }\n",
       "</style>\n",
       "<table border=\"1\" class=\"dataframe\">\n",
       "  <thead>\n",
       "    <tr style=\"text-align: right;\">\n",
       "      <th></th>\n",
       "      <th>XLE close</th>\n",
       "      <th>XLF close</th>\n",
       "      <th>IVE close</th>\n",
       "      <th>XLE_return</th>\n",
       "      <th>XLF_return</th>\n",
       "      <th>IVE_return</th>\n",
       "    </tr>\n",
       "    <tr>\n",
       "      <th>date</th>\n",
       "      <th></th>\n",
       "      <th></th>\n",
       "      <th></th>\n",
       "      <th></th>\n",
       "      <th></th>\n",
       "      <th></th>\n",
       "    </tr>\n",
       "  </thead>\n",
       "  <tbody>\n",
       "    <tr>\n",
       "      <th>2020-04-30</th>\n",
       "      <td>38.0000</td>\n",
       "      <td>22.7900</td>\n",
       "      <td>106.4900</td>\n",
       "      <td>0.059972</td>\n",
       "      <td>0.033092</td>\n",
       "      <td>0.028491</td>\n",
       "    </tr>\n",
       "    <tr>\n",
       "      <th>2020-04-29</th>\n",
       "      <td>38.8600</td>\n",
       "      <td>23.3800</td>\n",
       "      <td>108.7000</td>\n",
       "      <td>0.022632</td>\n",
       "      <td>0.025889</td>\n",
       "      <td>0.020753</td>\n",
       "    </tr>\n",
       "    <tr>\n",
       "      <th>2020-04-28</th>\n",
       "      <td>36.1800</td>\n",
       "      <td>22.7200</td>\n",
       "      <td>106.6400</td>\n",
       "      <td>-0.068966</td>\n",
       "      <td>-0.028229</td>\n",
       "      <td>-0.018951</td>\n",
       "    </tr>\n",
       "    <tr>\n",
       "      <th>2020-04-27</th>\n",
       "      <td>35.3700</td>\n",
       "      <td>22.4800</td>\n",
       "      <td>106.1900</td>\n",
       "      <td>-0.022388</td>\n",
       "      <td>-0.010563</td>\n",
       "      <td>-0.004220</td>\n",
       "    </tr>\n",
       "    <tr>\n",
       "      <th>2020-04-24</th>\n",
       "      <td>34.6200</td>\n",
       "      <td>21.7400</td>\n",
       "      <td>103.9900</td>\n",
       "      <td>-0.021204</td>\n",
       "      <td>-0.032918</td>\n",
       "      <td>-0.020718</td>\n",
       "    </tr>\n",
       "    <tr>\n",
       "      <th>...</th>\n",
       "      <td>...</td>\n",
       "      <td>...</td>\n",
       "      <td>...</td>\n",
       "      <td>...</td>\n",
       "      <td>...</td>\n",
       "      <td>...</td>\n",
       "    </tr>\n",
       "    <tr>\n",
       "      <th>2000-06-02</th>\n",
       "      <td>19.6712</td>\n",
       "      <td>14.5807</td>\n",
       "      <td>39.9311</td>\n",
       "      <td>0.014455</td>\n",
       "      <td>0.023164</td>\n",
       "      <td>0.004516</td>\n",
       "    </tr>\n",
       "    <tr>\n",
       "      <th>2000-06-01</th>\n",
       "      <td>20.3655</td>\n",
       "      <td>14.0070</td>\n",
       "      <td>39.3797</td>\n",
       "      <td>0.035295</td>\n",
       "      <td>-0.039347</td>\n",
       "      <td>-0.013809</td>\n",
       "    </tr>\n",
       "    <tr>\n",
       "      <th>2000-05-31</th>\n",
       "      <td>20.5566</td>\n",
       "      <td>13.5578</td>\n",
       "      <td>38.7899</td>\n",
       "      <td>0.009384</td>\n",
       "      <td>-0.032070</td>\n",
       "      <td>-0.014977</td>\n",
       "    </tr>\n",
       "    <tr>\n",
       "      <th>2000-05-30</th>\n",
       "      <td>19.9578</td>\n",
       "      <td>13.3954</td>\n",
       "      <td>38.6104</td>\n",
       "      <td>-0.029129</td>\n",
       "      <td>-0.011978</td>\n",
       "      <td>-0.004627</td>\n",
       "    </tr>\n",
       "    <tr>\n",
       "      <th>2000-05-26</th>\n",
       "      <td>19.6775</td>\n",
       "      <td>13.1248</td>\n",
       "      <td>38.0269</td>\n",
       "      <td>-0.014045</td>\n",
       "      <td>-0.020201</td>\n",
       "      <td>-0.015113</td>\n",
       "    </tr>\n",
       "  </tbody>\n",
       "</table>\n",
       "<p>5013 rows × 6 columns</p>\n",
       "</div>"
      ],
      "text/plain": [
       "            XLE close  XLF close  IVE close  XLE_return  XLF_return  \\\n",
       "date                                                                  \n",
       "2020-04-30    38.0000    22.7900   106.4900    0.059972    0.033092   \n",
       "2020-04-29    38.8600    23.3800   108.7000    0.022632    0.025889   \n",
       "2020-04-28    36.1800    22.7200   106.6400   -0.068966   -0.028229   \n",
       "2020-04-27    35.3700    22.4800   106.1900   -0.022388   -0.010563   \n",
       "2020-04-24    34.6200    21.7400   103.9900   -0.021204   -0.032918   \n",
       "...               ...        ...        ...         ...         ...   \n",
       "2000-06-02    19.6712    14.5807    39.9311    0.014455    0.023164   \n",
       "2000-06-01    20.3655    14.0070    39.3797    0.035295   -0.039347   \n",
       "2000-05-31    20.5566    13.5578    38.7899    0.009384   -0.032070   \n",
       "2000-05-30    19.9578    13.3954    38.6104   -0.029129   -0.011978   \n",
       "2000-05-26    19.6775    13.1248    38.0269   -0.014045   -0.020201   \n",
       "\n",
       "            IVE_return  \n",
       "date                    \n",
       "2020-04-30    0.028491  \n",
       "2020-04-29    0.020753  \n",
       "2020-04-28   -0.018951  \n",
       "2020-04-27   -0.004220  \n",
       "2020-04-24   -0.020718  \n",
       "...                ...  \n",
       "2000-06-02    0.004516  \n",
       "2000-06-01   -0.013809  \n",
       "2000-05-31   -0.014977  \n",
       "2000-05-30   -0.004627  \n",
       "2000-05-26   -0.015113  \n",
       "\n",
       "[5013 rows x 6 columns]"
      ]
     },
     "execution_count": 11,
     "metadata": {},
     "output_type": "execute_result"
    }
   ],
   "source": [
    "concat_df.drop_duplicates(inplace=True)\n",
    "concat_df"
   ]
  },
  {
   "cell_type": "code",
   "execution_count": 12,
   "metadata": {},
   "outputs": [
    {
     "data": {
      "text/plain": [
       "XLE close     float64\n",
       "XLF close     float64\n",
       "IVE close     float64\n",
       "XLE_return    float64\n",
       "XLF_return    float64\n",
       "IVE_return    float64\n",
       "dtype: object"
      ]
     },
     "execution_count": 12,
     "metadata": {},
     "output_type": "execute_result"
    }
   ],
   "source": [
    "concat_df.dtypes"
   ]
  },
  {
   "cell_type": "code",
   "execution_count": 13,
   "metadata": {},
   "outputs": [
    {
     "data": {
      "text/plain": [
       "XLE close     5013\n",
       "XLF close     5013\n",
       "IVE close     5013\n",
       "XLE_return    5013\n",
       "XLF_return    5013\n",
       "IVE_return    5013\n",
       "dtype: int64"
      ]
     },
     "execution_count": 13,
     "metadata": {},
     "output_type": "execute_result"
    }
   ],
   "source": [
    "concat_df.count()\n"
   ]
  },
  {
   "cell_type": "code",
   "execution_count": 14,
   "metadata": {},
   "outputs": [
    {
     "data": {
      "text/html": [
       "<div>\n",
       "<style scoped>\n",
       "    .dataframe tbody tr th:only-of-type {\n",
       "        vertical-align: middle;\n",
       "    }\n",
       "\n",
       "    .dataframe tbody tr th {\n",
       "        vertical-align: top;\n",
       "    }\n",
       "\n",
       "    .dataframe thead th {\n",
       "        text-align: right;\n",
       "    }\n",
       "</style>\n",
       "<table border=\"1\" class=\"dataframe\">\n",
       "  <thead>\n",
       "    <tr style=\"text-align: right;\">\n",
       "      <th></th>\n",
       "      <th>XLE close</th>\n",
       "      <th>XLF close</th>\n",
       "      <th>IVE close</th>\n",
       "      <th>XLE_return</th>\n",
       "      <th>XLF_return</th>\n",
       "      <th>IVE_return</th>\n",
       "    </tr>\n",
       "  </thead>\n",
       "  <tbody>\n",
       "    <tr>\n",
       "      <th>count</th>\n",
       "      <td>5013.000000</td>\n",
       "      <td>5013.000000</td>\n",
       "      <td>5013.000000</td>\n",
       "      <td>5013.000000</td>\n",
       "      <td>5013.000000</td>\n",
       "      <td>5013.000000</td>\n",
       "    </tr>\n",
       "    <tr>\n",
       "      <th>mean</th>\n",
       "      <td>44.792161</td>\n",
       "      <td>16.684513</td>\n",
       "      <td>60.690082</td>\n",
       "      <td>0.000045</td>\n",
       "      <td>0.000075</td>\n",
       "      <td>-0.000117</td>\n",
       "    </tr>\n",
       "    <tr>\n",
       "      <th>std</th>\n",
       "      <td>17.779059</td>\n",
       "      <td>5.466104</td>\n",
       "      <td>26.178638</td>\n",
       "      <td>0.018283</td>\n",
       "      <td>0.018955</td>\n",
       "      <td>0.012926</td>\n",
       "    </tr>\n",
       "    <tr>\n",
       "      <th>min</th>\n",
       "      <td>13.110500</td>\n",
       "      <td>4.097100</td>\n",
       "      <td>23.767400</td>\n",
       "      <td>-0.166829</td>\n",
       "      <td>-0.140908</td>\n",
       "      <td>-0.096693</td>\n",
       "    </tr>\n",
       "    <tr>\n",
       "      <th>25%</th>\n",
       "      <td>29.468200</td>\n",
       "      <td>12.756900</td>\n",
       "      <td>40.285000</td>\n",
       "      <td>-0.009201</td>\n",
       "      <td>-0.007456</td>\n",
       "      <td>-0.005784</td>\n",
       "    </tr>\n",
       "    <tr>\n",
       "      <th>50%</th>\n",
       "      <td>49.699200</td>\n",
       "      <td>16.250000</td>\n",
       "      <td>50.948900</td>\n",
       "      <td>-0.000591</td>\n",
       "      <td>-0.000455</td>\n",
       "      <td>-0.000714</td>\n",
       "    </tr>\n",
       "    <tr>\n",
       "      <th>75%</th>\n",
       "      <td>58.900500</td>\n",
       "      <td>19.805800</td>\n",
       "      <td>80.519200</td>\n",
       "      <td>0.008034</td>\n",
       "      <td>0.006622</td>\n",
       "      <td>0.004806</td>\n",
       "    </tr>\n",
       "    <tr>\n",
       "      <th>max</th>\n",
       "      <td>81.486300</td>\n",
       "      <td>30.891400</td>\n",
       "      <td>130.626300</td>\n",
       "      <td>0.252212</td>\n",
       "      <td>0.200006</td>\n",
       "      <td>0.125944</td>\n",
       "    </tr>\n",
       "  </tbody>\n",
       "</table>\n",
       "</div>"
      ],
      "text/plain": [
       "         XLE close    XLF close    IVE close   XLE_return   XLF_return  \\\n",
       "count  5013.000000  5013.000000  5013.000000  5013.000000  5013.000000   \n",
       "mean     44.792161    16.684513    60.690082     0.000045     0.000075   \n",
       "std      17.779059     5.466104    26.178638     0.018283     0.018955   \n",
       "min      13.110500     4.097100    23.767400    -0.166829    -0.140908   \n",
       "25%      29.468200    12.756900    40.285000    -0.009201    -0.007456   \n",
       "50%      49.699200    16.250000    50.948900    -0.000591    -0.000455   \n",
       "75%      58.900500    19.805800    80.519200     0.008034     0.006622   \n",
       "max      81.486300    30.891400   130.626300     0.252212     0.200006   \n",
       "\n",
       "        IVE_return  \n",
       "count  5013.000000  \n",
       "mean     -0.000117  \n",
       "std       0.012926  \n",
       "min      -0.096693  \n",
       "25%      -0.005784  \n",
       "50%      -0.000714  \n",
       "75%       0.004806  \n",
       "max       0.125944  "
      ]
     },
     "execution_count": 14,
     "metadata": {},
     "output_type": "execute_result"
    }
   ],
   "source": [
    "concat_df.describe()"
   ]
  },
  {
   "cell_type": "code",
   "execution_count": 15,
   "metadata": {},
   "outputs": [
    {
     "data": {
      "text/plain": [
       "<matplotlib.axes._subplots.AxesSubplot at 0x12062c050>"
      ]
     },
     "execution_count": 15,
     "metadata": {},
     "output_type": "execute_result"
    },
    {
     "data": {
      "image/png": "[encoded data removed]",
      "text/plain": [
       "<Figure size 720x360 with 1 Axes>"
      ]
     },
     "metadata": {
      "needs_background": "light"
     },
     "output_type": "display_data"
    }
   ],
   "source": [
    "concat_df['XLE_return'].plot(figsize=(10,5), legend= True, title= \"Energy Sector\", color= \"pink\")"
   ]
  },
  {
   "cell_type": "code",
   "execution_count": 16,
   "metadata": {},
   "outputs": [
    {
     "data": {
      "text/plain": [
       "<matplotlib.axes._subplots.AxesSubplot at 0x12242e050>"
      ]
     },
     "execution_count": 16,
     "metadata": {},
     "output_type": "execute_result"
    },
    {
     "data": {
      "image/png": "[encoded data removed]",
      "text/plain": [
       "<Figure size 720x360 with 1 Axes>"
      ]
     },
     "metadata": {
      "needs_background": "light"
     },
     "output_type": "display_data"
    }
   ],
   "source": [
    "concat_df['XLF_return'].plot(figsize=(10,5), legend= True, title=\"Financial Sector\", color=\"green\")"
   ]
  },
  {
   "cell_type": "code",
   "execution_count": 17,
   "metadata": {},
   "outputs": [
    {
     "data": {
      "text/plain": [
       "<matplotlib.axes._subplots.AxesSubplot at 0x121f8ccd0>"
      ]
     },
     "execution_count": 17,
     "metadata": {},
     "output_type": "execute_result"
    },
    {
     "data": {
      "image/png": "[encoded data removed]",
      "text/plain": [
       "<Figure size 720x360 with 1 Axes>"
      ]
     },
     "metadata": {
      "needs_background": "light"
     },
     "output_type": "display_data"
    }
   ],
   "source": [
    "concat_df['IVE_return'].plot(figsize=(10,5), legend= True, title= \"S&P Value\", color= \"purple\")"
   ]
  },
  {
   "cell_type": "code",
   "execution_count": 18,
   "metadata": {},
   "outputs": [
    {
     "data": {
      "text/plain": [
       "date\n",
       "2020-04-30    1.059972\n",
       "2020-04-29    1.083961\n",
       "2020-04-28    1.009205\n",
       "2020-04-27    0.986611\n",
       "2020-04-24    0.965690\n",
       "Name: XLE_return, dtype: float64"
      ]
     },
     "execution_count": 18,
     "metadata": {},
     "output_type": "execute_result"
    }
   ],
   "source": [
    "\n",
    "cumulative_returns_xle = (1 + concat_df['XLE_return']).cumprod()\n",
    "cumulative_returns_xlf = (1 + concat_df['XLF_return']).cumprod()\n",
    "cumulative_returns_ive =(1+ concat_df['IVE_return']).cumprod()\n",
    "cumulative_returns_xle.head()"
   ]
  },
  {
   "cell_type": "code",
   "execution_count": 19,
   "metadata": {},
   "outputs": [],
   "source": [
    "#umulative_returns_xle.rename(columns={'5. adjusted close':'XLE'})\n",
    "#cumulative_returns_xle"
   ]
  },
  {
   "cell_type": "code",
   "execution_count": 20,
   "metadata": {},
   "outputs": [
    {
     "data": {
      "text/plain": [
       "<matplotlib.axes._subplots.AxesSubplot at 0x122956c10>"
      ]
     },
     "execution_count": 20,
     "metadata": {},
     "output_type": "execute_result"
    },
    {
     "data": {
      "image/png": "[encoded data removed]",
      "text/plain": [
       "<Figure size 720x360 with 1 Axes>"
      ]
     },
     "metadata": {
      "needs_background": "light"
     },
     "output_type": "display_data"
    }
   ],
   "source": [
    "cumulative_returns_xle.plot(figsize=(10,5), legend= True)\n",
    "cumulative_returns_xlf.plot(figsize=(10,5), legend= True)\n",
    "cumulative_returns_ive.plot(figsize= (10,5), legend= True)"
   ]
  },
  {
   "cell_type": "code",
   "execution_count": 21,
   "metadata": {},
   "outputs": [],
   "source": [
    "#need to rename "
   ]
  },
  {
   "cell_type": "code",
   "execution_count": 22,
   "metadata": {},
   "outputs": [
    {
     "name": "stdout",
     "output_type": "stream",
     "text": [
      " XLE standard deviation is 0.01828339900689771\n",
      " XLF standard deviation is 0.01895501050188839\n",
      " IVE standard deviation is 0.012925798532278363\n",
      "[0.012925798532278363, 0.01828339900689771, 0.01895501050188839]\n"
     ]
    }
   ],
   "source": [
    "xle_std = concat_df['XLE_return'].std()\n",
    "print(f' XLE standard deviation is {xle_std}')\n",
    "\n",
    "\n",
    "xlf_std = concat_df['XLF_return'].std()\n",
    "print(f' XLF standard deviation is {xlf_std}')\n",
    "\n",
    "ive_std = concat_df['IVE_return'].std()\n",
    "print(f' IVE standard deviation is {ive_std}')\n",
    "\n",
    "\n",
    "# Identify the sector with highest standard deviation (riskiest)\n",
    "sectors = [xle_std, xlf_std, ive_std]\n",
    "sectors.sort()\n",
    "print(sectors)"
   ]
  },
  {
   "cell_type": "code",
   "execution_count": 23,
   "metadata": {},
   "outputs": [
    {
     "data": {
      "text/plain": [
       "0.20519069047999344"
      ]
     },
     "execution_count": 23,
     "metadata": {},
     "output_type": "execute_result"
    }
   ],
   "source": [
    "annualized_xle_std = xle_std * np.sqrt(252)\n",
    "annualized_xle_std\n",
    "\n",
    "annualized_xlf_std = xlf_std * np.sqrt(252)\n",
    "annualized_xlf_std\n",
    "\n",
    "annualized_ive_std = ive_std * np.sqrt(252)\n",
    "annualized_ive_std\n",
    "\n"
   ]
  },
  {
   "cell_type": "code",
   "execution_count": 24,
   "metadata": {},
   "outputs": [
    {
     "data": {
      "text/html": [
       "<div>\n",
       "<style scoped>\n",
       "    .dataframe tbody tr th:only-of-type {\n",
       "        vertical-align: middle;\n",
       "    }\n",
       "\n",
       "    .dataframe tbody tr th {\n",
       "        vertical-align: top;\n",
       "    }\n",
       "\n",
       "    .dataframe thead th {\n",
       "        text-align: right;\n",
       "    }\n",
       "</style>\n",
       "<table border=\"1\" class=\"dataframe\">\n",
       "  <thead>\n",
       "    <tr style=\"text-align: right;\">\n",
       "      <th></th>\n",
       "      <th>XLE std</th>\n",
       "      <th>XLF std</th>\n",
       "      <th>IVE std</th>\n",
       "    </tr>\n",
       "    <tr>\n",
       "      <th>date</th>\n",
       "      <th></th>\n",
       "      <th></th>\n",
       "      <th></th>\n",
       "    </tr>\n",
       "  </thead>\n",
       "  <tbody>\n",
       "    <tr>\n",
       "      <th>2020-04-30</th>\n",
       "      <td>0.059972</td>\n",
       "      <td>0.033092</td>\n",
       "      <td>0.028491</td>\n",
       "    </tr>\n",
       "    <tr>\n",
       "      <th>2020-04-29</th>\n",
       "      <td>0.022632</td>\n",
       "      <td>0.025889</td>\n",
       "      <td>0.020753</td>\n",
       "    </tr>\n",
       "    <tr>\n",
       "      <th>2020-04-28</th>\n",
       "      <td>-0.068966</td>\n",
       "      <td>-0.028229</td>\n",
       "      <td>-0.018951</td>\n",
       "    </tr>\n",
       "    <tr>\n",
       "      <th>2020-04-27</th>\n",
       "      <td>-0.022388</td>\n",
       "      <td>-0.010563</td>\n",
       "      <td>-0.004220</td>\n",
       "    </tr>\n",
       "    <tr>\n",
       "      <th>2020-04-24</th>\n",
       "      <td>-0.021204</td>\n",
       "      <td>-0.032918</td>\n",
       "      <td>-0.020718</td>\n",
       "    </tr>\n",
       "    <tr>\n",
       "      <th>...</th>\n",
       "      <td>...</td>\n",
       "      <td>...</td>\n",
       "      <td>...</td>\n",
       "    </tr>\n",
       "    <tr>\n",
       "      <th>2000-06-02</th>\n",
       "      <td>0.014455</td>\n",
       "      <td>0.023164</td>\n",
       "      <td>0.004516</td>\n",
       "    </tr>\n",
       "    <tr>\n",
       "      <th>2000-06-01</th>\n",
       "      <td>0.035295</td>\n",
       "      <td>-0.039347</td>\n",
       "      <td>-0.013809</td>\n",
       "    </tr>\n",
       "    <tr>\n",
       "      <th>2000-05-31</th>\n",
       "      <td>0.009384</td>\n",
       "      <td>-0.032070</td>\n",
       "      <td>-0.014977</td>\n",
       "    </tr>\n",
       "    <tr>\n",
       "      <th>2000-05-30</th>\n",
       "      <td>-0.029129</td>\n",
       "      <td>-0.011978</td>\n",
       "      <td>-0.004627</td>\n",
       "    </tr>\n",
       "    <tr>\n",
       "      <th>2000-05-26</th>\n",
       "      <td>-0.014045</td>\n",
       "      <td>-0.020201</td>\n",
       "      <td>-0.015113</td>\n",
       "    </tr>\n",
       "  </tbody>\n",
       "</table>\n",
       "<p>5013 rows × 3 columns</p>\n",
       "</div>"
      ],
      "text/plain": [
       "             XLE std   XLF std   IVE std\n",
       "date                                    \n",
       "2020-04-30  0.059972  0.033092  0.028491\n",
       "2020-04-29  0.022632  0.025889  0.020753\n",
       "2020-04-28 -0.068966 -0.028229 -0.018951\n",
       "2020-04-27 -0.022388 -0.010563 -0.004220\n",
       "2020-04-24 -0.021204 -0.032918 -0.020718\n",
       "...              ...       ...       ...\n",
       "2000-06-02  0.014455  0.023164  0.004516\n",
       "2000-06-01  0.035295 -0.039347 -0.013809\n",
       "2000-05-31  0.009384 -0.032070 -0.014977\n",
       "2000-05-30 -0.029129 -0.011978 -0.004627\n",
       "2000-05-26 -0.014045 -0.020201 -0.015113\n",
       "\n",
       "[5013 rows x 3 columns]"
      ]
     },
     "execution_count": 24,
     "metadata": {},
     "output_type": "execute_result"
    }
   ],
   "source": [
    "sectors_std = pd.DataFrame({\n",
    "    \"xle_std\": concat_df['XLE_return'],\n",
    "    \"xlf_std\": concat_df['XLF_return'],\n",
    "    \"ive_std\": concat_df['IVE_return'],\n",
    "})\n",
    "sectors_std.rename(columns={\"xle_std\": \"XLE std\", \"xlf_std\": \"XLF std\", \"ive_std\": \"IVE std\"})\n",
    "\n",
    "\n"
   ]
  },
  {
   "cell_type": "code",
   "execution_count": 25,
   "metadata": {},
   "outputs": [
    {
     "data": {
      "text/plain": [
       "<matplotlib.axes._subplots.AxesSubplot at 0x122f33bd0>"
      ]
     },
     "execution_count": 25,
     "metadata": {},
     "output_type": "execute_result"
    },
    {
     "data": {
      "image/png": "[encoded data removed]",
      "text/plain": [
       "<Figure size 432x288 with 1 Axes>"
      ]
     },
     "metadata": {
      "needs_background": "light"
     },
     "output_type": "display_data"
    }
   ],
   "source": [
    "sectors_std.plot.hist(stacked=True, bins=100)"
   ]
  },
  {
   "cell_type": "code",
   "execution_count": 26,
   "metadata": {},
   "outputs": [
    {
     "data": {
      "text/plain": [
       "<matplotlib.axes._subplots.AxesSubplot at 0x123a22190>"
      ]
     },
     "execution_count": 26,
     "metadata": {},
     "output_type": "execute_result"
    },
    {
     "data": {
      "image/png": "[encoded data removed]",
      "text/plain": [
       "<Figure size 432x288 with 1 Axes>"
      ]
     },
     "metadata": {
      "needs_background": "light"
     },
     "output_type": "display_data"
    }
   ],
   "source": [
    "sectors_std.plot.box()"
   ]
  },
  {
   "cell_type": "code",
   "execution_count": 27,
   "metadata": {},
   "outputs": [
    {
     "name": "stdout",
     "output_type": "stream",
     "text": [
      " XLE: 0.039460555103316114, XLF: 0.06292343671253378, IVE:-0.14330772832848165\n"
     ]
    }
   ],
   "source": [
    "XLE_sharpe_ratio = (concat_df['XLE_return'].mean() * 252) / (concat_df['XLE_return'].std() * np.sqrt(252))\n",
    "\n",
    "XLF_sharpe_ratio = (concat_df['XLF_return'].mean() * 252) / (concat_df['XLF_return'].std() * np.sqrt(252))\n",
    "\n",
    "IVE_sharpe_ratio = (concat_df['IVE_return'].mean() * 252) / (concat_df['IVE_return'].std() * np.sqrt(252))\n",
    "\n",
    "\n",
    "print(f\" XLE: {XLE_sharpe_ratio}, XLF: {XLF_sharpe_ratio}, IVE:{IVE_sharpe_ratio}\")\n"
   ]
  },
  {
   "cell_type": "code",
   "execution_count": 28,
   "metadata": {},
   "outputs": [
    {
     "data": {
      "image/png": "[encoded data removed]",
      "text/plain": [
       "<Figure size 432x288 with 1 Axes>"
      ]
     },
     "metadata": {
      "needs_background": "light"
     },
     "output_type": "display_data"
    }
   ],
   "source": [
    "objects = ('XLE', 'XLF', 'IVE')\n",
    "y_pos = np.arange(len(objects))\n",
    "sharpe = [XLE_sharpe_ratio,XLF_sharpe_ratio,IVE_sharpe_ratio]\n",
    "\n",
    "plt.bar(y_pos, sharpe, align='center')\n",
    "plt.xticks(y_pos, objects)\n",
    "plt.ylabel('Sharpe')\n",
    "plt.title('Sharpe Ratios')\n",
    "\n",
    "plt.show()"
   ]
  },
  {
   "cell_type": "code",
   "execution_count": 29,
   "metadata": {},
   "outputs": [
    {
     "data": {
      "text/html": [
       "<div>\n",
       "<style scoped>\n",
       "    .dataframe tbody tr th:only-of-type {\n",
       "        vertical-align: middle;\n",
       "    }\n",
       "\n",
       "    .dataframe tbody tr th {\n",
       "        vertical-align: top;\n",
       "    }\n",
       "\n",
       "    .dataframe thead th {\n",
       "        text-align: right;\n",
       "    }\n",
       "</style>\n",
       "<table border=\"1\" class=\"dataframe\">\n",
       "  <thead>\n",
       "    <tr style=\"text-align: right;\">\n",
       "      <th></th>\n",
       "      <th>XLE_return</th>\n",
       "      <th>XLF_return</th>\n",
       "      <th>IVE_return</th>\n",
       "    </tr>\n",
       "    <tr>\n",
       "      <th>date</th>\n",
       "      <th></th>\n",
       "      <th></th>\n",
       "      <th></th>\n",
       "    </tr>\n",
       "  </thead>\n",
       "  <tbody>\n",
       "    <tr>\n",
       "      <th>2020-04-30</th>\n",
       "      <td>0.059972</td>\n",
       "      <td>0.033092</td>\n",
       "      <td>0.028491</td>\n",
       "    </tr>\n",
       "    <tr>\n",
       "      <th>2020-04-29</th>\n",
       "      <td>0.022632</td>\n",
       "      <td>0.025889</td>\n",
       "      <td>0.020753</td>\n",
       "    </tr>\n",
       "    <tr>\n",
       "      <th>2020-04-28</th>\n",
       "      <td>-0.068966</td>\n",
       "      <td>-0.028229</td>\n",
       "      <td>-0.018951</td>\n",
       "    </tr>\n",
       "    <tr>\n",
       "      <th>2020-04-27</th>\n",
       "      <td>-0.022388</td>\n",
       "      <td>-0.010563</td>\n",
       "      <td>-0.004220</td>\n",
       "    </tr>\n",
       "    <tr>\n",
       "      <th>2020-04-24</th>\n",
       "      <td>-0.021204</td>\n",
       "      <td>-0.032918</td>\n",
       "      <td>-0.020718</td>\n",
       "    </tr>\n",
       "  </tbody>\n",
       "</table>\n",
       "</div>"
      ],
      "text/plain": [
       "            XLE_return  XLF_return  IVE_return\n",
       "date                                          \n",
       "2020-04-30    0.059972    0.033092    0.028491\n",
       "2020-04-29    0.022632    0.025889    0.020753\n",
       "2020-04-28   -0.068966   -0.028229   -0.018951\n",
       "2020-04-27   -0.022388   -0.010563   -0.004220\n",
       "2020-04-24   -0.021204   -0.032918   -0.020718"
      ]
     },
     "execution_count": 29,
     "metadata": {},
     "output_type": "execute_result"
    }
   ],
   "source": [
    "returns= concat_df.drop(['XLE close', 'XLF close', \"IVE close\"], axis=1)\n",
    "\n",
    "returns.head()"
   ]
  },
  {
   "cell_type": "code",
   "execution_count": 30,
   "metadata": {},
   "outputs": [
    {
     "data": {
      "text/html": [
       "<div>\n",
       "<style scoped>\n",
       "    .dataframe tbody tr th:only-of-type {\n",
       "        vertical-align: middle;\n",
       "    }\n",
       "\n",
       "    .dataframe tbody tr th {\n",
       "        vertical-align: top;\n",
       "    }\n",
       "\n",
       "    .dataframe thead th {\n",
       "        text-align: right;\n",
       "    }\n",
       "</style>\n",
       "<table border=\"1\" class=\"dataframe\">\n",
       "  <thead>\n",
       "    <tr style=\"text-align: right;\">\n",
       "      <th></th>\n",
       "      <th>XLE_return</th>\n",
       "      <th>XLF_return</th>\n",
       "      <th>IVE_return</th>\n",
       "    </tr>\n",
       "  </thead>\n",
       "  <tbody>\n",
       "    <tr>\n",
       "      <th>XLE_return</th>\n",
       "      <td>1.000000</td>\n",
       "      <td>0.599633</td>\n",
       "      <td>0.731827</td>\n",
       "    </tr>\n",
       "    <tr>\n",
       "      <th>XLF_return</th>\n",
       "      <td>0.599633</td>\n",
       "      <td>1.000000</td>\n",
       "      <td>0.901697</td>\n",
       "    </tr>\n",
       "    <tr>\n",
       "      <th>IVE_return</th>\n",
       "      <td>0.731827</td>\n",
       "      <td>0.901697</td>\n",
       "      <td>1.000000</td>\n",
       "    </tr>\n",
       "  </tbody>\n",
       "</table>\n",
       "</div>"
      ],
      "text/plain": [
       "            XLE_return  XLF_return  IVE_return\n",
       "XLE_return    1.000000    0.599633    0.731827\n",
       "XLF_return    0.599633    1.000000    0.901697\n",
       "IVE_return    0.731827    0.901697    1.000000"
      ]
     },
     "execution_count": 30,
     "metadata": {},
     "output_type": "execute_result"
    }
   ],
   "source": [
    "correlation=returns.corr()\n",
    "correlation"
   ]
  },
  {
   "cell_type": "code",
   "execution_count": 31,
   "metadata": {},
   "outputs": [],
   "source": [
    "import seaborn as sns\n"
   ]
  },
  {
   "cell_type": "code",
   "execution_count": 32,
   "metadata": {},
   "outputs": [
    {
     "data": {
      "text/plain": [
       "<matplotlib.axes._subplots.AxesSubplot at 0x1a25d3eb50>"
      ]
     },
     "execution_count": 32,
     "metadata": {},
     "output_type": "execute_result"
    },
    {
     "data": {
      "image/png": "[encoded data removed]",
      "text/plain": [
       "<Figure size 432x288 with 2 Axes>"
      ]
     },
     "metadata": {
      "needs_background": "light"
     },
     "output_type": "display_data"
    }
   ],
   "source": [
    "sns.heatmap(correlation)"
   ]
  },
  {
   "cell_type": "code",
   "execution_count": 33,
   "metadata": {},
   "outputs": [
    {
     "name": "stdout",
     "output_type": "stream",
     "text": [
      "The average daily return of XLE is 4.5448531700011875e-05\n",
      "The average daily return of XLF is 7.513394517422639e-05\n",
      "The average daily return of IVE is -0.00011668814177317646\n"
     ]
    }
   ],
   "source": [
    "avg_daily_return_xle = concat_df.mean()['XLE_return']\n",
    "print(f\"The average daily return of XLE is {avg_daily_return_xle}\")\n",
    "\n",
    "\n",
    "avg_daily_return_xlf = concat_df.mean()['XLF_return']\n",
    "print(f\"The average daily return of XLF is {avg_daily_return_xlf}\")\n",
    "\n",
    "avg_daily_return_ive = concat_df.mean()['IVE_return']\n",
    "print(f\"The average daily return of IVE is {avg_daily_return_ive}\")"
   ]
  },
  {
   "cell_type": "code",
   "execution_count": 34,
   "metadata": {},
   "outputs": [],
   "source": [
    "num_simulations = 3000\n",
    "\n",
    "\n",
    "num_trading_days = 30\n",
    "XLE_last_price = concat_df['XLE close'][-1]\n",
    "\n",
    "simulated_prices_XLE_df = pd.DataFrame()"
   ]
  },
  {
   "cell_type": "code",
   "execution_count": 35,
   "metadata": {},
   "outputs": [
    {
     "data": {
      "text/html": [
       "<div>\n",
       "<style scoped>\n",
       "    .dataframe tbody tr th:only-of-type {\n",
       "        vertical-align: middle;\n",
       "    }\n",
       "\n",
       "    .dataframe tbody tr th {\n",
       "        vertical-align: top;\n",
       "    }\n",
       "\n",
       "    .dataframe thead th {\n",
       "        text-align: right;\n",
       "    }\n",
       "</style>\n",
       "<table border=\"1\" class=\"dataframe\">\n",
       "  <thead>\n",
       "    <tr style=\"text-align: right;\">\n",
       "      <th></th>\n",
       "      <th>Simulation 1</th>\n",
       "      <th>Simulation 2</th>\n",
       "      <th>Simulation 3</th>\n",
       "      <th>Simulation 4</th>\n",
       "      <th>Simulation 5</th>\n",
       "      <th>Simulation 6</th>\n",
       "      <th>Simulation 7</th>\n",
       "      <th>Simulation 8</th>\n",
       "      <th>Simulation 9</th>\n",
       "      <th>Simulation 10</th>\n",
       "      <th>...</th>\n",
       "      <th>Simulation 2991</th>\n",
       "      <th>Simulation 2992</th>\n",
       "      <th>Simulation 2993</th>\n",
       "      <th>Simulation 2994</th>\n",
       "      <th>Simulation 2995</th>\n",
       "      <th>Simulation 2996</th>\n",
       "      <th>Simulation 2997</th>\n",
       "      <th>Simulation 2998</th>\n",
       "      <th>Simulation 2999</th>\n",
       "      <th>Simulation 3000</th>\n",
       "    </tr>\n",
       "  </thead>\n",
       "  <tbody>\n",
       "    <tr>\n",
       "      <th>0</th>\n",
       "      <td>19.677500</td>\n",
       "      <td>19.677500</td>\n",
       "      <td>19.677500</td>\n",
       "      <td>19.677500</td>\n",
       "      <td>19.677500</td>\n",
       "      <td>19.677500</td>\n",
       "      <td>19.677500</td>\n",
       "      <td>19.677500</td>\n",
       "      <td>19.677500</td>\n",
       "      <td>19.677500</td>\n",
       "      <td>...</td>\n",
       "      <td>19.677500</td>\n",
       "      <td>19.677500</td>\n",
       "      <td>19.677500</td>\n",
       "      <td>19.677500</td>\n",
       "      <td>19.677500</td>\n",
       "      <td>19.677500</td>\n",
       "      <td>19.677500</td>\n",
       "      <td>19.677500</td>\n",
       "      <td>19.677500</td>\n",
       "      <td>19.677500</td>\n",
       "    </tr>\n",
       "    <tr>\n",
       "      <th>1</th>\n",
       "      <td>20.146694</td>\n",
       "      <td>20.006333</td>\n",
       "      <td>19.648634</td>\n",
       "      <td>19.523646</td>\n",
       "      <td>19.682584</td>\n",
       "      <td>20.218409</td>\n",
       "      <td>19.263436</td>\n",
       "      <td>19.235063</td>\n",
       "      <td>19.883968</td>\n",
       "      <td>19.903956</td>\n",
       "      <td>...</td>\n",
       "      <td>19.944744</td>\n",
       "      <td>19.076657</td>\n",
       "      <td>19.612564</td>\n",
       "      <td>19.612095</td>\n",
       "      <td>19.551779</td>\n",
       "      <td>19.844303</td>\n",
       "      <td>19.721529</td>\n",
       "      <td>19.370234</td>\n",
       "      <td>19.821193</td>\n",
       "      <td>19.274151</td>\n",
       "    </tr>\n",
       "    <tr>\n",
       "      <th>2</th>\n",
       "      <td>20.627341</td>\n",
       "      <td>20.101614</td>\n",
       "      <td>19.654379</td>\n",
       "      <td>19.302367</td>\n",
       "      <td>19.547250</td>\n",
       "      <td>20.578946</td>\n",
       "      <td>19.184141</td>\n",
       "      <td>19.331676</td>\n",
       "      <td>20.001431</td>\n",
       "      <td>20.189699</td>\n",
       "      <td>...</td>\n",
       "      <td>19.992419</td>\n",
       "      <td>19.752669</td>\n",
       "      <td>19.611811</td>\n",
       "      <td>18.981710</td>\n",
       "      <td>19.626479</td>\n",
       "      <td>20.398800</td>\n",
       "      <td>19.637435</td>\n",
       "      <td>19.260734</td>\n",
       "      <td>19.931731</td>\n",
       "      <td>19.370114</td>\n",
       "    </tr>\n",
       "    <tr>\n",
       "      <th>3</th>\n",
       "      <td>20.428281</td>\n",
       "      <td>20.025582</td>\n",
       "      <td>19.383599</td>\n",
       "      <td>19.188816</td>\n",
       "      <td>19.688993</td>\n",
       "      <td>20.235664</td>\n",
       "      <td>19.137036</td>\n",
       "      <td>19.450996</td>\n",
       "      <td>19.575591</td>\n",
       "      <td>20.737339</td>\n",
       "      <td>...</td>\n",
       "      <td>19.870403</td>\n",
       "      <td>20.270805</td>\n",
       "      <td>19.110836</td>\n",
       "      <td>19.587696</td>\n",
       "      <td>19.287480</td>\n",
       "      <td>20.390620</td>\n",
       "      <td>18.785474</td>\n",
       "      <td>19.051692</td>\n",
       "      <td>20.484940</td>\n",
       "      <td>18.961283</td>\n",
       "    </tr>\n",
       "    <tr>\n",
       "      <th>4</th>\n",
       "      <td>20.601152</td>\n",
       "      <td>19.890667</td>\n",
       "      <td>19.350889</td>\n",
       "      <td>19.018440</td>\n",
       "      <td>18.864422</td>\n",
       "      <td>20.125878</td>\n",
       "      <td>19.273735</td>\n",
       "      <td>19.967556</td>\n",
       "      <td>19.438561</td>\n",
       "      <td>20.187838</td>\n",
       "      <td>...</td>\n",
       "      <td>19.952413</td>\n",
       "      <td>19.869895</td>\n",
       "      <td>19.300847</td>\n",
       "      <td>19.488421</td>\n",
       "      <td>18.829508</td>\n",
       "      <td>19.678754</td>\n",
       "      <td>18.848648</td>\n",
       "      <td>19.729207</td>\n",
       "      <td>20.145094</td>\n",
       "      <td>18.437828</td>\n",
       "    </tr>\n",
       "  </tbody>\n",
       "</table>\n",
       "<p>5 rows × 3000 columns</p>\n",
       "</div>"
      ],
      "text/plain": [
       "   Simulation 1  Simulation 2  Simulation 3  Simulation 4  Simulation 5  \\\n",
       "0     19.677500     19.677500     19.677500     19.677500     19.677500   \n",
       "1     20.146694     20.006333     19.648634     19.523646     19.682584   \n",
       "2     20.627341     20.101614     19.654379     19.302367     19.547250   \n",
       "3     20.428281     20.025582     19.383599     19.188816     19.688993   \n",
       "4     20.601152     19.890667     19.350889     19.018440     18.864422   \n",
       "\n",
       "   Simulation 6  Simulation 7  Simulation 8  Simulation 9  Simulation 10  ...  \\\n",
       "0     19.677500     19.677500     19.677500     19.677500      19.677500  ...   \n",
       "1     20.218409     19.263436     19.235063     19.883968      19.903956  ...   \n",
       "2     20.578946     19.184141     19.331676     20.001431      20.189699  ...   \n",
       "3     20.235664     19.137036     19.450996     19.575591      20.737339  ...   \n",
       "4     20.125878     19.273735     19.967556     19.438561      20.187838  ...   \n",
       "\n",
       "   Simulation 2991  Simulation 2992  Simulation 2993  Simulation 2994  \\\n",
       "0        19.677500        19.677500        19.677500        19.677500   \n",
       "1        19.944744        19.076657        19.612564        19.612095   \n",
       "2        19.992419        19.752669        19.611811        18.981710   \n",
       "3        19.870403        20.270805        19.110836        19.587696   \n",
       "4        19.952413        19.869895        19.300847        19.488421   \n",
       "\n",
       "   Simulation 2995  Simulation 2996  Simulation 2997  Simulation 2998  \\\n",
       "0        19.677500        19.677500        19.677500        19.677500   \n",
       "1        19.551779        19.844303        19.721529        19.370234   \n",
       "2        19.626479        20.398800        19.637435        19.260734   \n",
       "3        19.287480        20.390620        18.785474        19.051692   \n",
       "4        18.829508        19.678754        18.848648        19.729207   \n",
       "\n",
       "   Simulation 2999  Simulation 3000  \n",
       "0        19.677500        19.677500  \n",
       "1        19.821193        19.274151  \n",
       "2        19.931731        19.370114  \n",
       "3        20.484940        18.961283  \n",
       "4        20.145094        18.437828  \n",
       "\n",
       "[5 rows x 3000 columns]"
      ]
     },
     "execution_count": 35,
     "metadata": {},
     "output_type": "execute_result"
    }
   ],
   "source": [
    "for n in range(num_simulations):\n",
    "    \n",
    "    simulated_XLE_prices = [XLE_last_price]\n",
    "    simulated_XLE_prices\n",
    "\n",
    "    for i in range(num_trading_days):\n",
    "\n",
    "    # Calculate the simulated price using the last price within the list\n",
    "        simulated_price = simulated_XLE_prices[-1] * (1 + np.random.normal(avg_daily_return_xle, xle_std))\n",
    "        # Append the simulated price to the list\n",
    "        simulated_XLE_prices.append(simulated_price)\n",
    "\n",
    "    # Append simulated price of each simulation to DataFrame\n",
    "    simulated_prices_XLE_df[f\"Simulation {n+1}\"] = pd.Series(simulated_XLE_prices)\n",
    "\n",
    "simulated_prices_XLE_df.head()"
   ]
  },
  {
   "cell_type": "code",
   "execution_count": 37,
   "metadata": {},
   "outputs": [
    {
     "data": {
      "text/plain": [
       "<matplotlib.axes._subplots.AxesSubplot at 0x12242e790>"
      ]
     },
     "execution_count": 37,
     "metadata": {},
     "output_type": "execute_result"
    },
    {
     "data": {
      "image/png": "[encoded data removed]",
      "text/plain": [
       "<Figure size 432x288 with 1 Axes>"
      ]
     },
     "metadata": {
      "needs_background": "light"
     },
     "output_type": "display_data"
    }
   ],
   "source": [
    "plot_title = f\"{n+1} Simulations of XLE Over the Next 30 Trading Days\"\n",
    "simulated_prices_XLE_df.plot(legend=None, title=plot_title)"
   ]
  },
  {
   "cell_type": "code",
   "execution_count": 45,
   "metadata": {},
   "outputs": [
    {
     "data": {
      "text/plain": [
       "0.025    16.004670\n",
       "0.975    23.985156\n",
       "Name: 30, dtype: float64"
      ]
     },
     "execution_count": 45,
     "metadata": {},
     "output_type": "execute_result"
    }
   ],
   "source": [
    "simulated_ending_prices_XLE = simulated_prices_XLE_df.iloc[-1, :]\n",
    "confidence_interval= simulated_ending_prices_XLE.quantile(q=[0.025, 0.975])\n",
    "confidence_interval"
   ]
  },
  {
   "cell_type": "code",
   "execution_count": 46,
   "metadata": {},
   "outputs": [
    {
     "data": {
      "text/plain": [
       "<matplotlib.lines.Line2D at 0x123c2df90>"
      ]
     },
     "execution_count": 46,
     "metadata": {},
     "output_type": "execute_result"
    },
    {
     "data": {
      "image/png": "[encoded data removed]",
      "text/plain": [
       "<Figure size 432x288 with 1 Axes>"
      ]
     },
     "metadata": {
      "needs_background": "light"
     },
     "output_type": "display_data"
    }
   ],
   "source": [
    "plt.figure();\n",
    "simulated_ending_prices_XLE.plot(kind='hist', density=True, bins=10)\n",
    "plt.axvline(confidence_interval.iloc[0], color='r')\n",
    "plt.axvline(confidence_interval.iloc[1], color='r')"
   ]
  },
  {
   "cell_type": "code",
   "execution_count": 47,
   "metadata": {},
   "outputs": [
    {
     "name": "stdout",
     "output_type": "stream",
     "text": [
      "There is a 95% chance that an initial investment of $10,000 in XLE over the next 30 trading days will end within in the range of $8133.49 and $12189.13\n"
     ]
    }
   ],
   "source": [
    "initial_investment = 10000\n",
    "\n",
    "# Calculate cumulative profit/loss of lower and upper bound\n",
    "cumulative_pnl_lower_bound = initial_investment * ((confidence_interval.iloc[0] - XLE_last_price) / XLE_last_price)\n",
    "cumulative_pnl_upper_bound = initial_investment * ((confidence_interval.iloc[1] - XLE_last_price) / XLE_last_price)\n",
    "\n",
    "# Add the initial investment to the cumulative profit/loss of lower and upper bound\n",
    "ending_investment_lower_bound = initial_investment + cumulative_pnl_lower_bound\n",
    "ending_investment_upper_bound = initial_investment + cumulative_pnl_upper_bound\n",
    "\n",
    "# Print the results\n",
    "print(f\"There is a 95% chance that an initial investment of $10,000 in XLE\"\n",
    "      f\" over the next 30 trading days will end within in the range of\"\n",
    "      f\" ${round(ending_investment_lower_bound,2)} and ${round(ending_investment_upper_bound,2)}\")"
   ]
  },
  {
   "cell_type": "code",
   "execution_count": null,
   "metadata": {},
   "outputs": [],
   "source": []
  }
 ],
 "metadata": {
  "kernelspec": {
   "display_name": "Python 3",
   "language": "python",
   "name": "python3"
  },
  "language_info": {
   "codemirror_mode": {
    "name": "ipython",
    "version": 3
   },
   "file_extension": ".py",
   "mimetype": "text/x-python",
   "name": "python",
   "nbconvert_exporter": "python",
   "pygments_lexer": "ipython3",
   "version": "3.7.4"
  }
 },
 "nbformat": 4,
 "nbformat_minor": 4
}
