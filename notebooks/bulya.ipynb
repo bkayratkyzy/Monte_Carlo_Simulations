{
 "cells": [
  {
   "cell_type": "code",
   "execution_count": 28,
   "metadata": {},
   "outputs": [],
   "source": [
    "import numpy as np\n",
    "import pandas as pd\n",
    "from datetime import datetime, timedelta\n",
    "import matplotlib.pyplot as plt\n",
    "import json\n",
    "from pathlib import Path\n",
    "import alpaca_trade_api as tradeapi\n",
    "import requests\n",
    "import os \n",
    "from dotenv import load_dotenv\n",
    "\n",
    "%matplotlib inline"
   ]
  },
  {
   "cell_type": "code",
   "execution_count": 29,
   "metadata": {},
   "outputs": [
    {
     "data": {
      "text/plain": [
       "str"
      ]
     },
     "execution_count": 29,
     "metadata": {},
     "output_type": "execute_result"
    }
   ],
   "source": [
    "load_dotenv()\n",
    "\n",
    "alpaca_api_key = os.getenv(\"Api_key\")\n",
    "alpaca_secret_key = os.getenv(\"Secret_Key\")\n",
    "\n",
    "api = tradeapi.REST(alpaca_api_key, alpaca_secret_key, api_version='v2')\n",
    "\n",
    "\n",
    "type(api_key)\n"
   ]
  },
  {
   "cell_type": "code",
   "execution_count": 104,
   "metadata": {},
   "outputs": [
    {
     "data": {
      "text/html": [
       "<div>\n",
       "<style scoped>\n",
       "    .dataframe tbody tr th:only-of-type {\n",
       "        vertical-align: middle;\n",
       "    }\n",
       "\n",
       "    .dataframe tbody tr th {\n",
       "        vertical-align: top;\n",
       "    }\n",
       "\n",
       "    .dataframe thead th {\n",
       "        text-align: right;\n",
       "    }\n",
       "</style>\n",
       "<table border=\"1\" class=\"dataframe\">\n",
       "  <thead>\n",
       "    <tr style=\"text-align: right;\">\n",
       "      <th></th>\n",
       "      <th>1. open</th>\n",
       "      <th>2. high</th>\n",
       "      <th>3. low</th>\n",
       "      <th>4. close</th>\n",
       "      <th>5. adjusted close</th>\n",
       "      <th>6. volume</th>\n",
       "      <th>7. dividend amount</th>\n",
       "      <th>8. split coefficient</th>\n",
       "    </tr>\n",
       "    <tr>\n",
       "      <th>date</th>\n",
       "      <th></th>\n",
       "      <th></th>\n",
       "      <th></th>\n",
       "      <th></th>\n",
       "      <th></th>\n",
       "      <th></th>\n",
       "      <th></th>\n",
       "      <th></th>\n",
       "    </tr>\n",
       "  </thead>\n",
       "  <tbody>\n",
       "    <tr>\n",
       "      <td>2020-04-29</td>\n",
       "      <td>108.67</td>\n",
       "      <td>109.60</td>\n",
       "      <td>107.95</td>\n",
       "      <td>108.70</td>\n",
       "      <td>108.70</td>\n",
       "      <td>1559509.0</td>\n",
       "      <td>0.0</td>\n",
       "      <td>1.0</td>\n",
       "    </tr>\n",
       "    <tr>\n",
       "      <td>2020-04-28</td>\n",
       "      <td>107.94</td>\n",
       "      <td>108.25</td>\n",
       "      <td>106.28</td>\n",
       "      <td>106.64</td>\n",
       "      <td>106.64</td>\n",
       "      <td>2048623.0</td>\n",
       "      <td>0.0</td>\n",
       "      <td>1.0</td>\n",
       "    </tr>\n",
       "    <tr>\n",
       "      <td>2020-04-27</td>\n",
       "      <td>104.68</td>\n",
       "      <td>106.64</td>\n",
       "      <td>104.56</td>\n",
       "      <td>106.19</td>\n",
       "      <td>106.19</td>\n",
       "      <td>1154618.0</td>\n",
       "      <td>0.0</td>\n",
       "      <td>1.0</td>\n",
       "    </tr>\n",
       "    <tr>\n",
       "      <td>2020-04-24</td>\n",
       "      <td>103.31</td>\n",
       "      <td>104.37</td>\n",
       "      <td>102.42</td>\n",
       "      <td>103.99</td>\n",
       "      <td>103.99</td>\n",
       "      <td>969806.0</td>\n",
       "      <td>0.0</td>\n",
       "      <td>1.0</td>\n",
       "    </tr>\n",
       "    <tr>\n",
       "      <td>2020-04-23</td>\n",
       "      <td>103.07</td>\n",
       "      <td>104.45</td>\n",
       "      <td>102.59</td>\n",
       "      <td>102.70</td>\n",
       "      <td>102.70</td>\n",
       "      <td>1097085.0</td>\n",
       "      <td>0.0</td>\n",
       "      <td>1.0</td>\n",
       "    </tr>\n",
       "  </tbody>\n",
       "</table>\n",
       "</div>"
      ],
      "text/plain": [
       "            1. open  2. high  3. low  4. close  5. adjusted close  6. volume  \\\n",
       "date                                                                           \n",
       "2020-04-29   108.67   109.60  107.95    108.70             108.70  1559509.0   \n",
       "2020-04-28   107.94   108.25  106.28    106.64             106.64  2048623.0   \n",
       "2020-04-27   104.68   106.64  104.56    106.19             106.19  1154618.0   \n",
       "2020-04-24   103.31   104.37  102.42    103.99             103.99   969806.0   \n",
       "2020-04-23   103.07   104.45  102.59    102.70             102.70  1097085.0   \n",
       "\n",
       "            7. dividend amount  8. split coefficient  \n",
       "date                                                  \n",
       "2020-04-29                 0.0                   1.0  \n",
       "2020-04-28                 0.0                   1.0  \n",
       "2020-04-27                 0.0                   1.0  \n",
       "2020-04-24                 0.0                   1.0  \n",
       "2020-04-23                 0.0                   1.0  "
      ]
     },
     "execution_count": 104,
     "metadata": {},
     "output_type": "execute_result"
    }
   ],
   "source": [
    "xle_df = api.alpha_vantage.historic_quotes('XLE', adjusted=True, output_format='pandas')\n",
    "\n",
    "\n",
    "xlf_df = api.alpha_vantage.historic_quotes('XLF', adjusted=True, output_format='pandas')\n",
    "\n",
    "ive_df = api.alpha_vantage.historic_quotes('IVE', adjusted=True, output_format='pandas')\n",
    "ive_df.head()"
   ]
  },
  {
   "cell_type": "code",
   "execution_count": 105,
   "metadata": {},
   "outputs": [
    {
     "data": {
      "text/plain": [
       "Index(['1. open', '2. high', '3. low', '4. close', '5. adjusted close',\n",
       "       '6. volume', '7. dividend amount', '8. split coefficient'],\n",
       "      dtype='object')"
      ]
     },
     "execution_count": 105,
     "metadata": {},
     "output_type": "execute_result"
    }
   ],
   "source": [
    "xle_df.columns"
   ]
  },
  {
   "cell_type": "code",
   "execution_count": 106,
   "metadata": {},
   "outputs": [
    {
     "data": {
      "text/plain": [
       "Index(['1. open', '2. high', '3. low', '4. close', '5. adjusted close',\n",
       "       '6. volume', '7. dividend amount', '8. split coefficient'],\n",
       "      dtype='object')"
      ]
     },
     "execution_count": 106,
     "metadata": {},
     "output_type": "execute_result"
    }
   ],
   "source": [
    "ive_df.columns\n",
    "\n"
   ]
  },
  {
   "cell_type": "code",
   "execution_count": 107,
   "metadata": {},
   "outputs": [
    {
     "data": {
      "text/plain": [
       "Index(['1. open', '2. high', '3. low', '4. close', '5. adjusted close',\n",
       "       '6. volume', '7. dividend amount', '8. split coefficient'],\n",
       "      dtype='object')"
      ]
     },
     "execution_count": 107,
     "metadata": {},
     "output_type": "execute_result"
    }
   ],
   "source": [
    "xlf_df.columns\n"
   ]
  },
  {
   "cell_type": "code",
   "execution_count": 108,
   "metadata": {},
   "outputs": [
    {
     "data": {
      "text/html": [
       "<div>\n",
       "<style scoped>\n",
       "    .dataframe tbody tr th:only-of-type {\n",
       "        vertical-align: middle;\n",
       "    }\n",
       "\n",
       "    .dataframe tbody tr th {\n",
       "        vertical-align: top;\n",
       "    }\n",
       "\n",
       "    .dataframe thead th {\n",
       "        text-align: right;\n",
       "    }\n",
       "</style>\n",
       "<table border=\"1\" class=\"dataframe\">\n",
       "  <thead>\n",
       "    <tr style=\"text-align: right;\">\n",
       "      <th></th>\n",
       "      <th>5. adjusted close</th>\n",
       "      <th>5. adjusted close</th>\n",
       "      <th>5. adjusted close</th>\n",
       "    </tr>\n",
       "    <tr>\n",
       "      <th>date</th>\n",
       "      <th></th>\n",
       "      <th></th>\n",
       "      <th></th>\n",
       "    </tr>\n",
       "  </thead>\n",
       "  <tbody>\n",
       "    <tr>\n",
       "      <td>2020-04-29</td>\n",
       "      <td>38.89</td>\n",
       "      <td>23.38</td>\n",
       "      <td>108.70</td>\n",
       "    </tr>\n",
       "    <tr>\n",
       "      <td>2020-04-28</td>\n",
       "      <td>36.18</td>\n",
       "      <td>22.72</td>\n",
       "      <td>106.64</td>\n",
       "    </tr>\n",
       "    <tr>\n",
       "      <td>2020-04-27</td>\n",
       "      <td>35.37</td>\n",
       "      <td>22.48</td>\n",
       "      <td>106.19</td>\n",
       "    </tr>\n",
       "    <tr>\n",
       "      <td>2020-04-24</td>\n",
       "      <td>34.62</td>\n",
       "      <td>21.74</td>\n",
       "      <td>103.99</td>\n",
       "    </tr>\n",
       "    <tr>\n",
       "      <td>2020-04-23</td>\n",
       "      <td>34.54</td>\n",
       "      <td>21.43</td>\n",
       "      <td>102.70</td>\n",
       "    </tr>\n",
       "  </tbody>\n",
       "</table>\n",
       "</div>"
      ],
      "text/plain": [
       "            5. adjusted close  5. adjusted close  5. adjusted close\n",
       "date                                                               \n",
       "2020-04-29              38.89              23.38             108.70\n",
       "2020-04-28              36.18              22.72             106.64\n",
       "2020-04-27              35.37              22.48             106.19\n",
       "2020-04-24              34.62              21.74             103.99\n",
       "2020-04-23              34.54              21.43             102.70"
      ]
     },
     "execution_count": 108,
     "metadata": {},
     "output_type": "execute_result"
    }
   ],
   "source": [
    "\n",
    "xle_df=xle_df['5. adjusted close']\n",
    "\n",
    "xlf_df = xlf_df['5. adjusted close']\n",
    "\n",
    "ive_df= ive_df ['5. adjusted close']\n",
    "\n",
    "\n",
    "\n",
    "\n",
    "concat_df = pd.concat([xle_df, xlf_df, ive_df], axis = \"columns\", join = \"inner\")\n",
    "concat_df.head()"
   ]
  },
  {
   "cell_type": "code",
   "execution_count": null,
   "metadata": {},
   "outputs": [],
   "source": []
  },
  {
   "cell_type": "code",
   "execution_count": 111,
   "metadata": {},
   "outputs": [
    {
     "data": {
      "text/html": [
       "<div>\n",
       "<style scoped>\n",
       "    .dataframe tbody tr th:only-of-type {\n",
       "        vertical-align: middle;\n",
       "    }\n",
       "\n",
       "    .dataframe tbody tr th {\n",
       "        vertical-align: top;\n",
       "    }\n",
       "\n",
       "    .dataframe thead th {\n",
       "        text-align: right;\n",
       "    }\n",
       "</style>\n",
       "<table border=\"1\" class=\"dataframe\">\n",
       "  <thead>\n",
       "    <tr style=\"text-align: right;\">\n",
       "      <th></th>\n",
       "      <th>5. adjusted close</th>\n",
       "      <th>5. adjusted close</th>\n",
       "      <th>5. adjusted close</th>\n",
       "      <th>XLE_return</th>\n",
       "      <th>XLF_return</th>\n",
       "      <th>IVE_return</th>\n",
       "    </tr>\n",
       "    <tr>\n",
       "      <th>date</th>\n",
       "      <th></th>\n",
       "      <th></th>\n",
       "      <th></th>\n",
       "      <th></th>\n",
       "      <th></th>\n",
       "      <th></th>\n",
       "    </tr>\n",
       "  </thead>\n",
       "  <tbody>\n",
       "    <tr>\n",
       "      <td>2020-04-29</td>\n",
       "      <td>38.89</td>\n",
       "      <td>23.38</td>\n",
       "      <td>108.70</td>\n",
       "      <td>NaN</td>\n",
       "      <td>NaN</td>\n",
       "      <td>NaN</td>\n",
       "    </tr>\n",
       "    <tr>\n",
       "      <td>2020-04-28</td>\n",
       "      <td>36.18</td>\n",
       "      <td>22.72</td>\n",
       "      <td>106.64</td>\n",
       "      <td>-0.069684</td>\n",
       "      <td>-0.028229</td>\n",
       "      <td>-0.018951</td>\n",
       "    </tr>\n",
       "    <tr>\n",
       "      <td>2020-04-27</td>\n",
       "      <td>35.37</td>\n",
       "      <td>22.48</td>\n",
       "      <td>106.19</td>\n",
       "      <td>-0.022388</td>\n",
       "      <td>-0.010563</td>\n",
       "      <td>-0.004220</td>\n",
       "    </tr>\n",
       "    <tr>\n",
       "      <td>2020-04-24</td>\n",
       "      <td>34.62</td>\n",
       "      <td>21.74</td>\n",
       "      <td>103.99</td>\n",
       "      <td>-0.021204</td>\n",
       "      <td>-0.032918</td>\n",
       "      <td>-0.020718</td>\n",
       "    </tr>\n",
       "    <tr>\n",
       "      <td>2020-04-23</td>\n",
       "      <td>34.54</td>\n",
       "      <td>21.43</td>\n",
       "      <td>102.70</td>\n",
       "      <td>-0.002311</td>\n",
       "      <td>-0.014259</td>\n",
       "      <td>-0.012405</td>\n",
       "    </tr>\n",
       "  </tbody>\n",
       "</table>\n",
       "</div>"
      ],
      "text/plain": [
       "            5. adjusted close  5. adjusted close  5. adjusted close  \\\n",
       "date                                                                  \n",
       "2020-04-29              38.89              23.38             108.70   \n",
       "2020-04-28              36.18              22.72             106.64   \n",
       "2020-04-27              35.37              22.48             106.19   \n",
       "2020-04-24              34.62              21.74             103.99   \n",
       "2020-04-23              34.54              21.43             102.70   \n",
       "\n",
       "            XLE_return  XLF_return  IVE_return  \n",
       "date                                            \n",
       "2020-04-29         NaN         NaN         NaN  \n",
       "2020-04-28   -0.069684   -0.028229   -0.018951  \n",
       "2020-04-27   -0.022388   -0.010563   -0.004220  \n",
       "2020-04-24   -0.021204   -0.032918   -0.020718  \n",
       "2020-04-23   -0.002311   -0.014259   -0.012405  "
      ]
     },
     "execution_count": 111,
     "metadata": {},
     "output_type": "execute_result"
    }
   ],
   "source": [
    "daily_returns_xle = xle_df.pct_change()\n",
    "concat_df['XLE_return']= daily_returns_xle \n",
    "\n",
    "\n",
    "daily_returns_xlf = xlf_df.pct_change()\n",
    "concat_df['XLF_return']= daily_returns_xlf \n",
    "\n",
    "daily_returns_ive = ive_df.pct_change()\n",
    "concat_df['IVE_return']= daily_returns_ive \n",
    "\n",
    "concat_df.head()"
   ]
  },
  {
   "cell_type": "code",
   "execution_count": 112,
   "metadata": {},
   "outputs": [
    {
     "data": {
      "text/plain": [
       "5. adjusted close    0\n",
       "5. adjusted close    0\n",
       "5. adjusted close    0\n",
       "XLE_return           0\n",
       "XLF_return           0\n",
       "IVE_return           0\n",
       "dtype: int64"
      ]
     },
     "execution_count": 112,
     "metadata": {},
     "output_type": "execute_result"
    }
   ],
   "source": [
    "concat_df.dropna(inplace=True)\n",
    "\n",
    "#count nulls again\n",
    "concat_df.isnull().sum()"
   ]
  },
  {
   "cell_type": "code",
   "execution_count": 113,
   "metadata": {},
   "outputs": [
    {
     "data": {
      "text/html": [
       "<div>\n",
       "<style scoped>\n",
       "    .dataframe tbody tr th:only-of-type {\n",
       "        vertical-align: middle;\n",
       "    }\n",
       "\n",
       "    .dataframe tbody tr th {\n",
       "        vertical-align: top;\n",
       "    }\n",
       "\n",
       "    .dataframe thead th {\n",
       "        text-align: right;\n",
       "    }\n",
       "</style>\n",
       "<table border=\"1\" class=\"dataframe\">\n",
       "  <thead>\n",
       "    <tr style=\"text-align: right;\">\n",
       "      <th></th>\n",
       "      <th>5. adjusted close</th>\n",
       "      <th>5. adjusted close</th>\n",
       "      <th>5. adjusted close</th>\n",
       "      <th>XLE_return</th>\n",
       "      <th>XLF_return</th>\n",
       "      <th>IVE_return</th>\n",
       "    </tr>\n",
       "    <tr>\n",
       "      <th>date</th>\n",
       "      <th></th>\n",
       "      <th></th>\n",
       "      <th></th>\n",
       "      <th></th>\n",
       "      <th></th>\n",
       "      <th></th>\n",
       "    </tr>\n",
       "  </thead>\n",
       "  <tbody>\n",
       "    <tr>\n",
       "      <td>2020-04-28</td>\n",
       "      <td>36.1800</td>\n",
       "      <td>22.7200</td>\n",
       "      <td>106.6400</td>\n",
       "      <td>-0.069684</td>\n",
       "      <td>-0.028229</td>\n",
       "      <td>-0.018951</td>\n",
       "    </tr>\n",
       "    <tr>\n",
       "      <td>2020-04-27</td>\n",
       "      <td>35.3700</td>\n",
       "      <td>22.4800</td>\n",
       "      <td>106.1900</td>\n",
       "      <td>-0.022388</td>\n",
       "      <td>-0.010563</td>\n",
       "      <td>-0.004220</td>\n",
       "    </tr>\n",
       "    <tr>\n",
       "      <td>2020-04-24</td>\n",
       "      <td>34.6200</td>\n",
       "      <td>21.7400</td>\n",
       "      <td>103.9900</td>\n",
       "      <td>-0.021204</td>\n",
       "      <td>-0.032918</td>\n",
       "      <td>-0.020718</td>\n",
       "    </tr>\n",
       "    <tr>\n",
       "      <td>2020-04-23</td>\n",
       "      <td>34.5400</td>\n",
       "      <td>21.4300</td>\n",
       "      <td>102.7000</td>\n",
       "      <td>-0.002311</td>\n",
       "      <td>-0.014259</td>\n",
       "      <td>-0.012405</td>\n",
       "    </tr>\n",
       "    <tr>\n",
       "      <td>2020-04-22</td>\n",
       "      <td>33.4600</td>\n",
       "      <td>21.5200</td>\n",
       "      <td>102.6300</td>\n",
       "      <td>-0.031268</td>\n",
       "      <td>0.004200</td>\n",
       "      <td>-0.000682</td>\n",
       "    </tr>\n",
       "    <tr>\n",
       "      <td>...</td>\n",
       "      <td>...</td>\n",
       "      <td>...</td>\n",
       "      <td>...</td>\n",
       "      <td>...</td>\n",
       "      <td>...</td>\n",
       "      <td>...</td>\n",
       "    </tr>\n",
       "    <tr>\n",
       "      <td>2000-06-02</td>\n",
       "      <td>19.6712</td>\n",
       "      <td>14.5807</td>\n",
       "      <td>39.9311</td>\n",
       "      <td>0.014455</td>\n",
       "      <td>0.023164</td>\n",
       "      <td>0.004516</td>\n",
       "    </tr>\n",
       "    <tr>\n",
       "      <td>2000-06-01</td>\n",
       "      <td>20.3655</td>\n",
       "      <td>14.0070</td>\n",
       "      <td>39.3797</td>\n",
       "      <td>0.035295</td>\n",
       "      <td>-0.039347</td>\n",
       "      <td>-0.013809</td>\n",
       "    </tr>\n",
       "    <tr>\n",
       "      <td>2000-05-31</td>\n",
       "      <td>20.5566</td>\n",
       "      <td>13.5578</td>\n",
       "      <td>38.7899</td>\n",
       "      <td>0.009384</td>\n",
       "      <td>-0.032070</td>\n",
       "      <td>-0.014977</td>\n",
       "    </tr>\n",
       "    <tr>\n",
       "      <td>2000-05-30</td>\n",
       "      <td>19.9578</td>\n",
       "      <td>13.3954</td>\n",
       "      <td>38.6104</td>\n",
       "      <td>-0.029129</td>\n",
       "      <td>-0.011978</td>\n",
       "      <td>-0.004627</td>\n",
       "    </tr>\n",
       "    <tr>\n",
       "      <td>2000-05-26</td>\n",
       "      <td>19.6775</td>\n",
       "      <td>13.1248</td>\n",
       "      <td>38.0269</td>\n",
       "      <td>-0.014045</td>\n",
       "      <td>-0.020201</td>\n",
       "      <td>-0.015113</td>\n",
       "    </tr>\n",
       "  </tbody>\n",
       "</table>\n",
       "<p>5011 rows × 6 columns</p>\n",
       "</div>"
      ],
      "text/plain": [
       "            5. adjusted close  5. adjusted close  5. adjusted close  \\\n",
       "date                                                                  \n",
       "2020-04-28            36.1800            22.7200           106.6400   \n",
       "2020-04-27            35.3700            22.4800           106.1900   \n",
       "2020-04-24            34.6200            21.7400           103.9900   \n",
       "2020-04-23            34.5400            21.4300           102.7000   \n",
       "2020-04-22            33.4600            21.5200           102.6300   \n",
       "...                       ...                ...                ...   \n",
       "2000-06-02            19.6712            14.5807            39.9311   \n",
       "2000-06-01            20.3655            14.0070            39.3797   \n",
       "2000-05-31            20.5566            13.5578            38.7899   \n",
       "2000-05-30            19.9578            13.3954            38.6104   \n",
       "2000-05-26            19.6775            13.1248            38.0269   \n",
       "\n",
       "            XLE_return  XLF_return  IVE_return  \n",
       "date                                            \n",
       "2020-04-28   -0.069684   -0.028229   -0.018951  \n",
       "2020-04-27   -0.022388   -0.010563   -0.004220  \n",
       "2020-04-24   -0.021204   -0.032918   -0.020718  \n",
       "2020-04-23   -0.002311   -0.014259   -0.012405  \n",
       "2020-04-22   -0.031268    0.004200   -0.000682  \n",
       "...                ...         ...         ...  \n",
       "2000-06-02    0.014455    0.023164    0.004516  \n",
       "2000-06-01    0.035295   -0.039347   -0.013809  \n",
       "2000-05-31    0.009384   -0.032070   -0.014977  \n",
       "2000-05-30   -0.029129   -0.011978   -0.004627  \n",
       "2000-05-26   -0.014045   -0.020201   -0.015113  \n",
       "\n",
       "[5011 rows x 6 columns]"
      ]
     },
     "execution_count": 113,
     "metadata": {},
     "output_type": "execute_result"
    }
   ],
   "source": [
    "concat_df.drop_duplicates(inplace=True)\n",
    "concat_df"
   ]
  },
  {
   "cell_type": "code",
   "execution_count": 114,
   "metadata": {},
   "outputs": [
    {
     "data": {
      "text/plain": [
       "5. adjusted close    float64\n",
       "5. adjusted close    float64\n",
       "5. adjusted close    float64\n",
       "XLE_return           float64\n",
       "XLF_return           float64\n",
       "IVE_return           float64\n",
       "dtype: object"
      ]
     },
     "execution_count": 114,
     "metadata": {},
     "output_type": "execute_result"
    }
   ],
   "source": [
    "concat_df.dtypes"
   ]
  },
  {
   "cell_type": "code",
   "execution_count": 115,
   "metadata": {},
   "outputs": [
    {
     "data": {
      "text/plain": [
       "5. adjusted close    5011\n",
       "5. adjusted close    5011\n",
       "5. adjusted close    5011\n",
       "XLE_return           5011\n",
       "XLF_return           5011\n",
       "IVE_return           5011\n",
       "dtype: int64"
      ]
     },
     "execution_count": 115,
     "metadata": {},
     "output_type": "execute_result"
    }
   ],
   "source": [
    "concat_df.count()\n"
   ]
  },
  {
   "cell_type": "code",
   "execution_count": 116,
   "metadata": {},
   "outputs": [
    {
     "data": {
      "text/html": [
       "<div>\n",
       "<style scoped>\n",
       "    .dataframe tbody tr th:only-of-type {\n",
       "        vertical-align: middle;\n",
       "    }\n",
       "\n",
       "    .dataframe tbody tr th {\n",
       "        vertical-align: top;\n",
       "    }\n",
       "\n",
       "    .dataframe thead th {\n",
       "        text-align: right;\n",
       "    }\n",
       "</style>\n",
       "<table border=\"1\" class=\"dataframe\">\n",
       "  <thead>\n",
       "    <tr style=\"text-align: right;\">\n",
       "      <th></th>\n",
       "      <th>5. adjusted close</th>\n",
       "      <th>5. adjusted close</th>\n",
       "      <th>5. adjusted close</th>\n",
       "      <th>XLE_return</th>\n",
       "      <th>XLF_return</th>\n",
       "      <th>IVE_return</th>\n",
       "    </tr>\n",
       "  </thead>\n",
       "  <tbody>\n",
       "    <tr>\n",
       "      <td>count</td>\n",
       "      <td>5011.00000</td>\n",
       "      <td>5011.000000</td>\n",
       "      <td>5011.000000</td>\n",
       "      <td>5011.000000</td>\n",
       "      <td>5011.000000</td>\n",
       "      <td>5011.000000</td>\n",
       "    </tr>\n",
       "    <tr>\n",
       "      <td>mean</td>\n",
       "      <td>44.79470</td>\n",
       "      <td>16.681959</td>\n",
       "      <td>60.671361</td>\n",
       "      <td>0.000029</td>\n",
       "      <td>0.000063</td>\n",
       "      <td>-0.000127</td>\n",
       "    </tr>\n",
       "    <tr>\n",
       "      <td>std</td>\n",
       "      <td>17.78215</td>\n",
       "      <td>5.465695</td>\n",
       "      <td>26.167070</td>\n",
       "      <td>0.018265</td>\n",
       "      <td>0.018950</td>\n",
       "      <td>0.012919</td>\n",
       "    </tr>\n",
       "    <tr>\n",
       "      <td>min</td>\n",
       "      <td>13.11050</td>\n",
       "      <td>4.097100</td>\n",
       "      <td>23.767400</td>\n",
       "      <td>-0.166829</td>\n",
       "      <td>-0.140908</td>\n",
       "      <td>-0.096693</td>\n",
       "    </tr>\n",
       "    <tr>\n",
       "      <td>25%</td>\n",
       "      <td>29.46465</td>\n",
       "      <td>12.756900</td>\n",
       "      <td>40.282800</td>\n",
       "      <td>-0.009204</td>\n",
       "      <td>-0.007470</td>\n",
       "      <td>-0.005785</td>\n",
       "    </tr>\n",
       "    <tr>\n",
       "      <td>50%</td>\n",
       "      <td>49.70840</td>\n",
       "      <td>16.247200</td>\n",
       "      <td>50.946400</td>\n",
       "      <td>-0.000595</td>\n",
       "      <td>-0.000470</td>\n",
       "      <td>-0.000714</td>\n",
       "    </tr>\n",
       "    <tr>\n",
       "      <td>75%</td>\n",
       "      <td>58.90480</td>\n",
       "      <td>19.805700</td>\n",
       "      <td>80.497500</td>\n",
       "      <td>0.008023</td>\n",
       "      <td>0.006616</td>\n",
       "      <td>0.004799</td>\n",
       "    </tr>\n",
       "    <tr>\n",
       "      <td>max</td>\n",
       "      <td>81.48630</td>\n",
       "      <td>30.891400</td>\n",
       "      <td>130.626300</td>\n",
       "      <td>0.252212</td>\n",
       "      <td>0.200006</td>\n",
       "      <td>0.125944</td>\n",
       "    </tr>\n",
       "  </tbody>\n",
       "</table>\n",
       "</div>"
      ],
      "text/plain": [
       "       5. adjusted close  5. adjusted close  5. adjusted close   XLE_return  \\\n",
       "count         5011.00000        5011.000000        5011.000000  5011.000000   \n",
       "mean            44.79470          16.681959          60.671361     0.000029   \n",
       "std             17.78215           5.465695          26.167070     0.018265   \n",
       "min             13.11050           4.097100          23.767400    -0.166829   \n",
       "25%             29.46465          12.756900          40.282800    -0.009204   \n",
       "50%             49.70840          16.247200          50.946400    -0.000595   \n",
       "75%             58.90480          19.805700          80.497500     0.008023   \n",
       "max             81.48630          30.891400         130.626300     0.252212   \n",
       "\n",
       "        XLF_return   IVE_return  \n",
       "count  5011.000000  5011.000000  \n",
       "mean      0.000063    -0.000127  \n",
       "std       0.018950     0.012919  \n",
       "min      -0.140908    -0.096693  \n",
       "25%      -0.007470    -0.005785  \n",
       "50%      -0.000470    -0.000714  \n",
       "75%       0.006616     0.004799  \n",
       "max       0.200006     0.125944  "
      ]
     },
     "execution_count": 116,
     "metadata": {},
     "output_type": "execute_result"
    }
   ],
   "source": [
    "concat_df.describe()"
   ]
  },
  {
   "cell_type": "code",
   "execution_count": 117,
   "metadata": {},
   "outputs": [
    {
     "data": {
      "text/plain": [
       "<matplotlib.axes._subplots.AxesSubplot at 0x11b9f9a10>"
      ]
     },
     "execution_count": 117,
     "metadata": {},
     "output_type": "execute_result"
    },
    {
     "data": {
      "image/png": "[encoded data removed]",
      "text/plain": [
       "<Figure size 720x360 with 1 Axes>"
      ]
     },
     "metadata": {
      "needs_background": "light"
     },
     "output_type": "display_data"
    }
   ],
   "source": [
    "concat_df['XLE_return'].plot(figsize=(10,5), legend= True, title= \"Energy Sector\")"
   ]
  },
  {
   "cell_type": "code",
   "execution_count": 118,
   "metadata": {},
   "outputs": [
    {
     "data": {
      "text/plain": [
       "<matplotlib.axes._subplots.AxesSubplot at 0x11bfe4dd0>"
      ]
     },
     "execution_count": 118,
     "metadata": {},
     "output_type": "execute_result"
    },
    {
     "data": {
      "image/png": "[encoded data removed]",
      "text/plain": [
       "<Figure size 720x360 with 1 Axes>"
      ]
     },
     "metadata": {
      "needs_background": "light"
     },
     "output_type": "display_data"
    }
   ],
   "source": [
    "concat_df['XLF_return'].plot(figsize=(10,5), legend= True, title=\"Financial Sector\")"
   ]
  },
  {
   "cell_type": "code",
   "execution_count": 119,
   "metadata": {},
   "outputs": [
    {
     "data": {
      "text/plain": [
       "<matplotlib.axes._subplots.AxesSubplot at 0x11c5b8490>"
      ]
     },
     "execution_count": 119,
     "metadata": {},
     "output_type": "execute_result"
    },
    {
     "data": {
      "image/png": "[encoded data removed]",
      "text/plain": [
       "<Figure size 720x360 with 1 Axes>"
      ]
     },
     "metadata": {
      "needs_background": "light"
     },
     "output_type": "display_data"
    }
   ],
   "source": [
    "concat_df['IVE_return'].plot(figsize=(10,5), legend= True, title= \"S&P Value\")"
   ]
  },
  {
   "cell_type": "code",
   "execution_count": 120,
   "metadata": {},
   "outputs": [
    {
     "data": {
      "text/plain": [
       "date\n",
       "2020-04-29         NaN\n",
       "2020-04-28    0.930316\n",
       "2020-04-27    0.909488\n",
       "2020-04-24    0.890203\n",
       "2020-04-23    0.888146\n",
       "Name: 5. adjusted close, dtype: float64"
      ]
     },
     "execution_count": 120,
     "metadata": {},
     "output_type": "execute_result"
    }
   ],
   "source": [
    "cumulative_returns_xle = (1 + daily_returns_xle).cumprod()\n",
    "cumulative_returns_xlf = (1 + daily_returns_xlf).cumprod()\n",
    "cumulative_returns_ive =(1+ daily_returns_ive).cumprod()\n",
    "cumulative_returns_xle.head()"
   ]
  },
  {
   "cell_type": "code",
   "execution_count": 125,
   "metadata": {},
   "outputs": [],
   "source": [
    "#umulative_returns_xle.rename(columns={'5. adjusted close':'XLE'})\n",
    "#cumulative_returns_xle"
   ]
  },
  {
   "cell_type": "code",
   "execution_count": 126,
   "metadata": {},
   "outputs": [
    {
     "data": {
      "text/plain": [
       "<matplotlib.axes._subplots.AxesSubplot at 0x117b7b190>"
      ]
     },
     "execution_count": 126,
     "metadata": {},
     "output_type": "execute_result"
    },
    {
     "data": {
      "image/png": "[encoded data removed]",
      "text/plain": [
       "<Figure size 720x360 with 1 Axes>"
      ]
     },
     "metadata": {
      "needs_background": "light"
     },
     "output_type": "display_data"
    }
   ],
   "source": [
    "cumulative_returns_xle.plot(figsize=(10,5), legend= True)\n",
    "cumulative_returns_xlf.plot(figsize=(10,5), legend= True)\n",
    "cumulative_returns_ive.plot(figsize= (10,5), legend= True)"
   ]
  },
  {
   "cell_type": "code",
   "execution_count": null,
   "metadata": {},
   "outputs": [],
   "source": [
    "#need to rename "
   ]
  }
 ],
 "metadata": {
  "kernelspec": {
   "display_name": "Python 3",
   "language": "python",
   "name": "python3"
  },
  "language_info": {
   "codemirror_mode": {
    "name": "ipython",
    "version": 3
   },
   "file_extension": ".py",
   "mimetype": "text/x-python",
   "name": "python",
   "nbconvert_exporter": "python",
   "pygments_lexer": "ipython3",
   "version": "3.7.4"
  }
 },
 "nbformat": 4,
 "nbformat_minor": 4
}
