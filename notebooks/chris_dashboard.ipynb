{
 "cells": [
  {
   "cell_type": "code",
   "execution_count": 3,
   "metadata": {},
   "outputs": [],
   "source": [
    "import os\n",
    "import pandas as pd\n",
    "import matplotlib.pyplot as plt\n",
    "import hvplot.pandas\n",
    "import panel as pn\n",
    "import plotly.express as px\n",
    "from pathlib import Path\n",
    "from panel.interact import interact\n",
    "from panel import widgets\n",
    "import numpy as np\n",
    "import pandas as pd\n",
    "from datetime import datetime, timedelta\n",
    "import matplotlib.pyplot as plt\n",
    "import json\n",
    "from pathlib import Path\n",
    "import alpaca_trade_api as tradeapi\n",
    "import requests\n",
    "import os\n",
    "import seaborn as sns\n",
    "from dotenv import load_dotenv\n",
    "from backtesting import Backtest, Strategy\n",
    "from backtesting.lib import crossover\n",
    "from backtesting.test import SMA\n",
    "\n",
    "%matplotlib inline\n",
    "\n",
    "\n",
    "\n",
    "# Initialize the Panel Extensions (for Plotly)\n",
    "pn.extension('plotly')"
   ]
  },
  {
   "cell_type": "code",
   "execution_count": 4,
   "metadata": {},
   "outputs": [
    {
     "data": {
      "text/plain": [
       "str"
      ]
     },
     "execution_count": 4,
     "metadata": {},
     "output_type": "execute_result"
    }
   ],
   "source": [
    "# Read the API key\n",
    "\n",
    "load_dotenv()\n",
    "\n",
    "APCA_API_KEY_ID = os.getenv(\"Api_key\")\n",
    "APCA_SECRET_KEY = os.getenv(\"Secret_key\")\n",
    "\n",
    "api = tradeapi.REST(APCA_API_KEY_ID, APCA_SECRET_KEY, api_version='v2')\n",
    "\n",
    "type(APCA_API_KEY_ID)\n",
    "\n"
   ]
  },
  {
   "cell_type": "code",
   "execution_count": 5,
   "metadata": {},
   "outputs": [],
   "source": [
    "# Import Data \n",
    "xlb_df = api.alpha_vantage.historic_quotes('XLB', adjusted=True, output_format='pandas')\n",
    "#xlb_df.head()\n",
    "\n",
    "xlk_df = api.alpha_vantage.historic_quotes('XLK', adjusted=True, output_format='pandas')\n",
    "# xlk_df.tail()\n",
    "\n",
    "rwr_df = api.alpha_vantage.historic_quotes('RWR', adjusted=True, output_format='pandas')\n",
    "#rwr_df.head()\n",
    "\n",
    "#Use alpha vantage to get historic quotes for S&P500. Will need this later.\n",
    "\n",
    "spy_df = api.alpha_vantage.historic_quotes('SPY', adjusted=True, output_format='pandas')"
   ]
  },
  {
   "cell_type": "code",
   "execution_count": null,
   "metadata": {},
   "outputs": [],
   "source": [
    "# Define Panel Visualization Functions\n",
    "#Function to create backtesting plot\n",
    "\n",
    "def create_housing_units_plot():\n",
    "    \"\"\"Housing Units Per Year.\"\"\"\n",
    "    housing_units = sfo_data.groupby('year').mean()\n",
    "    housing_units.head(7)\n",
    "\n",
    "    housing_units_plot = housing_units['housing_units'].hvplot.bar(\n",
    "        ylim = (370000,387000), ylabel = \"Housing Units\",\n",
    "        title = \"Housing Units in San Francisco from 2010 to 2016\")\n",
    "    \n",
    "#     plt.ylabel('Housing Units')\n",
    "#     plt.title(\"Housing Units in San Francisco from 2010 to 2016\", fontsize=14)\n",
    "    \n",
    "    return housing_units_plot  "
   ]
  },
  {
   "cell_type": "code",
   "execution_count": null,
   "metadata": {},
   "outputs": [],
   "source": []
  },
  {
   "cell_type": "code",
   "execution_count": null,
   "metadata": {},
   "outputs": [],
   "source": [
    "# Create panels to structure the layout of the dashboard\n",
    "\n",
    "column1 = pn.Column(\n",
    "    \"## Yearly Housing Units and Avg Gross Rent Plots\", create_housing_units_plot(), \n",
    "    create_avg_gross_rent_plot()\n",
    ")\n",
    "\n",
    "column2 = pn.Column(\n",
    "    \"## Avg Sales Price and Avg Price by Neighborhood\", create_avg_sales_price_plot(), \n",
    "    create_avg_price_by_neighborhood_plot()\n",
    ")\n",
    "\n",
    "column3 = pn.Column(\n",
    "    \"## Top 10 and Neighborhood Map\", create_top10_plot(), \n",
    "    create_neighborhood_map()\n",
    ")\n",
    "\n",
    "column4 = pn.Column(\n",
    "    \"## Parallel Coordinates and Parallel Categories\",\n",
    "    create_parallel_coordinates(),\n",
    "    create_parallel_categories(),\n",
    ")\n",
    "\n",
    "# Create tabs\n",
    "\n",
    "san_fran_dashboard = pn.Tabs(\n",
    "    (\"Yearly Unit and Rent Data\", column1), (\"Avg Sales Prices\", column2), (\"Top 10 Neighborhoods and Map\", column3),\n",
    "    (\"Parallels\", column4)\n",
    "    \n",
    ")"
   ]
  },
  {
   "cell_type": "code",
   "execution_count": 1,
   "metadata": {},
   "outputs": [
    {
     "ename": "NameError",
     "evalue": "name 'san_fran_dashboard' is not defined",
     "output_type": "error",
     "traceback": [
      "\u001b[1;31m---------------------------------------------------------------------------\u001b[0m",
      "\u001b[1;31mNameError\u001b[0m                                 Traceback (most recent call last)",
      "\u001b[1;32m<ipython-input-1-9616d0b2f542>\u001b[0m in \u001b[0;36m<module>\u001b[1;34m\u001b[0m\n\u001b[0;32m      1\u001b[0m \u001b[1;31m#Serve the dashboard\u001b[0m\u001b[1;33m\u001b[0m\u001b[1;33m\u001b[0m\u001b[1;33m\u001b[0m\u001b[0m\n\u001b[0;32m      2\u001b[0m \u001b[1;33m\u001b[0m\u001b[0m\n\u001b[1;32m----> 3\u001b[1;33m \u001b[0msan_fran_dashboard\u001b[0m\u001b[1;33m.\u001b[0m\u001b[0mservable\u001b[0m\u001b[1;33m(\u001b[0m\u001b[1;33m)\u001b[0m\u001b[1;33m\u001b[0m\u001b[1;33m\u001b[0m\u001b[0m\n\u001b[0m",
      "\u001b[1;31mNameError\u001b[0m: name 'san_fran_dashboard' is not defined"
     ]
    }
   ],
   "source": [
    "#Serve the dashboard\n",
    "\n",
    "san_fran_dashboard.servable()\n"
   ]
  },
  {
   "cell_type": "code",
   "execution_count": null,
   "metadata": {},
   "outputs": [],
   "source": []
  },
  {
   "cell_type": "code",
   "execution_count": null,
   "metadata": {},
   "outputs": [],
   "source": []
  },
  {
   "cell_type": "code",
   "execution_count": null,
   "metadata": {},
   "outputs": [],
   "source": []
  }
 ],
 "metadata": {
  "kernelspec": {
   "display_name": "Python 3",
   "language": "python",
   "name": "python3"
  },
  "language_info": {
   "codemirror_mode": {
    "name": "ipython",
    "version": 3
   },
   "file_extension": ".py",
   "mimetype": "text/x-python",
   "name": "python",
   "nbconvert_exporter": "python",
   "pygments_lexer": "ipython3",
   "version": "3.7.7"
  }
 },
 "nbformat": 4,
 "nbformat_minor": 4
}
