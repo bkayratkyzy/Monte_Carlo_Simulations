{
 "cells": [
  {
   "cell_type": "code",
   "execution_count": 1,
   "metadata": {},
   "outputs": [],
   "source": [
    "# GoogleFinance\n",
    "# Data Clean up\n",
    "# Health Care Monte Carlo\n",
    "# Industrials Monte Carlo\n",
    "# Utilities Monte Carlo"
   ]
  },
  {
   "cell_type": "code",
   "execution_count": 2,
   "metadata": {},
   "outputs": [],
   "source": [
    "import numpy as np\n",
    "import pandas as pd\n",
    "from datetime import datetime, timedelta\n",
    "import matplotlib.pyplot as plt\n",
    "import json\n",
    "from pathlib import Path\n",
    "import alpaca_trade_api as tradeapi\n",
    "import requests\n",
    "import os \n",
    "import seaborn as sns\n",
    "from dotenv import load_dotenv\n",
    "\n",
    "%matplotlib inline"
   ]
  },
  {
   "cell_type": "code",
   "execution_count": 3,
   "metadata": {},
   "outputs": [
    {
     "data": {
      "text/plain": [
       "str"
      ]
     },
     "execution_count": 3,
     "metadata": {},
     "output_type": "execute_result"
    }
   ],
   "source": [
    "#Try ALPACA data retrieval next\n",
    "load_dotenv()\n",
    "\n",
    "API_KEY_ID = os.getenv(\"API_KEY_ID\")\n",
    "SECRET_KEY = os.getenv(\"SECRET_KEY\")\n",
    "\n",
    "api = tradeapi.REST(API_KEY_ID, SECRET_KEY, api_version='v2')\n",
    "\n",
    "type(API_KEY_ID)"
   ]
  },
  {
   "cell_type": "code",
   "execution_count": 4,
   "metadata": {},
   "outputs": [],
   "source": [
    "#Use alpha vantage to get historic quotes for XLV, XLI, XLU. This goes back 20 years.\n",
    "\n",
    "health_df = api.alpha_vantage.historic_quotes('XLV', adjusted=True, output_format='pandas')\n",
    "health_df.head()\n",
    "\n",
    "industrial_df = api.alpha_vantage.historic_quotes('XLI', adjusted=True, output_format='pandas')\n",
    "# industrial_df.tail()\n",
    "\n",
    "utilities_df = api.alpha_vantage.historic_quotes('XLU', adjusted=True, output_format='pandas')\n",
    "# utilities_df.head()\n",
    "sp500_df = api.alpha_vantage.historic_quotes('SPY', adjusted=True, output_format='pandas')"
   ]
  },
  {
   "cell_type": "code",
   "execution_count": 5,
   "metadata": {},
   "outputs": [
    {
     "data": {
      "text/html": [
       "<div>\n",
       "<style scoped>\n",
       "    .dataframe tbody tr th:only-of-type {\n",
       "        vertical-align: middle;\n",
       "    }\n",
       "\n",
       "    .dataframe tbody tr th {\n",
       "        vertical-align: top;\n",
       "    }\n",
       "\n",
       "    .dataframe thead th {\n",
       "        text-align: right;\n",
       "    }\n",
       "</style>\n",
       "<table border=\"1\" class=\"dataframe\">\n",
       "  <thead>\n",
       "    <tr style=\"text-align: right;\">\n",
       "      <th></th>\n",
       "      <th>1. open</th>\n",
       "      <th>2. high</th>\n",
       "      <th>3. low</th>\n",
       "      <th>4. close</th>\n",
       "      <th>5. adjusted close</th>\n",
       "      <th>6. volume</th>\n",
       "      <th>7. dividend amount</th>\n",
       "      <th>8. split coefficient</th>\n",
       "    </tr>\n",
       "    <tr>\n",
       "      <th>date</th>\n",
       "      <th></th>\n",
       "      <th></th>\n",
       "      <th></th>\n",
       "      <th></th>\n",
       "      <th></th>\n",
       "      <th></th>\n",
       "      <th></th>\n",
       "      <th></th>\n",
       "    </tr>\n",
       "  </thead>\n",
       "  <tbody>\n",
       "    <tr>\n",
       "      <td>2020-04-30</td>\n",
       "      <td>291.71</td>\n",
       "      <td>293.3239</td>\n",
       "      <td>288.59</td>\n",
       "      <td>290.48</td>\n",
       "      <td>290.48</td>\n",
       "      <td>113667554.0</td>\n",
       "      <td>0.0</td>\n",
       "      <td>1.0</td>\n",
       "    </tr>\n",
       "    <tr>\n",
       "      <td>2020-04-29</td>\n",
       "      <td>291.53</td>\n",
       "      <td>294.8800</td>\n",
       "      <td>290.41</td>\n",
       "      <td>293.21</td>\n",
       "      <td>293.21</td>\n",
       "      <td>118066585.0</td>\n",
       "      <td>0.0</td>\n",
       "      <td>1.0</td>\n",
       "    </tr>\n",
       "    <tr>\n",
       "      <td>2020-04-28</td>\n",
       "      <td>291.02</td>\n",
       "      <td>291.4000</td>\n",
       "      <td>285.40</td>\n",
       "      <td>285.73</td>\n",
       "      <td>285.73</td>\n",
       "      <td>104797847.0</td>\n",
       "      <td>0.0</td>\n",
       "      <td>1.0</td>\n",
       "    </tr>\n",
       "    <tr>\n",
       "      <td>2020-04-27</td>\n",
       "      <td>285.12</td>\n",
       "      <td>288.2700</td>\n",
       "      <td>284.62</td>\n",
       "      <td>287.05</td>\n",
       "      <td>287.05</td>\n",
       "      <td>77516422.0</td>\n",
       "      <td>0.0</td>\n",
       "      <td>1.0</td>\n",
       "    </tr>\n",
       "    <tr>\n",
       "      <td>2020-04-24</td>\n",
       "      <td>280.73</td>\n",
       "      <td>283.7000</td>\n",
       "      <td>278.50</td>\n",
       "      <td>282.97</td>\n",
       "      <td>282.97</td>\n",
       "      <td>85042563.0</td>\n",
       "      <td>0.0</td>\n",
       "      <td>1.0</td>\n",
       "    </tr>\n",
       "  </tbody>\n",
       "</table>\n",
       "</div>"
      ],
      "text/plain": [
       "            1. open   2. high  3. low  4. close  5. adjusted close  \\\n",
       "date                                                                 \n",
       "2020-04-30   291.71  293.3239  288.59    290.48             290.48   \n",
       "2020-04-29   291.53  294.8800  290.41    293.21             293.21   \n",
       "2020-04-28   291.02  291.4000  285.40    285.73             285.73   \n",
       "2020-04-27   285.12  288.2700  284.62    287.05             287.05   \n",
       "2020-04-24   280.73  283.7000  278.50    282.97             282.97   \n",
       "\n",
       "              6. volume  7. dividend amount  8. split coefficient  \n",
       "date                                                               \n",
       "2020-04-30  113667554.0                 0.0                   1.0  \n",
       "2020-04-29  118066585.0                 0.0                   1.0  \n",
       "2020-04-28  104797847.0                 0.0                   1.0  \n",
       "2020-04-27   77516422.0                 0.0                   1.0  \n",
       "2020-04-24   85042563.0                 0.0                   1.0  "
      ]
     },
     "execution_count": 5,
     "metadata": {},
     "output_type": "execute_result"
    }
   ],
   "source": [
    "sp500_df.head()"
   ]
  },
  {
   "cell_type": "code",
   "execution_count": 6,
   "metadata": {},
   "outputs": [
    {
     "data": {
      "text/html": [
       "<div>\n",
       "<style scoped>\n",
       "    .dataframe tbody tr th:only-of-type {\n",
       "        vertical-align: middle;\n",
       "    }\n",
       "\n",
       "    .dataframe tbody tr th {\n",
       "        vertical-align: top;\n",
       "    }\n",
       "\n",
       "    .dataframe thead th {\n",
       "        text-align: right;\n",
       "    }\n",
       "</style>\n",
       "<table border=\"1\" class=\"dataframe\">\n",
       "  <thead>\n",
       "    <tr style=\"text-align: right;\">\n",
       "      <th></th>\n",
       "      <th>5. adjusted close</th>\n",
       "      <th>5. adjusted close</th>\n",
       "      <th>5. adjusted close</th>\n",
       "      <th>5. adjusted close</th>\n",
       "    </tr>\n",
       "    <tr>\n",
       "      <th>date</th>\n",
       "      <th></th>\n",
       "      <th></th>\n",
       "      <th></th>\n",
       "      <th></th>\n",
       "    </tr>\n",
       "  </thead>\n",
       "  <tbody>\n",
       "    <tr>\n",
       "      <td>2020-04-30</td>\n",
       "      <td>99.73</td>\n",
       "      <td>64.21</td>\n",
       "      <td>57.26</td>\n",
       "      <td>290.48</td>\n",
       "    </tr>\n",
       "    <tr>\n",
       "      <td>2020-04-29</td>\n",
       "      <td>100.19</td>\n",
       "      <td>65.51</td>\n",
       "      <td>58.61</td>\n",
       "      <td>293.21</td>\n",
       "    </tr>\n",
       "    <tr>\n",
       "      <td>2020-04-28</td>\n",
       "      <td>99.53</td>\n",
       "      <td>64.28</td>\n",
       "      <td>59.15</td>\n",
       "      <td>285.73</td>\n",
       "    </tr>\n",
       "    <tr>\n",
       "      <td>2020-04-27</td>\n",
       "      <td>101.58</td>\n",
       "      <td>63.10</td>\n",
       "      <td>58.93</td>\n",
       "      <td>287.05</td>\n",
       "    </tr>\n",
       "    <tr>\n",
       "      <td>2020-04-24</td>\n",
       "      <td>100.29</td>\n",
       "      <td>61.57</td>\n",
       "      <td>58.32</td>\n",
       "      <td>282.97</td>\n",
       "    </tr>\n",
       "  </tbody>\n",
       "</table>\n",
       "</div>"
      ],
      "text/plain": [
       "            5. adjusted close  5. adjusted close  5. adjusted close  \\\n",
       "date                                                                  \n",
       "2020-04-30              99.73              64.21              57.26   \n",
       "2020-04-29             100.19              65.51              58.61   \n",
       "2020-04-28              99.53              64.28              59.15   \n",
       "2020-04-27             101.58              63.10              58.93   \n",
       "2020-04-24             100.29              61.57              58.32   \n",
       "\n",
       "            5. adjusted close  \n",
       "date                           \n",
       "2020-04-30             290.48  \n",
       "2020-04-29             293.21  \n",
       "2020-04-28             285.73  \n",
       "2020-04-27             287.05  \n",
       "2020-04-24             282.97  "
      ]
     },
     "execution_count": 6,
     "metadata": {},
     "output_type": "execute_result"
    }
   ],
   "source": [
    "#DATA CLEANUP\n",
    "\n",
    "#Select the one column we need,  \"adjusted close\", and drop the others\n",
    "\n",
    "health_df = health_df['5. adjusted close']\n",
    "health_df.head()\n",
    "\n",
    "industrial_df = industrial_df['5. adjusted close']\n",
    "industrial_df.head()\n",
    "\n",
    "utilities_df = utilities_df['5. adjusted close']\n",
    "utilities_df.head()\n",
    "\n",
    "sp500_df = sp500_df['5. adjusted close']\n",
    "sp500_df.head()\n",
    "\n",
    "#Use concat to put the data in one dataframe\n",
    "concat_df = pd.concat([health_df, industrial_df, utilities_df, sp500_df], axis = \"columns\", join = \"inner\")\n",
    "concat_df.head()"
   ]
  },
  {
   "cell_type": "code",
   "execution_count": 7,
   "metadata": {},
   "outputs": [
    {
     "data": {
      "text/html": [
       "<div>\n",
       "<style scoped>\n",
       "    .dataframe tbody tr th:only-of-type {\n",
       "        vertical-align: middle;\n",
       "    }\n",
       "\n",
       "    .dataframe tbody tr th {\n",
       "        vertical-align: top;\n",
       "    }\n",
       "\n",
       "    .dataframe thead th {\n",
       "        text-align: right;\n",
       "    }\n",
       "</style>\n",
       "<table border=\"1\" class=\"dataframe\">\n",
       "  <thead>\n",
       "    <tr style=\"text-align: right;\">\n",
       "      <th></th>\n",
       "      <th>HealthCare_close</th>\n",
       "      <th>Industrials_close</th>\n",
       "      <th>Utilities_close</th>\n",
       "      <th>SP500_close</th>\n",
       "    </tr>\n",
       "    <tr>\n",
       "      <th>date</th>\n",
       "      <th></th>\n",
       "      <th></th>\n",
       "      <th></th>\n",
       "      <th></th>\n",
       "    </tr>\n",
       "  </thead>\n",
       "  <tbody>\n",
       "    <tr>\n",
       "      <td>2020-04-30</td>\n",
       "      <td>99.73</td>\n",
       "      <td>64.21</td>\n",
       "      <td>57.26</td>\n",
       "      <td>290.48</td>\n",
       "    </tr>\n",
       "    <tr>\n",
       "      <td>2020-04-29</td>\n",
       "      <td>100.19</td>\n",
       "      <td>65.51</td>\n",
       "      <td>58.61</td>\n",
       "      <td>293.21</td>\n",
       "    </tr>\n",
       "    <tr>\n",
       "      <td>2020-04-28</td>\n",
       "      <td>99.53</td>\n",
       "      <td>64.28</td>\n",
       "      <td>59.15</td>\n",
       "      <td>285.73</td>\n",
       "    </tr>\n",
       "    <tr>\n",
       "      <td>2020-04-27</td>\n",
       "      <td>101.58</td>\n",
       "      <td>63.10</td>\n",
       "      <td>58.93</td>\n",
       "      <td>287.05</td>\n",
       "    </tr>\n",
       "    <tr>\n",
       "      <td>2020-04-24</td>\n",
       "      <td>100.29</td>\n",
       "      <td>61.57</td>\n",
       "      <td>58.32</td>\n",
       "      <td>282.97</td>\n",
       "    </tr>\n",
       "  </tbody>\n",
       "</table>\n",
       "</div>"
      ],
      "text/plain": [
       "            HealthCare_close  Industrials_close  Utilities_close  SP500_close\n",
       "date                                                                         \n",
       "2020-04-30             99.73              64.21            57.26       290.48\n",
       "2020-04-29            100.19              65.51            58.61       293.21\n",
       "2020-04-28             99.53              64.28            59.15       285.73\n",
       "2020-04-27            101.58              63.10            58.93       287.05\n",
       "2020-04-24            100.29              61.57            58.32       282.97"
      ]
     },
     "execution_count": 7,
     "metadata": {},
     "output_type": "execute_result"
    }
   ],
   "source": [
    "#Change column names to avoid confusion\n",
    "columns = ['HealthCare_close', 'Industrials_close', 'Utilities_close', 'SP500_close']\n",
    "concat_df.columns = columns\n",
    "concat_df.head()"
   ]
  },
  {
   "cell_type": "code",
   "execution_count": 8,
   "metadata": {},
   "outputs": [
    {
     "data": {
      "text/html": [
       "<div>\n",
       "<style scoped>\n",
       "    .dataframe tbody tr th:only-of-type {\n",
       "        vertical-align: middle;\n",
       "    }\n",
       "\n",
       "    .dataframe tbody tr th {\n",
       "        vertical-align: top;\n",
       "    }\n",
       "\n",
       "    .dataframe thead th {\n",
       "        text-align: right;\n",
       "    }\n",
       "</style>\n",
       "<table border=\"1\" class=\"dataframe\">\n",
       "  <thead>\n",
       "    <tr style=\"text-align: right;\">\n",
       "      <th></th>\n",
       "      <th>HealthCare_close</th>\n",
       "      <th>Industrials_close</th>\n",
       "      <th>Utilities_close</th>\n",
       "      <th>SP500_close</th>\n",
       "      <th>HealthCare_return</th>\n",
       "      <th>Industrials_return</th>\n",
       "      <th>Utilities_return</th>\n",
       "      <th>SP500_return</th>\n",
       "    </tr>\n",
       "    <tr>\n",
       "      <th>date</th>\n",
       "      <th></th>\n",
       "      <th></th>\n",
       "      <th></th>\n",
       "      <th></th>\n",
       "      <th></th>\n",
       "      <th></th>\n",
       "      <th></th>\n",
       "      <th></th>\n",
       "    </tr>\n",
       "  </thead>\n",
       "  <tbody>\n",
       "    <tr>\n",
       "      <td>2020-04-30</td>\n",
       "      <td>99.73</td>\n",
       "      <td>64.21</td>\n",
       "      <td>57.26</td>\n",
       "      <td>290.48</td>\n",
       "      <td>NaN</td>\n",
       "      <td>NaN</td>\n",
       "      <td>NaN</td>\n",
       "      <td>NaN</td>\n",
       "    </tr>\n",
       "    <tr>\n",
       "      <td>2020-04-29</td>\n",
       "      <td>100.19</td>\n",
       "      <td>65.51</td>\n",
       "      <td>58.61</td>\n",
       "      <td>293.21</td>\n",
       "      <td>0.004612</td>\n",
       "      <td>0.020246</td>\n",
       "      <td>0.023577</td>\n",
       "      <td>0.009398</td>\n",
       "    </tr>\n",
       "    <tr>\n",
       "      <td>2020-04-28</td>\n",
       "      <td>99.53</td>\n",
       "      <td>64.28</td>\n",
       "      <td>59.15</td>\n",
       "      <td>285.73</td>\n",
       "      <td>-0.006587</td>\n",
       "      <td>-0.018776</td>\n",
       "      <td>0.009213</td>\n",
       "      <td>-0.025511</td>\n",
       "    </tr>\n",
       "    <tr>\n",
       "      <td>2020-04-27</td>\n",
       "      <td>101.58</td>\n",
       "      <td>63.10</td>\n",
       "      <td>58.93</td>\n",
       "      <td>287.05</td>\n",
       "      <td>0.020597</td>\n",
       "      <td>-0.018357</td>\n",
       "      <td>-0.003719</td>\n",
       "      <td>0.004620</td>\n",
       "    </tr>\n",
       "    <tr>\n",
       "      <td>2020-04-24</td>\n",
       "      <td>100.29</td>\n",
       "      <td>61.57</td>\n",
       "      <td>58.32</td>\n",
       "      <td>282.97</td>\n",
       "      <td>-0.012699</td>\n",
       "      <td>-0.024247</td>\n",
       "      <td>-0.010351</td>\n",
       "      <td>-0.014214</td>\n",
       "    </tr>\n",
       "  </tbody>\n",
       "</table>\n",
       "</div>"
      ],
      "text/plain": [
       "            HealthCare_close  Industrials_close  Utilities_close  SP500_close  \\\n",
       "date                                                                            \n",
       "2020-04-30             99.73              64.21            57.26       290.48   \n",
       "2020-04-29            100.19              65.51            58.61       293.21   \n",
       "2020-04-28             99.53              64.28            59.15       285.73   \n",
       "2020-04-27            101.58              63.10            58.93       287.05   \n",
       "2020-04-24            100.29              61.57            58.32       282.97   \n",
       "\n",
       "            HealthCare_return  Industrials_return  Utilities_return  \\\n",
       "date                                                                  \n",
       "2020-04-30                NaN                 NaN               NaN   \n",
       "2020-04-29           0.004612            0.020246          0.023577   \n",
       "2020-04-28          -0.006587           -0.018776          0.009213   \n",
       "2020-04-27           0.020597           -0.018357         -0.003719   \n",
       "2020-04-24          -0.012699           -0.024247         -0.010351   \n",
       "\n",
       "            SP500_return  \n",
       "date                      \n",
       "2020-04-30           NaN  \n",
       "2020-04-29      0.009398  \n",
       "2020-04-28     -0.025511  \n",
       "2020-04-27      0.004620  \n",
       "2020-04-24     -0.014214  "
      ]
     },
     "execution_count": 8,
     "metadata": {},
     "output_type": "execute_result"
    }
   ],
   "source": [
    "#add another column to get daily returns of XLB\n",
    "daily_returns_health = health_df.pct_change()\n",
    "concat_df['HealthCare_return']= daily_returns_health \n",
    "\n",
    "#add another column to get daily returns of XLK\n",
    "daily_returns_industrial = industrial_df.pct_change()\n",
    "concat_df['Industrials_return']= daily_returns_industrial \n",
    "\n",
    "#add another column to get daily returns of RWR\n",
    "daily_returns_utilities = utilities_df.pct_change()\n",
    "concat_df['Utilities_return']= daily_returns_utilities\n",
    "\n",
    "#add another column to get daily returnds of SP500\n",
    "daily_returns_sp500 = sp500_df.pct_change()\n",
    "concat_df['SP500_return']= daily_returns_sp500\n",
    "\n",
    "concat_df.head()"
   ]
  },
  {
   "cell_type": "code",
   "execution_count": 9,
   "metadata": {},
   "outputs": [
    {
     "data": {
      "text/plain": [
       "HealthCare_close      0\n",
       "Industrials_close     0\n",
       "Utilities_close       0\n",
       "SP500_close           0\n",
       "HealthCare_return     0\n",
       "Industrials_return    0\n",
       "Utilities_return      0\n",
       "SP500_return          0\n",
       "dtype: int64"
      ]
     },
     "execution_count": 9,
     "metadata": {},
     "output_type": "execute_result"
    }
   ],
   "source": [
    "# Drop nulls\n",
    "concat_df.dropna(inplace=True)\n",
    "\n",
    "#count nulls again\n",
    "concat_df.isnull().sum()"
   ]
  },
  {
   "cell_type": "code",
   "execution_count": 10,
   "metadata": {},
   "outputs": [
    {
     "data": {
      "text/plain": [
       "date\n",
       "2020-04-29    False\n",
       "2020-04-28    False\n",
       "2020-04-27    False\n",
       "2020-04-24    False\n",
       "2020-04-23    False\n",
       "              ...  \n",
       "2000-05-05    False\n",
       "2000-05-04    False\n",
       "2000-05-03    False\n",
       "2000-05-02    False\n",
       "2000-05-01    False\n",
       "Length: 5031, dtype: bool"
      ]
     },
     "execution_count": 10,
     "metadata": {},
     "output_type": "execute_result"
    }
   ],
   "source": [
    "# Checking for duplicate rows\n",
    "concat_df.duplicated()"
   ]
  },
  {
   "cell_type": "code",
   "execution_count": 11,
   "metadata": {},
   "outputs": [
    {
     "data": {
      "text/html": [
       "<div>\n",
       "<style scoped>\n",
       "    .dataframe tbody tr th:only-of-type {\n",
       "        vertical-align: middle;\n",
       "    }\n",
       "\n",
       "    .dataframe tbody tr th {\n",
       "        vertical-align: top;\n",
       "    }\n",
       "\n",
       "    .dataframe thead th {\n",
       "        text-align: right;\n",
       "    }\n",
       "</style>\n",
       "<table border=\"1\" class=\"dataframe\">\n",
       "  <thead>\n",
       "    <tr style=\"text-align: right;\">\n",
       "      <th></th>\n",
       "      <th>HealthCare_close</th>\n",
       "      <th>Industrials_close</th>\n",
       "      <th>Utilities_close</th>\n",
       "      <th>SP500_close</th>\n",
       "      <th>HealthCare_return</th>\n",
       "      <th>Industrials_return</th>\n",
       "      <th>Utilities_return</th>\n",
       "      <th>SP500_return</th>\n",
       "    </tr>\n",
       "    <tr>\n",
       "      <th>date</th>\n",
       "      <th></th>\n",
       "      <th></th>\n",
       "      <th></th>\n",
       "      <th></th>\n",
       "      <th></th>\n",
       "      <th></th>\n",
       "      <th></th>\n",
       "      <th></th>\n",
       "    </tr>\n",
       "  </thead>\n",
       "  <tbody>\n",
       "    <tr>\n",
       "      <td>2020-04-29</td>\n",
       "      <td>100.19</td>\n",
       "      <td>65.51</td>\n",
       "      <td>58.61</td>\n",
       "      <td>293.21</td>\n",
       "      <td>0.004612</td>\n",
       "      <td>0.020246</td>\n",
       "      <td>0.023577</td>\n",
       "      <td>0.009398</td>\n",
       "    </tr>\n",
       "    <tr>\n",
       "      <td>2020-04-28</td>\n",
       "      <td>99.53</td>\n",
       "      <td>64.28</td>\n",
       "      <td>59.15</td>\n",
       "      <td>285.73</td>\n",
       "      <td>-0.006587</td>\n",
       "      <td>-0.018776</td>\n",
       "      <td>0.009213</td>\n",
       "      <td>-0.025511</td>\n",
       "    </tr>\n",
       "    <tr>\n",
       "      <td>2020-04-27</td>\n",
       "      <td>101.58</td>\n",
       "      <td>63.10</td>\n",
       "      <td>58.93</td>\n",
       "      <td>287.05</td>\n",
       "      <td>0.020597</td>\n",
       "      <td>-0.018357</td>\n",
       "      <td>-0.003719</td>\n",
       "      <td>0.004620</td>\n",
       "    </tr>\n",
       "    <tr>\n",
       "      <td>2020-04-24</td>\n",
       "      <td>100.29</td>\n",
       "      <td>61.57</td>\n",
       "      <td>58.32</td>\n",
       "      <td>282.97</td>\n",
       "      <td>-0.012699</td>\n",
       "      <td>-0.024247</td>\n",
       "      <td>-0.010351</td>\n",
       "      <td>-0.014214</td>\n",
       "    </tr>\n",
       "    <tr>\n",
       "      <td>2020-04-23</td>\n",
       "      <td>98.96</td>\n",
       "      <td>61.08</td>\n",
       "      <td>57.96</td>\n",
       "      <td>279.08</td>\n",
       "      <td>-0.013262</td>\n",
       "      <td>-0.007958</td>\n",
       "      <td>-0.006173</td>\n",
       "      <td>-0.013747</td>\n",
       "    </tr>\n",
       "  </tbody>\n",
       "</table>\n",
       "</div>"
      ],
      "text/plain": [
       "            HealthCare_close  Industrials_close  Utilities_close  SP500_close  \\\n",
       "date                                                                            \n",
       "2020-04-29            100.19              65.51            58.61       293.21   \n",
       "2020-04-28             99.53              64.28            59.15       285.73   \n",
       "2020-04-27            101.58              63.10            58.93       287.05   \n",
       "2020-04-24            100.29              61.57            58.32       282.97   \n",
       "2020-04-23             98.96              61.08            57.96       279.08   \n",
       "\n",
       "            HealthCare_return  Industrials_return  Utilities_return  \\\n",
       "date                                                                  \n",
       "2020-04-29           0.004612            0.020246          0.023577   \n",
       "2020-04-28          -0.006587           -0.018776          0.009213   \n",
       "2020-04-27           0.020597           -0.018357         -0.003719   \n",
       "2020-04-24          -0.012699           -0.024247         -0.010351   \n",
       "2020-04-23          -0.013262           -0.007958         -0.006173   \n",
       "\n",
       "            SP500_return  \n",
       "date                      \n",
       "2020-04-29      0.009398  \n",
       "2020-04-28     -0.025511  \n",
       "2020-04-27      0.004620  \n",
       "2020-04-24     -0.014214  \n",
       "2020-04-23     -0.013747  "
      ]
     },
     "execution_count": 11,
     "metadata": {},
     "output_type": "execute_result"
    }
   ],
   "source": [
    "# drop duplicates\n",
    "concat_df.drop_duplicates(inplace=True)\n",
    "concat_df.head()"
   ]
  },
  {
   "cell_type": "code",
   "execution_count": 12,
   "metadata": {},
   "outputs": [
    {
     "data": {
      "text/html": [
       "<div>\n",
       "<style scoped>\n",
       "    .dataframe tbody tr th:only-of-type {\n",
       "        vertical-align: middle;\n",
       "    }\n",
       "\n",
       "    .dataframe tbody tr th {\n",
       "        vertical-align: top;\n",
       "    }\n",
       "\n",
       "    .dataframe thead th {\n",
       "        text-align: right;\n",
       "    }\n",
       "</style>\n",
       "<table border=\"1\" class=\"dataframe\">\n",
       "  <thead>\n",
       "    <tr style=\"text-align: right;\">\n",
       "      <th></th>\n",
       "      <th>HealthCare_return</th>\n",
       "      <th>Industrials_return</th>\n",
       "      <th>Utilities_return</th>\n",
       "      <th>SP500_return</th>\n",
       "    </tr>\n",
       "    <tr>\n",
       "      <th>date</th>\n",
       "      <th></th>\n",
       "      <th></th>\n",
       "      <th></th>\n",
       "      <th></th>\n",
       "    </tr>\n",
       "  </thead>\n",
       "  <tbody>\n",
       "    <tr>\n",
       "      <td>2020-04-29</td>\n",
       "      <td>0.004612</td>\n",
       "      <td>0.020246</td>\n",
       "      <td>0.023577</td>\n",
       "      <td>0.009398</td>\n",
       "    </tr>\n",
       "    <tr>\n",
       "      <td>2020-04-28</td>\n",
       "      <td>-0.006587</td>\n",
       "      <td>-0.018776</td>\n",
       "      <td>0.009213</td>\n",
       "      <td>-0.025511</td>\n",
       "    </tr>\n",
       "    <tr>\n",
       "      <td>2020-04-27</td>\n",
       "      <td>0.020597</td>\n",
       "      <td>-0.018357</td>\n",
       "      <td>-0.003719</td>\n",
       "      <td>0.004620</td>\n",
       "    </tr>\n",
       "    <tr>\n",
       "      <td>2020-04-24</td>\n",
       "      <td>-0.012699</td>\n",
       "      <td>-0.024247</td>\n",
       "      <td>-0.010351</td>\n",
       "      <td>-0.014214</td>\n",
       "    </tr>\n",
       "    <tr>\n",
       "      <td>2020-04-23</td>\n",
       "      <td>-0.013262</td>\n",
       "      <td>-0.007958</td>\n",
       "      <td>-0.006173</td>\n",
       "      <td>-0.013747</td>\n",
       "    </tr>\n",
       "  </tbody>\n",
       "</table>\n",
       "</div>"
      ],
      "text/plain": [
       "            HealthCare_return  Industrials_return  Utilities_return  \\\n",
       "date                                                                  \n",
       "2020-04-29           0.004612            0.020246          0.023577   \n",
       "2020-04-28          -0.006587           -0.018776          0.009213   \n",
       "2020-04-27           0.020597           -0.018357         -0.003719   \n",
       "2020-04-24          -0.012699           -0.024247         -0.010351   \n",
       "2020-04-23          -0.013262           -0.007958         -0.006173   \n",
       "\n",
       "            SP500_return  \n",
       "date                      \n",
       "2020-04-29      0.009398  \n",
       "2020-04-28     -0.025511  \n",
       "2020-04-27      0.004620  \n",
       "2020-04-24     -0.014214  \n",
       "2020-04-23     -0.013747  "
      ]
     },
     "execution_count": 12,
     "metadata": {},
     "output_type": "execute_result"
    }
   ],
   "source": [
    "# drop close columns to create dataframe for daily returns\n",
    "returns_df = concat_df.drop(columns=['HealthCare_close', 'Industrials_close', 'Utilities_close', 'SP500_close'])\n",
    "returns_df.head()"
   ]
  },
  {
   "cell_type": "code",
   "execution_count": 13,
   "metadata": {},
   "outputs": [],
   "source": [
    "# Calculate the cumulative returns using the 'cumprod()' function\n",
    "cumulative_returns_health = (1 + returns_df['HealthCare_return']).cumprod()\n",
    "cumulative_returns_industrial = (1 + returns_df['Industrials_return']).cumprod()\n",
    "cumulative_returns_utilities = (1 + returns_df['Utilities_return']).cumprod()\n",
    "cumulative_returns_sp500 = (1 + returns_df['SP500_return']).cumprod()"
   ]
  },
  {
   "cell_type": "code",
   "execution_count": 14,
   "metadata": {},
   "outputs": [
    {
     "data": {
      "text/plain": [
       "date\n",
       "2020-04-29    1.004612\n",
       "2020-04-28    0.997995\n",
       "2020-04-27    1.018550\n",
       "2020-04-24    1.005615\n",
       "2020-04-23    0.992279\n",
       "Name: HealthCare_return, dtype: float64"
      ]
     },
     "execution_count": 14,
     "metadata": {},
     "output_type": "execute_result"
    }
   ],
   "source": [
    "cumulative_returns_health.head()"
   ]
  },
  {
   "cell_type": "code",
   "execution_count": 15,
   "metadata": {},
   "outputs": [
    {
     "data": {
      "text/plain": [
       "<matplotlib.axes._subplots.AxesSubplot at 0x955a45c288>"
      ]
     },
     "execution_count": 15,
     "metadata": {},
     "output_type": "execute_result"
    },
    {
     "data": {
      "image/png": "[encoded data removed]",
      "text/plain": [
       "<Figure size 720x360 with 1 Axes>"
      ]
     },
     "metadata": {
      "needs_background": "light"
     },
     "output_type": "display_data"
    }
   ],
   "source": [
    "#plot cumulative returns\n",
    "\n",
    "cumulative_returns_health.plot(figsize=(10,5), legend=True)\n",
    "cumulative_returns_industrial.plot(figsize=(10,5), legend=True)\n",
    "cumulative_returns_utilities.plot(figsize=(10,5), legend=True)\n",
    "cumulative_returns_sp500.plot(figsize=(10,5), legend=True)"
   ]
  },
  {
   "cell_type": "code",
   "execution_count": 16,
   "metadata": {},
   "outputs": [
    {
     "name": "stdout",
     "output_type": "stream",
     "text": [
      " Healthcare standard deviation is 0.011677034238387628\n",
      " Industrials standard deviation is 0.013833999074919235\n",
      " Utilities standard deviation is 0.012405303993189763\n",
      " S&P 500 standard deviation is 0.012464342327618443\n",
      "[0.011677034238387628, 0.013833999074919235, 0.012405303993189763, 0.012464342327618443]\n"
     ]
    }
   ],
   "source": [
    "# Calculate Standard Deviations for each sector\n",
    "HealthCare_std = returns_df['HealthCare_return'].std()\n",
    "print(f' Healthcare standard deviation is {HealthCare_std}')\n",
    "\n",
    "\n",
    "Industrials_std = returns_df['Industrials_return'].std()\n",
    "print(f' Industrials standard deviation is {Industrials_std}')\n",
    "\n",
    "Utilities_std = returns_df['Utilities_return'].std()\n",
    "print(f' Utilities standard deviation is {Utilities_std}')\n",
    "\n",
    "SP500_std = returns_df['SP500_return'].std()\n",
    "print(f' S&P 500 standard deviation is {SP500_std}')\n",
    "\n",
    "\n",
    "# Identify the sector with highest standard deviation (riskiest)\n",
    "sectors = [HealthCare_std, Industrials_std, Utilities_std, SP500_std]\n",
    "print(sectors)"
   ]
  },
  {
   "cell_type": "code",
   "execution_count": 17,
   "metadata": {},
   "outputs": [
    {
     "data": {
      "text/plain": [
       "0.1978653003291262"
      ]
     },
     "execution_count": 17,
     "metadata": {},
     "output_type": "execute_result"
    }
   ],
   "source": [
    "# Calculate the annualized standard deviation (252 trading days) for each sector\n",
    "annual_HealthCare_std = HealthCare_std * np.sqrt(252)\n",
    "annual_HealthCare_std\n",
    "\n",
    "annual_Industrials_std = Industrials_std * np.sqrt(252)\n",
    "annual_Industrials_std\n",
    "\n",
    "annual_Utilities_std = Utilities_std * np.sqrt(252)\n",
    "annual_Utilities_std\n",
    "\n",
    "annual_SP500_std = SP500_std * np.sqrt(252)\n",
    "annual_SP500_std"
   ]
  },
  {
   "cell_type": "code",
   "execution_count": 18,
   "metadata": {},
   "outputs": [
    {
     "data": {
      "text/plain": [
       "<matplotlib.axes._subplots.AxesSubplot at 0x955a6e82c8>"
      ]
     },
     "execution_count": 18,
     "metadata": {},
     "output_type": "execute_result"
    },
    {
     "data": {
      "image/png": "[encoded data removed]",
      "text/plain": [
       "<Figure size 432x288 with 1 Axes>"
      ]
     },
     "metadata": {
      "needs_background": "light"
     },
     "output_type": "display_data"
    }
   ],
   "source": [
    "#Plot\n",
    "\n",
    "sectors_std = pd.DataFrame({\n",
    "    HealthCare_std: returns_df['HealthCare_return'],\n",
    "    Industrials_std: returns_df['Industrials_return'],\n",
    "    Utilities_std: returns_df['Utilities_return'],\n",
    "    SP500_std: returns_df['SP500_return']\n",
    "})\n",
    "\n",
    "sectors_std.plot.hist(stacked=True, bins=100)"
   ]
  },
  {
   "cell_type": "code",
   "execution_count": 19,
   "metadata": {},
   "outputs": [
    {
     "data": {
      "text/plain": [
       "<matplotlib.axes._subplots.AxesSubplot at 0x955b9c9688>"
      ]
     },
     "execution_count": 19,
     "metadata": {},
     "output_type": "execute_result"
    },
    {
     "data": {
      "image/png": "[encoded data removed]",
      "text/plain": [
       "<Figure size 432x288 with 1 Axes>"
      ]
     },
     "metadata": {
      "needs_background": "light"
     },
     "output_type": "display_data"
    }
   ],
   "source": [
    "sectors_std.plot.box()"
   ]
  },
  {
   "cell_type": "code",
   "execution_count": 20,
   "metadata": {},
   "outputs": [
    {
     "name": "stdout",
     "output_type": "stream",
     "text": [
      " HealthCare: -0.309142879058624, Industrials: -0.14904169363144829, Utilities:-0.26469607829343605, S&P 500: -0.16949976566089006\n"
     ]
    }
   ],
   "source": [
    "# Calculate Sharpe Ratios for the sectors\n",
    "\n",
    "HealthCare_sharpe = (returns_df['HealthCare_return'].mean() * 252) / (returns_df['HealthCare_return'].std() * np.sqrt(252))\n",
    "\n",
    "Industrials_sharpe = (returns_df['Industrials_return'].mean() * 252) / (returns_df['Industrials_return'].std() * np.sqrt(252))\n",
    "\n",
    "Utilities_sharpe = (returns_df['Utilities_return'].mean() * 252) / (returns_df['Utilities_return'].std() * np.sqrt(252))\n",
    "\n",
    "SP500_sharpe = (returns_df['SP500_return'].mean() * 252) / (returns_df['SP500_return'].std() * np.sqrt(252))\n",
    "\n",
    "print(f\" HealthCare: {HealthCare_sharpe}, Industrials: {Industrials_sharpe}, Utilities:{Utilities_sharpe}, S&P 500: {SP500_sharpe}\")"
   ]
  },
  {
   "cell_type": "code",
   "execution_count": 21,
   "metadata": {},
   "outputs": [
    {
     "data": {
      "image/png": "[encoded data removed]",
      "text/plain": [
       "<Figure size 432x288 with 1 Axes>"
      ]
     },
     "metadata": {
      "needs_background": "light"
     },
     "output_type": "display_data"
    }
   ],
   "source": [
    "#Plot the sharpe ratios\n",
    "\n",
    "objects = ('HealthCare', 'Industrials', 'Utilities', 'SP500')\n",
    "y_pos = np.arange(len(objects))\n",
    "sharpe = [HealthCare_sharpe,Industrials_sharpe,Utilities_sharpe, SP500_sharpe]\n",
    "\n",
    "plt.bar(y_pos, sharpe, align='center')\n",
    "plt.xticks(y_pos, objects)\n",
    "plt.ylabel('Sharpe')\n",
    "plt.title('Sharpe Ratios')\n",
    "\n",
    "plt.show()"
   ]
  },
  {
   "cell_type": "code",
   "execution_count": 22,
   "metadata": {},
   "outputs": [
    {
     "data": {
      "text/plain": [
       "HealthCare_return     0\n",
       "Industrials_return    0\n",
       "Utilities_return      0\n",
       "SP500_return          0\n",
       "dtype: int64"
      ]
     },
     "execution_count": 22,
     "metadata": {},
     "output_type": "execute_result"
    }
   ],
   "source": [
    "# Drop nulls on Returns\n",
    "returns_df.dropna(inplace=True)\n",
    "\n",
    "#count nulls \n",
    "returns_df.isnull().sum()"
   ]
  },
  {
   "cell_type": "code",
   "execution_count": 23,
   "metadata": {},
   "outputs": [
    {
     "data": {
      "text/html": [
       "<div>\n",
       "<style scoped>\n",
       "    .dataframe tbody tr th:only-of-type {\n",
       "        vertical-align: middle;\n",
       "    }\n",
       "\n",
       "    .dataframe tbody tr th {\n",
       "        vertical-align: top;\n",
       "    }\n",
       "\n",
       "    .dataframe thead th {\n",
       "        text-align: right;\n",
       "    }\n",
       "</style>\n",
       "<table border=\"1\" class=\"dataframe\">\n",
       "  <thead>\n",
       "    <tr style=\"text-align: right;\">\n",
       "      <th></th>\n",
       "      <th>HealthCare_return</th>\n",
       "      <th>Industrials_return</th>\n",
       "      <th>Utilities_return</th>\n",
       "      <th>SP500_return</th>\n",
       "    </tr>\n",
       "  </thead>\n",
       "  <tbody>\n",
       "    <tr>\n",
       "      <td>HealthCare_return</td>\n",
       "      <td>1.000000</td>\n",
       "      <td>0.738462</td>\n",
       "      <td>0.553251</td>\n",
       "      <td>0.807066</td>\n",
       "    </tr>\n",
       "    <tr>\n",
       "      <td>Industrials_return</td>\n",
       "      <td>0.738462</td>\n",
       "      <td>1.000000</td>\n",
       "      <td>0.567942</td>\n",
       "      <td>0.905134</td>\n",
       "    </tr>\n",
       "    <tr>\n",
       "      <td>Utilities_return</td>\n",
       "      <td>0.553251</td>\n",
       "      <td>0.567942</td>\n",
       "      <td>1.000000</td>\n",
       "      <td>0.646925</td>\n",
       "    </tr>\n",
       "    <tr>\n",
       "      <td>SP500_return</td>\n",
       "      <td>0.807066</td>\n",
       "      <td>0.905134</td>\n",
       "      <td>0.646925</td>\n",
       "      <td>1.000000</td>\n",
       "    </tr>\n",
       "  </tbody>\n",
       "</table>\n",
       "</div>"
      ],
      "text/plain": [
       "                    HealthCare_return  Industrials_return  Utilities_return  \\\n",
       "HealthCare_return            1.000000            0.738462          0.553251   \n",
       "Industrials_return           0.738462            1.000000          0.567942   \n",
       "Utilities_return             0.553251            0.567942          1.000000   \n",
       "SP500_return                 0.807066            0.905134          0.646925   \n",
       "\n",
       "                    SP500_return  \n",
       "HealthCare_return       0.807066  \n",
       "Industrials_return      0.905134  \n",
       "Utilities_return        0.646925  \n",
       "SP500_return            1.000000  "
      ]
     },
     "execution_count": 23,
     "metadata": {},
     "output_type": "execute_result"
    }
   ],
   "source": [
    "#Check correlation\n",
    "\n",
    "sector_correlation = returns_df.corr()\n",
    "sector_correlation"
   ]
  },
  {
   "cell_type": "code",
   "execution_count": 24,
   "metadata": {},
   "outputs": [
    {
     "data": {
      "text/plain": [
       "<matplotlib.axes._subplots.AxesSubplot at 0x955a145e08>"
      ]
     },
     "execution_count": 24,
     "metadata": {},
     "output_type": "execute_result"
    },
    {
     "data": {
      "image/png": "[encoded data removed]",
      "text/plain": [
       "<Figure size 432x288 with 2 Axes>"
      ]
     },
     "metadata": {
      "needs_background": "light"
     },
     "output_type": "display_data"
    }
   ],
   "source": [
    "# Heapmap to visualize sector correlation\n",
    "sns.heatmap(sector_correlation)"
   ]
  },
  {
   "cell_type": "code",
   "execution_count": 26,
   "metadata": {},
   "outputs": [
    {
     "data": {
      "text/plain": [
       "0.756088023009645"
      ]
     },
     "execution_count": 26,
     "metadata": {},
     "output_type": "execute_result"
    }
   ],
   "source": [
    "#BETA CALCULATION Healthcare Sector and S&P 500\n",
    "\n",
    "# Calculate covariance of Healthcare vs. S&P 500\n",
    "health_covariance = returns_df['HealthCare_return'].cov(returns_df['SP500_return'])\n",
    "health_covariance\n",
    "\n",
    "# Calculate variance of S&P 500 returns\n",
    "variance = returns_df['SP500_return'].var()\n",
    "variance\n",
    "\n",
    "# Calculate beta of Healthcare Sector\n",
    "HealthCare_beta = health_covariance / variance\n",
    "HealthCare_beta"
   ]
  },
  {
   "cell_type": "code",
   "execution_count": 28,
   "metadata": {},
   "outputs": [
    {
     "data": {
      "text/plain": [
       "1.0045956330018098"
      ]
     },
     "execution_count": 28,
     "metadata": {},
     "output_type": "execute_result"
    }
   ],
   "source": [
    "#BETA CALCULATION Industrial Sector and S&P 500\n",
    "\n",
    "# Calculate covariance of Industrials vs. S&P 500\n",
    "industrials_covariance = returns_df['Industrials_return'].cov(returns_df['SP500_return'])\n",
    "industrials_covariance\n",
    "\n",
    "# Calculate variance of S&P 500 returns\n",
    "variance = returns_df['SP500_return'].var()\n",
    "variance\n",
    "\n",
    "# Calculate beta of Industrial Sector\n",
    "Industrials_beta = industrials_covariance / variance\n",
    "Industrials_beta"
   ]
  },
  {
   "cell_type": "code",
   "execution_count": 29,
   "metadata": {},
   "outputs": [
    {
     "data": {
      "text/plain": [
       "0.6438612129876659"
      ]
     },
     "execution_count": 29,
     "metadata": {},
     "output_type": "execute_result"
    }
   ],
   "source": [
    "#BETA CALCULATION Utilities and S&P 500\n",
    "\n",
    "# Calculate covariance of Utilities vs. S&P 500\n",
    "utilities_covariance = returns_df['Utilities_return'].cov(returns_df['SP500_return'])\n",
    "utilities_covariance\n",
    "\n",
    "# Calculate variance of S&P 500 returns\n",
    "variance = returns_df['SP500_return'].var()\n",
    "variance\n",
    "\n",
    "# Calculate beta of Utilities Sector\n",
    "Utilities_beta = utilities_covariance / variance\n",
    "Utilities_beta"
   ]
  },
  {
   "cell_type": "code",
   "execution_count": 37,
   "metadata": {},
   "outputs": [
    {
     "name": "stdout",
     "output_type": "stream",
     "text": [
      "A 10,000 investment in the Healthcare Sector would have decreased to 9979.945853805275\n"
     ]
    },
    {
     "data": {
      "text/plain": [
       "<matplotlib.axes._subplots.AxesSubplot at 0x955d2e1608>"
      ]
     },
     "execution_count": 37,
     "metadata": {},
     "output_type": "execute_result"
    },
    {
     "data": {
      "image/png": "[encoded data removed]",
      "text/plain": [
       "<Figure size 432x288 with 1 Axes>"
      ]
     },
     "metadata": {
      "needs_background": "light"
     },
     "output_type": "display_data"
    }
   ],
   "source": [
    "# Plot the monetary returns of HealthCare Sector \n",
    "initial_investment = 10000\n",
    "cumulative_profit_health = initial_investment * cumulative_returns_health\n",
    "print(f'A 10,000 investment in the Healthcare Sector would have decreased to {cumulative_profit_health[1]}')\n",
    "cumulative_profit_health.plot()"
   ]
  },
  {
   "cell_type": "code",
   "execution_count": 34,
   "metadata": {},
   "outputs": [
    {
     "name": "stdout",
     "output_type": "stream",
     "text": [
      "A 10,000 investment in the Healthcare Sector would have grown to 10010.901728702695\n"
     ]
    },
    {
     "data": {
      "text/plain": [
       "<matplotlib.axes._subplots.AxesSubplot at 0x955cd60f08>"
      ]
     },
     "execution_count": 34,
     "metadata": {},
     "output_type": "execute_result"
    },
    {
     "data": {
      "image/png": "[encoded data removed]",
      "text/plain": [
       "<Figure size 432x288 with 1 Axes>"
      ]
     },
     "metadata": {
      "needs_background": "light"
     },
     "output_type": "display_data"
    }
   ],
   "source": [
    "# Plot the monetary returns of Industrial Sector \n",
    "initial_investment = 10000\n",
    "cumulative_profit_industrial = initial_investment * cumulative_returns_industrial\n",
    "print(f'A 10,000 investment in the Healthcare Sector would have grown to {cumulative_profit_industrial[1]}')\n",
    "cumulative_profit_industrial.plot()"
   ]
  },
  {
   "cell_type": "code",
   "execution_count": 36,
   "metadata": {},
   "outputs": [
    {
     "name": "stdout",
     "output_type": "stream",
     "text": [
      "A 10,000 investment in the Healthcare Sector would have grown to 10330.07334963325\n"
     ]
    },
    {
     "data": {
      "text/plain": [
       "<matplotlib.axes._subplots.AxesSubplot at 0x955d03c908>"
      ]
     },
     "execution_count": 36,
     "metadata": {},
     "output_type": "execute_result"
    },
    {
     "data": {
      "image/png": "[encoded data removed]",
      "text/plain": [
       "<Figure size 432x288 with 1 Axes>"
      ]
     },
     "metadata": {
      "needs_background": "light"
     },
     "output_type": "display_data"
    }
   ],
   "source": [
    "# Plot the monetary returns of Utilities Sector \n",
    "initial_investment = 10000\n",
    "cumulative_profit_utilities = initial_investment * cumulative_returns_utilities\n",
    "print(f'A 10,000 investment in the Healthcare Sector would have grown to {cumulative_profit_utilities[1]}')\n",
    "cumulative_profit_utilities.plot()"
   ]
  },
  {
   "cell_type": "code",
   "execution_count": 38,
   "metadata": {},
   "outputs": [
    {
     "data": {
      "text/html": [
       "<div>\n",
       "<style scoped>\n",
       "    .dataframe tbody tr th:only-of-type {\n",
       "        vertical-align: middle;\n",
       "    }\n",
       "\n",
       "    .dataframe tbody tr th {\n",
       "        vertical-align: top;\n",
       "    }\n",
       "\n",
       "    .dataframe thead th {\n",
       "        text-align: right;\n",
       "    }\n",
       "</style>\n",
       "<table border=\"1\" class=\"dataframe\">\n",
       "  <thead>\n",
       "    <tr style=\"text-align: right;\">\n",
       "      <th></th>\n",
       "      <th>HealthCare_close</th>\n",
       "      <th>Industrials_close</th>\n",
       "      <th>Utilities_close</th>\n",
       "      <th>SP500_close</th>\n",
       "      <th>HealthCare_return</th>\n",
       "      <th>Industrials_return</th>\n",
       "      <th>Utilities_return</th>\n",
       "      <th>SP500_return</th>\n",
       "    </tr>\n",
       "    <tr>\n",
       "      <th>date</th>\n",
       "      <th></th>\n",
       "      <th></th>\n",
       "      <th></th>\n",
       "      <th></th>\n",
       "      <th></th>\n",
       "      <th></th>\n",
       "      <th></th>\n",
       "      <th></th>\n",
       "    </tr>\n",
       "  </thead>\n",
       "  <tbody>\n",
       "    <tr>\n",
       "      <td>2020-04-29</td>\n",
       "      <td>100.19</td>\n",
       "      <td>65.51</td>\n",
       "      <td>58.61</td>\n",
       "      <td>293.21</td>\n",
       "      <td>0.004612</td>\n",
       "      <td>0.020246</td>\n",
       "      <td>0.023577</td>\n",
       "      <td>0.009398</td>\n",
       "    </tr>\n",
       "    <tr>\n",
       "      <td>2020-04-28</td>\n",
       "      <td>99.53</td>\n",
       "      <td>64.28</td>\n",
       "      <td>59.15</td>\n",
       "      <td>285.73</td>\n",
       "      <td>-0.006587</td>\n",
       "      <td>-0.018776</td>\n",
       "      <td>0.009213</td>\n",
       "      <td>-0.025511</td>\n",
       "    </tr>\n",
       "    <tr>\n",
       "      <td>2020-04-27</td>\n",
       "      <td>101.58</td>\n",
       "      <td>63.10</td>\n",
       "      <td>58.93</td>\n",
       "      <td>287.05</td>\n",
       "      <td>0.020597</td>\n",
       "      <td>-0.018357</td>\n",
       "      <td>-0.003719</td>\n",
       "      <td>0.004620</td>\n",
       "    </tr>\n",
       "    <tr>\n",
       "      <td>2020-04-24</td>\n",
       "      <td>100.29</td>\n",
       "      <td>61.57</td>\n",
       "      <td>58.32</td>\n",
       "      <td>282.97</td>\n",
       "      <td>-0.012699</td>\n",
       "      <td>-0.024247</td>\n",
       "      <td>-0.010351</td>\n",
       "      <td>-0.014214</td>\n",
       "    </tr>\n",
       "    <tr>\n",
       "      <td>2020-04-23</td>\n",
       "      <td>98.96</td>\n",
       "      <td>61.08</td>\n",
       "      <td>57.96</td>\n",
       "      <td>279.08</td>\n",
       "      <td>-0.013262</td>\n",
       "      <td>-0.007958</td>\n",
       "      <td>-0.006173</td>\n",
       "      <td>-0.013747</td>\n",
       "    </tr>\n",
       "  </tbody>\n",
       "</table>\n",
       "</div>"
      ],
      "text/plain": [
       "            HealthCare_close  Industrials_close  Utilities_close  SP500_close  \\\n",
       "date                                                                            \n",
       "2020-04-29            100.19              65.51            58.61       293.21   \n",
       "2020-04-28             99.53              64.28            59.15       285.73   \n",
       "2020-04-27            101.58              63.10            58.93       287.05   \n",
       "2020-04-24            100.29              61.57            58.32       282.97   \n",
       "2020-04-23             98.96              61.08            57.96       279.08   \n",
       "\n",
       "            HealthCare_return  Industrials_return  Utilities_return  \\\n",
       "date                                                                  \n",
       "2020-04-29           0.004612            0.020246          0.023577   \n",
       "2020-04-28          -0.006587           -0.018776          0.009213   \n",
       "2020-04-27           0.020597           -0.018357         -0.003719   \n",
       "2020-04-24          -0.012699           -0.024247         -0.010351   \n",
       "2020-04-23          -0.013262           -0.007958         -0.006173   \n",
       "\n",
       "            SP500_return  \n",
       "date                      \n",
       "2020-04-29      0.009398  \n",
       "2020-04-28     -0.025511  \n",
       "2020-04-27      0.004620  \n",
       "2020-04-24     -0.014214  \n",
       "2020-04-23     -0.013747  "
      ]
     },
     "execution_count": 38,
     "metadata": {},
     "output_type": "execute_result"
    }
   ],
   "source": [
    "#START MONTE CARLO ANALYSIS (HealthCare)\n",
    "\n",
    "#check concat_df\n",
    "concat_df.head()"
   ]
  },
  {
   "cell_type": "code",
   "execution_count": null,
   "metadata": {},
   "outputs": [],
   "source": []
  }
 ],
 "metadata": {
  "kernelspec": {
   "display_name": "Python 3",
   "language": "python",
   "name": "python3"
  },
  "language_info": {
   "codemirror_mode": {
    "name": "ipython",
    "version": 3
   },
   "file_extension": ".py",
   "mimetype": "text/x-python",
   "name": "python",
   "nbconvert_exporter": "python",
   "pygments_lexer": "ipython3",
   "version": "3.7.4"
  }
 },
 "nbformat": 4,
 "nbformat_minor": 4
}
